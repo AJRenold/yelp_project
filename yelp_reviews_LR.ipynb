{
 "metadata": {
  "name": "yelp_reviews"
 },
 "nbformat": 3,
 "nbformat_minor": 0,
 "worksheets": [
  {
   "cells": [
    {
     "cell_type": "heading",
     "level": 3,
     "metadata": {},
     "source": [
      "IMPORTS"
     ]
    },
    {
     "cell_type": "code",
     "collapsed": false,
     "input": [
      "import os\n",
      "import json\n",
      "from itertools import islice\n",
      "import re\n",
      "from collections import Counter\n",
      "import pandas as pd\n",
      "import nltk\n",
      "print os.getcwd()"
     ],
     "language": "python",
     "metadata": {},
     "outputs": [
      {
       "output_type": "stream",
       "stream": "stdout",
       "text": [
        "C:\\Users\\rohan\\Documents\\GitHub\\yelp_project_rohan\\code\n"
       ]
      }
     ],
     "prompt_number": 1
    },
    {
     "cell_type": "heading",
     "level": 2,
     "metadata": {},
     "source": [
      "Get Academic Dataset Files"
     ]
    },
    {
     "cell_type": "code",
     "collapsed": false,
     "input": [
      "file_dict = {}\n",
      "file_dict['reviews'] = 'yelp_academic_dataset_review.json'\n",
      "file_dict['stopwords'] = 'stop-words-english3-google.txt'\n",
      "\n",
      "review_file = open(file_dict['reviews'])\n",
      "\n",
      "review_file_s = islice(review_file,1000)\n",
      "\n",
      "print review_file_s\n",
      "\n",
      "print file_dict\n",
      "\n",
      "    "
     ],
     "language": "python",
     "metadata": {},
     "outputs": [
      {
       "output_type": "stream",
       "stream": "stdout",
       "text": [
        "<itertools.islice object at 0x07709C90>\n",
        "{'reviews': 'yelp_academic_dataset_review.json', 'stopwords': 'stop-words-english3-google.txt'}\n"
       ]
      }
     ],
     "prompt_number": 2
    },
    {
     "cell_type": "heading",
     "level": 3,
     "metadata": {},
     "source": [
      "Load Stop_words file"
     ]
    },
    {
     "cell_type": "code",
     "collapsed": false,
     "input": [
      "f = open(file_dict['stopwords'])\n",
      "print f\n",
      "\n",
      "stops = {}\n",
      "\n",
      "for line in islice(f,None):\n",
      "    word = line.lower().strip()\n",
      "    if word not in stops:\n",
      "        stops[word] = True"
     ],
     "language": "python",
     "metadata": {},
     "outputs": [
      {
       "output_type": "stream",
       "stream": "stdout",
       "text": [
        "<open file 'stop-words-english3-google.txt', mode 'r' at 0x077122E0>\n"
       ]
      }
     ],
     "prompt_number": 3
    },
    {
     "cell_type": "heading",
     "level": 3,
     "metadata": {},
     "source": [
      "Create Review DF"
     ]
    },
    {
     "cell_type": "code",
     "collapsed": false,
     "input": [
      "review_json = open(file_dict['reviews'])\n",
      "reviews_for_df = [ json.loads(line) for line in review_file_s ]\n",
      "review_df = pd.DataFrame(reviews_for_df)"
     ],
     "language": "python",
     "metadata": {},
     "outputs": [],
     "prompt_number": 4
    },
    {
     "cell_type": "code",
     "collapsed": false,
     "input": [
      "review_df[:2]\n",
      "\n"
     ],
     "language": "python",
     "metadata": {},
     "outputs": [
      {
       "html": [
        "<div style=\"max-height:1000px;max-width:1500px;overflow:auto;\">\n",
        "<table border=\"1\" class=\"dataframe\">\n",
        "  <thead>\n",
        "    <tr style=\"text-align: right;\">\n",
        "      <th></th>\n",
        "      <th>business_id</th>\n",
        "      <th>date</th>\n",
        "      <th>review_id</th>\n",
        "      <th>stars</th>\n",
        "      <th>text</th>\n",
        "      <th>type</th>\n",
        "      <th>user_id</th>\n",
        "      <th>votes</th>\n",
        "    </tr>\n",
        "  </thead>\n",
        "  <tbody>\n",
        "    <tr>\n",
        "      <th>0</th>\n",
        "      <td> 9yKzy9PApeiPPOUJEtnvkg</td>\n",
        "      <td> 2011-01-26</td>\n",
        "      <td> fWKvX83p0-ka4JS3dc6E5A</td>\n",
        "      <td> 5</td>\n",
        "      <td> My wife took me here on my birthday for breakf...</td>\n",
        "      <td> review</td>\n",
        "      <td> rLtl8ZkDX5vH5nAx9C3q5Q</td>\n",
        "      <td> {u'funny': 0, u'useful': 5, u'cool': 2}</td>\n",
        "    </tr>\n",
        "    <tr>\n",
        "      <th>1</th>\n",
        "      <td> ZRJwVLyzEJq1VAihDhYiow</td>\n",
        "      <td> 2011-07-27</td>\n",
        "      <td> IjZ33sJrzXqU-0X6U8NwyA</td>\n",
        "      <td> 5</td>\n",
        "      <td> I have no idea why some people give bad review...</td>\n",
        "      <td> review</td>\n",
        "      <td> 0a2KyEL0d3Yb1V6aivbIuQ</td>\n",
        "      <td> {u'funny': 0, u'useful': 0, u'cool': 0}</td>\n",
        "    </tr>\n",
        "  </tbody>\n",
        "</table>\n",
        "</div>"
       ],
       "output_type": "pyout",
       "prompt_number": 5,
       "text": [
        "              business_id        date               review_id  stars  \\\n",
        "0  9yKzy9PApeiPPOUJEtnvkg  2011-01-26  fWKvX83p0-ka4JS3dc6E5A      5   \n",
        "1  ZRJwVLyzEJq1VAihDhYiow  2011-07-27  IjZ33sJrzXqU-0X6U8NwyA      5   \n",
        "\n",
        "                                                text    type  \\\n",
        "0  My wife took me here on my birthday for breakf...  review   \n",
        "1  I have no idea why some people give bad review...  review   \n",
        "\n",
        "                  user_id                                    votes  \n",
        "0  rLtl8ZkDX5vH5nAx9C3q5Q  {u'funny': 0, u'useful': 5, u'cool': 2}  \n",
        "1  0a2KyEL0d3Yb1V6aivbIuQ  {u'funny': 0, u'useful': 0, u'cool': 0}  "
       ]
      }
     ],
     "prompt_number": 5
    },
    {
     "cell_type": "code",
     "collapsed": false,
     "input": [
      "review_df['business_id'].count()\n",
      "review_df['tokens'] = review_df['text'].apply(nltk.word_tokenize) # tokenize using nltk\n",
      "review_df['useful_votes'] = review_df['votes'].apply(lambda x:x['useful']) # extract useful votes\n",
      "review_df = review_df.set_index(['review_id']) # index on review_id\n"
     ],
     "language": "python",
     "metadata": {},
     "outputs": [],
     "prompt_number": 6
    },
    {
     "cell_type": "code",
     "collapsed": false,
     "input": [
      "# training data set - for Norwig's algorithm\n",
      "\n",
      "import re, collections\n",
      "\n",
      "def words(text): return nltk.word_tokenize(text.lower())\n",
      "#return re.findall('[a-z]+', text.lower()) \n",
      "\n",
      "def train(features):\n",
      "    model = collections.defaultdict(lambda: 1)\n",
      "    for f in features:\n",
      "        model[f] += 1\n",
      "    return model\n",
      "\n",
      "NWORDS = train(words(file('big.txt').read()))\n",
      "\n",
      "alphabet = 'abcdefghijklmnopqrstuvwxyz'\n",
      "\n"
     ],
     "language": "python",
     "metadata": {},
     "outputs": [],
     "prompt_number": 9
    },
    {
     "cell_type": "code",
     "collapsed": false,
     "input": [
      "\n",
      "def edits1(word):\n",
      "   splits     = [(word[:i], word[i:]) for i in range(len(word) + 1)]\n",
      "   deletes    = [a + b[1:] for a, b in splits if b]\n",
      "   transposes = [a + b[1] + b[0] + b[2:] for a, b in splits if len(b)>1]\n",
      "   replaces   = [a + c + b[1:] for a, b in splits for c in alphabet if b]\n",
      "   inserts    = [a + c + b     for a, b in splits for c in alphabet]\n",
      "   return set(deletes + transposes + replaces + inserts)\n",
      "\n",
      "def known_edits2(word):\n",
      "    return set(e2 for e1 in edits1(word) for e2 in edits1(e1) if e2 in NWORDS)\n",
      "\n",
      "def known(words): return set(w for w in words if w in NWORDS)\n",
      "\n",
      "def correct(word):\n",
      "    candidates = known([word]) or known(edits1(word)) or known_edits2(word) or [word]\n",
      "    #print candidates\n",
      "    return max(candidates, key=NWORDS.get)\n",
      "\n",
      "print correct('DizaSter')\n",
      "print correct('slooooooow')\n",
      "\n"
     ],
     "language": "python",
     "metadata": {},
     "outputs": [
      {
       "output_type": "stream",
       "stream": "stdout",
       "text": [
        "['DizaSter']\n",
        "DizaSter\n",
        "['slooooooow']"
       ]
      },
      {
       "output_type": "stream",
       "stream": "stdout",
       "text": [
        "\n",
        "slooooooow\n"
       ]
      }
     ],
     "prompt_number": 223
    },
    {
     "cell_type": "code",
     "collapsed": false,
     "input": [
      "def wordcorrect(inplist):\n",
      "    for i in range(len(inplist)-1):\n",
      "        \n",
      "        if inplist[i] not in NWORDS:\n",
      "            inplist[i] = correct(inplist[i].lower())    \n",
      "        else:\n",
      "            inplist[i] = inplist[i].lower()\n",
      "        \n",
      "        \n",
      "    return inplist\n",
      "\n",
      "test =  review_df['tokens']\n",
      "\n",
      "\n",
      "\n",
      "print type(nltk.word_tokenize(\"I did'nt want to go there\"))\n",
      "\n",
      "#review_df['tokens'] = review_df['tokens'].apply(wordcorrect)"
     ],
     "language": "python",
     "metadata": {},
     "outputs": [
      {
       "output_type": "stream",
       "stream": "stdout",
       "text": [
        "<type 'list'>\n"
       ]
      }
     ],
     "prompt_number": 225
    },
    {
     "cell_type": "raw",
     "metadata": {},
     "source": [
      "to create sparse matrix : \n",
      "http://scikit-learn.org/dev/modules/generated/sklearn.feature_extraction.text.CountVectorizer.html\n",
      "\n",
      "to run regression : \n",
      "http://scikit-learn.org/dev/modules/generated/sklearn.linear_model.LinearRegression.html#sklearn.linear_model.LinearRegression.fit"
     ]
    },
    {
     "cell_type": "code",
     "collapsed": false,
     "input": [
      "print stops"
     ],
     "language": "python",
     "metadata": {},
     "outputs": [
      {
       "output_type": "stream",
       "stream": "stdout",
       "text": [
        "{'www': True, 'is': True, 'it': True, 'an': True, 'as': True, 'are': True, 'in': True, 'what': True, 'from': True, 'for': True, 'to': True, 'when': True, 'by': True, 'how': True, 'was': True, 'be': True, 'that': True, 'who': True, 'with': True, '\\xef\\xbb\\xbfi': True, 'a': True, 'on': True, 'about': True, 'this': True, 'of': True, 'will': True, 'where': True, 'the': True, 'com': True, 'or': True, 'at': True}\n"
       ]
      }
     ],
     "prompt_number": 228
    },
    {
     "cell_type": "code",
     "collapsed": false,
     "input": [
      "from sklearn.feature_extraction.text import CountVectorizer\n",
      "import re\n",
      "\n",
      "#inpcorpus = ''\n",
      "\n",
      "#for y in review_df['text'][:3].iteritems():    \n",
      "#    inpcorpus = inpcorpus+''+y[1]\n",
      "    \n",
      "    #x = nltk.word_tokenize(y[1])\n",
      "    #cnt = cnt + len(x)\n",
      "\n",
      "#print inpcorpus\n",
      "#REGEX = re.compile(r\",\\s*\")\n",
      "\n",
      "# main filtering , word correction , stop word elimination step\n",
      "\n",
      "def tokenize(text):\n",
      "    inplist = nltk.word_tokenize(text)   \n",
      "    \n",
      "    finallist = list()\n",
      "    result = list()\n",
      "    # wordcorrect for tokens\n",
      "    finallist = wordcorrect(inplist)\n",
      "    \n",
      "    \n",
      "    for i in range(len(finallist)):        \n",
      "        if stops.has_key(inplist[i]):\n",
      "            continue\n",
      "        else:\n",
      "            result.append(inplist[i])\n",
      "            \n",
      "    \n",
      "    return result\n",
      "\n",
      "\n",
      "count_vect = CountVectorizer(tokenizer = tokenize)\n",
      "trnginp = count_vect.fit_transform(review_df['text'][:1000])\n",
      "\n",
      "\n",
      "\n",
      "#print result.ndim\n",
      "#print count_vect.vocabulary_\n",
      "#dir(trnginp)\n",
      "#print trnginp.shape\n",
      "#.get_feature_names()\n",
      "\n",
      "#count_vect = CountVectorizer(input = inpcorpus, tokenizer = tokenize)\n",
      "\n",
      "\n",
      "#vectop = count_vect.fit_transform(review_df['text'][:3])\n",
      "\n",
      "#cnt = 0\n",
      "\n",
      "random = list()\n",
      "for x in range(trnginp.shape[1]):    \n",
      "        if x%5 ==0 :\n",
      "            random.append(1)\n",
      "        else:\n",
      "            random.append(0)\n",
      "    \n",
      "print len(random)\n",
      "\n",
      "\n"
     ],
     "language": "python",
     "metadata": {},
     "outputs": [
      {
       "output_type": "stream",
       "stream": "stdout",
       "text": [
        "set([u'actress', u'witness', u'mattress'])\n",
        "[u'semi-busy']"
       ]
      },
      {
       "output_type": "stream",
       "stream": "stdout",
       "text": [
        "\n",
        "set([u'phenomena'])\n",
        "set([u'ingredient'])\n",
        "set([u'ruffle'])\n",
        "set([u'skilled'])\n",
        "set([u'pasty', u'taste', u'nasty', u'hasty'])\n",
        "set([u'delirious.', u'delicious'])\n",
        "set([u'riddle', u'girdled', u'bridled', u'brindled', u'grizzled'])"
       ]
      },
      {
       "output_type": "stream",
       "stream": "stdout",
       "text": [
        "\n",
        "set([u'gripping', u'groping'])\n",
        "set([u'55', u'505', u'50'])"
       ]
      },
      {
       "output_type": "stream",
       "stream": "stdout",
       "text": [
        "\n",
        "set([u'55', u'525', u'52'])"
       ]
      },
      {
       "output_type": "stream",
       "stream": "stdout",
       "text": [
        "\n",
        "set([u'serve.', u'served.', u'server'])\n",
        "set([u'620.', u'60.', u'62.', u'602'])"
       ]
      },
      {
       "output_type": "stream",
       "stream": "stdout",
       "text": [
        "\n",
        "[u'spaghetti']"
       ]
      },
      {
       "output_type": "stream",
       "stream": "stdout",
       "text": [
        "\n",
        "set([u'alone'])"
       ]
      },
      {
       "output_type": "stream",
       "stream": "stdout",
       "text": [
        "\n",
        "set([u'liza', u'dizzy', u'penza'])"
       ]
      },
      {
       "output_type": "stream",
       "stream": "stdout",
       "text": [
        "\n",
        "set([u'alone'])"
       ]
      },
      {
       "output_type": "stream",
       "stream": "stdout",
       "text": [
        "\n",
        "[u'pizza.']"
       ]
      },
      {
       "output_type": "stream",
       "stream": "stdout",
       "text": [
        "\n",
        "[u'awesome']"
       ]
      },
      {
       "output_type": "stream",
       "stream": "stdout",
       "text": [
        "\n",
        "set([u'liza', u'dizzy', u'penza'])"
       ]
      },
      {
       "output_type": "stream",
       "stream": "stdout",
       "text": [
        "\n",
        "set([u'alone'])"
       ]
      },
      {
       "output_type": "stream",
       "stream": "stdout",
       "text": [
        "\n",
        "set([u'alone'])"
       ]
      },
      {
       "output_type": "stream",
       "stream": "stdout",
       "text": [
        "\n",
        "set([u'liza', u'dizzy', u'penza'])"
       ]
      },
      {
       "output_type": "stream",
       "stream": "stdout",
       "text": [
        "\n",
        "set([u'42.', u'62.', u'64.'])"
       ]
      },
      {
       "output_type": "stream",
       "stream": "stdout",
       "text": [
        "\n",
        "[u'reviewers.']"
       ]
      },
      {
       "output_type": "stream",
       "stream": "stdout",
       "text": [
        "\n",
        "set([u'reviews', u'revelers', u'reviewed'])"
       ]
      },
      {
       "output_type": "stream",
       "stream": "stdout",
       "text": [
        "\n",
        "set([u'faro', u'girt', u'hero', u'zero', u'garb', u'pro', u'gare', u'fro', u'byron', u'byrom', u'germ', u'gird', u'lyre', u'tyre', u'gory', u'go', u'gros', u'girl', u'grm', u'grow'])"
       ]
      },
      {
       "output_type": "stream",
       "stream": "stdout",
       "text": [
        "\n",
        "set([u'rose', u'rosier'])\n",
        "[u'chaparral']"
       ]
      },
      {
       "output_type": "stream",
       "stream": "stdout",
       "text": [
        "\n",
        "[u'xeriscape']"
       ]
      },
      {
       "output_type": "stream",
       "stream": "stdout",
       "text": [
        "\n",
        "[u'baseball']"
       ]
      },
      {
       "output_type": "stream",
       "stream": "stdout",
       "text": [
        "\n",
        "[u'ballparks']"
       ]
      },
      {
       "output_type": "stream",
       "stream": "stdout",
       "text": [
        "\n",
        "set([u'ducks'])\n",
        "[u'scottsdale']"
       ]
      },
      {
       "output_type": "stream",
       "stream": "stdout",
       "text": [
        "\n",
        "set([u'depth', u'sept.', u'wept.', u'kept.', u'depth.', u'depot.', u'debt.'])\n",
        "set([u'shaved.', u'shade.', u'shaped.', u'shaded', u'shared.'])\n",
        "set([u'pans', u'canst', u'cane', u'sans', u'cars', u'dans', u'caps', u'cats', u'can', u'hans', u'cabs'])\n",
        "[u'poopy-pick']"
       ]
      },
      {
       "output_type": "stream",
       "stream": "stdout",
       "text": [
        "\n",
        "set([u'mists', u'mints'])\n",
        "set([u'retell', u'patella'])"
       ]
      },
      {
       "output_type": "stream",
       "stream": "stdout",
       "text": [
        "\n",
        "[u'awesome']"
       ]
      },
      {
       "output_type": "stream",
       "stream": "stdout",
       "text": [
        "\n",
        "set([u'a', u'c', u'b', u'e', u'd', u'g', u'f', u'i', u'h', u'k', u'j', u'm', u'l', u'o', u'n', u'q', u'p', u's', u'r', u'u', u't', u'w', u'v', u'y', u'x', u'z'])\n",
        "[u'quiessence']"
       ]
      },
      {
       "output_type": "stream",
       "stream": "stdout",
       "text": [
        "\n",
        "set([u'sample', u'samples'])\n",
        "set([u'sandwiched'])\n",
        "set([u'restaurant'])\n",
        "[u'veggies']"
       ]
      },
      {
       "output_type": "stream",
       "stream": "stdout",
       "text": [
        "\n",
        "[u'grapefruit']"
       ]
      },
      {
       "output_type": "stream",
       "stream": "stdout",
       "text": [
        "\n",
        "set([u'erudite', u'credits'])"
       ]
      },
      {
       "output_type": "stream",
       "stream": "stdout",
       "text": [
        "\n",
        "set([u'radiates', u'rashes', u'raises', u'dishes', u'vanishes'])"
       ]
      },
      {
       "output_type": "stream",
       "stream": "stdout",
       "text": [
        "\n",
        "set([u'turns', u'turning', u'trips', u'tunics'])"
       ]
      },
      {
       "output_type": "stream",
       "stream": "stdout",
       "text": [
        "\n",
        "set([u'pest'])\n",
        "set([u'aisle', u'iodi', u'ali', u'villi', u'coli', u'violin', u'fili'])"
       ]
      },
      {
       "output_type": "stream",
       "stream": "stdout",
       "text": [
        "\n",
        "set([u'fauces.', u'sauce.'])\n",
        "set([u'entries'])\n",
        "set([u'entries'])\n",
        "set([u'withered', u'gathered', u'bordered', u'battered', u'smothered', u'bother', u'tethered'])"
       ]
      },
      {
       "output_type": "stream",
       "stream": "stdout",
       "text": [
        "\n",
        "set([u'entrez'])\n",
        "set([u'new.', u'anew', u'knew.'])\n",
        "set([u'camped', u'cooped', u'compel', u'combed'])\n",
        "set([u'entrez'])\n",
        "[u'foccacia']"
       ]
      },
      {
       "output_type": "stream",
       "stream": "stdout",
       "text": [
        "\n",
        "[u'pomegranate']"
       ]
      },
      {
       "output_type": "stream",
       "stream": "stdout",
       "text": [
        "\n",
        "set([u'butter', u'better.', u'utter.', u'bitter.'])\n",
        "set([u'yuma', u'sum.', u'hum.', u'rum.'])\n",
        "set([u'entries'])\n",
        "set([u'vegetables'])\n",
        "set([u'trough.', u'cough.', u'tough', u'touch.'])\n",
        "set([u'entries'])\n",
        "set([u'winter.', u'winner', u'dinner.'])\n",
        "set([u'entries'])\n",
        "set([u'dad', u'tat', u'tap', u'ad', u'tar', u'lad', u'had', u'wad', u'ted', u'sad', u'bad', u'tag', u'pad', u'mad', u'tax', u'fad', u'ta'])\n",
        "set([u'spotted', u'petty', u'sooty', u'spot', u'spongy', u'spots', u'sports', u'putty', u'scott', u'knotty', u'sport', u'patty'])"
       ]
      },
      {
       "output_type": "stream",
       "stream": "stdout",
       "text": [
        "\n",
        "set([u'wasting', u'fasting', u'testing', u'casting', u'lasting'])\n",
        "set([u'menu', u'men.'])\n",
        "set([u'acute', u'cut', u'bute', u'mute', u'cure', u'cuts', u'cite'])\n",
        "set([u'completely'])\n",
        "set([u'unnoticed', u'noticed'])\n",
        "set([u'sector', u'defer', u'deck', u'tenor', u'deer', u'fedor', u'rector', u'dear', u'recur', u'decay', u'decorum', u'donor', u'depot', u'decks', u'door', u'demon', u'detour', u'deter', u'devour', u'senor', u'debtor', u'cor', u'defoe', u'der', u'doctor', u'deacon', u'record', u'vector', u'dec'])"
       ]
      },
      {
       "output_type": "stream",
       "stream": "stdout",
       "text": [
        "\n",
        "[u'awesome.']"
       ]
      },
      {
       "output_type": "stream",
       "stream": "stdout",
       "text": [
        "\n",
        "set([u'poland'])"
       ]
      },
      {
       "output_type": "stream",
       "stream": "stdout",
       "text": [
        "\n",
        "set([u'pepper'])\n",
        "set([u'taxi', u'ali', u'ai', u'mi', u'maxim', u'aah', u'ah', u'kari', u'mare', u'matt', u'mats', u'mais', u'maps', u'chi', u'make', u'mark', u'cahd', u'maid', u'mori', u'mate', u'male', u'mars', u'maim', u'mail', u'main', u'marx', u'mary', u'ami', u'map', u'mania', u'mat', u'maria', u'safi', u'may', u'max', u'mayo', u'dahe', u'nasi', u'marin', u'mac', u'hi', u'mad', u'mimi', u'ma', u'marie', u'mack', u'mal', u'man', u'made', u'magic', u'masha', u'mahan', u'many', u'malt', u'mask', u'bah', u'mash', u'mall', u'mast', u'mass', u'mane', u'marm', u'mawr', u'omaha', u'mann', u'mala'])"
       ]
      },
      {
       "output_type": "stream",
       "stream": "stdout",
       "text": [
        "\n",
        "set([u'taxi', u'ali', u'ai', u'mi', u'maxim', u'aah', u'ah', u'kari', u'mare', u'matt', u'mats', u'mais', u'maps', u'chi', u'make', u'mark', u'cahd', u'maid', u'mori', u'mate', u'male', u'mars', u'maim', u'mail', u'main', u'marx', u'mary', u'ami', u'map', u'mania', u'mat', u'maria', u'safi', u'may', u'max', u'mayo', u'dahe', u'nasi', u'marin', u'mac', u'hi', u'mad', u'mimi', u'ma', u'marie', u'mack', u'mal', u'man', u'made', u'magic', u'masha', u'mahan', u'many', u'malt', u'mask', u'bah', u'mash', u'mall', u'mast', u'mass', u'mane', u'marm', u'mawr', u'omaha', u'mann', u'mala'])"
       ]
      },
      {
       "output_type": "stream",
       "stream": "stdout",
       "text": [
        "\n",
        "set([u'codes', u'contest', u'confess', u'conde', u'fondest', u'condemn'])"
       ]
      },
      {
       "output_type": "stream",
       "stream": "stdout",
       "text": [
        "\n",
        "set([u'burrow', u'burri', u'burr'])\n",
        "set([u'bars', u'bait', u'ana', u'bare', u'back', u'bath', u'vara', u'tafa', u'hata', u'balk', u'bark', u'bake', u'bail', u'bart', u'bags', u'bade', u'lava', u'cava', u'lata', u'bask', u'barn', u'bast', u'ball', u'babe', u'bass', u'bald', u'papa', u'bane', u'band', u'bang', u'base', u'baby', u'data', u'ja', u'bank', u'basal', u'bat', u'bar', u'bay', u'bag', u'bad', u'ban', u'boa', u'bah', u'mala'])"
       ]
      },
      {
       "output_type": "stream",
       "stream": "stdout",
       "text": [
        "\n",
        "set([u'roguish'])"
       ]
      },
      {
       "output_type": "stream",
       "stream": "stdout",
       "text": [
        "\n",
        "set([u'hark', u'share', u'stark', u'sharp', u'shak', u'spark'])\n",
        "set([u'tact.', u'tack.'])\n",
        "set([u'burrow', u'burri', u'burr'])\n",
        "set([u'flavor', u'favor.'])\n",
        "set([u'wagged', u'lagged', u'engaged', u'dragged', u'ragged', u'jagged', u'stagger', u'fagged', u'snarled', u'snapped', u'swagger', u'flagged'])"
       ]
      },
      {
       "output_type": "stream",
       "stream": "stdout",
       "text": [
        "\n",
        "set([u'hubs', u'chubby', u'hubbub', u'hobby'])"
       ]
      },
      {
       "output_type": "stream",
       "stream": "stdout",
       "text": [
        "\n",
        "set([u'taxi', u'ali', u'ai', u'mi', u'maxim', u'aah', u'ah', u'kari', u'mare', u'matt', u'mats', u'mais', u'maps', u'chi', u'make', u'mark', u'cahd', u'maid', u'mori', u'mate', u'male', u'mars', u'maim', u'mail', u'main', u'marx', u'mary', u'ami', u'map', u'mania', u'mat', u'maria', u'safi', u'may', u'max', u'mayo', u'dahe', u'nasi', u'marin', u'mac', u'hi', u'mad', u'mimi', u'ma', u'marie', u'mack', u'mal', u'man', u'made', u'magic', u'masha', u'mahan', u'many', u'malt', u'mask', u'bah', u'mash', u'mall', u'mast', u'mass', u'mane', u'marm', u'mawr', u'omaha', u'mann', u'mala'])"
       ]
      },
      {
       "output_type": "stream",
       "stream": "stdout",
       "text": [
        "\n",
        "set([u'taxi', u'ali', u'ai', u'mi', u'maxim', u'aah', u'ah', u'kari', u'mare', u'matt', u'mats', u'mais', u'maps', u'chi', u'make', u'mark', u'cahd', u'maid', u'mori', u'mate', u'male', u'mars', u'maim', u'mail', u'main', u'marx', u'mary', u'ami', u'map', u'mania', u'mat', u'maria', u'safi', u'may', u'max', u'mayo', u'dahe', u'nasi', u'marin', u'mac', u'hi', u'mad', u'mimi', u'ma', u'marie', u'mack', u'mal', u'man', u'made', u'magic', u'masha', u'mahan', u'many', u'malt', u'mask', u'bah', u'mash', u'mall', u'mast', u'mass', u'mane', u'marm', u'mawr', u'omaha', u'mann', u'mala'])"
       ]
      },
      {
       "output_type": "stream",
       "stream": "stdout",
       "text": [
        "\n",
        "set([u'burrows', u'burrow'])"
       ]
      },
      {
       "output_type": "stream",
       "stream": "stdout",
       "text": [
        "\n",
        "set([u'mmm'])\n",
        "set([u'salol', u'solfa', u'salon', u'samoa', u'palsy', u'alba', u'pals', u'sales', u'salve', u'seals', u'talma', u'salem', u'sacs', u'false', u'salts', u'scala', u'malta', u'also', u'slash', u'sails', u'salle', u'says', u'silas', u'sasha', u'sila', u'alas', u'santa', u'salut', u'sally', u'alma', u'balsam', u'sans', u'salad', u'saws', u'saliva', u'sale', u'valse', u'salt', u'sash', u'mala'])"
       ]
      },
      {
       "output_type": "stream",
       "stream": "stdout",
       "text": [
        "\n",
        "set([u'salol', u'solfa', u'salon', u'samoa', u'palsy', u'alba', u'pals', u'sales', u'salve', u'seals', u'talma', u'salem', u'sacs', u'false', u'salts', u'scala', u'malta', u'also', u'slash', u'sails', u'salle', u'says', u'silas', u'sasha', u'sila', u'alas', u'santa', u'salut', u'sally', u'alma', u'balsam', u'sans', u'salad', u'saws', u'saliva', u'sale', u'valse', u'salt', u'sash', u'mala'])"
       ]
      },
      {
       "output_type": "stream",
       "stream": "stdout",
       "text": [
        "\n",
        "set([u'imp', u'limp', u'wisp'])\n",
        "set([u'pepper', u'suppers.', u'weepers.', u'coppers.', u'peppered', u'papers.'])"
       ]
      },
      {
       "output_type": "stream",
       "stream": "stdout",
       "text": [
        "\n",
        "[u'horchata']"
       ]
      },
      {
       "output_type": "stream",
       "stream": "stdout",
       "text": [
        "\n",
        "[u'handmade']"
       ]
      },
      {
       "output_type": "stream",
       "stream": "stdout",
       "text": [
        "\n",
        "set([u'delirious.', u'delicious'])\n",
        "set([u'pans', u'penns', u'pens', u'peaks', u'evans', u'means', u'ricans', u'jeans', u'texans', u'peons', u'peas', u'decays', u'beans', u'peals', u'plans'])"
       ]
      },
      {
       "output_type": "stream",
       "stream": "stdout",
       "text": [
        "\n",
        "set([u'mummy', u'dummy'])\n",
        "set([u'shop', u'oho', u'shot', u'show', u'shy', u'who', u'sha', u'shod', u'shoe', u'ho', u'so', u'she'])\n",
        "set([u'pucker', u'sucked'])\n",
        "set([u'friday'])\n",
        "set([u'hallo', u'kalb', u'carlo', u'karl', u'halo'])"
       ]
      },
      {
       "output_type": "stream",
       "stream": "stdout",
       "text": [
        "\n",
        "set([u'porch.', u'pray.'])"
       ]
      },
      {
       "output_type": "stream",
       "stream": "stdout",
       "text": [
        "\n",
        "set([u'salol', u'solfa', u'salon', u'samoa', u'palsy', u'alba', u'pals', u'sales', u'salve', u'seals', u'talma', u'salem', u'sacs', u'false', u'salts', u'scala', u'malta', u'also', u'slash', u'sails', u'salle', u'says', u'silas', u'sasha', u'sila', u'alas', u'santa', u'salut', u'sally', u'alma', u'balsam', u'sans', u'salad', u'saws', u'saliva', u'sale', u'valse', u'salt', u'sash', u'mala'])"
       ]
      },
      {
       "output_type": "stream",
       "stream": "stdout",
       "text": [
        "\n",
        "set([u'hanover', u'layer', u'laborer', u'lover'])"
       ]
      },
      {
       "output_type": "stream",
       "stream": "stdout",
       "text": [
        "\n",
        "set([u'combers', u'bomber'])\n",
        "set([u'nous', u'noun', u'noble'])"
       ]
      },
      {
       "output_type": "stream",
       "stream": "stdout",
       "text": [
        "\n",
        "set([u'menu', u'men.'])\n",
        "set([u'drafted', u'grafted'])\n",
        "set([u'buds', u'runs', u'bons', u'bus', u'nuns', u'bunt', u'burns', u'bunks', u'guns'])\n",
        "set([u'shout.', u'stout'])\n",
        "set([u'dish', u'polish', u'oldest', u'bluish'])"
       ]
      },
      {
       "output_type": "stream",
       "stream": "stdout",
       "text": [
        "\n",
        "set([u'cooks', u'cooking', u'dooties', u'rockies', u'copies', u'cooked', u'colonies'])"
       ]
      },
      {
       "output_type": "stream",
       "stream": "stdout",
       "text": [
        "\n",
        "set([u'london', u'bowdoin'])"
       ]
      },
      {
       "output_type": "stream",
       "stream": "stdout",
       "text": [
        "\n",
        "set([u'cooks', u'cooking', u'choke', u'cooked', u'cooee', u'cook'])"
       ]
      },
      {
       "output_type": "stream",
       "stream": "stdout",
       "text": [
        "\n",
        "set([u'sandwiched'])\n",
        "[u'permutations']"
       ]
      },
      {
       "output_type": "stream",
       "stream": "stdout",
       "text": [
        "\n",
        "[u'snickerdoodle']"
       ]
      },
      {
       "output_type": "stream",
       "stream": "stdout",
       "text": [
        "\n",
        "set([u'cooks', u'cooking', u'dooties', u'rockies', u'copies', u'cooked', u'colonies'])"
       ]
      },
      {
       "output_type": "stream",
       "stream": "stdout",
       "text": [
        "\n",
        "[u'vietnamese']"
       ]
      },
      {
       "output_type": "stream",
       "stream": "stdout",
       "text": [
        "\n",
        "set([u'chopped', u'shipper', u'hope.', u'slope.', u'shone.', u'shop.', u'shape.', u'shipped', u'stopped', u'shops.', u'shoe.', u'stopped.'])"
       ]
      },
      {
       "output_type": "stream",
       "stream": "stdout",
       "text": [
        "\n",
        "[u'baguettes']"
       ]
      },
      {
       "output_type": "stream",
       "stream": "stdout",
       "text": [
        "\n",
        "set([u'choice.', u'choicest'])\n",
        "set([u'ate', u'am', u'aim', u'at', u'atom', u'arm'])\n",
        "set([u'ate', u'am', u'aim', u'at', u'atom', u'arm'])\n",
        "set([u'ab', u'ebb', u'bow', u'bee', u'abc', u'lb', u'abe', u'esq', u'bug', u'bus', u'bubo', u'bye', u'bin', u'be', u'abbe', u'buy', u'babe', u'bc', u'bl', u'big', u'bid', u'but', u'br', u'baby', u'ben', u'bit', u'by', u'bud', u'box', u'boy', u'bat', u'b', u'bar', u'mb', u'sq', u'beg', u'bed', u'bay', u'q', u'bag', u'bad', u'bet', u'ban', u'boa', u'bob', u'obs', u'bah'])"
       ]
      },
      {
       "output_type": "stream",
       "stream": "stdout",
       "text": [
        "\n",
        "set([u'liza', u'dizzy', u'penza'])"
       ]
      },
      {
       "output_type": "stream",
       "stream": "stdout",
       "text": [
        "\n",
        "set([u'ab', u'ebb', u'bow', u'bee', u'abc', u'lb', u'abe', u'esq', u'bug', u'bus', u'bubo', u'bye', u'bin', u'be', u'abbe', u'buy', u'babe', u'bc', u'bl', u'big', u'bid', u'but', u'br', u'baby', u'ben', u'bit', u'by', u'bud', u'box', u'boy', u'bat', u'b', u'bar', u'mb', u'sq', u'beg', u'bed', u'bay', u'q', u'bag', u'bad', u'bet', u'ban', u'boa', u'bob', u'obs', u'bah'])"
       ]
      },
      {
       "output_type": "stream",
       "stream": "stdout",
       "text": [
        "\n",
        "set([u'liza', u'dizzy', u'penza'])"
       ]
      },
      {
       "output_type": "stream",
       "stream": "stdout",
       "text": [
        "\n",
        "set([u'sandwiched'])\n",
        "set([u'liza', u'dizzy', u'penza'])"
       ]
      },
      {
       "output_type": "stream",
       "stream": "stdout",
       "text": [
        "\n",
        "set([u'delhi', u'del'])\n",
        "[u'cover-up']"
       ]
      },
      {
       "output_type": "stream",
       "stream": "stdout",
       "text": [
        "\n",
        "set([u'personate', u'personal', u'personage', u'seasonable', u'reasonable', u'personally'])"
       ]
      },
      {
       "output_type": "stream",
       "stream": "stdout",
       "text": [
        "\n",
        "set([u'information.'])"
       ]
      },
      {
       "output_type": "stream",
       "stream": "stdout",
       "text": [
        "\n",
        "set([u'combine', u'combined'])\n",
        "[u\"rosie's.\"]"
       ]
      },
      {
       "output_type": "stream",
       "stream": "stdout",
       "text": [
        "\n",
        "set([u'sector', u'defer', u'deck', u'tenor', u'deer', u'fedor', u'rector', u'dear', u'recur', u'decay', u'decorum', u'donor', u'depot', u'decks', u'door', u'demon', u'detour', u'deter', u'devour', u'senor', u'debtor', u'cor', u'defoe', u'der', u'doctor', u'deacon', u'record', u'vector', u'dec'])"
       ]
      },
      {
       "output_type": "stream",
       "stream": "stdout",
       "text": [
        "\n",
        "set([u'audience', u'absence'])"
       ]
      },
      {
       "output_type": "stream",
       "stream": "stdout",
       "text": [
        "\n",
        "set([u'mercy', u'marco', u'march', u'marry', u'farcy', u'mary'])\n",
        "[u'bartender']"
       ]
      },
      {
       "output_type": "stream",
       "stream": "stdout",
       "text": [
        "\n",
        "set([u'reuben'])\n",
        "set([u'rose', u'rosier'])\n",
        "set([u'joy.', u'job', u'mob.', u'jobs', u'sob.'])\n",
        "set([u'lecture'])"
       ]
      },
      {
       "output_type": "stream",
       "stream": "stdout",
       "text": [
        "\n",
        "set([u'coburg'])"
       ]
      },
      {
       "output_type": "stream",
       "stream": "stdout",
       "text": [
        "\n",
        "set([u'hopping', u'tapping', u'mopping', u'stopping', u'trappings', u'popping'])"
       ]
      },
      {
       "output_type": "stream",
       "stream": "stdout",
       "text": [
        "\n",
        "set([u'got.', u'lots', u'lost.', u'lots.', u'log.', u'lot', u'clot.', u'cot.', u'hot.', u'not.'])\n",
        "[u'smithwick']"
       ]
      },
      {
       "output_type": "stream",
       "stream": "stdout",
       "text": [
        "\n",
        "set([u'tat', u'ab', u'tap', u'tar', u'tax', u'lab', u'tag', u'stab', u'cab', u'tub', u'ta'])\n",
        "[u'basketball']"
       ]
      },
      {
       "output_type": "stream",
       "stream": "stdout",
       "text": [
        "\n",
        "[u'jukebox']"
       ]
      },
      {
       "output_type": "stream",
       "stream": "stdout",
       "text": [
        "\n",
        "set([u'bodies.', u'soldier.', u'lodges.', u'dies.', u'older.', u'allies.', u'lies.', u'indies.', u'soldiers.', u'oldest', u'ladies.'])"
       ]
      },
      {
       "output_type": "stream",
       "stream": "stdout",
       "text": [
        "\n",
        "set([u'10', u'pm'])"
       ]
      },
      {
       "output_type": "stream",
       "stream": "stdout",
       "text": [
        "\n",
        "set([u'loyalists.'])"
       ]
      },
      {
       "output_type": "stream",
       "stream": "stdout",
       "text": [
        "\n",
        "set([u'welcoming'])\n",
        "set([u'liza', u'dizzy', u'penza'])"
       ]
      },
      {
       "output_type": "stream",
       "stream": "stdout",
       "text": [
        "\n",
        "set([u'gums', u'guy', u'guns'])\n",
        "set([u'grands', u'granddad', u'grandly', u'grande', u'grand', u'grandee'])"
       ]
      },
      {
       "output_type": "stream",
       "stream": "stdout",
       "text": [
        "\n",
        "set([u'liza', u'dizzy', u'penza'])"
       ]
      },
      {
       "output_type": "stream",
       "stream": "stdout",
       "text": [
        "\n",
        "set([u'gums', u'guy', u'guns'])\n",
        "set([u'ham', u'hum', u'mmm', u'hm', u'hem', u'him'])\n",
        "set([u'liza', u'dizzy', u'penza'])"
       ]
      },
      {
       "output_type": "stream",
       "stream": "stdout",
       "text": [
        "\n",
        "set([u'cow', u'wo', u'vow', u'tow', u'bow', u'how', u'won', u'low', u'sow', u'woe', u'now', u'row'])\n",
        "set([u'unsatisfied'])\n",
        "set([u'upsetting', u'spelling', u'selling'])"
       ]
      },
      {
       "output_type": "stream",
       "stream": "stdout",
       "text": [
        "\n",
        "set([u'specialise', u'specialist', u'specially', u'special', u'species.'])"
       ]
      },
      {
       "output_type": "stream",
       "stream": "stdout",
       "text": [
        "\n",
        "set([u'negative.'])"
       ]
      },
      {
       "output_type": "stream",
       "stream": "stdout",
       "text": [
        "\n",
        "set([u'salad'])\n",
        "[u'overpriced']"
       ]
      },
      {
       "output_type": "stream",
       "stream": "stdout",
       "text": [
        "\n",
        "set([u'branch', u'bunch'])\n",
        "set([u'special'])\n",
        "[u'mimosas']"
       ]
      },
      {
       "output_type": "stream",
       "stream": "stdout",
       "text": [
        "\n",
        "set([u'punch.', u'lunch'])\n",
        "[u'high-ball-sized']"
       ]
      },
      {
       "output_type": "stream",
       "stream": "stdout",
       "text": [
        "\n",
        "set([u'box', u'boy', u'boor', u'boot', u'bow', u'book', u'too', u'boon', u'boa', u'bob', u'foo', u'oo', u'boom'])\n",
        "set([u'taste.'])\n",
        "set([u'gay', u'jay', u'may', u'pay', u'bay', u'hay', u'say', u'lay', u'way', u'ay', u'nay', u'day', u'ray'])\n",
        "set([u'hobby', u'chubby'])\n",
        "set([u'oo', u'on', u'ok', u'oh', u'of', u'oe', u'o', u'ox', u'ou', u'z', u'os', u'or'])\n",
        "set([u'47.', u'75.', u'45.', u'475'])"
       ]
      },
      {
       "output_type": "stream",
       "stream": "stdout",
       "text": [
        "\n",
        "set([u'resistant', u'hesitate'])"
       ]
      },
      {
       "output_type": "stream",
       "stream": "stdout",
       "text": [
        "\n",
        "set([u'actress', u'witness', u'mattress'])"
       ]
      },
      {
       "output_type": "stream",
       "stream": "stdout",
       "text": [
        "\n",
        "set([u'sauce', u'saucer'])\n",
        "set([u'crisply', u'crisp'])\n",
        "set([u'actress', u'witness', u'mattress'])"
       ]
      },
      {
       "output_type": "stream",
       "stream": "stdout",
       "text": [
        "\n",
        "set([u'crisis.', u'crisply', u'crisp'])"
       ]
      },
      {
       "output_type": "stream",
       "stream": "stdout",
       "text": [
        "\n",
        "[u'non-traditional']"
       ]
      },
      {
       "output_type": "stream",
       "stream": "stdout",
       "text": [
        "\n",
        "set([u'reasoning'])\n",
        "set([u'spice'])\n",
        "set([u'salt', u'sally', u'salts'])\n",
        "set([u'rang', u'tank', u'hang', u'sang', u'bang', u'tag', u'pang', u'gang'])\n",
        "set([u'entrez'])\n",
        "set([u'filaria'])"
       ]
      },
      {
       "output_type": "stream",
       "stream": "stdout",
       "text": [
        "\n",
        "[u'uninspired.']"
       ]
      },
      {
       "output_type": "stream",
       "stream": "stdout",
       "text": [
        "\n",
        "set([u'greene', u'greeks', u'green'])\n",
        "[u'overdressed']"
       ]
      },
      {
       "output_type": "stream",
       "stream": "stdout",
       "text": [
        "\n",
        "set([u'winter.', u'waited.', u'wicked.', u'tilted', u'filled.', u'willed', u'halted.', u'dilated.', u'wished.', u'walked.', u'fitted.', u'wasted.', u'twisted.', u'dieted.', u'tilled.', u'killed.', u'bolted.', u'wanted.', u'winced.'])"
       ]
      },
      {
       "output_type": "stream",
       "stream": "stdout",
       "text": [
        "\n",
        "set([u'greene', u'greeks', u'green'])\n",
        "set([u'almond'])\n",
        "set([u'makarin'])"
       ]
      },
      {
       "output_type": "stream",
       "stream": "stdout",
       "text": [
        "\n",
        "set([u'rush', u'mesh', u'lush', u'muse', u'mash', u'hush', u'push', u'bush', u'much', u'gush', u'muss', u'must'])\n",
        "set([u'gates'])\n",
        "[u'oakville.']"
       ]
      },
      {
       "output_type": "stream",
       "stream": "stdout",
       "text": [
        "\n",
        "[u'scottsdale']"
       ]
      },
      {
       "output_type": "stream",
       "stream": "stdout",
       "text": [
        "\n",
        "set([u'deduce', u'deuce', u'deluge', u'delude'])"
       ]
      },
      {
       "output_type": "stream",
       "stream": "stdout",
       "text": [
        "\n",
        "set([u'ratio'])\n",
        "set([u'bets', u'bags', u'bat', u'rats', u'mats', u'oats', u'hats', u'bars', u'bath', u'fats', u'boats', u'beats', u'cats', u'baths', u'bast', u'eats', u'bits', u'bass'])\n",
        "set([u'salol', u'solfa', u'salon', u'samoa', u'palsy', u'alba', u'pals', u'sales', u'salve', u'seals', u'talma', u'salem', u'sacs', u'false', u'salts', u'scala', u'malta', u'also', u'slash', u'sails', u'salle', u'says', u'silas', u'sasha', u'sila', u'alas', u'santa', u'salut', u'sally', u'alma', u'balsam', u'sans', u'salad', u'saws', u'saliva', u'sale', u'valse', u'salt', u'sash', u'mala'])"
       ]
      },
      {
       "output_type": "stream",
       "stream": "stdout",
       "text": [
        "\n",
        "set([u'salol', u'solfa', u'salon', u'samoa', u'palsy', u'alba', u'pals', u'sales', u'salve', u'seals', u'talma', u'salem', u'sacs', u'false', u'salts', u'scala', u'malta', u'also', u'slash', u'sails', u'salle', u'says', u'silas', u'sasha', u'sila', u'alas', u'santa', u'salut', u'sally', u'alma', u'balsam', u'sans', u'salad', u'saws', u'saliva', u'sale', u'valse', u'salt', u'sash', u'mala'])"
       ]
      },
      {
       "output_type": "stream",
       "stream": "stdout",
       "text": [
        "\n",
        "set([u'complimentary'])\n",
        "set([u'snapped'])\n",
        "set([u'tasks', u'taras', u'bacon', u'tabor', u'facts', u'tracts', u'sacs', u'talks', u'lacks', u'tache', u'acts', u'takes', u'tales', u'packs', u'backs', u'tabes', u'jacks', u'tags', u'tact', u'tacit', u'tracks', u'races', u'tails', u'tanks', u'jacob', u'cos', u'tapes', u'sacks', u'paces', u'taxes', u'stacks', u'tack', u'faces', u'amos', u'traces', u'twos'])"
       ]
      },
      {
       "output_type": "stream",
       "stream": "stdout",
       "text": [
        "\n",
        "set([u'pips', u'pits', u'epics', u'pigs', u'pick', u'pins', u'pies'])\n",
        "set([u'pepper'])\n",
        "set([u'net.', u'got.', u'get', u'set.', u'pet.', u'yet.', u'wet.', u'aet.', u'gets', u'met.', u'gem.'])"
       ]
      },
      {
       "output_type": "stream",
       "stream": "stdout",
       "text": [
        "\n",
        "set([u'task', u'trip', u'asp', u'tap', u'esp', u'lisp', u'tubs', u'top', u'tip', u'tops', u'tss', u'wisp', u'gosp', u'trap', u'toss', u'test', u'gasp', u'tips', u'trop', u'hasp', u'obs'])"
       ]
      },
      {
       "output_type": "stream",
       "stream": "stdout",
       "text": [
        "\n",
        "[u'teaspoon']"
       ]
      },
      {
       "output_type": "stream",
       "stream": "stdout",
       "text": [
        "\n",
        "set([u'lemon', u'lemons'])\n",
        "set([u'varnish'])\n",
        "set([u'pips', u'pits', u'epics', u'pigs', u'pick', u'pins', u'pies'])\n",
        "[u'macaroni']"
       ]
      },
      {
       "output_type": "stream",
       "stream": "stdout",
       "text": [
        "\n",
        "set([u'groups', u'grouping'])"
       ]
      },
      {
       "output_type": "stream",
       "stream": "stdout",
       "text": [
        "\n",
        "set([u'webster'])"
       ]
      },
      {
       "output_type": "stream",
       "stream": "stdout",
       "text": [
        "\n",
        "set([u'rev', u'rip', u're', u'rec', u'yep', u'reap', u'red'])\n",
        "set([u'casually', u'manual', u'annually', u'mutually', u'manfully', u'mentally'])"
       ]
      },
      {
       "output_type": "stream",
       "stream": "stdout",
       "text": [
        "\n",
        "set([u'coupon', u'grouped', u'group', u'groups', u'grouping'])"
       ]
      },
      {
       "output_type": "stream",
       "stream": "stdout",
       "text": [
        "\n",
        "set([u'into'])\n",
        "set([u'overalls', u'overall'])\n",
        "[u'in-flight']"
       ]
      },
      {
       "output_type": "stream",
       "stream": "stdout",
       "text": [
        "\n",
        "set([u'cooks', u'cooking', u'dooties', u'rockies', u'copies', u'cooked', u'colonies'])"
       ]
      },
      {
       "output_type": "stream",
       "stream": "stdout",
       "text": [
        "\n",
        "[u'budget-centric']"
       ]
      },
      {
       "output_type": "stream",
       "stream": "stdout",
       "text": [
        "\n",
        "set([u'fair', u'unfair', u'hair', u'pair', u'usher', u'chair', u'clair', u'sir', u'said', u'lair', u'stair', u'sail', u'saar', u'sait', u'usage', u'stir', u'user', u'astir', u'adair', u'air', u'tsar', u'flair'])"
       ]
      },
      {
       "output_type": "stream",
       "stream": "stdout",
       "text": [
        "\n",
        "set([u'deah', u'drop', u'tap', u'dump', u'drab', u'deaf', u'slap', u'dear', u'chap', u'dual', u'wrap', u'dean', u'sap', u'oval', u'dial', u'van', u'deal', u'deep', u'reap', u'damp', u'leap', u'nap', u'diaz', u'swap', u'snap', u'vas', u'kvas', u'soap', u'vat', u'divan', u'dad', u'map', u'draw', u'flap', u'dam', u'dan', u'davy', u'gap', u'dat', u'dave', u'dead', u'heap', u'das', u'dram', u'da', u'lap', u'day', u'drag', u'val', u'eva', u'cap', u'drip', u'trap', u'ivan', u'dip'])"
       ]
      },
      {
       "output_type": "stream",
       "stream": "stdout",
       "text": [
        "\n",
        "set([u'slot', u'plot', u'blot', u'aloe', u'clot', u'aloft', u'allot', u'lot'])\n",
        "set([u'penns', u'deny', u'tennis', u'jenny', u'delays', u'penny', u'enns', u'decays', u'denis'])"
       ]
      },
      {
       "output_type": "stream",
       "stream": "stdout",
       "text": [
        "\n",
        "[u\"mimi's.\"]"
       ]
      },
      {
       "output_type": "stream",
       "stream": "stdout",
       "text": [
        "\n",
        "[u'lasagna']"
       ]
      },
      {
       "output_type": "stream",
       "stream": "stdout",
       "text": [
        "\n",
        "set([u'smashed', u'lashed', u'washed', u'masked', u'dashed'])\n",
        "set([u'dived', u'dice', u'died', u'dined'])\n",
        "set([u'snuffing'])"
       ]
      },
      {
       "output_type": "stream",
       "stream": "stdout",
       "text": [
        "\n",
        "[u'homemade']"
       ]
      },
      {
       "output_type": "stream",
       "stream": "stdout",
       "text": [
        "\n",
        "set([u'special'])\n",
        "set([u'slot', u'plot', u'blot', u'aloe', u'clot', u'aloft', u'allot', u'lot'])"
       ]
      },
      {
       "output_type": "stream",
       "stream": "stdout",
       "text": [
        "\n",
        "set([u'fr', u'fur', u'us', u'ut', u'nur', u'up', u'jr', u'ar', u'r', u'u', u'sur', u'br', u'mr', u'our', u'un', u'dr', u'or', u'er'])\n",
        "set([u'dipped', u'gripped', u'bipped', u'rapped', u'sipped', u'tripped'])\n",
        "set([u'pads', u'pass.', u'pas.', u'pad.'])\n",
        "set([u'trash'])\n",
        "set([u'elba', u'else'])\n",
        "set([u'burghers', u'burgess'])\n",
        "set([u'sandwich'])\n",
        "[u'homemade']"
       ]
      },
      {
       "output_type": "stream",
       "stream": "stdout",
       "text": [
        "\n",
        "set([u'gibe', u'vive', u'vile', u'vie', u'vice', u'vine', u'vise'])\n",
        "set([u'sort', u'sorts', u'aorta'])\n",
        "set([u'parking'])\n",
        "set([u'enormous.'])"
       ]
      },
      {
       "output_type": "stream",
       "stream": "stdout",
       "text": [
        "\n",
        "set([u'patted', u'paste', u'pate', u'patter', u'patty'])"
       ]
      },
      {
       "output_type": "stream",
       "stream": "stdout",
       "text": [
        "\n",
        "set([u'scoop', u'sloops'])\n",
        "set([u'brodie', u'brown', u'brownish', u'bronze', u'bowie'])"
       ]
      },
      {
       "output_type": "stream",
       "stream": "stdout",
       "text": [
        "\n",
        "[u'caramel.']"
       ]
      },
      {
       "output_type": "stream",
       "stream": "stdout",
       "text": [
        "\n",
        "set([u'brodie', u'brown', u'brownish', u'bronze', u'bowie'])"
       ]
      },
      {
       "output_type": "stream",
       "stream": "stdout",
       "text": [
        "\n",
        "set([u'favors', u'flavor'])\n",
        "set([u'relish'])\n",
        "set([u'skeptics'])"
       ]
      },
      {
       "output_type": "stream",
       "stream": "stdout",
       "text": [
        "\n",
        "set([u'believer', u'believes'])\n",
        "set([u'dumping', u'dimpling'])"
       ]
      },
      {
       "output_type": "stream",
       "stream": "stdout",
       "text": [
        "\n",
        "set([u'tat', u'taft', u'art', u'bart', u'tar', u'wart', u'tact', u'cart', u'dart', u'start', u'part', u'taut', u'hart'])\n",
        "set([u'charters.', u'states.', u'quarters.', u'started.'])"
       ]
      },
      {
       "output_type": "stream",
       "stream": "stdout",
       "text": [
        "\n",
        "[u'shirataki']"
       ]
      },
      {
       "output_type": "stream",
       "stream": "stdout",
       "text": [
        "\n",
        "set([u'nobles', u'needles', u'nodules', u'nodes', u'nobodies'])"
       ]
      },
      {
       "output_type": "stream",
       "stream": "stdout",
       "text": [
        "\n",
        "set([u'tasks', u'taras', u'bacon', u'tabor', u'facts', u'tracts', u'sacs', u'talks', u'lacks', u'tache', u'acts', u'takes', u'tales', u'packs', u'backs', u'tabes', u'jacks', u'tags', u'tact', u'tacit', u'tracks', u'races', u'tails', u'tanks', u'jacob', u'cos', u'tapes', u'sacks', u'paces', u'taxes', u'stacks', u'tack', u'faces', u'amos', u'traces', u'twos'])"
       ]
      },
      {
       "output_type": "stream",
       "stream": "stdout",
       "text": [
        "\n",
        "set([u'entree.'])\n",
        "[u'kale-aid.']"
       ]
      },
      {
       "output_type": "stream",
       "stream": "stdout",
       "text": [
        "\n",
        "set([u'mummy', u'dummy'])"
       ]
      },
      {
       "output_type": "stream",
       "stream": "stdout",
       "text": [
        "\n",
        "set([u'logs', u'yore', u'yea', u'hogs', u'your', u'yon', u'noma', u'log', u'rosa', u'nova', u'fog', u'you', u'olga', u'dogs', u'yuma', u'iowa', u'oka', u'dogma', u'myoma', u'dora', u'york', u'boa', u'coma', u'ogg', u'coxa', u'foka', u'fogs', u'cogs', u'sofa', u'dog', u'iota', u'volga', u'soda', u'yoke'])"
       ]
      },
      {
       "output_type": "stream",
       "stream": "stdout",
       "text": [
        "\n",
        "set([u'dale', u'kalb', u'ale', u'sale', u'vale', u'tale', u'gale', u'hale', u'yale', u'male', u'pale', u'kate'])\n",
        "set([u'salad'])\n",
        "set([u'dale', u'kalb', u'ale', u'sale', u'vale', u'tale', u'gale', u'hale', u'yale', u'male', u'pale', u'kate'])\n",
        "set([u'promoted', u'sprouted', u'rooted'])"
       ]
      },
      {
       "output_type": "stream",
       "stream": "stdout",
       "text": [
        "\n",
        "set([u'ratio'])\n",
        "set([u'canned', u'manned', u'banded', u'fanned', u'banged', u'banner'])\n",
        "[u'clumsiness']"
       ]
      },
      {
       "output_type": "stream",
       "stream": "stdout",
       "text": [
        "\n",
        "[u'in-depth']"
       ]
      },
      {
       "output_type": "stream",
       "stream": "stdout",
       "text": [
        "\n",
        "set([u'reviews', u'revelers', u'reviewed'])"
       ]
      },
      {
       "output_type": "stream",
       "stream": "stdout",
       "text": [
        "\n",
        "set([u'carry', u'furry', u'hurry', u'curly'])\n",
        "set([u'chicken', u'chickens.', u'chickens'])\n",
        "set([u'kann', u'king', u'rang', u'hang', u'sang', u'bang', u'pang', u'gang'])\n",
        "set([u'karp', u'hare', u'gare', u'three', u'bare', u'are', u'kari', u'warne', u'armee', u'karl', u'katie', u'carree', u'mare', u'ware', u'farce', u'cares', u'garre', u'wares', u'fared', u'kate', u'cared', u'pared', u'barre', u'sacree', u'carve', u'fares', u'carte', u'fare', u'parce', u'nares', u'earle', u'free', u'bared', u'barge', u'rarer', u'knee', u'spree', u'marie', u'hares', u'dare', u'care', u'rare', u'carer', u'career', u'marne', u'area', u'tree', u'dared', u'large', u'dares', u'karay', u'agree'])"
       ]
      },
      {
       "output_type": "stream",
       "stream": "stdout",
       "text": [
        "\n",
        "set([u'pasty', u'taste', u'nasty', u'hasty'])\n",
        "[u'downtown.']"
       ]
      },
      {
       "output_type": "stream",
       "stream": "stdout",
       "text": [
        "\n",
        "set([u'ham', u'sam', u'dam', u'ram', u'am', u'jam'])\n",
        "set([u'prices', u'price'])\n",
        "set([u'salol', u'solfa', u'salon', u'samoa', u'palsy', u'alba', u'pals', u'sales', u'salve', u'seals', u'talma', u'salem', u'sacs', u'false', u'salts', u'scala', u'malta', u'also', u'slash', u'sails', u'salle', u'says', u'silas', u'sasha', u'sila', u'alas', u'santa', u'salut', u'sally', u'alma', u'balsam', u'sans', u'salad', u'saws', u'saliva', u'sale', u'valse', u'salt', u'sash', u'mala'])"
       ]
      },
      {
       "output_type": "stream",
       "stream": "stdout",
       "text": [
        "\n",
        "set([u'spice'])\n",
        "set([u'kicks', u'wick.', u'pick.', u'kick'])\n",
        "set([u'relent', u'ellen'])"
       ]
      },
      {
       "output_type": "stream",
       "stream": "stdout",
       "text": [
        "\n",
        "set([u'waiter', u'waters', u'writers', u'gaiters'])\n",
        "[u'flavorful']"
       ]
      },
      {
       "output_type": "stream",
       "stream": "stdout",
       "text": [
        "\n",
        "[u'tortillas']"
       ]
      },
      {
       "output_type": "stream",
       "stream": "stdout",
       "text": [
        "\n",
        "[u'home-made']"
       ]
      },
      {
       "output_type": "stream",
       "stream": "stdout",
       "text": [
        "\n",
        "set([u'wasting', u'fasting', u'testing', u'casting', u'lasting'])\n",
        "set([u'dash', u'ash', u'harsh', u'wash', u'sash', u'cash', u'rash', u'mash', u'hush', u'hath', u'gash', u'hast', u'has', u'hasp', u'lash'])\n",
        "set([u'brown', u'brows', u'crowns', u'drowns'])\n",
        "set([u'foh', u'ooh', u'oh'])\n",
        "set([u'pockmarked'])"
       ]
      },
      {
       "output_type": "stream",
       "stream": "stdout",
       "text": [
        "\n",
        "set([u'reliable'])\n",
        "set([u'fils', u'file', u'fish', u'liza', u'dizzy', u'fist', u'viz', u'fili', u'fine', u'wiz', u'film', u'size', u'fir', u'fit', u'fix', u'find', u'diaz', u'fig', u'fill', u'fez', u'firm', u'linz', u'fire', u'filez', u'jazz', u'whizz', u'fritz', u'five', u'fits', u'firs', u'fiat', u'sitz', u'fiew', u'buzz'])"
       ]
      },
      {
       "output_type": "stream",
       "stream": "stdout",
       "text": [
        "\n",
        "set([u'cider', u'riders'])\n",
        "set([u'cocktail'])"
       ]
      },
      {
       "output_type": "stream",
       "stream": "stdout",
       "text": [
        "\n",
        "set([u'liza', u'dizzy', u'penza'])"
       ]
      },
      {
       "output_type": "stream",
       "stream": "stdout",
       "text": [
        "\n",
        "set([u'menu', u'men.'])\n",
        "set([u'pucker', u'sucked'])\n",
        "[u're-purposed']"
       ]
      },
      {
       "output_type": "stream",
       "stream": "stdout",
       "text": [
        "\n",
        "set([u'restaurant'])"
       ]
      },
      {
       "output_type": "stream",
       "stream": "stdout",
       "text": [
        "\n",
        "set([u'cuba.', u'cab.', u'cabot', u'rico.', u'rib.', u'cubs.', u'city.', u'gibe.', u'co.'])"
       ]
      },
      {
       "output_type": "stream",
       "stream": "stdout",
       "text": [
        "\n",
        "[u'unknowingly']"
       ]
      },
      {
       "output_type": "stream",
       "stream": "stdout",
       "text": [
        "\n",
        "set([u'205'])\n",
        "[u'salscicia']"
       ]
      },
      {
       "output_type": "stream",
       "stream": "stdout",
       "text": [
        "\n",
        "set([u'chew'])\n",
        "[u'saltimbocca']"
       ]
      },
      {
       "output_type": "stream",
       "stream": "stdout",
       "text": [
        "\n",
        "[u'flavorful']"
       ]
      },
      {
       "output_type": "stream",
       "stream": "stdout",
       "text": [
        "\n",
        "set([u'pepper'])\n",
        "[u'mozzarella']"
       ]
      },
      {
       "output_type": "stream",
       "stream": "stdout",
       "text": [
        "\n",
        "set([u'delirious.', u'delicious'])\n",
        "set([u'coupon', u'grouped', u'group', u'groups', u'grouping'])"
       ]
      },
      {
       "output_type": "stream",
       "stream": "stdout",
       "text": [
        "\n",
        "set([u'gauzy'])\n",
        "[u'sopranos.']"
       ]
      },
      {
       "output_type": "stream",
       "stream": "stdout",
       "text": [
        "\n",
        "[u'perimeters.']"
       ]
      },
      {
       "output_type": "stream",
       "stream": "stdout",
       "text": [
        "\n",
        "set([u'front', u'confront', u'infant', u'affront'])"
       ]
      },
      {
       "output_type": "stream",
       "stream": "stdout",
       "text": [
        "\n",
        "set([u'gums', u'guy', u'guns'])\n",
        "set([u'unnecessary'])"
       ]
      },
      {
       "output_type": "stream",
       "stream": "stdout",
       "text": [
        "\n",
        "set([u'ally.', u'walls.', u'wall.'])\n",
        "set([u'option'])\n",
        "set([u'stole.', u'stores', u'stove.', u'story.', u'stowe.', u'storm.', u'stored', u'sore.', u'stone.', u'store'])\n",
        "set([u'installed'])\n",
        "set([u'hearty'])\n",
        "set([u'services', u'service'])\n",
        "set([u'2d', u'and', u'end', u'und', u'nd'])\n",
        "set([u'gums', u'guy', u'guns'])\n",
        "set([u'online'])\n",
        "set([u'walking'])"
       ]
      },
      {
       "output_type": "stream",
       "stream": "stdout",
       "text": [
        "\n",
        "set([u'nom', u'mop', u'mot', u'mmm', u'mon', u'tom', u'mob'])\n",
        "[u'ravioli']"
       ]
      },
      {
       "output_type": "stream",
       "stream": "stdout",
       "text": [
        "\n",
        "set([u'mist', u'miss', u'mio'])\n",
        "[u'elixirs']"
       ]
      },
      {
       "output_type": "stream",
       "stream": "stdout",
       "text": [
        "\n",
        "set([u'beverages.', u'beverage'])\n",
        "set([u'calorie'])\n",
        "[u'diner-type']"
       ]
      },
      {
       "output_type": "stream",
       "stream": "stdout",
       "text": [
        "\n",
        "set([u'alliance', u'ambulance'])"
       ]
      },
      {
       "output_type": "stream",
       "stream": "stdout",
       "text": [
        "\n",
        "set([u'attentive'])\n",
        "set([u'streak', u'steal', u'stead', u'steam', u'speak'])\n",
        "[u'seafood.']"
       ]
      },
      {
       "output_type": "stream",
       "stream": "stdout",
       "text": [
        "\n",
        "[u'ribeye.']"
       ]
      },
      {
       "output_type": "stream",
       "stream": "stdout",
       "text": [
        "\n",
        "set([u'1', u'i-', u'-'])\n",
        "set([u'1-2', u'1/2', u'112'])"
       ]
      },
      {
       "output_type": "stream",
       "stream": "stdout",
       "text": [
        "\n",
        "set([u'streak', u'steal', u'stead', u'steam', u'speak'])\n",
        "set([u'wrestle', u'grist', u'rustle', u'bristly', u'trestle', u'whistle', u'epistle', u'brittle', u'bristled'])"
       ]
      },
      {
       "output_type": "stream",
       "stream": "stdout",
       "text": [
        "\n",
        "set([u'check', u'thick', u'chuck', u'chink', u'click'])\n",
        "set([u'files', u'filez', u'file', u'filed'])\n",
        "[u'veggies']"
       ]
      },
      {
       "output_type": "stream",
       "stream": "stdout",
       "text": [
        "\n",
        "set([u'la.', u'bush.', u'lad.', u'plan.', u'blame.', u'bland', u'ban.', u'law.', u'glad.', u'flap.', u'flag.', u'blow.', u'flax.', u'clay.', u'black', u'blaze', u'blaze.', u'bad.', u'lash.', u'ball.', u'klan.', u'both.', u'blue.', u'bath.', u'beat.', u'blank', u'blush.', u'blast', u'bar.', u'blame', u'slab.', u'boat.', u'blade', u'bay.', u'lay.', u'bear.', u'play.', u'black.', u'bag.', u'bah'])"
       ]
      },
      {
       "output_type": "stream",
       "stream": "stdout",
       "text": [
        "\n",
        "[u'pinkeye']"
       ]
      },
      {
       "output_type": "stream",
       "stream": "stdout",
       "text": [
        "\n",
        "set([u'mormons', u'morton'])\n",
        "set([u'maistre'])"
       ]
      },
      {
       "output_type": "stream",
       "stream": "stdout",
       "text": [
        "\n",
        "set([u'speaks', u'steals', u'streaks'])\n",
        "set([u'1-2', u'1/2', u'112'])"
       ]
      },
      {
       "output_type": "stream",
       "stream": "stdout",
       "text": [
        "\n",
        "set([u'does', u'dont', u'dost'])"
       ]
      },
      {
       "output_type": "stream",
       "stream": "stdout",
       "text": [
        "\n",
        "[u'renovated']"
       ]
      },
      {
       "output_type": "stream",
       "stream": "stdout",
       "text": [
        "\n",
        "set([u'panes', u'camera', u'genera', u'pantry', u'pakhra', u'paper', u'pancras', u'pane', u'papers', u'paler', u'panama', u'panel'])"
       ]
      },
      {
       "output_type": "stream",
       "stream": "stdout",
       "text": [
        "\n",
        "set([u'cares', u'carts', u'cars', u'garbs', u'cards', u'cabs'])\n",
        "set([u'cares', u'carts', u'cars', u'garbs', u'cards', u'cabs'])\n",
        "set([u'cares', u'carts', u'cars', u'garbs', u'cards', u'cabs'])\n",
        "set([u'cards.', u'carts.'])\n",
        "set([u'syrupy'])\n",
        "set([u'pancake'])\n",
        "set([u'yuma', u'rum', u'hum', u'sum', u'gum', u'cum', u'zum'])\n",
        "set([u'pancake'])\n",
        "set([u'taste.'])\n",
        "[u'cinnamon']"
       ]
      },
      {
       "output_type": "stream",
       "stream": "stdout",
       "text": [
        "\n",
        "[u'nutmeg']"
       ]
      },
      {
       "output_type": "stream",
       "stream": "stdout",
       "text": [
        "\n",
        "set([u'costa', u'color', u'cock', u'coma', u'cochon', u'comma', u'cook', u'colon', u'coxa', u'cocci', u'cocks', u'cool'])"
       ]
      },
      {
       "output_type": "stream",
       "stream": "stdout",
       "text": [
        "\n",
        "[u'freeways']"
       ]
      },
      {
       "output_type": "stream",
       "stream": "stdout",
       "text": [
        "\n",
        "set([u'shop', u'among', u'sob', u'shot', u'show', u'agog', u'some', u'soon', u'son', u'snug', u'shod', u'shoe', u'sow', u'soot', u'samoa', u'sung', u'slot', u'simon', u'log', u'smote', u'fog', u'snow', u'frog', u'scow', u'mug', u'scot', u'shag', u'sing', u'smock', u'meg', u'sol', u'song', u'spot', u'mop', u'stop', u'mot', u'stag', u'slow', u'mon', u'mob', u'sg', u'dog', u'sang', u'amoy', u'so', u'smoke', u'amos', u'flog', u'sot'])"
       ]
      },
      {
       "output_type": "stream",
       "stream": "stdout",
       "text": [
        "\n",
        "[u'peppermint']"
       ]
      },
      {
       "output_type": "stream",
       "stream": "stdout",
       "text": [
        "\n",
        "set([u'chocolate'])\n",
        "[u'tofu-looking']"
       ]
      },
      {
       "output_type": "stream",
       "stream": "stdout",
       "text": [
        "\n",
        "set([u'squares', u'square.'])\n",
        "set([u'polite', u'police.'])\n",
        "set([u'sector', u'defer', u'deck', u'tenor', u'deer', u'fedor', u'rector', u'dear', u'recur', u'decay', u'decorum', u'donor', u'depot', u'decks', u'door', u'demon', u'detour', u'deter', u'devour', u'senor', u'debtor', u'cor', u'defoe', u'der', u'doctor', u'deacon', u'record', u'vector', u'dec'])"
       ]
      },
      {
       "output_type": "stream",
       "stream": "stdout",
       "text": [
        "\n",
        "set([u'toller', u'peddler', u'fodder', u'hodder'])"
       ]
      },
      {
       "output_type": "stream",
       "stream": "stdout",
       "text": [
        "\n",
        "set([u'carries'])\n",
        "set([u'lesser'])\n",
        "set([u'entries'])\n",
        "set([u'delhi', u'del'])\n",
        "[u'grayhawk']"
       ]
      },
      {
       "output_type": "stream",
       "stream": "stdout",
       "text": [
        "\n",
        "set([u'packages', u'package'])\n",
        "set([u'cramp', u'carp', u'cap', u'crop', u'chap', u'trap', u'crab', u'wrap', u'scrap'])\n",
        "set([u'slice', u'slices'])\n",
        "[u'rotisserie.']"
       ]
      },
      {
       "output_type": "stream",
       "stream": "stdout",
       "text": [
        "\n",
        "set([u'water', u'mater', u'later', u'cater', u'taper'])\n",
        "set([u'mots.', u'toes.', u'lots.'])\n",
        "set([u'relish'])\n",
        "set([u'dries', u'furies', u'frees', u'flies', u'tries', u'cries', u'fires', u'frise', u'fried'])\n",
        "set([u'dries', u'furies', u'frees', u'flies', u'tries', u'cries', u'fires', u'frise', u'fried'])\n",
        "set([u'water', u'mater', u'later', u'cater', u'taper'])\n",
        "set([u'dots', u'toes', u'lots', u'toss', u'pots', u'tons', u'mots', u'sots', u'toys', u'tops'])\n",
        "set([u'salad'])\n",
        "[u'chicago-style']"
       ]
      },
      {
       "output_type": "stream",
       "stream": "stdout",
       "text": [
        "\n",
        "[u'gourmet']"
       ]
      },
      {
       "output_type": "stream",
       "stream": "stdout",
       "text": [
        "\n",
        "set([u'burghers', u'burgess'])\n",
        "set([u'mummy', u'dummy'])\n",
        "set([u'francis.', u'france.', u'frances'])\n",
        "set([u'stationary'])\n",
        "set([u'revelry', u'jewel', u'jewels', u'jewellery'])"
       ]
      },
      {
       "output_type": "stream",
       "stream": "stdout",
       "text": [
        "\n",
        "set([u'vantage', u'mintage'])\n",
        "set([u'prices', u'price'])\n",
        "set([u'thought', u'thought.', u'though', u'trough.', u'thwough.', u'through.'])\n",
        "set([u'sort', u'sorts', u'aorta'])\n",
        "set([u'friendly'])\n",
        "set([u'atmosphere'])\n",
        "set([u'blue', u'bled', u'blew'])\n",
        "set([u'amuses', u'amuse', u'abuse.', u'amused.', u'amused'])\n",
        "set([u'yuma', u'rum', u'hum', u'sum', u'gum', u'cum', u'zum'])\n",
        "set([u'pest'])\n",
        "set([u'liza', u'dizzy', u'penza'])"
       ]
      },
      {
       "output_type": "stream",
       "stream": "stdout",
       "text": [
        "\n",
        "set([u'favors', u'flavor'])\n",
        "set([u'preston', u'past.', u'jest.', u'test.', u'nests.', u'rests.', u'post.', u'rest.', u'piston', u'pistol', u'nest.', u'pastor', u'veto.', u'bestow', u'posts.', u'bestow.', u'pistol.', u'paste.', u'best.', u'pet.', u'west.', u'pest'])"
       ]
      },
      {
       "output_type": "stream",
       "stream": "stdout",
       "text": [
        "\n",
        "set([u'panins'])\n",
        "[u\"l'academie\"]"
       ]
      },
      {
       "output_type": "stream",
       "stream": "stdout",
       "text": [
        "\n",
        "[u'scottsdale']"
       ]
      },
      {
       "output_type": "stream",
       "stream": "stdout",
       "text": [
        "\n",
        "set([u'favors.'])\n",
        "set([u'aux', u'klux', u'lax', u'lui'])\n",
        "set([u'vestries', u'pastures', u'castres', u'patties', u'parties'])"
       ]
      },
      {
       "output_type": "stream",
       "stream": "stdout",
       "text": [
        "\n",
        "[u'cupcake']"
       ]
      },
      {
       "output_type": "stream",
       "stream": "stdout",
       "text": [
        "\n",
        "[u'cupcakes.']"
       ]
      },
      {
       "output_type": "stream",
       "stream": "stdout",
       "text": [
        "\n",
        "[u'cupcakes']"
       ]
      },
      {
       "output_type": "stream",
       "stream": "stdout",
       "text": [
        "\n",
        "set([u'coma', u'come.', u'coman'])\n",
        "set([u'bat', u'blot', u'bl', u'but', u'bolt', u'bit', u'bet', u'belt'])\n",
        "set([u'boasted', u'tasted', u'roasted'])\n",
        "set([u'alliance', u'ambulance'])"
       ]
      },
      {
       "output_type": "stream",
       "stream": "stdout",
       "text": [
        "\n",
        "[u'cupcakes']"
       ]
      },
      {
       "output_type": "stream",
       "stream": "stdout",
       "text": [
        "\n",
        "set([u'pouting', u'ousting'])\n",
        "[u'takeout']"
       ]
      },
      {
       "output_type": "stream",
       "stream": "stdout",
       "text": [
        "\n",
        "set([u'bakers', u'baker'])\n",
        "set([u'burghers', u'burgess'])\n",
        "set([u'admirable'])\n",
        "set([u'benefited'])\n",
        "[u'freebies.']"
       ]
      },
      {
       "output_type": "stream",
       "stream": "stdout",
       "text": [
        "\n",
        "set([u'ago', u'log', u'lo', u'leo', u'ego', u'go'])\n",
        "set([u'shaking'])\n",
        "set([u'growled'])\n",
        "set([u'business'])\n",
        "set([u'kind', u'kinds'])\n",
        "set([u'ratio'])\n",
        "set([u'panic', u'mania', u'magic', u'maniac'])\n",
        "set([u'parking'])\n",
        "[u'grilled-fish']"
       ]
      },
      {
       "output_type": "stream",
       "stream": "stdout",
       "text": [
        "\n",
        "set([u'sandwich'])\n",
        "[u'cheeseburger']"
       ]
      },
      {
       "output_type": "stream",
       "stream": "stdout",
       "text": [
        "\n",
        "set([u'cries.', u'fires.'])\n",
        "set([u'moneyed'])\n",
        "set([u'tell.', u'smell.', u'sell.', u'steel.', u'stills.', u'patella.', u'still.', u'shell.', u'stalls.', u'stellate'])"
       ]
      },
      {
       "output_type": "stream",
       "stream": "stdout",
       "text": [
        "\n",
        "[u'awesome']"
       ]
      },
      {
       "output_type": "stream",
       "stream": "stdout",
       "text": [
        "\n",
        "set([u'patriot', u'panic.', u'ratio', u'patron', u'ration', u'dato.', u'pain.', u'petit.', u'ration.', u'nation', u'nation.', u'paid.', u'paths.', u'patrol', u'paris.', u'path.', u'pathos', u'patriot.'])"
       ]
      },
      {
       "output_type": "stream",
       "stream": "stdout",
       "text": [
        "\n",
        "set([u'grm.', u'group.', u'grabs', u'drug.', u'true.', u'grin.', u'gruel', u'rib.', u'crab.', u'run.', u'rug.', u'gun.', u'rub', u'club.', u'rubs', u'grs.', u'grunt', u'ruby', u'grms.', u'grew.', u'grow.', u'gout.', u'rum.', u'grip.', u'gruff', u'gr.', u'grab'])"
       ]
      },
      {
       "output_type": "stream",
       "stream": "stdout",
       "text": [
        "\n",
        "[u'ahhhhs']"
       ]
      },
      {
       "output_type": "stream",
       "stream": "stdout",
       "text": [
        "\n",
        "set([u'trilled', u'drilled'])\n",
        "[u'multi-grain']"
       ]
      },
      {
       "output_type": "stream",
       "stream": "stdout",
       "text": [
        "\n",
        "set([u'flaw', u'slow', u'shaw', u'slay', u'slav', u'slab', u'slap', u'slam', u'claw', u'law', u'saw', u'slew'])\n",
        "set([u'sandwich'])\n",
        "set([u'burgher'])\n",
        "set([u'burgher'])\n",
        "set([u'buds', u'quos', u'judas', u'tudor'])"
       ]
      },
      {
       "output_type": "stream",
       "stream": "stdout",
       "text": [
        "\n",
        "[u'undercooked']"
       ]
      },
      {
       "output_type": "stream",
       "stream": "stdout",
       "text": [
        "\n",
        "set([u'award.', u'awake.', u'ware.', u'aware'])\n",
        "set([u'hamburg'])"
       ]
      },
      {
       "output_type": "stream",
       "stream": "stdout",
       "text": [
        "\n",
        "set([u'gun.', u'fun.', u'burn.', u'buy.', u'nun.', u'sun.', u'bunt', u'ban.', u'bud.', u'run.'])\n",
        "[u'open-faced']"
       ]
      },
      {
       "output_type": "stream",
       "stream": "stdout",
       "text": [
        "\n",
        "set([u'coarsely'])\n",
        "set([u'shreddy', u'shrouded'])"
       ]
      },
      {
       "output_type": "stream",
       "stream": "stdout",
       "text": [
        "\n",
        "set([u'chekmar', u'cedar'])"
       ]
      },
      {
       "output_type": "stream",
       "stream": "stdout",
       "text": [
        "\n",
        "[u'veggies']"
       ]
      },
      {
       "output_type": "stream",
       "stream": "stdout",
       "text": [
        "\n",
        "set([u'lecture'])"
       ]
      },
      {
       "output_type": "stream",
       "stream": "stdout",
       "text": [
        "\n",
        "set([u'tickle', u'sickle', u'pickled'])\n",
        "[u'matchstick']"
       ]
      },
      {
       "output_type": "stream",
       "stream": "stdout",
       "text": [
        "\n",
        "set([u'dries', u'furies', u'frees', u'flies', u'tries', u'cries', u'fires', u'frise', u'fried'])\n",
        "[u'pile-o-food.']"
       ]
      },
      {
       "output_type": "stream",
       "stream": "stdout",
       "text": [
        "\n",
        "set([u'impressive'])\n",
        "set([u'burgher'])\n",
        "set([u'overlooked'])\n",
        "set([u'shreddy', u'shrouded'])"
       ]
      },
      {
       "output_type": "stream",
       "stream": "stdout",
       "text": [
        "\n",
        "[u'off-putting.']"
       ]
      },
      {
       "output_type": "stream",
       "stream": "stdout",
       "text": [
        "\n",
        "set([u'shreddy', u'shrouded'])"
       ]
      },
      {
       "output_type": "stream",
       "stream": "stdout",
       "text": [
        "\n",
        "set([u'melted'])\n",
        "set([u'burgher'])\n",
        "set([u'melted'])\n",
        "set([u'overpowered'])"
       ]
      },
      {
       "output_type": "stream",
       "stream": "stdout",
       "text": [
        "\n",
        "set([u'favors', u'flavor'])\n",
        "set([u'burgher'])\n",
        "set([u'gorilla'])"
       ]
      },
      {
       "output_type": "stream",
       "stream": "stdout",
       "text": [
        "\n",
        "set([u'burgher'])\n",
        "set([u'sobs.'])"
       ]
      },
      {
       "output_type": "stream",
       "stream": "stdout",
       "text": [
        "\n",
        "set([u'sobs.'])"
       ]
      },
      {
       "output_type": "stream",
       "stream": "stdout",
       "text": [
        "\n",
        "set([u'burgher'])\n",
        "[u'med-well']"
       ]
      },
      {
       "output_type": "stream",
       "stream": "stdout",
       "text": [
        "\n",
        "set([u'juice.'])\n",
        "[u'veggies']"
       ]
      },
      {
       "output_type": "stream",
       "stream": "stdout",
       "text": [
        "\n",
        "set([u'crisis.', u'crisply', u'crisp'])"
       ]
      },
      {
       "output_type": "stream",
       "stream": "stdout",
       "text": [
        "\n",
        "set([u'dries', u'furies', u'frees', u'flies', u'tries', u'cries', u'fires', u'frise', u'fried'])\n",
        "set([u'dries', u'furies', u'frees', u'flies', u'tries', u'cries', u'fires', u'frise', u'fried'])\n",
        "set([u'bin', u'buy', u'run', u'sun', u'burn', u'gun', u'but', u'nun', u'fun', u'un', u'bunt', u'bus', u'ban', u'ben', u'bug', u'bud'])\n",
        "set([u'burghers', u'burgess'])\n",
        "set([u'ago', u'log', u'lo', u'leo', u'ego', u'go'])\n",
        "set([u'surgery.', u'burghers', u'burgess', u'borders.'])"
       ]
      },
      {
       "output_type": "stream",
       "stream": "stdout",
       "text": [
        "\n",
        "set([u'dries', u'furies', u'frees', u'flies', u'tries', u'cries', u'fires', u'frise', u'fried'])\n",
        "[u'sub-par']"
       ]
      },
      {
       "output_type": "stream",
       "stream": "stdout",
       "text": [
        "\n",
        "[u'forgettable.']"
       ]
      },
      {
       "output_type": "stream",
       "stream": "stdout",
       "text": [
        "\n",
        "set([u'alliance', u'ambulance'])"
       ]
      },
      {
       "output_type": "stream",
       "stream": "stdout",
       "text": [
        "\n",
        "set([u'ratio'])\n",
        "set([u'ago', u'log', u'lo', u'leo', u'ego', u'go'])\n",
        "set([u'burgher'])\n",
        "[u'1-2/plate']"
       ]
      },
      {
       "output_type": "stream",
       "stream": "stdout",
       "text": [
        "\n",
        "[u'ready-to-go']"
       ]
      },
      {
       "output_type": "stream",
       "stream": "stdout",
       "text": [
        "\n",
        "set([u'conveyed', u'conveys', u'convey'])"
       ]
      },
      {
       "output_type": "stream",
       "stream": "stdout",
       "text": [
        "\n",
        "set([u'log', u'vol', u'lo', u'll', u'sol', u'los', u'low', u'lot', u'col'])\n",
        "[u'budget-friendly']"
       ]
      },
      {
       "output_type": "stream",
       "stream": "stdout",
       "text": [
        "\n",
        "set([u'suis', u'rush', u'tushin', u'susan', u'lush', u'aussi', u'sasha', u'hush', u'bush', u'gush', u'push', u'such', u'sash', u'bushy'])"
       ]
      },
      {
       "output_type": "stream",
       "stream": "stdout",
       "text": [
        "\n",
        "[u'lower-rating']"
       ]
      },
      {
       "output_type": "stream",
       "stream": "stdout",
       "text": [
        "\n",
        "set([u'bah'])\n",
        "set([u'bah'])\n",
        "set([u'bah'])\n",
        "[u'wal-mart']"
       ]
      },
      {
       "output_type": "stream",
       "stream": "stdout",
       "text": [
        "\n",
        "set([u'va.', u'us.', u'vi.', u'v.', u's.', u'is.'])\n",
        "[u'*inserthighendretailerhere*.']"
       ]
      },
      {
       "output_type": "stream",
       "stream": "stdout",
       "text": [
        "\n",
        "[u'wal-mart']"
       ]
      },
      {
       "output_type": "stream",
       "stream": "stdout",
       "text": [
        "\n",
        "set([u'gone', u'gown', u'non', u'gong', u'don', u'on', u'hon', u'god', u'von', u'gun', u'son', u'yon', u'ion', u'won', u'ton', u'mon', u'gin', u'go', u'got', u'gen', u'con'])\n",
        "set([u'oo-oo', u'solo', u'sows', u'soto', u'-so', u'sous', u'sons', u'sots', u'sobs'])"
       ]
      },
      {
       "output_type": "stream",
       "stream": "stdout",
       "text": [
        "\n",
        "[u'not-so-attentive']"
       ]
      },
      {
       "output_type": "stream",
       "stream": "stdout",
       "text": [
        "\n",
        "[u'bang-for-your-buck']"
       ]
      },
      {
       "output_type": "stream",
       "stream": "stdout",
       "text": [
        "\n",
        "set([u'kind', u'kinds'])\n",
        "set([u'breaks', u'break.'])\n",
        "set([u'conveyed', u'conveys', u'convey'])"
       ]
      },
      {
       "output_type": "stream",
       "stream": "stdout",
       "text": [
        "\n",
        "set([u'conveyed', u'conveys', u'convey'])"
       ]
      },
      {
       "output_type": "stream",
       "stream": "stdout",
       "text": [
        "\n",
        "set([u'feed', u'fed', u'end', u'lend', u'fond', u'send', u'tend', u'fund', u'bend', u'fiend', u'mend', u'find', u'feind'])\n",
        "[u'sushi-related']"
       ]
      },
      {
       "output_type": "stream",
       "stream": "stdout",
       "text": [
        "\n",
        "set([u'countess.', u'counters'])\n",
        "set([u'suis', u'rush', u'tushin', u'susan', u'lush', u'aussi', u'sasha', u'hush', u'bush', u'gush', u'push', u'such', u'sash', u'bushy'])"
       ]
      },
      {
       "output_type": "stream",
       "stream": "stdout",
       "text": [
        "\n",
        "[u'round-and-round']"
       ]
      },
      {
       "output_type": "stream",
       "stream": "stdout",
       "text": [
        "\n",
        "set([u'priding', u'prizing', u'pricking'])\n",
        "set([u'cow', u'wo', u'vow', u'tow', u'bow', u'how', u'won', u'low', u'sow', u'woe', u'now', u'row'])\n",
        "set([u'log', u'vol', u'lo', u'll', u'sol', u'los', u'low', u'lot', u'col'])\n",
        "set([u'wig', u'wie', u'ety', u'win', u'it', u'two', u'wit', u'at', u'wife', u'et', u'oft', u'st', u'its', u'if', u'web', u'woof', u'wee', u'wed', u'wid', u'tt', u'tu', u'wen', u'wiz', u'to', u'won', u'th', u'wet', u'woe', u'te', u'was', u'war', u'ta', u'we', u'who', u'ft', u'way', u'wa', u'ftp', u'wo', u'wad', u'ti', u'cf', u'aft', u'wits', u'ate', u'ff', u'watt', u'wan', u'with', u'why', u'wat', u'off', u'f', u'of', u'ty', u'wag', u'etc', u'wolf', u't', u'w', u'ut', u'twy', u'wax', u'wry', u'sty', u'def'])\n",
        "set([u'suis', u'rush', u'tushin', u'susan', u'lush', u'aussi', u'sasha', u'hush', u'bush', u'gush', u'push', u'such', u'sash', u'bushy'])"
       ]
      },
      {
       "output_type": "stream",
       "stream": "stdout",
       "text": [
        "\n",
        "[u'lololololololol']"
       ]
      },
      {
       "output_type": "stream",
       "stream": "stdout",
       "text": [
        "\n",
        "set([u'diaz', u'dial', u'deaf'])\n",
        "set([u'bears', u'beer', u'bees', u'peers'])\n",
        "[u'deep-fried']"
       ]
      },
      {
       "output_type": "stream",
       "stream": "stdout",
       "text": [
        "\n",
        "[u'quesadillas.']"
       ]
      },
      {
       "output_type": "stream",
       "stream": "stdout",
       "text": [
        "\n",
        "[u'quesadillas']"
       ]
      },
      {
       "output_type": "stream",
       "stream": "stdout",
       "text": [
        "\n",
        "set([u'sacks', u'snack', u'stacks'])\n",
        "set([u'beverage'])\n",
        "set([u'fare', u'have', u'fate', u'face', u'cave', u'wave', u'dave', u'five', u'fade', u'save', u'fame', u'gave'])\n",
        "set([u'safi', u'aah', u'asia', u'asch', u'ash', u'ascii', u'ashy'])"
       ]
      },
      {
       "output_type": "stream",
       "stream": "stdout",
       "text": [
        "\n",
        "set([u'refrigerator'])"
       ]
      },
      {
       "output_type": "stream",
       "stream": "stdout",
       "text": [
        "\n",
        "set([u'asia'])\n",
        "[u'crossover']"
       ]
      },
      {
       "output_type": "stream",
       "stream": "stdout",
       "text": [
        "\n",
        "[u'kimchi.']"
       ]
      },
      {
       "output_type": "stream",
       "stream": "stdout",
       "text": [
        "\n",
        "set([u'specialized'])\n",
        "set([u'reviewed'])\n",
        "set([u'sacks', u'snack', u'stacks'])\n",
        "[u'six-pack']"
       ]
      },
      {
       "output_type": "stream",
       "stream": "stdout",
       "text": [
        "\n",
        "set([u'safi', u'aah', u'asia', u'asch', u'ash', u'ascii', u'ashy'])"
       ]
      },
      {
       "output_type": "stream",
       "stream": "stdout",
       "text": [
        "\n",
        "set([u'review'])\n",
        "set([u'got.', u'lots', u'lost.', u'lots.', u'log.', u'lot', u'clot.', u'cot.', u'hot.', u'not.'])\n",
        "set([u'comfortably.', u'comfortable'])\n",
        "set([u'max'])\n",
        "set([u'w.e.', u'a.e.', u'r.e.', u'i.h.', u'i.a.', u'ice.', u'g.e.', u'p.e.', u'e.e.', u'f.e.'])\n",
        "set([u'auditoriums'])\n",
        "set([u'beating.', u'sweating.', u'seating', u'eating.'])\n",
        "set([u'max'])\n",
        "set([u'max'])\n",
        "[u'comeback']"
       ]
      },
      {
       "output_type": "stream",
       "stream": "stdout",
       "text": [
        "\n",
        "[u'waffles.']"
       ]
      },
      {
       "output_type": "stream",
       "stream": "stdout",
       "text": [
        "\n",
        "set([u'mein', u'mucin', u'min', u'marin', u\"'in\", u'enfin', u'main'])"
       ]
      },
      {
       "output_type": "stream",
       "stream": "stdout",
       "text": [
        "\n",
        "[u'waffles.']"
       ]
      },
      {
       "output_type": "stream",
       "stream": "stdout",
       "text": [
        "\n",
        "set([u'ghent', u'hetty'])"
       ]
      },
      {
       "output_type": "stream",
       "stream": "stdout",
       "text": [
        "\n",
        "[u'no-nonsense']"
       ]
      },
      {
       "output_type": "stream",
       "stream": "stdout",
       "text": [
        "\n",
        "set([u'good', u'goods'])\n",
        "set([u'reasoning.'])\n",
        "set([u'baffled', u'wales'])"
       ]
      },
      {
       "output_type": "stream",
       "stream": "stdout",
       "text": [
        "\n",
        "set([u'baffled', u'wales'])"
       ]
      },
      {
       "output_type": "stream",
       "stream": "stdout",
       "text": [
        "\n",
        "set([u'maliciously', u'delicious'])"
       ]
      },
      {
       "output_type": "stream",
       "stream": "stdout",
       "text": [
        "\n",
        "set([u'crisply', u'crisp'])\n",
        "[u'cinammoness']"
       ]
      },
      {
       "output_type": "stream",
       "stream": "stdout",
       "text": [
        "\n",
        "set([u'boggy', u'bory', u'urge', u'oris', u'oral', u'roy', u'troy', u'gorge', u'horny', u'worry', u'ray', u'army', u'pray', u'orb', u'forty', u'only', u'prey', u'rosy', u'podgy', u'sorry', u'forgo', u'tory', u'oily', u'wry', u'orel', u'okay', u'obey', u'gory', u'forge', u'foggy', u'ord', u'ore', u'wordy', u'fray', u'dry', u'gray', u'organ', u'olga', u'cry', u'ogg', u'grey', u'lorry', u'try', u'tray', u'or', u'ores'])"
       ]
      },
      {
       "output_type": "stream",
       "stream": "stdout",
       "text": [
        "\n",
        "[u'kool-aid']"
       ]
      },
      {
       "output_type": "stream",
       "stream": "stdout",
       "text": [
        "\n",
        "set([u'solo'])\n",
        "set([u'drooping'])\n",
        "set([u'indoor', u'ardor', u'candor', u'anchor', u'andros'])"
       ]
      },
      {
       "output_type": "stream",
       "stream": "stdout",
       "text": [
        "\n",
        "[u'auditioned']"
       ]
      },
      {
       "output_type": "stream",
       "stream": "stdout",
       "text": [
        "\n",
        "set([u'vantage', u'mintage'])\n",
        "[u'bar/pub/eatery']"
       ]
      },
      {
       "output_type": "stream",
       "stream": "stdout",
       "text": [
        "\n",
        "set([u'vantage', u'mintage'])\n",
        "set([u'egged', u'begged', u'legged'])\n",
        "set([u'ideas.', u'idea.', u'ideals.', u'deal.', u'ideals', u'ideal'])\n",
        "set([u'drink.', u'drinks'])\n",
        "set([u'beverage'])\n",
        "[u'downtown']"
       ]
      },
      {
       "output_type": "stream",
       "stream": "stdout",
       "text": [
        "\n",
        "set([u'handle', u'handled', u'candles', u'chandelier', u'chanter', u'handley', u'candle'])"
       ]
      },
      {
       "output_type": "stream",
       "stream": "stdout",
       "text": [
        "\n",
        "set([u'lighting', u'fighting.', u'lightning.'])\n",
        "set([u'eaves.', u'leaves.', u'pieces.', u'nerves.', u'pelvis.', u'sleeves.', u'peeress.'])"
       ]
      },
      {
       "output_type": "stream",
       "stream": "stdout",
       "text": [
        "\n",
        "set([u'rural'])\n",
        "set([u'carrier', u'barrier.', u'carriers'])\n",
        "set([u'grant'])\n",
        "set([u'vantage', u'mintage'])\n",
        "set([u'ideas.', u'idea.', u'ideals.', u'deal.', u'ideals', u'ideal'])\n",
        "set([u'coaches', u'couched', u'touches', u'douches', u'pouches'])\n",
        "set([u'patriot', u'panic.', u'ratio', u'patron', u'ration', u'dato.', u'pain.', u'petit.', u'ration.', u'nation', u'nation.', u'paid.', u'paths.', u'patrol', u'paris.', u'path.', u'pathos', u'patriot.'])"
       ]
      },
      {
       "output_type": "stream",
       "stream": "stdout",
       "text": [
        "\n",
        "set([u'patriot', u'panic.', u'ratio', u'patron', u'ration', u'dato.', u'pain.', u'petit.', u'ration.', u'nation', u'nation.', u'paid.', u'paths.', u'patrol', u'paris.', u'path.', u'pathos', u'patriot.'])"
       ]
      },
      {
       "output_type": "stream",
       "stream": "stdout",
       "text": [
        "\n",
        "set([u'ratio'])\n",
        "[u'hangout']"
       ]
      },
      {
       "output_type": "stream",
       "stream": "stdout",
       "text": [
        "\n",
        "set([u'possesses', u'hostess'])"
       ]
      },
      {
       "output_type": "stream",
       "stream": "stdout",
       "text": [
        "\n",
        "set([u'initiate', u'intimate'])\n",
        "set([u'95'])\n",
        "set([u'advertise', u'advertised'])\n",
        "set([u'ooze.', u'boone.'])\n",
        "set([u'drinkers'])\n",
        "set([u'couches.', u'blotches.', u'stitches.'])"
       ]
      },
      {
       "output_type": "stream",
       "stream": "stdout",
       "text": [
        "\n",
        "[u'glenfiddich']"
       ]
      },
      {
       "output_type": "stream",
       "stream": "stdout",
       "text": [
        "\n",
        "[u'/glenlivit']"
       ]
      },
      {
       "output_type": "stream",
       "stream": "stdout",
       "text": [
        "\n",
        "[u'/glenmorangie']"
       ]
      },
      {
       "output_type": "stream",
       "stream": "stdout",
       "text": [
        "\n",
        "set([u'trim', u'rio', u'trip'])\n",
        "[u'ardbeg']"
       ]
      },
      {
       "output_type": "stream",
       "stream": "stdout",
       "text": [
        "\n",
        "set([u'prized', u'pricked', u'price', u'prices', u'prided', u'pried'])\n",
        "set([u'detail.', u'retail'])\n",
        "set([u'prized', u'pricked', u'price', u'prices', u'prided', u'pried'])\n",
        "set([u'restaurant'])\n",
        "set([u'martin'])\n",
        "set([u'airiness', u'dizziness'])"
       ]
      },
      {
       "output_type": "stream",
       "stream": "stdout",
       "text": [
        "\n",
        "set([u'olive', u'oliver', u'lives'])\n",
        "set([u'choice.', u'choicest'])\n",
        "[u'bruschetta']"
       ]
      },
      {
       "output_type": "stream",
       "stream": "stdout",
       "text": [
        "\n",
        "set([u'issue.', u'tissue.'])"
       ]
      },
      {
       "output_type": "stream",
       "stream": "stdout",
       "text": [
        "\n",
        "[u'bruschetta']"
       ]
      },
      {
       "output_type": "stream",
       "stream": "stdout",
       "text": [
        "\n",
        "set([u'choicest', u'choice'])\n",
        "[u'bruschetta']"
       ]
      },
      {
       "output_type": "stream",
       "stream": "stdout",
       "text": [
        "\n",
        "set([u'planter', u'patter', u'flatter', u'plaster', u'clatter', u'latter'])\n",
        "[u'pancetta']"
       ]
      },
      {
       "output_type": "stream",
       "stream": "stdout",
       "text": [
        "\n",
        "[u'gravlax']"
       ]
      },
      {
       "output_type": "stream",
       "stream": "stdout",
       "text": [
        "\n",
        "set([u'unions', u'onion'])\n",
        "set([u'chimney', u'churned', u'whitney'])"
       ]
      },
      {
       "output_type": "stream",
       "stream": "stdout",
       "text": [
        "\n",
        "[u'ricotta']"
       ]
      },
      {
       "output_type": "stream",
       "stream": "stdout",
       "text": [
        "\n",
        "[u'prosciutto']"
       ]
      },
      {
       "output_type": "stream",
       "stream": "stdout",
       "text": [
        "\n",
        "set([u'brief', u'bride', u'brim', u'bribe', u'erie', u'brig'])\n",
        "set([u'dam.', u'jam', u'jaw.', u'am.'])\n",
        "set([u'sided', u'size', u'seized', u'sizes'])\n",
        "set([u'favors', u'flavor'])\n",
        "set([u'crisply', u'crisp'])\n",
        "set([u'brusque', u'mosque', u'casque', u'barque', u'tissue', u'issue'])"
       ]
      },
      {
       "output_type": "stream",
       "stream": "stdout",
       "text": [
        "\n",
        "set([u'smoke'])\n",
        "[u'well-balanced']"
       ]
      },
      {
       "output_type": "stream",
       "stream": "stdout",
       "text": [
        "\n",
        "set([u'flavor', u'favor.'])\n",
        "set([u'warn', u'earn', u'dan', u'yarn', u'dart', u'dark', u'damn', u'dawn', u'dare', u'barn'])\n",
        "set([u'delirious.', u'delicious'])\n",
        "[u'appetizers']"
       ]
      },
      {
       "output_type": "stream",
       "stream": "stdout",
       "text": [
        "\n",
        "set([u'vantage', u'mintage'])\n",
        "set([u'burgher'])\n",
        "set([u'dries', u'furies', u'frees', u'flies', u'tries', u'cries', u'fires', u'frise', u'fried'])\n",
        "set([u'seasoned'])\n",
        "set([u'burgher'])\n",
        "set([u'taste.'])\n",
        "set([u'bin', u'buy', u'run', u'sun', u'burn', u'gun', u'but', u'nun', u'fun', u'un', u'bunt', u'bus', u'ban', u'ben', u'bug', u'bud'])\n",
        "set([u'fixing'])\n",
        "set([u'taste.'])\n",
        "set([u'dim', u'dine', u'dice', u'die', u'dive', u'dome', u'dire', u'time', u'aime', u'dame', u'lime'])\n",
        "set([u'desert.', u'dessert'])\n",
        "set([u'tore'])\n",
        "[u'hazelnut']"
       ]
      },
      {
       "output_type": "stream",
       "stream": "stdout",
       "text": [
        "\n",
        "set([u'relate', u'plato', u'gelatin'])"
       ]
      },
      {
       "output_type": "stream",
       "stream": "stdout",
       "text": [
        "\n",
        "set([u'carrel', u'camel'])\n",
        "set([u'crime'])\n",
        "set([u'france'])"
       ]
      },
      {
       "output_type": "stream",
       "stream": "stdout",
       "text": [
        "\n",
        "set([u'relate', u'plato', u'gelatin'])"
       ]
      },
      {
       "output_type": "stream",
       "stream": "stdout",
       "text": [
        "\n",
        "[u'allergic']"
       ]
      },
      {
       "output_type": "stream",
       "stream": "stdout",
       "text": [
        "\n",
        "[u'hazelnut']"
       ]
      },
      {
       "output_type": "stream",
       "stream": "stdout",
       "text": [
        "\n",
        "set([u'dessert', u'deserts'])\n",
        "set([u'tie.', u'pit.', u'lie.', u'pie', u'pig.', u'die.', u'pipe.', u'pile.', u'pier', u'pies'])\n",
        "set([u'sample', u'samples'])\n",
        "set([u'pasty', u'paltry', u'pantry'])\n",
        "set([u'cured'])\n",
        "set([u'musty', u'bushy'])\n",
        "[u'cinnamon']"
       ]
      },
      {
       "output_type": "stream",
       "stream": "stdout",
       "text": [
        "\n",
        "set([u'twirled'])\n",
        "set([u'halted', u'saluted', u'salter'])\n",
        "set([u'dole'])\n",
        "set([u'lech.'])\n",
        "set([u'pasty', u'taste', u'nasty', u'hasty'])\n",
        "set([u'crime'])\n",
        "set([u'france'])"
       ]
      },
      {
       "output_type": "stream",
       "stream": "stdout",
       "text": [
        "\n",
        "set([u'relate', u'plato', u'gelatin'])"
       ]
      },
      {
       "output_type": "stream",
       "stream": "stdout",
       "text": [
        "\n",
        "[u'hazelnut']"
       ]
      },
      {
       "output_type": "stream",
       "stream": "stdout",
       "text": [
        "\n",
        "set([u'gelatin'])"
       ]
      },
      {
       "output_type": "stream",
       "stream": "stdout",
       "text": [
        "\n",
        "[u'hazelnut']"
       ]
      },
      {
       "output_type": "stream",
       "stream": "stdout",
       "text": [
        "\n",
        "set([u\"didn't\"])\n",
        "set([u'gain'])\n",
        "[u'allergic.']"
       ]
      },
      {
       "output_type": "stream",
       "stream": "stdout",
       "text": [
        "\n",
        "set([u'buds', u'quos', u'judas', u'tudor'])"
       ]
      },
      {
       "output_type": "stream",
       "stream": "stdout",
       "text": [
        "\n",
        "set([u'gain'])\n",
        "set([u'definitely'])\n",
        "set([u'pp', u'asp', u'rapp', u'apt', u'amp', u'ape'])\n",
        "set([u'entrez'])\n",
        "set([u'panic.', u'pains.', u'panins', u'pain.', u'pacing.', u'paint.'])"
       ]
      },
      {
       "output_type": "stream",
       "stream": "stdout",
       "text": [
        "\n",
        "[u'waitress/bartender/hostesses']"
       ]
      },
      {
       "output_type": "stream",
       "stream": "stdout",
       "text": [
        "\n",
        "set([u'wider', u'ryder'])\n",
        "[u'strongbow']"
       ]
      },
      {
       "output_type": "stream",
       "stream": "stdout",
       "text": [
        "\n",
        "[u\"wyder's.\"]"
       ]
      },
      {
       "output_type": "stream",
       "stream": "stdout",
       "text": [
        "\n",
        "[u'strongbow.']"
       ]
      },
      {
       "output_type": "stream",
       "stream": "stdout",
       "text": [
        "\n",
        "set([u'paddington'])"
       ]
      },
      {
       "output_type": "stream",
       "stream": "stdout",
       "text": [
        "\n",
        "[u'strongbow']"
       ]
      },
      {
       "output_type": "stream",
       "stream": "stdout",
       "text": [
        "\n",
        "set([u'restaurant'])\n",
        "set([u'beams', u'beam'])"
       ]
      },
      {
       "output_type": "stream",
       "stream": "stdout",
       "text": [
        "\n",
        "set([u'apt.', u'rapp.', u'pp.'])\n",
        "set([u'entrez'])\n",
        "set([u'pp', u'asp', u'rapp', u'apt', u'amp', u'ape'])\n",
        "set([u'entrez'])\n",
        "set([u'actress', u'witness', u'mattress'])"
       ]
      },
      {
       "output_type": "stream",
       "stream": "stdout",
       "text": [
        "\n",
        "set([u'testing'])\n",
        "set([u'indoor', u'ardor', u'candor', u'anchor', u'andros'])"
       ]
      },
      {
       "output_type": "stream",
       "stream": "stdout",
       "text": [
        "\n",
        "[u'long-run']"
       ]
      },
      {
       "output_type": "stream",
       "stream": "stdout",
       "text": [
        "\n",
        "set([u'taste.'])\n",
        "set([u'maize'])\n",
        "set([u'maize'])\n",
        "set([u'pasty', u'past', u'paste'])\n",
        "set([u'carbonate'])"
       ]
      },
      {
       "output_type": "stream",
       "stream": "stdout",
       "text": [
        "\n",
        "[u'tiramisu']"
       ]
      },
      {
       "output_type": "stream",
       "stream": "stdout",
       "text": [
        "\n",
        "set([u'thought', u'thought.', u'though', u'trough.', u'thwough.', u'through.'])\n",
        "[u'calamari']"
       ]
      },
      {
       "output_type": "stream",
       "stream": "stdout",
       "text": [
        "\n",
        "set([u'tried.', u'cried.', u'fired.', u'fried', u'friend.'])\n",
        "set([u'tomato', u'potatoes'])"
       ]
      },
      {
       "output_type": "stream",
       "stream": "stdout",
       "text": [
        "\n",
        "set([u'freshness', u'freest'])"
       ]
      },
      {
       "output_type": "stream",
       "stream": "stdout",
       "text": [
        "\n",
        "set([u'nom', u'mop', u'mot', u'mmm', u'mon', u'tom', u'mob'])\n",
        "set([u'lighted.', u'slighted'])\n",
        "[u'out-of-town']"
       ]
      },
      {
       "output_type": "stream",
       "stream": "stdout",
       "text": [
        "\n",
        "set([u'empress.', u'impress'])\n",
        "set([u'on', u'non', u'john', u'jot', u'yon', u'hon', u'joy', u'von', u'son', u'jan', u'ion', u'job', u'won', u'ton', u'mon', u'join', u'con', u'joan', u'don', u'joe'])\n",
        "set([u'organizer', u'organize', u'organized'])\n",
        "set([u'wasting', u'fasting', u'testing', u'casting', u'lasting'])\n",
        "set([u'sailing', u'wailing', u'failing', u'tailing', u'railing', u'ailing'])\n",
        "[u'facebook']"
       ]
      },
      {
       "output_type": "stream",
       "stream": "stdout",
       "text": [
        "\n",
        "set([u'workers'])"
       ]
      },
      {
       "output_type": "stream",
       "stream": "stdout",
       "text": [
        "\n",
        "set([u'punch.', u'lunch'])\n",
        "set([u'11', u'ram', u'ham', u'sam', u'swam', u'dam', u'guam', u'adam', u'am', u'roam', u'beam', u'jam', u'gram', u'team', u'dram', u'siam', u'sham', u'slam', u'11th', u'foam', u'exam'])"
       ]
      },
      {
       "output_type": "stream",
       "stream": "stdout",
       "text": [
        "\n",
        "[u'weekdays']"
       ]
      },
      {
       "output_type": "stream",
       "stream": "stdout",
       "text": [
        "\n",
        "[u'metrocenter.']"
       ]
      },
      {
       "output_type": "stream",
       "stream": "stdout",
       "text": [
        "\n",
        "set([u'delhi', u'del'])\n",
        "set([u'sandwiched'])\n",
        "set([u'turkey.'])"
       ]
      },
      {
       "output_type": "stream",
       "stream": "stdout",
       "text": [
        "\n",
        "set([u'cashier'])\n",
        "set([u'ships.', u'chips', u'whips.', u'chaps.'])\n",
        "set([u'barrington', u'darlington'])"
       ]
      },
      {
       "output_type": "stream",
       "stream": "stdout",
       "text": [
        "\n",
        "set([u'barrington', u'darlington'])"
       ]
      },
      {
       "output_type": "stream",
       "stream": "stdout",
       "text": [
        "\n",
        "[u'buying/putting']"
       ]
      },
      {
       "output_type": "stream",
       "stream": "stdout",
       "text": [
        "\n",
        "[u'layaway.']"
       ]
      },
      {
       "output_type": "stream",
       "stream": "stdout",
       "text": [
        "\n",
        "set([u'missed.', u'passed.', u'kissed.'])\n",
        "set([u'type', u'hyde', u'hope'])\n",
        "[u'margaritaville']"
       ]
      },
      {
       "output_type": "stream",
       "stream": "stdout",
       "text": [
        "\n",
        "[u'margaritas']"
       ]
      },
      {
       "output_type": "stream",
       "stream": "stdout",
       "text": [
        "\n",
        "[u'cheeseburgers.']"
       ]
      },
      {
       "output_type": "stream",
       "stream": "stdout",
       "text": [
        "\n",
        "[u'underwhelmed']"
       ]
      },
      {
       "output_type": "stream",
       "stream": "stdout",
       "text": [
        "\n",
        "set([u'burgher'])\n",
        "set([u'warehouse', u'farmhouse', u'guardhouse'])"
       ]
      },
      {
       "output_type": "stream",
       "stream": "stdout",
       "text": [
        "\n",
        "[u'margaritas']"
       ]
      },
      {
       "output_type": "stream",
       "stream": "stdout",
       "text": [
        "\n",
        "set([u'salt', u'sally', u'salts'])\n",
        "[u'senorita.']"
       ]
      },
      {
       "output_type": "stream",
       "stream": "stdout",
       "text": [
        "\n",
        "set([u'booth', u'boots'])\n",
        "set([u'sector', u'defer', u'deck', u'tenor', u'deer', u'fedor', u'rector', u'dear', u'recur', u'decay', u'decorum', u'donor', u'depot', u'decks', u'door', u'demon', u'detour', u'deter', u'devour', u'senor', u'debtor', u'cor', u'defoe', u'der', u'doctor', u'deacon', u'record', u'vector', u'dec'])"
       ]
      },
      {
       "output_type": "stream",
       "stream": "stdout",
       "text": [
        "\n",
        "[u'parrothead']"
       ]
      },
      {
       "output_type": "stream",
       "stream": "stdout",
       "text": [
        "\n",
        "set([u'v', u'ty', u'tt', u'tu', u'iv', u'to', u't', u'th', u'ti', u'te', u'xv', u'ta'])\n",
        "set([u'montague', u'cottages', u'mortgages', u'portages', u'manages', u'mintage', u'montagu'])"
       ]
      },
      {
       "output_type": "stream",
       "stream": "stdout",
       "text": [
        "\n",
        "[u'parrothead']"
       ]
      },
      {
       "output_type": "stream",
       "stream": "stdout",
       "text": [
        "\n",
        "set([u'outing.'])\n",
        "set([u'23'])\n",
        "set([u'shakes', u'shaken', u'shake'])\n",
        "set([u'actress', u'witness', u'mattress'])"
       ]
      },
      {
       "output_type": "stream",
       "stream": "stdout",
       "text": [
        "\n",
        "set([u'knees', u'kneel'])\n",
        "set([u'respectful'])\n",
        "set([u'actress', u'witness', u'mattress'])"
       ]
      },
      {
       "output_type": "stream",
       "stream": "stdout",
       "text": [
        "\n",
        "set([u'audience', u'absence'])"
       ]
      },
      {
       "output_type": "stream",
       "stream": "stdout",
       "text": [
        "\n",
        "set([u'codes', u'cover', u'covers', u'loves', u'moves', u'comes'])\n",
        "set([u'sealed.', u'stated.', u'seated'])\n",
        "set([u'daytime'])"
       ]
      },
      {
       "output_type": "stream",
       "stream": "stdout",
       "text": [
        "\n",
        "[u'stool-we']"
       ]
      },
      {
       "output_type": "stream",
       "stream": "stdout",
       "text": [
        "\n",
        "set([u'repelled', u'refill', u'recalled', u'defiled', u'refined', u'refolded', u'filled'])"
       ]
      },
      {
       "output_type": "stream",
       "stream": "stdout",
       "text": [
        "\n",
        "set([u'refill', u'refills.'])\n",
        "set([u'295', u'25', u'92', u'95'])"
       ]
      },
      {
       "output_type": "stream",
       "stream": "stdout",
       "text": [
        "\n",
        "[u'bartender']"
       ]
      },
      {
       "output_type": "stream",
       "stream": "stdout",
       "text": [
        "\n",
        "[u'hmmmmm.']"
       ]
      },
      {
       "output_type": "stream",
       "stream": "stdout",
       "text": [
        "\n",
        "set([u'actress', u'witness', u'mattress'])"
       ]
      },
      {
       "output_type": "stream",
       "stream": "stdout",
       "text": [
        "\n",
        "[u'hmmmmmm']"
       ]
      },
      {
       "output_type": "stream",
       "stream": "stdout",
       "text": [
        "\n",
        "set([u'camped', u'cooped', u'compel', u'combed'])\n",
        "[u'life-changing']"
       ]
      },
      {
       "output_type": "stream",
       "stream": "stdout",
       "text": [
        "\n",
        "set([u'christ'])\n",
        "set([u'amuses', u'caucuses', u'causes'])"
       ]
      },
      {
       "output_type": "stream",
       "stream": "stdout",
       "text": [
        "\n",
        "set([u'temps', u'tempt', u'temple', u'temper'])\n",
        "set([u'case', u'cast', u'cash', u'cava'])\n",
        "set([u'gray', u'grady', u'grave'])\n",
        "set([u'webster'])"
       ]
      },
      {
       "output_type": "stream",
       "stream": "stdout",
       "text": [
        "\n",
        "set([u'catalogue'])"
       ]
      },
      {
       "output_type": "stream",
       "stream": "stdout",
       "text": [
        "\n",
        "[u'colors/design.']"
       ]
      },
      {
       "output_type": "stream",
       "stream": "stdout",
       "text": [
        "\n",
        "[u'alphagraphics']"
       ]
      },
      {
       "output_type": "stream",
       "stream": "stdout",
       "text": [
        "\n",
        "set([u'resigning'])\n",
        "set([u'program.', u'programs'])\n",
        "[u'booklet-style']"
       ]
      },
      {
       "output_type": "stream",
       "stream": "stdout",
       "text": [
        "\n",
        "[u'creativity']"
       ]
      },
      {
       "output_type": "stream",
       "stream": "stdout",
       "text": [
        "\n",
        "[u'alphagraphics']"
       ]
      },
      {
       "output_type": "stream",
       "stream": "stdout",
       "text": [
        "\n",
        "set([u'wailed', u'failed', u'hailed', u'railed', u'sailed', u'jailed'])\n",
        "[u'alphagraphics']"
       ]
      },
      {
       "output_type": "stream",
       "stream": "stdout",
       "text": [
        "\n",
        "set([u'invitation.', u'invitations'])\n",
        "set([u'cellar', u'stellate', u'seller'])"
       ]
      },
      {
       "output_type": "stream",
       "stream": "stdout",
       "text": [
        "\n",
        "[u'vietnamese']"
       ]
      },
      {
       "output_type": "stream",
       "stream": "stdout",
       "text": [
        "\n",
        "set([u'graves', u'crates'])\n",
        "set([u'pro', u'oho', u'po', u'who', u'ho'])\n",
        "set([u'node', u'noble', u'needle', u'nodule', u'goodly', u'goodge', u'noose'])"
       ]
      },
      {
       "output_type": "stream",
       "stream": "stdout",
       "text": [
        "\n",
        "set([u'pro', u'oho', u'po', u'who', u'ho'])\n",
        "set([u'pro', u'oho', u'po', u'who', u'ho'])\n",
        "set([u'taxi', u'tat', u'tap', u'tar', u'ai', u'tax', u'tail', u'toi', u'ti', u'tag', u'ta'])\n",
        "set([u'ni', u'xi', u'ai', u'vi', u'i.', u'mi', u'.f', u'.', u'ii', u'i', u'si', u'hi', u'ti', u'li'])\n",
        "set([u'sector', u'defer', u'deck', u'tenor', u'deer', u'fedor', u'rector', u'dear', u'recur', u'decay', u'decorum', u'donor', u'depot', u'decks', u'door', u'demon', u'detour', u'deter', u'devour', u'senor', u'debtor', u'cor', u'defoe', u'der', u'doctor', u'deacon', u'record', u'vector', u'dec'])"
       ]
      },
      {
       "output_type": "stream",
       "stream": "stdout",
       "text": [
        "\n",
        "set([u'photo'])\n",
        "set([u'vienna.'])"
       ]
      },
      {
       "output_type": "stream",
       "stream": "stdout",
       "text": [
        "\n",
        "set([u'pro', u'oho', u'po', u'who', u'ho'])\n",
        "set([u'likes'])\n",
        "set([u'customer', u'customers'])\n",
        "[u'piccola']"
       ]
      },
      {
       "output_type": "stream",
       "stream": "stdout",
       "text": [
        "\n",
        "set([u'curing', u'lucia', u'china', u'mucin'])"
       ]
      },
      {
       "output_type": "stream",
       "stream": "stdout",
       "text": [
        "\n",
        "set([u'appetite'])"
       ]
      },
      {
       "output_type": "stream",
       "stream": "stdout",
       "text": [
        "\n",
        "set([u'ami', u'ali', u'ai', u'chi', u'hi', u'ah'])\n",
        "set([u'tula', u'tune'])\n",
        "set([u'option'])\n",
        "set([u'overlooked'])"
       ]
      },
      {
       "output_type": "stream",
       "stream": "stdout",
       "text": [
        "\n",
        "set([u'chicken', u'chickens.', u'chickens'])\n",
        "set([u'reviews', u'revelers', u'reviewed'])"
       ]
      },
      {
       "output_type": "stream",
       "stream": "stdout",
       "text": [
        "\n",
        "set([u'customer', u'customers'])\n",
        "set([u'pick'])\n",
        "set([u'shores'])\n",
        "set([u'tar.', u'tags', u'tax.', u'wag.', u'rag.', u'tag', u'nag.', u'bag.', u'tug.', u'tap.'])\n",
        "set([u'impulse'])\n",
        "set([u'buds', u'bus', u'buy', u'busy', u'boys'])\n",
        "set([u'acute', u'cut', u'bute', u'mute', u'cure', u'cuts', u'cite'])\n",
        "set([u'coley', u'comedy', u'comte', u'copy', u'combs', u'condy', u'tommy', u'comme', u'comes', u'comely', u'comma', u'cosy', u'coman', u'coma', u'comet', u'comic', u'comb', u'come', u'comply', u'cody'])"
       ]
      },
      {
       "output_type": "stream",
       "stream": "stdout",
       "text": [
        "\n",
        "set([u'branch', u'bunch'])\n",
        "set([u'brooch'])"
       ]
      },
      {
       "output_type": "stream",
       "stream": "stdout",
       "text": [
        "\n",
        "set([u'softer', u'soften'])"
       ]
      },
      {
       "output_type": "stream",
       "stream": "stdout",
       "text": [
        "\n",
        "set([u'welcoming'])\n",
        "set([u'bushes', u'busied', u'business', u'bulkiest', u'busier', u'easiest'])"
       ]
      },
      {
       "output_type": "stream",
       "stream": "stdout",
       "text": [
        "\n",
        "set([u'mothers'])\n",
        "[u'assortment']"
       ]
      },
      {
       "output_type": "stream",
       "stream": "stdout",
       "text": [
        "\n",
        "set([u'pancake'])\n",
        "set([u'taste.'])\n",
        "set([u'eaters', u'bearers'])\n",
        "[u'non-starch']"
       ]
      },
      {
       "output_type": "stream",
       "stream": "stdout",
       "text": [
        "\n",
        "set([u'potatoes.'])"
       ]
      },
      {
       "output_type": "stream",
       "stream": "stdout",
       "text": [
        "\n",
        "set([u'tricky', u'rocky', u'risky'])\n",
        "[u'huevos']"
       ]
      },
      {
       "output_type": "stream",
       "stream": "stdout",
       "text": [
        "\n",
        "set([u'ranchers'])\n",
        "set([u'filling', u'willings'])\n",
        "set([u'additions'])\n",
        "set([u'pans', u'penns', u'pens', u'peaks', u'evans', u'means', u'ricans', u'jeans', u'texans', u'peons', u'peas', u'decays', u'beans', u'peals', u'plans'])"
       ]
      },
      {
       "output_type": "stream",
       "stream": "stdout",
       "text": [
        "\n",
        "set([u'banana'])\n",
        "set([u'ratio'])\n",
        "set([u'sisters', u'masters', u'mister'])\n",
        "[u'boutique']"
       ]
      },
      {
       "output_type": "stream",
       "stream": "stdout",
       "text": [
        "\n",
        "[u'scottsdale']"
       ]
      },
      {
       "output_type": "stream",
       "stream": "stdout",
       "text": [
        "\n",
        "[u'vignettes']"
       ]
      },
      {
       "output_type": "stream",
       "stream": "stdout",
       "text": [
        "\n",
        "[u'quandary']"
       ]
      },
      {
       "output_type": "stream",
       "stream": "stdout",
       "text": [
        "\n",
        "set([u'specially'])\n",
        "set([u'salt.', u'sole.', u'safe.', u'dale.', u'sale', u'sales', u'sake.', u'sable.', u'pale.', u'salem', u'same.', u'tale.', u'scale.'])\n",
        "set([u'find.', u'minds.', u'kinds.', u'funds.', u'finds'])\n",
        "set([u'sailing', u'wailing', u'failing', u'tailing', u'railing', u'ailing'])\n",
        "set([u'restaurant'])\n",
        "[u'enchiladas.']"
       ]
      },
      {
       "output_type": "stream",
       "stream": "stdout",
       "text": [
        "\n",
        "set([u'salol', u'solfa', u'salon', u'samoa', u'palsy', u'alba', u'pals', u'sales', u'salve', u'seals', u'talma', u'salem', u'sacs', u'false', u'salts', u'scala', u'malta', u'also', u'slash', u'sails', u'salle', u'says', u'silas', u'sasha', u'sila', u'alas', u'santa', u'salut', u'sally', u'alma', u'balsam', u'sans', u'salad', u'saws', u'saliva', u'sale', u'valse', u'salt', u'sash', u'mala'])"
       ]
      },
      {
       "output_type": "stream",
       "stream": "stdout",
       "text": [
        "\n",
        "set([u'pasty', u'taste', u'nasty', u'hasty'])\n",
        "set([u'timely'])\n",
        "set([u'weekend'])\n",
        "set([u'branch', u'bunch'])\n",
        "set([u'branch', u'bunch'])\n",
        "set([u'weekend'])\n",
        "set([u'items', u'item.'])\n",
        "set([u'branch', u'bunch'])\n",
        "set([u'branch', u'bunch'])\n",
        "set([u'mars', u'marya', u'mary', u'marks'])"
       ]
      },
      {
       "output_type": "stream",
       "stream": "stdout",
       "text": [
        "\n",
        "set([u'ferries'])\n",
        "set([u'syrupy'])\n",
        "set([u'branch', u'bunch'])\n",
        "set([u'agree.', u'agreed'])\n",
        "[u'cornflakes.']"
       ]
      },
      {
       "output_type": "stream",
       "stream": "stdout",
       "text": [
        "\n",
        "set([u'yuma', u'sum.', u'hum.', u'rum.'])\n",
        "set([u'mars', u'marya', u'mary', u'marks'])\n",
        "set([u'phenomena'])\n",
        "[u\"dick's/rokerij.\"]"
       ]
      },
      {
       "output_type": "stream",
       "stream": "stdout",
       "text": [
        "\n",
        "set([u'king', u'dung', u'lung', u'rung', u'hung', u'sung'])\n",
        "set([u'par', u'pas', u'pat', u'paw', u'pay', u'pro', u'pa', u'pad', u'pago', u'pal', u'po', u'pan'])\n",
        "set([u'weedy', u'weekly'])"
       ]
      },
      {
       "output_type": "stream",
       "stream": "stdout",
       "text": [
        "\n",
        "set([u'priding', u'prizing', u'pricking'])\n",
        "set([u'mmm'])\n",
        "set([u'gone', u'gong', u'boon', u'groan', u'gown', u'noon', u'soon', u'goot', u'goose', u'good', u'going', u'donna', u'boone', u'goods', u'voyna', u'soyna', u'gowns', u'genoa', u'moon'])"
       ]
      },
      {
       "output_type": "stream",
       "stream": "stdout",
       "text": [
        "\n",
        "set([u'gibe', u'vive', u'vile', u'vie', u'vice', u'vine', u'vise'])\n",
        "set([u'excluding', u'ending', u'exulting', u'excusing', u'eroding', u'deluding'])"
       ]
      },
      {
       "output_type": "stream",
       "stream": "stdout",
       "text": [
        "\n",
        "[u'awesomeness.']"
       ]
      },
      {
       "output_type": "stream",
       "stream": "stdout",
       "text": [
        "\n",
        "set([u'reminiscence'])"
       ]
      },
      {
       "output_type": "stream",
       "stream": "stdout",
       "text": [
        "\n",
        "set([u'trend'])\n",
        "set([u'sister', u'lister', u'mister'])"
       ]
      },
      {
       "output_type": "stream",
       "stream": "stdout",
       "text": [
        "\n",
        "set([u'began'])\n",
        "set([u'restaurant'])\n",
        "[u'pescatarian']"
       ]
      },
      {
       "output_type": "stream",
       "stream": "stdout",
       "text": [
        "\n",
        "[u'seafood']"
       ]
      },
      {
       "output_type": "stream",
       "stream": "stdout",
       "text": [
        "\n",
        "set([u'sauce', u'fauces', u'saucer'])\n",
        "set([u'ingredient'])"
       ]
      },
      {
       "output_type": "stream",
       "stream": "stdout",
       "text": [
        "\n",
        "[u'*artichoke']"
       ]
      },
      {
       "output_type": "stream",
       "stream": "stdout",
       "text": [
        "\n",
        "set([u'grating'])\n",
        "set([u'halted', u'saluted', u'salter'])\n",
        "set([u'crisp'])\n",
        "set([u'garlic'])"
       ]
      },
      {
       "output_type": "stream",
       "stream": "stdout",
       "text": [
        "\n",
        "set([u'funny', u'sunny'])\n",
        "set([u'solo', u'sole.', u'sold.'])\n",
        "set([u'spice'])"
       ]
      },
      {
       "output_type": "stream",
       "stream": "stdout",
       "text": [
        "\n",
        "set([u'lest', u'lewis', u'digit', u'merit', u'least', u'git', u'lenity', u'legion', u'legal', u'lit', u'exit', u'debit', u'legs', u'beget', u'begin', u'leg', u'petit', u'levi', u'leapt', u'let', u'lent', u'edit', u'light', u'relit', u'limit', u'logic', u'login', u'emit', u'left'])"
       ]
      },
      {
       "output_type": "stream",
       "stream": "stdout",
       "text": [
        "\n",
        "set([u'species.'])"
       ]
      },
      {
       "output_type": "stream",
       "stream": "stdout",
       "text": [
        "\n",
        "set([u'favored'])\n",
        "set([u'overpowered'])"
       ]
      },
      {
       "output_type": "stream",
       "stream": "stdout",
       "text": [
        "\n",
        "set([u'began'])"
       ]
      },
      {
       "output_type": "stream",
       "stream": "stdout",
       "text": [
        "\n",
        "set([u'chill', u'chile', u'child'])\n",
        "set([u'dries', u'furies', u'frees', u'flies', u'tries', u'cries', u'fires', u'frise', u'fried'])\n",
        "set([u'dries', u'furies', u'frees', u'flies', u'tries', u'cries', u'fires', u'frise', u'fried'])\n",
        "set([u'taste.'])\n",
        "set([u'chill', u'chile', u'child'])\n",
        "set([u'flavor', u'favor.'])\n",
        "set([u'chill', u'chile', u'child'])\n",
        "set([u'ham', u'hum', u'mmm', u'hm', u'hem', u'him'])\n",
        "set([u'theme', u'rhyme'])\n",
        "set([u'cries.', u'fires.'])\n",
        "set([u'crab'])\n",
        "set([u'chill', u'chile', u'child'])\n",
        "set([u'burdino', u'burri'])"
       ]
      },
      {
       "output_type": "stream",
       "stream": "stdout",
       "text": [
        "\n",
        "set([u'huge', u'hue.'])\n",
        "set([u'option'])\n",
        "set([u'carry', u'furry', u'hurry', u'curly'])\n",
        "set([u'pasty', u'past', u'paste'])\n",
        "set([u'mmm', u'mm.'])\n",
        "set([u'sandwiched'])\n",
        "[u'pizzas']"
       ]
      },
      {
       "output_type": "stream",
       "stream": "stdout",
       "text": [
        "\n",
        "set([u'salad'])\n",
        "set([u'taft', u'tone', u'toss', u'tu', u'tons', u'tafa', u'toys', u'tony', u'tore', u'toy', u'tuft', u'top', u'torn', u'tow', u'to', u'toi', u'ton', u'too', u'tom', u'you', u'tory', u'toe', u'toes', u'tool', u'toll', u'tops', u'took', u'ou', u'town', u'off', u'thou', u'sofa', u'tour', u'tout', u'oft', u'of', u'toil', u'tomb', u'told', u'soft'])"
       ]
      },
      {
       "output_type": "stream",
       "stream": "stdout",
       "text": [
        "\n",
        "[u'seafood']"
       ]
      },
      {
       "output_type": "stream",
       "stream": "stdout",
       "text": [
        "\n",
        "set([u'maggie', u'verge'])"
       ]
      },
      {
       "output_type": "stream",
       "stream": "stdout",
       "text": [
        "\n",
        "[u'rokerij']"
       ]
      },
      {
       "output_type": "stream",
       "stream": "stdout",
       "text": [
        "\n",
        "set([u'type.', u'hope.'])\n",
        "[u'awesome.']"
       ]
      },
      {
       "output_type": "stream",
       "stream": "stdout",
       "text": [
        "\n",
        "set([u'wife'])\n",
        "set([u'wanted'])\n",
        "set([u'entrez'])\n",
        "[u'apple/chipotle']"
       ]
      },
      {
       "output_type": "stream",
       "stream": "stdout",
       "text": [
        "\n",
        "set([u'chimney', u'churned', u'whitney'])"
       ]
      },
      {
       "output_type": "stream",
       "stream": "stdout",
       "text": [
        "\n",
        "set([u'mimi', u'mint', u'mind', u'mine', u'min'])\n",
        "set([u'crisply', u'crisp'])\n",
        "[u'calamari']"
       ]
      },
      {
       "output_type": "stream",
       "stream": "stdout",
       "text": [
        "\n",
        "[u'cilantro']"
       ]
      },
      {
       "output_type": "stream",
       "stream": "stdout",
       "text": [
        "\n",
        "set([u'trilled', u'drilled'])\n",
        "set([u'shrimp'])\n",
        "[u'awesome.']"
       ]
      },
      {
       "output_type": "stream",
       "stream": "stdout",
       "text": [
        "\n",
        "set([u'chimney', u'churned', u'whitney'])"
       ]
      },
      {
       "output_type": "stream",
       "stream": "stdout",
       "text": [
        "\n",
        "set([u'cries.', u'fires.'])\n",
        "[u'calamari']"
       ]
      },
      {
       "output_type": "stream",
       "stream": "stdout",
       "text": [
        "\n",
        "[u'awesome']"
       ]
      },
      {
       "output_type": "stream",
       "stream": "stdout",
       "text": [
        "\n",
        "set([u'me', u'med', u'meg', u'eh', u'men', u'met', u'mesh', u'heh'])\n",
        "set([u'mimi', u'mint', u'mind', u'mine', u'min'])\n",
        "set([u'reuben'])\n",
        "set([u'logs', u'yore', u'yea', u'hogs', u'your', u'yon', u'noma', u'log', u'rosa', u'nova', u'fog', u'you', u'olga', u'dogs', u'yuma', u'iowa', u'oka', u'dogma', u'myoma', u'dora', u'york', u'boa', u'coma', u'ogg', u'coxa', u'foka', u'fogs', u'cogs', u'sofa', u'dog', u'iota', u'volga', u'soda', u'yoke'])"
       ]
      },
      {
       "output_type": "stream",
       "stream": "stdout",
       "text": [
        "\n",
        "set([u'temps', u'tempt', u'temple', u'temper'])\n",
        "set([u'glassy', u'class'])\n",
        "[u'mind-body']"
       ]
      },
      {
       "output_type": "stream",
       "stream": "stdout",
       "text": [
        "\n",
        "set([u'mustaches', u'mustache', u'mustached'])"
       ]
      },
      {
       "output_type": "stream",
       "stream": "stdout",
       "text": [
        "\n",
        "set([u'logs', u'yore', u'yea', u'hogs', u'your', u'yon', u'noma', u'log', u'rosa', u'nova', u'fog', u'you', u'olga', u'dogs', u'yuma', u'iowa', u'oka', u'dogma', u'myoma', u'dora', u'york', u'boa', u'coma', u'ogg', u'coxa', u'foka', u'fogs', u'cogs', u'sofa', u'dog', u'iota', u'volga', u'soda', u'yoke'])"
       ]
      },
      {
       "output_type": "stream",
       "stream": "stdout",
       "text": [
        "\n",
        "set([u'ass', u'asp', u'as', u'au', u'ask', u'ash'])\n",
        "set([u'grm', u'gum', u'gem'])\n",
        "set([u'smelter'])"
       ]
      },
      {
       "output_type": "stream",
       "stream": "stdout",
       "text": [
        "\n",
        "set([u'ass', u'asp', u'as', u'au', u'ask', u'ash'])\n",
        "set([u'dish', u'wish', u'fish', u'vish'])\n",
        "set([u'heel.'])\n",
        "set([u'16.', u'162.', u'162'])\n",
        "set([u'jealous', u'jealousy'])\n",
        "set([u'distressed'])"
       ]
      },
      {
       "output_type": "stream",
       "stream": "stdout",
       "text": [
        "\n",
        "set([u'gorgeous'])"
       ]
      },
      {
       "output_type": "stream",
       "stream": "stdout",
       "text": [
        "\n",
        "set([u'logs', u'yore', u'yea', u'hogs', u'your', u'yon', u'noma', u'log', u'rosa', u'nova', u'fog', u'you', u'olga', u'dogs', u'yuma', u'iowa', u'oka', u'dogma', u'myoma', u'dora', u'york', u'boa', u'coma', u'ogg', u'coxa', u'foka', u'fogs', u'cogs', u'sofa', u'dog', u'iota', u'volga', u'soda', u'yoke'])"
       ]
      },
      {
       "output_type": "stream",
       "stream": "stdout",
       "text": [
        "\n",
        "set([u'modeled'])"
       ]
      },
      {
       "output_type": "stream",
       "stream": "stdout",
       "text": [
        "\n",
        "[u'work/school.']"
       ]
      },
      {
       "output_type": "stream",
       "stream": "stdout",
       "text": [
        "\n",
        "set([u'cheese', u'cheery'])\n",
        "set([u'ist'])\n",
        "set([u'images', u'image'])"
       ]
      },
      {
       "output_type": "stream",
       "stream": "stdout",
       "text": [
        "\n",
        "set([u'creep'])\n",
        "set([u'hardihood'])"
       ]
      },
      {
       "output_type": "stream",
       "stream": "stdout",
       "text": [
        "\n",
        "set([u'wasteful'])\n",
        "set([u'mirror.', u'mirrors'])\n",
        "set([u'right', u'rights'])\n",
        "set([u'judge', u'purge', u'budge'])\n",
        "set([u'whomever', u'whoever'])\n",
        "set([u'rousing', u'accusing', u'housing', u'fusing', u'excusing'])"
       ]
      },
      {
       "output_type": "stream",
       "stream": "stdout",
       "text": [
        "\n",
        "[u'posture-not']"
       ]
      },
      {
       "output_type": "stream",
       "stream": "stdout",
       "text": [
        "\n",
        "set([u'dish', u'wish', u'fish', u'vish'])\n",
        "set([u'heel'])\n",
        "[u'outstanding-she']"
       ]
      },
      {
       "output_type": "stream",
       "stream": "stdout",
       "text": [
        "\n",
        "set([u'looking', u'looting', u'looming'])"
       ]
      },
      {
       "output_type": "stream",
       "stream": "stdout",
       "text": [
        "\n",
        "[u'hands-on']"
       ]
      },
      {
       "output_type": "stream",
       "stream": "stdout",
       "text": [
        "\n",
        "[u'ashtanga']"
       ]
      },
      {
       "output_type": "stream",
       "stream": "stdout",
       "text": [
        "\n",
        "set([u'logs', u'yore', u'yea', u'hogs', u'your', u'yon', u'noma', u'log', u'rosa', u'nova', u'fog', u'you', u'olga', u'dogs', u'yuma', u'iowa', u'oka', u'dogma', u'myoma', u'dora', u'york', u'boa', u'coma', u'ogg', u'coxa', u'foka', u'fogs', u'cogs', u'sofa', u'dog', u'iota', u'volga', u'soda', u'yoke'])"
       ]
      },
      {
       "output_type": "stream",
       "stream": "stdout",
       "text": [
        "\n",
        "[u'sivananda']"
       ]
      },
      {
       "output_type": "stream",
       "stream": "stdout",
       "text": [
        "\n",
        "set([u'diego', u'dirt', u'dites', u'kitty', u'pitt', u'diet', u'disco', u'witty', u'dint', u'dirty', u'otto', u'motto', u'ditch', u'into'])"
       ]
      },
      {
       "output_type": "stream",
       "stream": "stdout",
       "text": [
        "\n",
        "set([u'genetic', u'mimetic'])"
       ]
      },
      {
       "output_type": "stream",
       "stream": "stdout",
       "text": [
        "\n",
        "set([u'logs', u'yore', u'yea', u'hogs', u'your', u'yon', u'noma', u'log', u'rosa', u'nova', u'fog', u'you', u'olga', u'dogs', u'yuma', u'iowa', u'oka', u'dogma', u'myoma', u'dora', u'york', u'boa', u'coma', u'ogg', u'coxa', u'foka', u'fogs', u'cogs', u'sofa', u'dog', u'iota', u'volga', u'soda', u'yoke'])"
       ]
      },
      {
       "output_type": "stream",
       "stream": "stdout",
       "text": [
        "\n",
        "set([u'ham', u'sam', u'dam', u'ram', u'am', u'jam'])\n",
        "set([u'passes', u'masses', u'assess', u'ashes', u'asset', u'assez'])\n",
        "set([u'personage.', u'reasonable.', u'personally.'])"
       ]
      },
      {
       "output_type": "stream",
       "stream": "stdout",
       "text": [
        "\n",
        "set([u'ass', u'asp', u'as', u'au', u'ask', u'ash'])\n",
        "set([u'grm', u'gum', u'gem'])\n",
        "set([u'dropping'])"
       ]
      },
      {
       "output_type": "stream",
       "stream": "stdout",
       "text": [
        "\n",
        "set([u'clinched', u'clicked'])\n",
        "set([u'logs', u'yore', u'yea', u'hogs', u'your', u'yon', u'noma', u'log', u'rosa', u'nova', u'fog', u'you', u'olga', u'dogs', u'yuma', u'iowa', u'oka', u'dogma', u'myoma', u'dora', u'york', u'boa', u'coma', u'ogg', u'coxa', u'foka', u'fogs', u'cogs', u'sofa', u'dog', u'iota', u'volga', u'soda', u'yoke'])"
       ]
      },
      {
       "output_type": "stream",
       "stream": "stdout",
       "text": [
        "\n",
        "[u'namaste']"
       ]
      },
      {
       "output_type": "stream",
       "stream": "stdout",
       "text": [
        "\n",
        "[u'stay-cation']"
       ]
      },
      {
       "output_type": "stream",
       "stream": "stdout",
       "text": [
        "\n",
        "set([u'ear.', u'cab.', u'carl', u'cal.', u'can.', u'cars', u'carp', u'far.', u'tar.', u'cart', u'war.', u'cap.', u'cart.', u'scar.', u'car', u'cat.', u'care.', u'care', u'card', u'bar.'])\n",
        "[u'downtown']"
       ]
      },
      {
       "output_type": "stream",
       "stream": "stdout",
       "text": [
        "\n",
        "[u'scottsdale']"
       ]
      },
      {
       "output_type": "stream",
       "stream": "stdout",
       "text": [
        "\n",
        "[u'awesome.']"
       ]
      },
      {
       "output_type": "stream",
       "stream": "stdout",
       "text": [
        "\n",
        "[u'boutique']"
       ]
      },
      {
       "output_type": "stream",
       "stream": "stdout",
       "text": [
        "\n",
        "[u'awesome']"
       ]
      },
      {
       "output_type": "stream",
       "stream": "stdout",
       "text": [
        "\n",
        "[u'rooftop']"
       ]
      },
      {
       "output_type": "stream",
       "stream": "stdout",
       "text": [
        "\n",
        "set([u'ratio'])\n",
        "set([u'gall', u'gallon', u'gallop', u'hallo'])\n",
        "set([u'lance', u'blanche', u'black', u'branch', u'blank', u'bland', u'glance', u'balance'])"
       ]
      },
      {
       "output_type": "stream",
       "stream": "stdout",
       "text": [
        "\n",
        "set([u'attacked.', u'attached'])\n",
        "set([u'pretensions', u'unpretentious', u'pretentiously'])"
       ]
      },
      {
       "output_type": "stream",
       "stream": "stdout",
       "text": [
        "\n",
        "set([u'monotony'])\n",
        "set([u'whiskey'])\n",
        "set([u'pm'])\n",
        "set([u'70.', u'30.', u'73.'])"
       ]
      },
      {
       "output_type": "stream",
       "stream": "stdout",
       "text": [
        "\n",
        "set([u'vespers', u'helper', u'elders', u'yelped', u'keepers', u'sellers'])"
       ]
      },
      {
       "output_type": "stream",
       "stream": "stdout",
       "text": [
        "\n",
        "set([u'anyway'])\n",
        "set([u'seating', u'beating', u'eating', u'decaying', u'departing', u'dealing', u'deviating', u'delaying', u'heating', u'defeating', u'devoting', u'relating', u'dating'])"
       ]
      },
      {
       "output_type": "stream",
       "stream": "stdout",
       "text": [
        "\n",
        "set([u'restaurant'])\n",
        "set([u'tastes'])\n",
        "set([u'25'])\n",
        "set([u'blue', u'bled', u'blew'])\n",
        "set([u'war.', u'ward.', u'farm.', u'wars.', u'arm.', u'warm', u'ware.', u'harm.'])\n",
        "set([u'wordy', u'worldly'])\n",
        "set([u'crisp'])\n",
        "set([u'foggy', u'boggy'])\n",
        "set([u'war.', u'ward.', u'farm.', u'wars.', u'arm.', u'warm', u'ware.', u'harm.'])\n",
        "set([u'luck.'])\n",
        "set([u'blue', u'bled', u'blew'])\n",
        "set([u'pasty', u'taste', u'nasty', u'hasty'])\n",
        "[u'jack-in-the-box']"
       ]
      },
      {
       "output_type": "stream",
       "stream": "stdout",
       "text": [
        "\n",
        "set([u'smashed', u'lashed', u'washed', u'masked', u'dashed'])\n",
        "set([u'dreamest'])"
       ]
      },
      {
       "output_type": "stream",
       "stream": "stdout",
       "text": [
        "\n",
        "[u'tenderloin']"
       ]
      },
      {
       "output_type": "stream",
       "stream": "stdout",
       "text": [
        "\n",
        "[u'peppery-sweet']"
       ]
      },
      {
       "output_type": "stream",
       "stream": "stdout",
       "text": [
        "\n",
        "set([u'paring'])\n",
        "set([u'arts.', u'parts.', u'warts.', u'carts.'])\n",
        "set([u'noise', u'pose'])\n",
        "set([u'menu', u'venus', u'genus', u'minus'])\n",
        "set([u'1.5', u'15'])\n",
        "[u'cardstock']"
       ]
      },
      {
       "output_type": "stream",
       "stream": "stdout",
       "text": [
        "\n",
        "set([u'kinds.', u'kings.'])"
       ]
      },
      {
       "output_type": "stream",
       "stream": "stdout",
       "text": [
        "\n",
        "set([u'coley', u'comedy', u'comte', u'copy', u'combs', u'condy', u'tommy', u'comme', u'comes', u'comely', u'comma', u'cosy', u'coman', u'coma', u'comet', u'comic', u'comb', u'come', u'comply', u'cody'])"
       ]
      },
      {
       "output_type": "stream",
       "stream": "stdout",
       "text": [
        "\n",
        "set([u\"wasn't\"])\n",
        "[u'oh-la-la']"
       ]
      },
      {
       "output_type": "stream",
       "stream": "stdout",
       "text": [
        "\n",
        "set([u'snack', u'slack', u'shock', u'sack', u'smack', u'hack', u'shak'])\n",
        "[u'highland.']"
       ]
      },
      {
       "output_type": "stream",
       "stream": "stdout",
       "text": [
        "\n",
        "set([u'fillmore', u'baltimore'])"
       ]
      },
      {
       "output_type": "stream",
       "stream": "stdout",
       "text": [
        "\n",
        "set([u'cured', u'cried', u'creed', u'bred', u'fred', u'cared', u'crew', u'dred', u'red'])\n",
        "set([u'it', u'its', u'isa', u'ta', u'iota', u'ida'])\n",
        "set([u'recommend'])\n",
        "[u'seafood']"
       ]
      },
      {
       "output_type": "stream",
       "stream": "stdout",
       "text": [
        "\n",
        "set([u'billet', u'filled'])\n",
        "set([u'streak', u'steal', u'stead', u'steam', u'speak'])\n",
        "set([u'menu', u'venus', u'genus', u'minus'])\n",
        "[u'seafood']"
       ]
      },
      {
       "output_type": "stream",
       "stream": "stdout",
       "text": [
        "\n",
        "[u'seafood']"
       ]
      },
      {
       "output_type": "stream",
       "stream": "stdout",
       "text": [
        "\n",
        "[u'awesome']"
       ]
      },
      {
       "output_type": "stream",
       "stream": "stdout",
       "text": [
        "\n",
        "[u'maestros']"
       ]
      },
      {
       "output_type": "stream",
       "stream": "stdout",
       "text": [
        "\n",
        "set([u'stopping', u'tapping', u'hopping', u'popping', u'mopping'])\n",
        "set([u'serves', u'server'])\n",
        "set([u'type.', u'tie.', u'too.', u'top.', u'toe.', u'two.', u'spy.', u'try.', u'tea.', u'tug.', u'tic', u'up.', u'dec.', u'c.', u'tax.', u'sac.', u'tact', u'pp.', u'apt.', u'ton.', u'tack', u'topic.', u'tick', u'tar.', u'tips.', u'ten.', u'tuck', u'etc.', u'tit.', u'tack.', u't.', u'tact.', u'to.', u'tin.', u'p.', u'pa.', u'tap.'])"
       ]
      },
      {
       "output_type": "stream",
       "stream": "stdout",
       "text": [
        "\n",
        "set([u'haired', u'pared', u'pained'])\n",
        "set([u'v', u'ty', u'tt', u'tu', u'iv', u'to', u't', u'th', u'ti', u'te', u'xv', u'ta'])\n",
        "set([u'trees.', u'fees.', u'ties.', u'bees.', u'toes.'])\n",
        "[u'clubhouse']"
       ]
      },
      {
       "output_type": "stream",
       "stream": "stdout",
       "text": [
        "\n",
        "set([u'tic'])\n",
        "[u'gourmet']"
       ]
      },
      {
       "output_type": "stream",
       "stream": "stdout",
       "text": [
        "\n",
        "set([u'mouth', u'mouths'])\n",
        "set([u'cain', u'canon', u'can', u'cabin', u'majus'])"
       ]
      },
      {
       "output_type": "stream",
       "stream": "stdout",
       "text": [
        "\n",
        "set([u'dial', u'dull', u'doll', u'ill', u'bill', u'vill', u'will', u'till', u'kill', u'hill', u'drill', u'mill', u'sill', u'pill', u'fill'])\n",
        "set([u'stanton', u'wilton', u'hilton', u'milton'])"
       ]
      },
      {
       "output_type": "stream",
       "stream": "stdout",
       "text": [
        "\n",
        "set([u'streak', u'steal', u'stead', u'steam', u'speak'])\n",
        "set([u'von', u'soon', u'leon', u'son', u'eton', u'born', u'lion', u'yon', u'lyon', u'hon', u'noon', u'moon', u'won', u'ton', u'boon', u'bin', u'non', u'boy', u'upon', u'ion', u'mon', u'ben', u'icon', u'box', u'on', u'bony', u'don', u'bons', u'bow', u'-so', u'anon', u'dron', u'iron', u'ban', u'boa', u'bob', u'bond', u'bone', u'con'])"
       ]
      },
      {
       "output_type": "stream",
       "stream": "stdout",
       "text": [
        "\n",
        "set([u'appetite'])\n",
        "set([u'everyday'])\n",
        "[u'underwhelmed.']"
       ]
      },
      {
       "output_type": "stream",
       "stream": "stdout",
       "text": [
        "\n",
        "set([u'pm'])\n",
        "set([u'vendor'])\n",
        "[u'invalidating']"
       ]
      },
      {
       "output_type": "stream",
       "stream": "stdout",
       "text": [
        "\n",
        "set([u'chef', u'chiefs', u'chess'])\n",
        "set([u'gun.', u'buy.', u'guy', u'gay.'])\n",
        "[u'ixtapa-zihuatenejo']"
       ]
      },
      {
       "output_type": "stream",
       "stream": "stdout",
       "text": [
        "\n",
        "set([u'unfortunately'])\n",
        "set([u'13'])"
       ]
      },
      {
       "output_type": "stream",
       "stream": "stdout",
       "text": [
        "\n",
        "set([u'charges', u'charter', u'charmer', u'charge', u'charged'])\n",
        "set([u'container'])\n",
        "set([u'titus', u'limps', u'limbs', u'limes'])"
       ]
      },
      {
       "output_type": "stream",
       "stream": "stdout",
       "text": [
        "\n",
        "set([u'tat', u'bat', u'pat', u'mat', u'fat', u'cat', u'dat', u'rat', u'at', u'zat', u'wat', u'hat', u'eat', u'vat', u'sat'])\n",
        "[u'portlandia']"
       ]
      },
      {
       "output_type": "stream",
       "stream": "stdout",
       "text": [
        "\n",
        "[u'hipsterness']"
       ]
      },
      {
       "output_type": "stream",
       "stream": "stdout",
       "text": [
        "\n",
        "set([u'decorum.', u'dec.', u'deacon.', u'decorum', u'door.', u'record.', u'decay.', u'record', u'depot.', u'sector.', u'doctor.', u'dear.'])"
       ]
      },
      {
       "output_type": "stream",
       "stream": "stdout",
       "text": [
        "\n",
        "[u'in-house']"
       ]
      },
      {
       "output_type": "stream",
       "stream": "stdout",
       "text": [
        "\n",
        "set([u'think', u'thank', u'trunk'])\n",
        "[u'baristas']"
       ]
      },
      {
       "output_type": "stream",
       "stream": "stdout",
       "text": [
        "\n",
        "set([u'profess'])\n",
        "set([u'vestries', u'pastures', u'castres', u'patties', u'parties'])"
       ]
      },
      {
       "output_type": "stream",
       "stream": "stdout",
       "text": [
        "\n",
        "set([u'flamed', u'famed', u'formed', u'roamed', u'framed'])\n",
        "set([u'fruit', u'fruits'])\n",
        "set([u'empress.'])"
       ]
      },
      {
       "output_type": "stream",
       "stream": "stdout",
       "text": [
        "\n",
        "[u'scottsdale']"
       ]
      },
      {
       "output_type": "stream",
       "stream": "stdout",
       "text": [
        "\n",
        "set([u'jockey'])\n",
        "[u'dive-bar']"
       ]
      },
      {
       "output_type": "stream",
       "stream": "stdout",
       "text": [
        "\n",
        "set([u'acadia'])\n",
        "set([u'v', u'ty', u'tt', u'tu', u'iv', u'to', u't', u'th', u'ti', u'te', u'xv', u'ta'])\n",
        "set([u'jockey'])\n",
        "set([u'pink', u'risk', u'drink', u'rank', u'wink', u'link', u'sink', u'ink', u'ring', u'brink'])\n",
        "set([u'entertaining'])\n",
        "set([u'drunken', u'duke', u'duel', u'sunken', u'tunnel', u'donkey', u'funke', u'dundee', u'daniel', u'ducked', u'bunker', u'dukes'])"
       ]
      },
      {
       "output_type": "stream",
       "stream": "stdout",
       "text": [
        "\n",
        "[u'hefeweisen']"
       ]
      },
      {
       "output_type": "stream",
       "stream": "stdout",
       "text": [
        "\n",
        "set([u'kinds', u'bids', u'kits', u'kiss', u'aids', u'lids', u'kid'])\n",
        "[u'off-key']"
       ]
      },
      {
       "output_type": "stream",
       "stream": "stdout",
       "text": [
        "\n",
        "[u'nirvana']"
       ]
      },
      {
       "output_type": "stream",
       "stream": "stdout",
       "text": [
        "\n",
        "set([u'cover.', u'covert.', u'covers', u'lovers.'])\n",
        "[u'awesome']"
       ]
      },
      {
       "output_type": "stream",
       "stream": "stdout",
       "text": [
        "\n",
        "set([u'thou'])"
       ]
      },
      {
       "output_type": "stream",
       "stream": "stdout",
       "text": [
        "\n",
        "set([u'kinds', u'bids', u'kits', u'kiss', u'aids', u'lids', u'kid'])\n",
        "set([u'dupe', u'duke', u'due', u'rude'])\n",
        "set([u'buds', u'bags', u'jugs', u'bus', u'bug', u'rugs'])\n",
        "set([u'donets'])\n",
        "[u'empanadas']"
       ]
      },
      {
       "output_type": "stream",
       "stream": "stdout",
       "text": [
        "\n",
        "set([u'u.s.a.', u'u.s.'])\n",
        "set([u'frenchy', u'crutch'])"
       ]
      },
      {
       "output_type": "stream",
       "stream": "stdout",
       "text": [
        "\n",
        "set([u'speed.', u'spies.', u'spared.', u'spoiled.', u'space.', u'spine.', u'spines.', u'spaces.', u'smiled.', u'seized.', u'spice'])"
       ]
      },
      {
       "output_type": "stream",
       "stream": "stdout",
       "text": [
        "\n",
        "[u'empanadas']"
       ]
      },
      {
       "output_type": "stream",
       "stream": "stdout",
       "text": [
        "\n",
        "set([u'foggy', u'song.', u'boggy', u'songs.'])"
       ]
      },
      {
       "output_type": "stream",
       "stream": "stdout",
       "text": [
        "\n",
        "[u'awesome']"
       ]
      },
      {
       "output_type": "stream",
       "stream": "stdout",
       "text": [
        "\n",
        "set([u'sub', u'sums', u'suis', u'cubs', u'rubs', u'sobs', u'hubs', u'tubs'])\n",
        "set([u'prized', u'pricked', u'price', u'prices', u'prided', u'pried'])\n",
        "set([u'branch', u'bunch'])\n",
        "set([u'vandalia', u'manual', u'manila', u'mandate'])"
       ]
      },
      {
       "output_type": "stream",
       "stream": "stdout",
       "text": [
        "\n",
        "set([u'masha', u'nasal', u'basal', u'manila', u'mashka', u'mala'])"
       ]
      },
      {
       "output_type": "stream",
       "stream": "stdout",
       "text": [
        "\n",
        "set([u'flavor', u'favor.'])\n",
        "set([u'branch', u'bunch'])\n",
        "set([u'taft', u'tone', u'toss', u'tu', u'tons', u'tafa', u'toys', u'tony', u'tore', u'toy', u'tuft', u'top', u'torn', u'tow', u'to', u'toi', u'ton', u'too', u'tom', u'you', u'tory', u'toe', u'toes', u'tool', u'toll', u'tops', u'took', u'ou', u'town', u'off', u'thou', u'sofa', u'tour', u'tout', u'oft', u'of', u'toil', u'tomb', u'told', u'soft'])"
       ]
      },
      {
       "output_type": "stream",
       "stream": "stdout",
       "text": [
        "\n",
        "set([u'scrambled', u'scramble'])\n",
        "set([u'ingest', u'canst', u'angle', u'gangs', u'angel', u'anus', u'angry', u'pangs', u'hangs', u'ant', u'amongst', u'ants', u'anglo', u'fangs', u'anger', u'aught', u'nest', u'august'])"
       ]
      },
      {
       "output_type": "stream",
       "stream": "stdout",
       "text": [
        "\n",
        "set([u'shipper'])\n",
        "set([u'glassy', u'class'])\n",
        "set([u'chi', u'chip', u'chin', u'chit'])\n",
        "set([u'4th', u'8th'])\n",
        "[u'pedicured.']"
       ]
      },
      {
       "output_type": "stream",
       "stream": "stdout",
       "text": [
        "\n",
        "set([u'chi', u'chip', u'chin', u'chit'])\n",
        "set([u'manures'])"
       ]
      },
      {
       "output_type": "stream",
       "stream": "stdout",
       "text": [
        "\n",
        "[u'pedicures']"
       ]
      },
      {
       "output_type": "stream",
       "stream": "stdout",
       "text": [
        "\n",
        "[u'pedicures']"
       ]
      },
      {
       "output_type": "stream",
       "stream": "stdout",
       "text": [
        "\n",
        "set([u'c', u'ch', u'co', u'ca', u'cf', u'ce', u'cy', u'ak', u'ok', u'k'])\n",
        "set([u'frill', u'drill'])\n",
        "set([u'padre'])\n",
        "[u'scottsdale']"
       ]
      },
      {
       "output_type": "stream",
       "stream": "stdout",
       "text": [
        "\n",
        "set([u'dad', u'lad.', u'had.', u'mad.', u'did.', u'sad.', u'pad.', u'day.', u'dam.', u'dead.', u'bad.'])\n",
        "[u'baseballs']"
       ]
      },
      {
       "output_type": "stream",
       "stream": "stdout",
       "text": [
        "\n",
        "[u'memorabilia']"
       ]
      },
      {
       "output_type": "stream",
       "stream": "stdout",
       "text": [
        "\n",
        "[u'autographed']"
       ]
      },
      {
       "output_type": "stream",
       "stream": "stdout",
       "text": [
        "\n",
        "[u'celebrities.']"
       ]
      },
      {
       "output_type": "stream",
       "stream": "stdout",
       "text": [
        "\n",
        "[u'assortment']"
       ]
      },
      {
       "output_type": "stream",
       "stream": "stdout",
       "text": [
        "\n",
        "[u'artifacts']"
       ]
      },
      {
       "output_type": "stream",
       "stream": "stdout",
       "text": [
        "\n",
        "set([u'colors', u'cooks', u'doors'])\n",
        "set([u'shine', u'shines', u'shiver'])"
       ]
      },
      {
       "output_type": "stream",
       "stream": "stdout",
       "text": [
        "\n",
        "set([u'buck', u'beck', u'lock', u'sock', u'back', u'dock', u'book', u'mock', u'rock', u'cock', u'block'])\n",
        "set([u'old', u'bold', u'gold', u'sold', u'fold', u'=gold', u'cold', u'hold', u'mold', u'told'])\n",
        "set([u'stone'])\n",
        "set([u'isa', u'pa', u'ida'])\n",
        "set([u'planter', u'patter', u'flatter', u'plaster', u'clatter', u'latter'])\n",
        "set([u'babel'])\n",
        "set([u'sealed.', u'stated.', u'seated'])\n",
        "set([u'coronet'])"
       ]
      },
      {
       "output_type": "stream",
       "stream": "stdout",
       "text": [
        "\n",
        "set([u'combs', u'comb'])\n",
        "set([u'grain', u'grating'])\n",
        "set([u'250'])\n",
        "set([u'charge.'])"
       ]
      },
      {
       "output_type": "stream",
       "stream": "stdout",
       "text": [
        "\n",
        "set([u'coley', u'code', u'ole', u'core', u'colt', u'sole', u'hole', u'dole', u'mole', u'pole', u'role', u'cope', u'coli', u'cold', u'come', u'col', u'cone'])\n",
        "set([u'flaw', u'slow', u'shaw', u'slay', u'slav', u'slab', u'slap', u'slam', u'claw', u'law', u'saw', u'slew'])\n",
        "set([u'entire', u'untrue', u'centre', u'etre', u'enter', u'entice', u'entries', u'entry', u'entrez'])"
       ]
      },
      {
       "output_type": "stream",
       "stream": "stdout",
       "text": [
        "\n",
        "set([u'coley', u'code', u'ole', u'core', u'colt', u'sole', u'hole', u'dole', u'mole', u'pole', u'role', u'cope', u'coli', u'cold', u'come', u'col', u'cone'])\n",
        "set([u'flaw', u'slow', u'shaw', u'slay', u'slav', u'slab', u'slap', u'slam', u'claw', u'law', u'saw', u'slew'])\n",
        "[u'memorabilia']"
       ]
      },
      {
       "output_type": "stream",
       "stream": "stdout",
       "text": [
        "\n",
        "set([u'hays', u'rays', u'says', u'mats', u'mais', u'may', u'ways', u'pays', u'mayo', u'days', u'maps', u'mass', u'lays', u'mars', u'nays'])\n",
        "[u'baseball']"
       ]
      },
      {
       "output_type": "stream",
       "stream": "stdout",
       "text": [
        "\n",
        "[u'memorabilia']"
       ]
      },
      {
       "output_type": "stream",
       "stream": "stdout",
       "text": [
        "\n",
        "[u'starbucks']"
       ]
      },
      {
       "output_type": "stream",
       "stream": "stdout",
       "text": [
        "\n",
        "set([u'blew', u'grew', u'brow', u'bred', u'drew', u'crew'])\n",
        "set([u'calorie'])\n",
        "set([u'bluebeard'])"
       ]
      },
      {
       "output_type": "stream",
       "stream": "stdout",
       "text": [
        "\n",
        "[u'muffin-quite']"
       ]
      },
      {
       "output_type": "stream",
       "stream": "stdout",
       "text": [
        "\n",
        "set([u'mummy', u'dummy'])\n",
        "[u'cookies-']"
       ]
      },
      {
       "output_type": "stream",
       "stream": "stdout",
       "text": [
        "\n",
        "set([u'delirious.', u'delicious'])\n",
        "set([u'brows'])\n",
        "set([u'thou'])\n",
        "set([u'unkind'])\n",
        "set([u'pork', u'jerk', u'pere', u'park', u'per', u'peak', u'peru', u'peck'])\n",
        "[u'caffeinated']"
       ]
      },
      {
       "output_type": "stream",
       "stream": "stdout",
       "text": [
        "\n",
        "set([u'christ'])\n",
        "set([u'artists', u'artist'])\n",
        "[u'creativity.']"
       ]
      },
      {
       "output_type": "stream",
       "stream": "stdout",
       "text": [
        "\n",
        "[u'one-of-a-kind.']"
       ]
      },
      {
       "output_type": "stream",
       "stream": "stdout",
       "text": [
        "\n",
        "set([u'favors', u'flavor'])\n",
        "set([u'tic'])\n",
        "set([u'sculptor'])"
       ]
      },
      {
       "output_type": "stream",
       "stream": "stdout",
       "text": [
        "\n",
        "set([u'years'])\n",
        "set([u'windows', u'window'])\n",
        "set([u'disappoints'])\n",
        "set([u'restaurant'])\n",
        "set([u'consistent'])\n",
        "set([u'recommends', u'recommend'])\n",
        "set([u'show.', u'showy', u'shown.'])\n",
        "set([u'cheaper'])\n",
        "set([u'consistent'])\n",
        "set([u'brief', u'bride', u'brim', u'bribe', u'erie', u'brig'])\n",
        "set([u'rules', u'ruler', u'bruise', u'brute', u'rule', u'brutes', u'bruce', u'bulge', u'ruled'])"
       ]
      },
      {
       "output_type": "stream",
       "stream": "stdout",
       "text": [
        "\n",
        "set([u'musketry'])"
       ]
      },
      {
       "output_type": "stream",
       "stream": "stdout",
       "text": [
        "\n",
        "set([u'appetite'])"
       ]
      },
      {
       "output_type": "stream",
       "stream": "stdout",
       "text": [
        "\n",
        "set([u'shrank.'])\n",
        "set([u'solid', u'solidity', u'boldly', u'solids', u'holiday', u'solely', u'coldly'])"
       ]
      },
      {
       "output_type": "stream",
       "stream": "stdout",
       "text": [
        "\n",
        "set([u'dessert', u'deserts'])\n",
        "set([u'bob'])\n",
        "set([u'cooking', u'cording', u'working', u'cocking'])\n",
        "[u'corkscrew']"
       ]
      },
      {
       "output_type": "stream",
       "stream": "stdout",
       "text": [
        "\n",
        "set([u'option'])\n",
        "[u'awesome']"
       ]
      },
      {
       "output_type": "stream",
       "stream": "stdout",
       "text": [
        "\n",
        "set([u'250'])\n",
        "set([u'wailed', u'failed', u'hailed', u'railed', u'sailed', u'jailed'])\n",
        "set([u'379', u'79.', u'39.', u'37.'])"
       ]
      },
      {
       "output_type": "stream",
       "stream": "stdout",
       "text": [
        "\n",
        "set([u'wadding.', u'bidding', u'binding.', u'hiding.', u'budding.', u'riding.', u'wedding.', u'pudding.', u'kissing.', u'nodding.'])"
       ]
      },
      {
       "output_type": "stream",
       "stream": "stdout",
       "text": [
        "\n",
        "set([u'lockup', u'picked', u'picket', u'pick'])"
       ]
      },
      {
       "output_type": "stream",
       "stream": "stdout",
       "text": [
        "\n",
        "set([u'fare', u'jake', u'fate', u'sake', u'make', u'rake', u'lake', u'face', u'wake', u'take', u'fade', u'cake', u'bake', u'fame'])\n",
        "set([u'invite', u'inside', u'site', u'unite', u'onset', u'online'])"
       ]
      },
      {
       "output_type": "stream",
       "stream": "stdout",
       "text": [
        "\n",
        "set([u'back.', u'buck', u'luck.', u'bucks'])\n",
        "set([u'ugh', u'eh', u'oh', u'ch', u'h', u'up', u'us', u'ah', u'ouh', u'u', u'th', u'ut', u'un'])\n",
        "set([u'o.', u'oho', u'on.', u'oh', u'oz.', u'of.', u'h.'])\n",
        "[u'shore-type']"
       ]
      },
      {
       "output_type": "stream",
       "stream": "stdout",
       "text": [
        "\n",
        "set([u'check', u'thick', u'chuck', u'chink', u'click'])\n",
        "set([u'379', u'79.', u'39.', u'37.'])"
       ]
      },
      {
       "output_type": "stream",
       "stream": "stdout",
       "text": [
        "\n",
        "set([u'flat-foot', u'flatboat'])"
       ]
      },
      {
       "output_type": "stream",
       "stream": "stdout",
       "text": [
        "\n",
        "set([u'visiting'])\n",
        "[u'ni-i-i-ice']"
       ]
      },
      {
       "output_type": "stream",
       "stream": "stdout",
       "text": [
        "\n",
        "set([u'jenny', u'ten', u'trend', u'penny', u'steely', u'been', u'taney', u'tony', u'seen', u'teddy', u'needy', u'twenty', u'tiny', u'tend', u'tetany', u'tawny', u'tens', u'tent', u'then', u'tiens', u'terenty', u'meany', u'telly', u'they', u'weedy', u'deny', u'keenly', u'keen', u'teeth', u'seedy'])"
       ]
      },
      {
       "output_type": "stream",
       "stream": "stdout",
       "text": [
        "\n",
        "set([u'diego', u'forego', u'hugo', u'forgo', u'ego', u'fuel'])"
       ]
      },
      {
       "output_type": "stream",
       "stream": "stdout",
       "text": [
        "\n",
        "[u'bistro.']"
       ]
      },
      {
       "output_type": "stream",
       "stream": "stdout",
       "text": [
        "\n",
        "set([u'alliance', u'ambulance'])"
       ]
      },
      {
       "output_type": "stream",
       "stream": "stdout",
       "text": [
        "\n",
        "set([u'twinkle'])\n",
        "set([u'musician', u'musicians'])\n",
        "set([u'delicious'])\n",
        "[u'southern-spanish']"
       ]
      },
      {
       "output_type": "stream",
       "stream": "stdout",
       "text": [
        "\n",
        "set([u'fusion'])\n",
        "set([u'fare', u'hare.', u'far.', u'fate.', u'are.', u'face.', u'rare.', u'fame.', u'fared', u'farm.', u'ware.', u'fares', u'fire.', u'bare.', u'care.'])\n",
        "[u'up-scale']"
       ]
      },
      {
       "output_type": "stream",
       "stream": "stdout",
       "text": [
        "\n",
        "[u'flagship']"
       ]
      },
      {
       "output_type": "stream",
       "stream": "stdout",
       "text": [
        "\n",
        "set([u'palmar'])"
       ]
      },
      {
       "output_type": "stream",
       "stream": "stdout",
       "text": [
        "\n",
        "set([u'seen', u'then', u'been', u'ten', u'keen'])\n",
        "set([u'got.', u'lots', u'lost.', u'lots.', u'log.', u'lot', u'clot.', u'cot.', u'hot.', u'not.'])\n",
        "set([u'liza', u'dizzy', u'penza'])"
       ]
      },
      {
       "output_type": "stream",
       "stream": "stdout",
       "text": [
        "\n",
        "set([u'fiance', u'piano', u'branch'])"
       ]
      },
      {
       "output_type": "stream",
       "stream": "stdout",
       "text": [
        "\n",
        "set([u'liza', u'dizzy', u'penza'])"
       ]
      },
      {
       "output_type": "stream",
       "stream": "stdout",
       "text": [
        "\n",
        "[u'9.9999']"
       ]
      },
      {
       "output_type": "stream",
       "stream": "stdout",
       "text": [
        "\n",
        "set([u'fiance', u'piano', u'branch'])"
       ]
      },
      {
       "output_type": "stream",
       "stream": "stdout",
       "text": [
        "\n",
        "set([u'fiance', u'piano', u'branch'])"
       ]
      },
      {
       "output_type": "stream",
       "stream": "stdout",
       "text": [
        "\n",
        "set([u'ingredient'])\n",
        "set([u'sauce', u'fauces', u'saucer'])\n",
        "set([u'mayo', u'mayor', u'mayors'])\n",
        "set([u'spinae', u'spinal', u'spinati', u'spina', u'pinch'])"
       ]
      },
      {
       "output_type": "stream",
       "stream": "stdout",
       "text": [
        "\n",
        "set([u'trilled', u'drilled'])\n",
        "set([u'pepper'])\n",
        "set([u'felt.', u'felix', u'debit', u'desk.', u'well.', u'denis', u'doll.', u'delve', u'duel.', u'dwell.', u'self.', u'devil', u'deed.', u'deal.', u'delay', u'den.', u'cell.', u'belt.', u'deep.', u'tell.', u'dec.', u'relic', u'fell.', u'sell.', u'dem.', u'delhi', u'dead.', u'relit', u'held.', u'rely.', u'devil.', u'dewy.', u'dull.', u'bell.', u'dale.', u'help.', u'dew.', u'fili.', u'del', u'debt.', u'delay.', u'die.', u'vell.', u'dear.'])"
       ]
      },
      {
       "output_type": "stream",
       "stream": "stdout",
       "text": [
        "\n",
        "[u'baguette']"
       ]
      },
      {
       "output_type": "stream",
       "stream": "stdout",
       "text": [
        "\n",
        "set([u'special'])\n",
        "set([u'webster'])"
       ]
      },
      {
       "output_type": "stream",
       "stream": "stdout",
       "text": [
        "\n",
        "set([u'whims', u'whigs.', u'whim.', u'whips.'])"
       ]
      },
      {
       "output_type": "stream",
       "stream": "stdout",
       "text": [
        "\n",
        "set([u'delivery', u'deliver.'])\n",
        "set([u'layout', u'baron', u'mayo', u'bacon', u'baton', u'basov', u'you', u'bay', u'mayor', u'bijou'])"
       ]
      },
      {
       "output_type": "stream",
       "stream": "stdout",
       "text": [
        "\n",
        "set([u'spice'])\n",
        "set([u'laminated'])"
       ]
      },
      {
       "output_type": "stream",
       "stream": "stdout",
       "text": [
        "\n",
        "set([u'blue', u'bled', u'blew'])\n",
        "set([u'chekmar', u'cedar'])"
       ]
      },
      {
       "output_type": "stream",
       "stream": "stdout",
       "text": [
        "\n",
        "set([u'spinae', u'spinal', u'spinati', u'spina', u'pinch'])"
       ]
      },
      {
       "output_type": "stream",
       "stream": "stdout",
       "text": [
        "\n",
        "[u'chipotle']"
       ]
      },
      {
       "output_type": "stream",
       "stream": "stdout",
       "text": [
        "\n",
        "set([u'special'])\n",
        "[u'artist-inspired']"
       ]
      },
      {
       "output_type": "stream",
       "stream": "stdout",
       "text": [
        "\n",
        "set([u'dale', u'ali'])\n",
        "set([u'lecture'])"
       ]
      },
      {
       "output_type": "stream",
       "stream": "stdout",
       "text": [
        "\n",
        "set([u'2-grain'])\n",
        "set([u'entire', u'snore', u'core', u'income', u'score', u'ensure', u'endure', u'escort', u'endorse', u'enclose', u'enforce'])"
       ]
      },
      {
       "output_type": "stream",
       "stream": "stdout",
       "text": [
        "\n",
        "set([u'streak', u'steal', u'stead', u'steam', u'speak'])\n",
        "[u'provolone']"
       ]
      },
      {
       "output_type": "stream",
       "stream": "stdout",
       "text": [
        "\n",
        "[u'hot/mild/or']"
       ]
      },
      {
       "output_type": "stream",
       "stream": "stdout",
       "text": [
        "\n",
        "set([u'pepper'])\n",
        "set([u'fera', u'fete', u'feat'])\n",
        "set([u'yours', u'court', u'bogart', u'your'])"
       ]
      },
      {
       "output_type": "stream",
       "stream": "stdout",
       "text": [
        "\n",
        "set([u'marina', u'mariners'])"
       ]
      },
      {
       "output_type": "stream",
       "stream": "stdout",
       "text": [
        "\n",
        "set([u'lecture'])"
       ]
      },
      {
       "output_type": "stream",
       "stream": "stdout",
       "text": [
        "\n",
        "set([u'partisan'])"
       ]
      },
      {
       "output_type": "stream",
       "stream": "stdout",
       "text": [
        "\n",
        "set([u'60.', u'30.', u'63.'])"
       ]
      },
      {
       "output_type": "stream",
       "stream": "stdout",
       "text": [
        "\n",
        "set([u'cooked', u'cooking', u'cook.'])"
       ]
      },
      {
       "output_type": "stream",
       "stream": "stdout",
       "text": [
        "\n",
        "set([u'hour'])\n",
        "set([u'second'])\n",
        "set([u'benton.'])\n",
        "set([u'kate.', u'hats.', u'oats.'])"
       ]
      },
      {
       "output_type": "stream",
       "stream": "stdout",
       "text": [
        "\n",
        "set([u'trilled', u'drilled'])\n",
        "set([u'suis', u'rush', u'tushin', u'susan', u'lush', u'aussi', u'sasha', u'hush', u'bush', u'gush', u'push', u'such', u'sash', u'bushy'])"
       ]
      },
      {
       "output_type": "stream",
       "stream": "stdout",
       "text": [
        "\n",
        "set([u'suis', u'rush', u'tushin', u'susan', u'lush', u'aussi', u'sasha', u'hush', u'bush', u'gush', u'push', u'such', u'sash', u'bushy'])"
       ]
      },
      {
       "output_type": "stream",
       "stream": "stdout",
       "text": [
        "\n",
        "set([u'bay'])\n",
        "[u'a+++']"
       ]
      },
      {
       "output_type": "stream",
       "stream": "stdout",
       "text": [
        "\n",
        "set([u'loofah', u'booth'])"
       ]
      },
      {
       "output_type": "stream",
       "stream": "stdout",
       "text": [
        "\n",
        "set([u'piercing'])\n",
        "set([u'gritty', u'smithy', u'shirt', u'thirty', u'hatty', u'shift', u'hetty', u'kitty', u'witty', u'shifts', u'shitov', u'shirts', u'sixty', u'chatty', u'shiny', u'shit'])"
       ]
      },
      {
       "output_type": "stream",
       "stream": "stdout",
       "text": [
        "\n",
        "set([u'saves', u'sabers'])\n",
        "set([u'clinton'])\n",
        "set([u'jay', u'jazz', u'jabez'])"
       ]
      },
      {
       "output_type": "stream",
       "stream": "stdout",
       "text": [
        "\n",
        "set([u'bence', u'beyond', u'abeyance'])"
       ]
      },
      {
       "output_type": "stream",
       "stream": "stdout",
       "text": [
        "\n",
        "set([u'bidden', u'baden', u'bien', u'widen', u'bide'])\n",
        "set([u'drama', u'omaha'])"
       ]
      },
      {
       "output_type": "stream",
       "stream": "stdout",
       "text": [
        "\n",
        "set([u'kann', u'vanya', u'cane', u'canoe', u'hayne', u'pane', u'ante', u'kate', u'katie', u'haney', u'aye', u'any', u'dance', u'wayne', u'taney', u'jane', u'anne', u'lance', u'ganze', u'payne', u'knee', u'tante', u'bane', u'lane', u'many', u'range', u'sane', u'mane', u'knave', u'mange', u'dane'])"
       ]
      },
      {
       "output_type": "stream",
       "stream": "stdout",
       "text": [
        "\n",
        "set([u'sarah', u'porch', u'pray', u'opal', u'opera', u'spray', u'oral'])"
       ]
      },
      {
       "output_type": "stream",
       "stream": "stdout",
       "text": [
        "\n",
        "[u'octomom']"
       ]
      },
      {
       "output_type": "stream",
       "stream": "stdout",
       "text": [
        "\n",
        "set([u'brat', u'broad', u'brand', u'bred', u'bad', u'brag', u'bead', u'bread'])\n",
        "set([u'joliet', u'julie', u'jolies'])\n",
        "set([u'convey', u'coolly', u'money', u'cornea', u'colony', u'honey', u'cone', u'cooee', u'corner', u'cornet', u'cooper', u'colonel', u'coroner', u'cooped', u'coronet', u'crony', u'condy', u'sooner', u'coley', u'county', u'cooked', u'boone', u'olney', u'cooled'])"
       ]
      },
      {
       "output_type": "stream",
       "stream": "stdout",
       "text": [
        "\n",
        "[u\"easley's\"]"
       ]
      },
      {
       "output_type": "stream",
       "stream": "stdout",
       "text": [
        "\n",
        "set([u'nom', u'mop', u'mot', u'mmm', u'mon', u'tom', u'mob'])\n",
        "set([u'empire', u'campfire'])"
       ]
      },
      {
       "output_type": "stream",
       "stream": "stdout",
       "text": [
        "\n",
        "set([u'tasks', u'asks', u'mask', u'masts', u'mass', u'marks'])\n",
        "set([u'noised', u'noise', u'noses'])\n",
        "set([u'toe', u'fee', u'wee', u'ten', u'tea', u'thee', u'nee', u'ted', u'tree', u'bee', u'see', u'gee', u'tie', u'the', u'te', u'lee'])\n",
        "set([u'liberate'])\n",
        "set([u'getting'])\n",
        "set([u'cups', u'up', u'us', u'pus'])\n",
        "[u\"easley's\"]"
       ]
      },
      {
       "output_type": "stream",
       "stream": "stdout",
       "text": [
        "\n",
        "set([u'berth', u'vert', u'wert', u'beat', u'bent', u'berg', u'bet', u'belt', u'best', u'bart'])\n",
        "[u\"easley's\"]"
       ]
      },
      {
       "output_type": "stream",
       "stream": "stdout",
       "text": [
        "\n",
        "[u'mcdowell']"
       ]
      },
      {
       "output_type": "stream",
       "stream": "stdout",
       "text": [
        "\n",
        "set([u'dakin', u'makins', u'marin', u'akin', u'making', u'main'])\n",
        "[u'halloween']"
       ]
      },
      {
       "output_type": "stream",
       "stream": "stdout",
       "text": [
        "\n",
        "set([u'entries'])\n",
        "set([u'208', u'203', u'238'])"
       ]
      },
      {
       "output_type": "stream",
       "stream": "stdout",
       "text": [
        "\n",
        "set([u'ante', u'ant', u'ants'])\n",
        "set([u'pasty', u'past', u'paste'])\n",
        "set([u'502', u'250', u'20', u'50', u'52'])"
       ]
      },
      {
       "output_type": "stream",
       "stream": "stdout",
       "text": [
        "\n",
        "set([u'dessert', u'deserts'])\n",
        "set([u'balsam'])"
       ]
      },
      {
       "output_type": "stream",
       "stream": "stdout",
       "text": [
        "\n",
        "set([u'vinegar'])\n",
        "set([u'dusk.', u'ducks', u'dock.', u'duck', u'luck.', u'duct.'])\n",
        "set([u'fish.'])\n",
        "set([u'carree', u'cavae', u'curate', u'parade', u'crate', u'garage', u'craft', u'carte', u'carve', u'crane', u'cafe', u'chafe', u'carnage', u'care'])"
       ]
      },
      {
       "output_type": "stream",
       "stream": "stdout",
       "text": [
        "\n",
        "set([u'special'])\n",
        "[u'overcharged']"
       ]
      },
      {
       "output_type": "stream",
       "stream": "stdout",
       "text": [
        "\n",
        "set([u'coup', u'pomp', u'cop', u'camp', u'coma', u'comb', u'come'])\n",
        "set([u'heart', u'matt', u'halt', u'hatty', u'hat', u'hats', u'heath', u'platt', u'hath', u'heat', u'watt', u'hast', u'hata', u'hart', u'hate'])"
       ]
      },
      {
       "output_type": "stream",
       "stream": "stdout",
       "text": [
        "\n",
        "set([u'gained', u'gainer'])\n",
        "set([u'surprised.'])\n",
        "set([u'37'])\n",
        "set([u'relieved', u'received'])\n",
        "[u'janessa']"
       ]
      },
      {
       "output_type": "stream",
       "stream": "stdout",
       "text": [
        "\n",
        "set([u'ni', u'xi', u'ai', u'vi', u'i.', u'mi', u'.f', u'.', u'ii', u'i', u'si', u'hi', u'ti', u'li'])\n",
        "set([u'priding', u'prizing', u'pricking'])\n",
        "set([u'restaurant'])\n",
        "set([u'pack', u'paced', u'packed', u'packs'])\n",
        "set([u'night.'])"
       ]
      },
      {
       "output_type": "stream",
       "stream": "stdout",
       "text": [
        "\n",
        "[u'immediately.our']"
       ]
      },
      {
       "output_type": "stream",
       "stream": "stdout",
       "text": [
        "\n",
        "[u'alligator']"
       ]
      },
      {
       "output_type": "stream",
       "stream": "stdout",
       "text": [
        "\n",
        "set([u'pp', u'asp', u'rapp', u'apt', u'amp', u'ape'])\n",
        "set([u'it.'])\n",
        "set([u'files', u'filez', u'file', u'filed'])\n",
        "set([u'minion', u'pigeon', u'minor', u'milton'])"
       ]
      },
      {
       "output_type": "stream",
       "stream": "stdout",
       "text": [
        "\n",
        "[u'tail.the']"
       ]
      },
      {
       "output_type": "stream",
       "stream": "stdout",
       "text": [
        "\n",
        "set([u'streak', u'steal', u'stead', u'steam', u'speak'])\n",
        "set([u'price.'])\n",
        "[u'pappadeux']"
       ]
      },
      {
       "output_type": "stream",
       "stream": "stdout",
       "text": [
        "\n",
        "set([u'tail.', u'tilsit'])"
       ]
      },
      {
       "output_type": "stream",
       "stream": "stdout",
       "text": [
        "\n",
        "set([u'battery', u'butter'])\n",
        "set([u'adjust'])\n",
        "set([u'mummy', u'dummy'])\n",
        "set([u'hobby', u'chubby'])\n",
        "set([u'kinds', u'bids', u'kits', u'kiss', u'aids', u'lids', u'kid'])\n",
        "[u'time.and']"
       ]
      },
      {
       "output_type": "stream",
       "stream": "stdout",
       "text": [
        "\n",
        "set([u'wie', u'wire', u'wore', u'wee', u'ere', u'we', u're', u'are', u'were', u'woe', u'ware', u'ore', u'ire', u'wry'])\n",
        "set([u'definitely', u'defiantly'])"
       ]
      },
      {
       "output_type": "stream",
       "stream": "stdout",
       "text": [
        "\n",
        "[u'here.refills']"
       ]
      },
      {
       "output_type": "stream",
       "stream": "stdout",
       "text": [
        "\n",
        "set([u'bill.'])\n",
        "set([u'quarter', u'quarte'])\n",
        "[u'room.the']"
       ]
      },
      {
       "output_type": "stream",
       "stream": "stdout",
       "text": [
        "\n",
        "set([u'chats', u'hats', u'that'])\n",
        "set([u'husband'])\n",
        "set([u'table.'])\n",
        "set([u'definitely', u'defiantly'])"
       ]
      },
      {
       "output_type": "stream",
       "stream": "stdout",
       "text": [
        "\n",
        "[u'pappadeux']"
       ]
      },
      {
       "output_type": "stream",
       "stream": "stdout",
       "text": [
        "\n",
        "set([u'cornea', u'horned', u'corked', u'scorned', u'corner', u'corded', u'cornet'])\n",
        "set([u'such', u'much'])\n",
        "set([u'cornea', u'horned', u'corked', u'scorned', u'corner', u'corded', u'cornet'])\n",
        "set([u'salt', u'sally', u'salts'])\n",
        "set([u'sandwich'])\n",
        "set([u'dries', u'priest'])\n",
        "[u'veggies']"
       ]
      },
      {
       "output_type": "stream",
       "stream": "stdout",
       "text": [
        "\n",
        "set([u'trilled', u'drilled'])\n",
        "[u'mediocre.']"
       ]
      },
      {
       "output_type": "stream",
       "stream": "stdout",
       "text": [
        "\n",
        "set([u'thought', u'thought.', u'though', u'trough.', u'thwough.', u'through.'])\n",
        "set([u'suis', u'rush', u'tushin', u'susan', u'lush', u'aussi', u'sasha', u'hush', u'bush', u'gush', u'push', u'such', u'sash', u'bushy'])"
       ]
      },
      {
       "output_type": "stream",
       "stream": "stdout",
       "text": [
        "\n",
        "set([u'spice'])\n",
        "set([u'tula', u'tune'])\n",
        "set([u'suis', u'rush', u'tushin', u'susan', u'lush', u'aussi', u'sasha', u'hush', u'bush', u'gush', u'push', u'such', u'sash', u'bushy'])"
       ]
      },
      {
       "output_type": "stream",
       "stream": "stdout",
       "text": [
        "\n",
        "set([u'soto', u'solo', u'soon', u'soot'])\n",
        "set([u'expensive'])"
       ]
      },
      {
       "output_type": "stream",
       "stream": "stdout",
       "text": [
        "\n",
        "[u'appetizers']"
       ]
      },
      {
       "output_type": "stream",
       "stream": "stdout",
       "text": [
        "\n",
        "set([u'entries'])\n",
        "[u'leftovers']"
       ]
      },
      {
       "output_type": "stream",
       "stream": "stdout",
       "text": [
        "\n",
        "set([u'kinds.', u'lids.', u'kiss.'])\n",
        "set([u'outrageous'])\n",
        "[u'animatronics']"
       ]
      },
      {
       "output_type": "stream",
       "stream": "stdout",
       "text": [
        "\n",
        "set([u'oo-oo', u'solo', u'sows', u'soto', u'-so', u'sous', u'sons', u'sots', u'sobs'])"
       ]
      },
      {
       "output_type": "stream",
       "stream": "stdout",
       "text": [
        "\n",
        "set([u'cocktail'])\n",
        "set([u'on', u'bony', u'pony', u'one', u'only', u'tony', u'any', u'ont'])\n",
        "[u'light-up']"
       ]
      },
      {
       "output_type": "stream",
       "stream": "stdout",
       "text": [
        "\n",
        "set([u'extra'])\n",
        "set([u'posting'])\n",
        "set([u'530'])\n",
        "set([u'thy', u'thou', u'tu', u'thus', u'th', u'the', u'thud'])\n",
        "set([u'apollo', u'hello'])"
       ]
      },
      {
       "output_type": "stream",
       "stream": "stdout",
       "text": [
        "\n",
        "set([u'callous', u'gallops'])"
       ]
      },
      {
       "output_type": "stream",
       "stream": "stdout",
       "text": [
        "\n",
        "set([u'venetian'])"
       ]
      },
      {
       "output_type": "stream",
       "stream": "stdout",
       "text": [
        "\n",
        "set([u'meal.', u'heal.', u'real.', u'deal.', u'zeal.', u'seal.', u'veal', u'venal.', u'vell.'])\n",
        "set([u'day', u'days'])\n",
        "set([u'birthdays', u'birthday'])\n",
        "set([u'alliance', u'ambulance'])"
       ]
      },
      {
       "output_type": "stream",
       "stream": "stdout",
       "text": [
        "\n",
        "set([u'appetite'])"
       ]
      },
      {
       "output_type": "stream",
       "stream": "stdout",
       "text": [
        "\n",
        "[u'guacamole']"
       ]
      },
      {
       "output_type": "stream",
       "stream": "stdout",
       "text": [
        "\n",
        "[u'build-your-own']"
       ]
      },
      {
       "output_type": "stream",
       "stream": "stdout",
       "text": [
        "\n",
        "set([u'tapes.', u'tales.', u'acts.', u'traces.', u'taxes.', u'races.', u'paces.', u'tack.', u'bacon.', u'sacks.', u'tact.', u'tracks.', u'facts.', u'talks.', u'faces.', u'tabes.'])"
       ]
      },
      {
       "output_type": "stream",
       "stream": "stdout",
       "text": [
        "\n",
        "set([u'fork', u'folk.', u'work.', u'ford.', u'form.', u'york.', u'forks', u'cork.', u'for.'])\n",
        "[u'tortillas']"
       ]
      },
      {
       "output_type": "stream",
       "stream": "stdout",
       "text": [
        "\n",
        "set([u'pasty', u'taste', u'nasty', u'hasty'])\n",
        "set([u'blaze.', u'glazed', u'glare.', u'gaze.'])\n",
        "set([u'impressive'])\n",
        "set([u'satisfied', u'ratified'])\n",
        "[u'restaurant.com']"
       ]
      },
      {
       "output_type": "stream",
       "stream": "stdout",
       "text": [
        "\n",
        "set([u'certificates', u'certificate'])\n",
        "[u'sheraton']"
       ]
      },
      {
       "output_type": "stream",
       "stream": "stdout",
       "text": [
        "\n",
        "set([u'say', u'says'])\n",
        "set([u'impressed'])\n",
        "set([u'mammas', u'garbs', u'games', u'lambs', u'gambols', u'gamble'])"
       ]
      },
      {
       "output_type": "stream",
       "stream": "stdout",
       "text": [
        "\n",
        "set([u'diego', u'forego', u'hugo', u'forgo', u'ego', u'fuel'])"
       ]
      },
      {
       "output_type": "stream",
       "stream": "stdout",
       "text": [
        "\n",
        "set([u'maliciously', u'delicious'])"
       ]
      },
      {
       "output_type": "stream",
       "stream": "stdout",
       "text": [
        "\n",
        "set([u'spice'])\n",
        "set([u'pasty', u'taste', u'nasty', u'hasty'])\n",
        "set([u'salad'])\n",
        "set([u'dressings', u'dressing'])\n",
        "set([u'salary.', u'salons.', u'sands.', u'salad'])"
       ]
      },
      {
       "output_type": "stream",
       "stream": "stdout",
       "text": [
        "\n",
        "set([u'greene', u'greeks', u'green'])\n",
        "set([u'tomato', u'potatoes'])"
       ]
      },
      {
       "output_type": "stream",
       "stream": "stdout",
       "text": [
        "\n",
        "set([u'slice', u'slices'])\n",
        "set([u'unions', u'onion'])\n",
        "set([u'delirious.', u'delicious'])\n",
        "set([u'chinks'])\n",
        "set([u'restaurant'])\n",
        "set([u'entries'])\n",
        "set([u'phenomena'])\n",
        "set([u'horizon'])"
       ]
      },
      {
       "output_type": "stream",
       "stream": "stdout",
       "text": [
        "\n",
        "set([u'chicken', u'chickens'])\n",
        "[u'awesome.']"
       ]
      },
      {
       "output_type": "stream",
       "stream": "stdout",
       "text": [
        "\n",
        "set([u'ribs', u'rib.'])\n",
        "set([u'ribs'])\n",
        "[u'flavorful.']"
       ]
      },
      {
       "output_type": "stream",
       "stream": "stdout",
       "text": [
        "\n",
        "set([u'ingredient'])"
       ]
      },
      {
       "output_type": "stream",
       "stream": "stdout",
       "text": [
        "\n",
        "set([u'regularly'])\n",
        "[u'sheraton.']"
       ]
      },
      {
       "output_type": "stream",
       "stream": "stdout",
       "text": [
        "\n",
        "set([u'sector', u'defer', u'deck', u'tenor', u'deer', u'fedor', u'rector', u'dear', u'recur', u'decay', u'decorum', u'donor', u'depot', u'decks', u'door', u'demon', u'detour', u'deter', u'devour', u'senor', u'debtor', u'cor', u'defoe', u'der', u'doctor', u'deacon', u'record', u'vector', u'dec'])"
       ]
      },
      {
       "output_type": "stream",
       "stream": "stdout",
       "text": [
        "\n",
        "set([u'thought', u'thought.', u'though', u'trough.', u'thwough.', u'through.'])\n",
        "set([u'traffic'])\n",
        "[u'scottsdale']"
       ]
      },
      {
       "output_type": "stream",
       "stream": "stdout",
       "text": [
        "\n",
        "[u'knowledgeable.']"
       ]
      },
      {
       "output_type": "stream",
       "stream": "stdout",
       "text": [
        "\n",
        "set([u'pasty', u'taste', u'nasty', u'hasty'])\n",
        "[u'jalape\\xf1o']"
       ]
      },
      {
       "output_type": "stream",
       "stream": "stdout",
       "text": [
        "\n",
        "set([u'mare', u'marm', u'mark', u'mars', u'marx', u'mary'])\n",
        "set([u'brave', u'cave', u'crate', u'carve', u'crane', u'grave'])\n",
        "set([u'coin', u'cocking', u'coins', u'china', u'cocain', u'coming', u'cocaine', u'cooing'])"
       ]
      },
      {
       "output_type": "stream",
       "stream": "stdout",
       "text": [
        "\n",
        "set([u'warn', u'earn', u'dan', u'yarn', u'dart', u'dark', u'damn', u'dawn', u'dare', u'barn'])\n",
        "[u'smokehouse']"
       ]
      },
      {
       "output_type": "stream",
       "stream": "stdout",
       "text": [
        "\n",
        "set([u'burgher'])\n",
        "[u'awesome.']"
       ]
      },
      {
       "output_type": "stream",
       "stream": "stdout",
       "text": [
        "\n",
        "set([u'me', u'med', u'meg', u'eh', u'men', u'met', u'mesh', u'heh'])\n",
        "set([u'frenchy', u'crutch'])"
       ]
      },
      {
       "output_type": "stream",
       "stream": "stdout",
       "text": [
        "\n",
        "[u'unmentionable']"
       ]
      },
      {
       "output_type": "stream",
       "stream": "stdout",
       "text": [
        "\n",
        "[u'rotisserie']"
       ]
      },
      {
       "output_type": "stream",
       "stream": "stdout",
       "text": [
        "\n",
        "set([u'buds', u'bags', u'jugs', u'bus', u'bug', u'rugs'])\n",
        "set([u'log', u'vol', u'lo', u'll', u'sol', u'los', u'low', u'lot', u'col'])\n",
        "set([u'safely', u'safety', u'gateway'])"
       ]
      },
      {
       "output_type": "stream",
       "stream": "stdout",
       "text": [
        "\n",
        "set([u'sandwich'])\n",
        "[u'portobello']"
       ]
      },
      {
       "output_type": "stream",
       "stream": "stdout",
       "text": [
        "\n",
        "set([u'panins'])\n",
        "set([u'pasty', u'past', u'paste'])\n",
        "set([u'partisan'])"
       ]
      },
      {
       "output_type": "stream",
       "stream": "stdout",
       "text": [
        "\n",
        "[u'macaroni.']"
       ]
      },
      {
       "output_type": "stream",
       "stream": "stdout",
       "text": [
        "\n",
        "set([u'panins'])\n",
        "set([u'partisan'])"
       ]
      },
      {
       "output_type": "stream",
       "stream": "stdout",
       "text": [
        "\n",
        "set([u'pasty', u'past', u'paste'])\n",
        "[u'macaroni']"
       ]
      },
      {
       "output_type": "stream",
       "stream": "stdout",
       "text": [
        "\n",
        "set([u'carting', u'cannon.', u'barton', u'cartoons.', u'carlton', u'lawton.', u'cargo.', u'norton.', u'cotton.', u'pardon.', u'anton.', u'canton', u'carson', u'carting.', u'carron', u'carrion.', u'baron.', u'carbon', u'cartoon', u'caution.', u'charon.', u'carts.', u'cart.'])"
       ]
      },
      {
       "output_type": "stream",
       "stream": "stdout",
       "text": [
        "\n",
        "set([u'anything'])\n",
        "set([u'a', u'ac', u'ab', u'ad', u'ai', u'ah', u'ak', u'j', u'am', u'al', u'an', u'as', u'ar', u'au', u'at', u'ay', u'ax', u'adj', u'ja'])\n",
        "set([u'deserts.'])\n",
        "set([u'dessert', u'deserts'])\n",
        "set([u'serving'])\n",
        "[u'assortment']"
       ]
      },
      {
       "output_type": "stream",
       "stream": "stdout",
       "text": [
        "\n",
        "set([u'watering'])\n",
        "[u'knowledgeable']"
       ]
      },
      {
       "output_type": "stream",
       "stream": "stdout",
       "text": [
        "\n",
        "set([u'gums', u'guy', u'guns'])\n",
        "set([u'florid', u'florida', u'flourish', u'forest'])"
       ]
      },
      {
       "output_type": "stream",
       "stream": "stdout",
       "text": [
        "\n",
        "set([u'tiding'])\n",
        "set([u'florid', u'florida', u'flourish', u'forest'])"
       ]
      },
      {
       "output_type": "stream",
       "stream": "stdout",
       "text": [
        "\n",
        "set([u'chats', u'hats', u'that'])\n",
        "set([u'temps', u'tempt', u'temple', u'temper'])\n",
        "set([u'to-night'])"
       ]
      },
      {
       "output_type": "stream",
       "stream": "stdout",
       "text": [
        "\n",
        "[u'travelocity']"
       ]
      },
      {
       "output_type": "stream",
       "stream": "stdout",
       "text": [
        "\n",
        "set([u'non-sporing'])"
       ]
      },
      {
       "output_type": "stream",
       "stream": "stdout",
       "text": [
        "\n",
        "set([u'choked'])\n",
        "set([u'disgusting'])\n",
        "[u'corkscrew.']"
       ]
      },
      {
       "output_type": "stream",
       "stream": "stdout",
       "text": [
        "\n",
        "[u'corkscrew.']"
       ]
      },
      {
       "output_type": "stream",
       "stream": "stdout",
       "text": [
        "\n",
        "set([u'hope.', u'node.', u'lope.', u'note.', u'rope.', u'nose.', u'none.'])\n",
        "set([u'colors', u'cooks', u'doors'])\n",
        "set([u'waked', u'waken', u'wake', u'wakes', u'wakens'])"
       ]
      },
      {
       "output_type": "stream",
       "stream": "stdout",
       "text": [
        "\n",
        "set([u'50.', u'500'])\n",
        "set([u'warding'])\n",
        "[u'one-star']"
       ]
      },
      {
       "output_type": "stream",
       "stream": "stdout",
       "text": [
        "\n",
        "set([u'nearby'])\n",
        "[u'corkscrew']"
       ]
      },
      {
       "output_type": "stream",
       "stream": "stdout",
       "text": [
        "\n",
        "set([u'impressed'])\n",
        "set([u'pm'])\n",
        "[u'appetizers']"
       ]
      },
      {
       "output_type": "stream",
       "stream": "stdout",
       "text": [
        "\n",
        "set([u'special'])\n",
        "set([u'burghers', u'burgess'])\n",
        "set([u'cooked', u'looked.'])\n",
        "[u'mandalay']"
       ]
      },
      {
       "output_type": "stream",
       "stream": "stdout",
       "text": [
        "\n",
        "set([u'node', u'noble', u'needle', u'nodule', u'goodly', u'goodge', u'noose'])"
       ]
      },
      {
       "output_type": "stream",
       "stream": "stdout",
       "text": [
        "\n",
        "set([u'burgess', u'surmise'])"
       ]
      },
      {
       "output_type": "stream",
       "stream": "stdout",
       "text": [
        "\n",
        "set([u'petit', u'befits', u'petite'])"
       ]
      },
      {
       "output_type": "stream",
       "stream": "stdout",
       "text": [
        "\n",
        "set([u'okay'])\n",
        "set([u'cane', u'marne', u'carve', u'crane', u'warne', u'carte', u'care'])\n",
        "set([u'canada', u'aside', u'asia', u'sad', u'acadia', u'soda', u'armada'])"
       ]
      },
      {
       "output_type": "stream",
       "stream": "stdout",
       "text": [
        "\n",
        "set([u'aorta'])\n",
        "set([u'tack', u'tact'])\n",
        "set([u'average', u'averaged', u'averages'])\n",
        "set([u'salol', u'solfa', u'salon', u'samoa', u'palsy', u'alba', u'pals', u'sales', u'salve', u'seals', u'talma', u'salem', u'sacs', u'false', u'salts', u'scala', u'malta', u'also', u'slash', u'sails', u'salle', u'says', u'silas', u'sasha', u'sila', u'alas', u'santa', u'salut', u'sally', u'alma', u'balsam', u'sans', u'salad', u'saws', u'saliva', u'sale', u'valse', u'salt', u'sash', u'mala'])"
       ]
      },
      {
       "output_type": "stream",
       "stream": "stdout",
       "text": [
        "\n",
        "set([u'thought', u'thought.', u'though', u'trough.', u'thwough.', u'through.'])\n",
        "set([u'diable'])\n",
        "set([u'mend', u'menu'])"
       ]
      },
      {
       "output_type": "stream",
       "stream": "stdout",
       "text": [
        "\n",
        "set([u'weekend'])\n",
        "set([u'filbert'])"
       ]
      },
      {
       "output_type": "stream",
       "stream": "stdout",
       "text": [
        "\n",
        "set([u'adequate'])\n",
        "set([u'folks', u'folds.', u'folk.'])\n",
        "set([u'2d', u'and', u'end', u'und', u'nd'])\n",
        "set([u'am.'])\n",
        "set([u'log', u'vol', u'lo', u'll', u'sol', u'los', u'low', u'lot', u'col'])\n",
        "set([u'multiple'])\n",
        "set([u'shabby'])\n",
        "set([u'complaints', u'complaint.'])\n",
        "set([u'special'])\n",
        "set([u'suis', u'rush', u'tushin', u'susan', u'lush', u'aussi', u'sasha', u'hush', u'bush', u'gush', u'push', u'such', u'sash', u'bushy'])"
       ]
      },
      {
       "output_type": "stream",
       "stream": "stdout",
       "text": [
        "\n",
        "set([u'suis', u'rush', u'tushin', u'susan', u'lush', u'aussi', u'sasha', u'hush', u'bush', u'gush', u'push', u'such', u'sash', u'bushy'])"
       ]
      },
      {
       "output_type": "stream",
       "stream": "stdout",
       "text": [
        "\n",
        "set([u'unfordable'])"
       ]
      },
      {
       "output_type": "stream",
       "stream": "stdout",
       "text": [
        "\n",
        "set([u'restaurant'])\n",
        "[u'horrendous.']"
       ]
      },
      {
       "output_type": "stream",
       "stream": "stdout",
       "text": [
        "\n",
        "set([u'cups', u'up', u'us', u'pus'])\n",
        "set([u'gums', u'guy', u'guns'])\n",
        "set([u'disappointed'])"
       ]
      },
      {
       "output_type": "stream",
       "stream": "stdout",
       "text": [
        "\n",
        "set([u'feedback'])\n",
        "set([u'detailed', u'detained.'])\n",
        "set([u'positive'])\n",
        "set([u'gums', u'guy', u'guns'])\n",
        "set([u'polite', u'police.'])\n",
        "[u'awesome.']"
       ]
      },
      {
       "output_type": "stream",
       "stream": "stdout",
       "text": [
        "\n",
        "set([u'negative.'])\n",
        "set([u'smudge'])\n",
        "set([u'medals.'])\n",
        "set([u'rented', u'tormented', u'oriental', u'orient', u'printed'])"
       ]
      },
      {
       "output_type": "stream",
       "stream": "stdout",
       "text": [
        "\n",
        "set([u'joy.', u'job', u'mob.', u'jobs', u'sob.'])\n",
        "[u'let-down']"
       ]
      },
      {
       "output_type": "stream",
       "stream": "stdout",
       "text": [
        "\n",
        "set([u'webster'])"
       ]
      },
      {
       "output_type": "stream",
       "stream": "stdout",
       "text": [
        "\n",
        "[u'showroom']"
       ]
      },
      {
       "output_type": "stream",
       "stream": "stdout",
       "text": [
        "\n",
        "[u'showroom']"
       ]
      },
      {
       "output_type": "stream",
       "stream": "stdout",
       "text": [
        "\n",
        "set([u'disappointed'])"
       ]
      },
      {
       "output_type": "stream",
       "stream": "stdout",
       "text": [
        "\n",
        "set([u'pick'])\n",
        "set([u'liza', u'dizzy', u'penza'])"
       ]
      },
      {
       "output_type": "stream",
       "stream": "stdout",
       "text": [
        "\n",
        "set([u'ni', u'nl', u'nm', u'ty', u'any', u'na', u'no', u'nd', u'ne', u'n', u'y', u'cy', u'ney', u'ay', u'vy', u'nay', u'my', u'by', u'ly'])\n",
        "[u'mozzarella']"
       ]
      },
      {
       "output_type": "stream",
       "stream": "stdout",
       "text": [
        "\n",
        "[u'pepperoni']"
       ]
      },
      {
       "output_type": "stream",
       "stream": "stdout",
       "text": [
        "\n",
        "set([u'pepper'])\n",
        "[u'mozzarella']"
       ]
      },
      {
       "output_type": "stream",
       "stream": "stdout",
       "text": [
        "\n",
        "set([u'perfection'])\n",
        "[u'awesome.']"
       ]
      },
      {
       "output_type": "stream",
       "stream": "stdout",
       "text": [
        "\n",
        "set([u'liza', u'dizzy', u'penza'])"
       ]
      },
      {
       "output_type": "stream",
       "stream": "stdout",
       "text": [
        "\n",
        "[u'unbelievable']"
       ]
      },
      {
       "output_type": "stream",
       "stream": "stdout",
       "text": [
        "\n",
        "set([u'expensive'])"
       ]
      },
      {
       "output_type": "stream",
       "stream": "stdout",
       "text": [
        "\n",
        "set([u'taxi', u'oui', u'mail', u'mack', u'ali', u'ai', u'mask', u'muir', u'maxim', u'guai', u'mimi', u'au', u'raum', u'paul', u'kari', u'mare', u'matt', u'mala', u'mats', u'aug', u'mud', u'marm', u'make', u'mad', u'mark', u'maid', u'mug', u'mori', u'maude', u'maim', u'aux', u'faut', u'main', u'marx', u'mary', u'mast', u'ami', u'map', u'mat', u'maria', u'safi', u'may', u'max', u'mayo', u'mars', u'male', u'majus', u'marin', u'maps', u'haul', u'mania', u'mate', u'lui', u'qui', u'magic', u'marie', u'eau', u'mal', u'malum', u'made', u'ma', u'mais', u'many', u'malt', u'mi', u'mac', u'taut', u'mash', u'mall', u'gaul', u'mass', u'mane', u'man', u'mawr', u'nasi', u'mann', u'saul'])"
       ]
      },
      {
       "output_type": "stream",
       "stream": "stdout",
       "text": [
        "\n",
        "set([u'kaluga'])"
       ]
      },
      {
       "output_type": "stream",
       "stream": "stdout",
       "text": [
        "\n",
        "set([u'rugby', u'numb', u'rum', u'rub', u'rabbi', u'rumble', u'dumb', u'rubs', u'ruby', u'rumor'])"
       ]
      },
      {
       "output_type": "stream",
       "stream": "stdout",
       "text": [
        "\n",
        "set([u'kaluga'])"
       ]
      },
      {
       "output_type": "stream",
       "stream": "stdout",
       "text": [
        "\n",
        "set([u'hut', u'hue', u'hug', u'hum', u'hugh', u'hush', u'ouh', u'heh'])\n",
        "set([u'kaluga'])"
       ]
      },
      {
       "output_type": "stream",
       "stream": "stdout",
       "text": [
        "\n",
        "set([u'rugby', u'numb', u'rum', u'rub', u'rabbi', u'rumble', u'dumb', u'rubs', u'ruby', u'rumor'])"
       ]
      },
      {
       "output_type": "stream",
       "stream": "stdout",
       "text": [
        "\n",
        "set([u'haired', u'pared', u'pained'])\n",
        "[u'teriyaki']"
       ]
      },
      {
       "output_type": "stream",
       "stream": "stdout",
       "text": [
        "\n",
        "set([u'rugby', u'numb', u'rum', u'rub', u'rabbi', u'rumble', u'dumb', u'rubs', u'ruby', u'rumor'])"
       ]
      },
      {
       "output_type": "stream",
       "stream": "stdout",
       "text": [
        "\n",
        "set([u'coronet'])"
       ]
      },
      {
       "output_type": "stream",
       "stream": "stdout",
       "text": [
        "\n",
        "set([u'kaluga'])"
       ]
      },
      {
       "output_type": "stream",
       "stream": "stdout",
       "text": [
        "\n",
        "set([u'rugby', u'numb', u'rum', u'rub', u'rabbi', u'rumble', u'dumb', u'rubs', u'ruby', u'rumor'])"
       ]
      },
      {
       "output_type": "stream",
       "stream": "stdout",
       "text": [
        "\n",
        "[u'coleslaw']"
       ]
      },
      {
       "output_type": "stream",
       "stream": "stdout",
       "text": [
        "\n",
        "set([u'kaluga'])"
       ]
      },
      {
       "output_type": "stream",
       "stream": "stdout",
       "text": [
        "\n",
        "set([u'rugby', u'numb', u'rum', u'rub', u'rabbi', u'rumble', u'dumb', u'rubs', u'ruby', u'rumor'])"
       ]
      },
      {
       "output_type": "stream",
       "stream": "stdout",
       "text": [
        "\n",
        "set([u'dries', u'furies', u'frees', u'flies', u'tries', u'cries', u'fires', u'frise', u'fried'])\n",
        "set([u'burgher'])\n",
        "set([u'pasty', u'taste', u'nasty', u'hasty'])\n",
        "set([u'rumor.', u'rumble.', u'rum.', u'rumble'])"
       ]
      },
      {
       "output_type": "stream",
       "stream": "stdout",
       "text": [
        "\n",
        "set([u'grover', u'growers', u'crockery'])"
       ]
      },
      {
       "output_type": "stream",
       "stream": "stdout",
       "text": [
        "\n",
        "set([u'shopping', u'shipping.'])\n",
        "set([u'became', u'because'])\n",
        "set([u'leaves', u'saves', u'waves'])\n",
        "set([u'professional'])\n",
        "set([u'salad'])\n",
        "set([u'sandwich'])\n",
        "set([u'fera', u'fete', u'feat'])\n",
        "[u'portobello']"
       ]
      },
      {
       "output_type": "stream",
       "stream": "stdout",
       "text": [
        "\n",
        "set([u'sandwich'])"
       ]
      },
      {
       "output_type": "stream",
       "stream": "stdout",
       "text": [
        "\n",
        "[u'ciabatta']"
       ]
      },
      {
       "output_type": "stream",
       "stream": "stdout",
       "text": [
        "\n",
        "set([u'sandwich'])\n",
        "set([u'huge', u'hue.'])\n",
        "set([u'sandwich'])"
       ]
      },
      {
       "output_type": "stream",
       "stream": "stdout",
       "text": [
        "\n",
        "set([u'stone', u'scene', u'shone', u'score', u'cone', u'scope'])\n",
        "set([u'nom', u'mop', u'mot', u'mmm', u'mon', u'tom', u'mob'])\n",
        "[u'bookstore']"
       ]
      },
      {
       "output_type": "stream",
       "stream": "stdout",
       "text": [
        "\n",
        "[u'bookstore']"
       ]
      },
      {
       "output_type": "stream",
       "stream": "stdout",
       "text": [
        "\n",
        "set([u'nom', u'mop', u'mot', u'mmm', u'mon', u'tom', u'mob'])\n",
        "set([u'restaurant'])\n",
        "set([u'sobs.'])"
       ]
      },
      {
       "output_type": "stream",
       "stream": "stdout",
       "text": [
        "\n",
        "set([u'special'])\n",
        "set([u'spice'])\n",
        "set([u'codes', u'contest', u'confess', u'conde', u'fondest', u'condemn'])"
       ]
      },
      {
       "output_type": "stream",
       "stream": "stdout",
       "text": [
        "\n",
        "[u'cenpho']"
       ]
      },
      {
       "output_type": "stream",
       "stream": "stdout",
       "text": [
        "\n",
        "set([u'taste.'])\n",
        "[u'oaxaca']"
       ]
      },
      {
       "output_type": "stream",
       "stream": "stdout",
       "text": [
        "\n",
        "set([u'tack', u'tact'])\n",
        "set([u'swooping'])\n",
        "set([u'unions', u'onion'])\n",
        "set([u'timbered', u'immersed', u'stammered', u'hammered', u'glimmered', u'silvered', u'limbered'])"
       ]
      },
      {
       "output_type": "stream",
       "stream": "stdout",
       "text": [
        "\n",
        "[u'soronan']"
       ]
      },
      {
       "output_type": "stream",
       "stream": "stdout",
       "text": [
        "\n",
        "set([u'cane', u'marne', u'carve', u'crane', u'warne', u'carte', u'care'])\n",
        "set([u'canada', u'aside', u'asia', u'sad', u'acadia', u'soda', u'armada'])"
       ]
      },
      {
       "output_type": "stream",
       "stream": "stdout",
       "text": [
        "\n",
        "set([u'tack', u'tact'])\n",
        "[u'char-grilled']"
       ]
      },
      {
       "output_type": "stream",
       "stream": "stdout",
       "text": [
        "\n",
        "set([u'slough'])\n",
        "set([u'weekly'])\n",
        "[u'beer/liquor']"
       ]
      },
      {
       "output_type": "stream",
       "stream": "stdout",
       "text": [
        "\n",
        "set([u'branch', u'bunch'])\n",
        "set([u'airport'])\n",
        "set([u'navigable'])"
       ]
      },
      {
       "output_type": "stream",
       "stream": "stdout",
       "text": [
        "\n",
        "set([u'airport'])\n",
        "set([u'hip', u'sip', u'zis', u'tip', u'rip', u'lip', u'nip', u'dip'])\n",
        "set([u'flights', u'lights.', u'flight.'])\n",
        "[u'four-legged']"
       ]
      },
      {
       "output_type": "stream",
       "stream": "stdout",
       "text": [
        "\n",
        "set([u'allegories', u'galleries'])"
       ]
      },
      {
       "output_type": "stream",
       "stream": "stdout",
       "text": [
        "\n",
        "[u'asthma']"
       ]
      },
      {
       "output_type": "stream",
       "stream": "stdout",
       "text": [
        "\n",
        "set([u'ditch', u'stitch', u'clutch', u'fitch', u'latch', u'blotch', u'switch', u'witch', u'bitch', u'pitch', u'clinch', u'twitch'])"
       ]
      },
      {
       "output_type": "stream",
       "stream": "stdout",
       "text": [
        "\n",
        "set([u'unplaited', u'planned'])"
       ]
      },
      {
       "output_type": "stream",
       "stream": "stdout",
       "text": [
        "\n",
        "set([u'consideration', u'reconsideration'])"
       ]
      },
      {
       "output_type": "stream",
       "stream": "stdout",
       "text": [
        "\n",
        "set([u'provides', u'provider'])\n",
        "set([u'fairies', u'fairest', u'handiest', u'hardest', u'harriet', u'harvest', u'happiest'])"
       ]
      },
      {
       "output_type": "stream",
       "stream": "stdout",
       "text": [
        "\n",
        "set([u'womanly', u'inhumanly', u'humans', u'humanum', u'manly', u'human', u'humbly', u'humane', u'humanity'])"
       ]
      },
      {
       "output_type": "stream",
       "stream": "stdout",
       "text": [
        "\n",
        "set([u'causeless', u'careless', u'cloudless', u'valueless'])"
       ]
      },
      {
       "output_type": "stream",
       "stream": "stdout",
       "text": [
        "\n",
        "set([u'wheeling'])\n",
        "set([u'sneering'])\n",
        "[u'naperville']"
       ]
      },
      {
       "output_type": "stream",
       "stream": "stdout",
       "text": [
        "\n",
        "set([u'manures'])"
       ]
      },
      {
       "output_type": "stream",
       "stream": "stdout",
       "text": [
        "\n",
        "set([u'cheap'])\n",
        "set([u'sobs.'])"
       ]
      },
      {
       "output_type": "stream",
       "stream": "stdout",
       "text": [
        "\n",
        "set([u'manure'])"
       ]
      },
      {
       "output_type": "stream",
       "stream": "stdout",
       "text": [
        "\n",
        "[u'bad..they']"
       ]
      },
      {
       "output_type": "stream",
       "stream": "stdout",
       "text": [
        "\n",
        "set([u'apron.', u'approve'])"
       ]
      },
      {
       "output_type": "stream",
       "stream": "stdout",
       "text": [
        "\n",
        "set([u'manure'])"
       ]
      },
      {
       "output_type": "stream",
       "stream": "stdout",
       "text": [
        "\n",
        "[u'fine..have']"
       ]
      },
      {
       "output_type": "stream",
       "stream": "stdout",
       "text": [
        "\n",
        "set([u'opt', u'oui'])\n",
        "set([u'polished'])\n",
        "set([u'tumbled', u'humbled', u'rumbled', u'mumbled', u'jumble', u'fumbled'])\n",
        "[u'bartender']"
       ]
      },
      {
       "output_type": "stream",
       "stream": "stdout",
       "text": [
        "\n",
        "set([u'punch.', u'lunch'])\n",
        "[u'disrespected']"
       ]
      },
      {
       "output_type": "stream",
       "stream": "stdout",
       "text": [
        "\n",
        "set([u'customer', u'customers'])\n",
        "set([u'dots', u'do', u'cos', u'vos', u'doe', u'des', u'dog', u'dose', u'los', u'does', u'dot', u'das', u'don', u'dis', u'os', u'dogs', u'dost', u'nos'])\n",
        "set([u'moines', u'motions'])"
       ]
      },
      {
       "output_type": "stream",
       "stream": "stdout",
       "text": [
        "\n",
        "set([u'salol', u'solfa', u'salon', u'samoa', u'palsy', u'alba', u'pals', u'sales', u'salve', u'seals', u'talma', u'salem', u'sacs', u'false', u'salts', u'scala', u'malta', u'also', u'slash', u'sails', u'salle', u'says', u'silas', u'sasha', u'sila', u'alas', u'santa', u'salut', u'sally', u'alma', u'balsam', u'sans', u'salad', u'saws', u'saliva', u'sale', u'valse', u'salt', u'sash', u'mala'])"
       ]
      },
      {
       "output_type": "stream",
       "stream": "stdout",
       "text": [
        "\n",
        "set([u'spice'])\n",
        "[u'downtown']"
       ]
      },
      {
       "output_type": "stream",
       "stream": "stdout",
       "text": [
        "\n",
        "set([u'restaurant'])\n",
        "set([u'mails', u'balls', u'calls', u'males', u'mills', u'walls', u'falls', u'mall', u'halls'])"
       ]
      },
      {
       "output_type": "stream",
       "stream": "stdout",
       "text": [
        "\n",
        "set([u'mexican'])"
       ]
      },
      {
       "output_type": "stream",
       "stream": "stdout",
       "text": [
        "\n",
        "set([u'liza', u'dizzy', u'penza'])"
       ]
      },
      {
       "output_type": "stream",
       "stream": "stdout",
       "text": [
        "\n",
        "[u'enchiladas']"
       ]
      },
      {
       "output_type": "stream",
       "stream": "stdout",
       "text": [
        "\n",
        "set([u'spice', u'space.', u'spine.'])\n",
        "[u'downtown']"
       ]
      },
      {
       "output_type": "stream",
       "stream": "stdout",
       "text": [
        "\n",
        "set([u'salol', u'solfa', u'salon', u'samoa', u'palsy', u'alba', u'pals', u'sales', u'salve', u'seals', u'talma', u'salem', u'sacs', u'false', u'salts', u'scala', u'malta', u'also', u'slash', u'sails', u'salle', u'says', u'silas', u'sasha', u'sila', u'alas', u'santa', u'salut', u'sally', u'alma', u'balsam', u'sans', u'salad', u'saws', u'saliva', u'sale', u'valse', u'salt', u'sash', u'mala'])"
       ]
      },
      {
       "output_type": "stream",
       "stream": "stdout",
       "text": [
        "\n",
        "set([u'matins.', u'paths.', u'patriot.', u'ration.', u'paris.', u'pains.', u'nation.', u'patriots.', u'parties.', u'rations.', u'pathos', u'nations.'])"
       ]
      },
      {
       "output_type": "stream",
       "stream": "stdout",
       "text": [
        "\n",
        "[u'margaritas']"
       ]
      },
      {
       "output_type": "stream",
       "stream": "stdout",
       "text": [
        "\n",
        "[u'underwhelmed.']"
       ]
      },
      {
       "output_type": "stream",
       "stream": "stdout",
       "text": [
        "\n",
        "set([u'pitcher'])\n",
        "set([u'ganglia'])"
       ]
      },
      {
       "output_type": "stream",
       "stream": "stdout",
       "text": [
        "\n",
        "set([u'2000'])\n",
        "set([u'special'])\n",
        "set([u'restoration'])"
       ]
      },
      {
       "output_type": "stream",
       "stream": "stdout",
       "text": [
        "\n",
        "set([u'servant', u'errand'])"
       ]
      },
      {
       "output_type": "stream",
       "stream": "stdout",
       "text": [
        "\n",
        "[u'manchego']"
       ]
      },
      {
       "output_type": "stream",
       "stream": "stdout",
       "text": [
        "\n",
        "set([u'quincey', u'quincy'])\n",
        "set([u'polly', u'apollo', u'poll', u'polls'])\n",
        "set([u'tomato'])\n",
        "set([u'quilt', u'hail', u'nail', u'dual', u'fail', u'bail', u'quill', u'quit', u'quand', u'quaint', u'sail', u'avail', u'quid', u'tail', u'frail', u'mail', u'email', u'quay', u'pail', u'wail', u'rail', u'quart', u'trail', u'quell', u'guai', u'qui', u'equal', u'jail', u'pupil'])"
       ]
      },
      {
       "output_type": "stream",
       "stream": "stdout",
       "text": [
        "\n",
        "set([u'pencils', u'gentile', u'entails'])"
       ]
      },
      {
       "output_type": "stream",
       "stream": "stdout",
       "text": [
        "\n",
        "[u'drumettes.']"
       ]
      },
      {
       "output_type": "stream",
       "stream": "stdout",
       "text": [
        "\n",
        "[u'drumettes']"
       ]
      },
      {
       "output_type": "stream",
       "stream": "stdout",
       "text": [
        "\n",
        "set([u'overlay'])\n",
        "set([u'smudge'])\n",
        "set([u'prices', u'price'])\n",
        "set([u'vine'])\n",
        "set([u'9th'])\n",
        "[u'5:00pm.']"
       ]
      },
      {
       "output_type": "stream",
       "stream": "stdout",
       "text": [
        "\n",
        "set([u'carlyle', u'gargle', u'angle', u'agile', u'arable', u'argue'])"
       ]
      },
      {
       "output_type": "stream",
       "stream": "stdout",
       "text": [
        "\n",
        "set([u'bubble'])\n",
        "[u'absinthe.']"
       ]
      },
      {
       "output_type": "stream",
       "stream": "stdout",
       "text": [
        "\n",
        "set([u'chary', u'chord', u'hard', u'chart', u'charm', u'card'])\n",
        "set([u'battery', u'butter'])\n",
        "set([u'cuts', u'cures', u'ces', u'cubs', u'clues', u'cups', u'dues'])\n",
        "set([u'counted.', u'counter', u'counters'])\n",
        "set([u'seller', u'sellers'])\n",
        "set([u'tasted.', u'tastes', u'taste.'])\n",
        "set([u'ferment', u'tormented', u'ferments', u'fomented', u'permeated'])"
       ]
      },
      {
       "output_type": "stream",
       "stream": "stdout",
       "text": [
        "\n",
        "set([u'joy.', u'job', u'mob.', u'jobs', u'sob.'])\n",
        "set([u'town.', u'horn.', u'torn', u'ton.', u'born.', u'worn.', u'turn.'])\n",
        "set([u'facial'])\n",
        "set([u'coupon', u'grouped', u'group', u'groups', u'grouping'])"
       ]
      },
      {
       "output_type": "stream",
       "stream": "stdout",
       "text": [
        "\n",
        "set([u'deals', u'ideals.', u'deal.', u'heals.'])\n",
        "set([u'yells', u'eyelids', u'eyelid', u'eyes', u'yeas'])"
       ]
      },
      {
       "output_type": "stream",
       "stream": "stdout",
       "text": [
        "\n",
        "set([u'lining.', u'mining.', u'sitting.', u'binding.', u'stinging.', u'tending.', u'hinting', u'wincing.', u'tilting', u'winking.', u'hunting.', u'fainting.', u'sinking.', u'tiling.', u'singing.', u'thinking.', u'rioting.', u'wanting.', u'winning.', u'tingling.'])"
       ]
      },
      {
       "output_type": "stream",
       "stream": "stdout",
       "text": [
        "\n",
        "set([u'mess', u'mesh'])\n",
        "set([u'sandwich'])\n",
        "set([u'braddock'])"
       ]
      },
      {
       "output_type": "stream",
       "stream": "stdout",
       "text": [
        "\n",
        "set([u'provincial.'])"
       ]
      },
      {
       "output_type": "stream",
       "stream": "stdout",
       "text": [
        "\n",
        "set([u'beaded', u'dreaded'])\n",
        "set([u'braddock'])"
       ]
      },
      {
       "output_type": "stream",
       "stream": "stdout",
       "text": [
        "\n",
        "set([u'slice', u'slices'])\n",
        "set([u'romans', u'domain', u'remained', u'remains', u'romping', u'roman', u'romance', u'remain', u'combine', u'routine', u'roaming', u'cocaine', u'maine'])"
       ]
      },
      {
       "output_type": "stream",
       "stream": "stdout",
       "text": [
        "\n",
        "set([u'lecture'])"
       ]
      },
      {
       "output_type": "stream",
       "stream": "stdout",
       "text": [
        "\n",
        "set([u'provincial'])"
       ]
      },
      {
       "output_type": "stream",
       "stream": "stdout",
       "text": [
        "\n",
        "set([u'trilled', u'drilled'])\n",
        "set([u'brooch'])"
       ]
      },
      {
       "output_type": "stream",
       "stream": "stdout",
       "text": [
        "\n",
        "set([u'roll', u'doll.', u'role.', u'toll.', u'rolls'])\n",
        "set([u'brooch'])"
       ]
      },
      {
       "output_type": "stream",
       "stream": "stdout",
       "text": [
        "\n",
        "set([u'fluffy'])\n",
        "set([u'braddock'])"
       ]
      },
      {
       "output_type": "stream",
       "stream": "stdout",
       "text": [
        "\n",
        "set([u'dreading', u'beading', u'breaking', u'treading', u'breeding', u'reading'])\n",
        "set([u'overpowered'])"
       ]
      },
      {
       "output_type": "stream",
       "stream": "stdout",
       "text": [
        "\n",
        "[u'haddock.']"
       ]
      },
      {
       "output_type": "stream",
       "stream": "stdout",
       "text": [
        "\n",
        "set([u'overloaded', u'overlay', u'overland', u'overcoat', u'overlap', u'overhead', u'overboard', u'overlook', u'overlaid'])"
       ]
      },
      {
       "output_type": "stream",
       "stream": "stdout",
       "text": [
        "\n",
        "[u'accessorize']"
       ]
      },
      {
       "output_type": "stream",
       "stream": "stdout",
       "text": [
        "\n",
        "[u'salivates']"
       ]
      },
      {
       "output_type": "stream",
       "stream": "stdout",
       "text": [
        "\n",
        "[u'must-visit']"
       ]
      },
      {
       "output_type": "stream",
       "stream": "stdout",
       "text": [
        "\n",
        "set([u'each'])\n",
        "[u'appetizers.']"
       ]
      },
      {
       "output_type": "stream",
       "stream": "stdout",
       "text": [
        "\n",
        "set([u'each'])\n",
        "[u'allergic']"
       ]
      },
      {
       "output_type": "stream",
       "stream": "stdout",
       "text": [
        "\n",
        "set([u'glen', u'glisten', u'gotten', u'flute', u'gluteal', u'glued', u'lumen', u'gluteus'])"
       ]
      },
      {
       "output_type": "stream",
       "stream": "stdout",
       "text": [
        "\n",
        "[u'allergic']"
       ]
      },
      {
       "output_type": "stream",
       "stream": "stdout",
       "text": [
        "\n",
        "set([u'each'])\n",
        "[u'wheat-free']"
       ]
      },
      {
       "output_type": "stream",
       "stream": "stdout",
       "text": [
        "\n",
        "set([u'polls.', u'rolls'])\n",
        "set([u'sided', u'size', u'seized', u'sizes'])\n",
        "set([u'special'])\n",
        "set([u'bathroom'])\n",
        "set([u'each'])\n",
        "set([u'males.'])"
       ]
      },
      {
       "output_type": "stream",
       "stream": "stdout",
       "text": [
        "\n",
        "[u'downtown']"
       ]
      },
      {
       "output_type": "stream",
       "stream": "stdout",
       "text": [
        "\n",
        "set([u'brow.', u'brows.'])\n",
        "set([u'gums', u'guy', u'guns'])\n",
        "set([u'gums', u'guy', u'guns'])\n",
        "set([u'customer', u'customers'])\n",
        "set([u'on', u'non', u'don', u'yon', u'hon', u'von', u'son', u'ion', u'won', u'ton', u'mon', u'con'])\n",
        "set([u'35'])\n",
        "set([u'ounces.', u'ounce', u'once.', u'ounces'])\n",
        "set([u'sandwiched'])"
       ]
      },
      {
       "output_type": "stream",
       "stream": "stdout",
       "text": [
        "\n",
        "set([u'safely', u'safety', u'gateway'])"
       ]
      },
      {
       "output_type": "stream",
       "stream": "stdout",
       "text": [
        "\n",
        "[u'york-style']"
       ]
      },
      {
       "output_type": "stream",
       "stream": "stdout",
       "text": [
        "\n",
        "set([u'delhi', u'del'])\n",
        "[u'thunderbird.']"
       ]
      },
      {
       "output_type": "stream",
       "stream": "stdout",
       "text": [
        "\n",
        "set([u'requesting'])"
       ]
      },
      {
       "output_type": "stream",
       "stream": "stdout",
       "text": [
        "\n",
        "set([u'filbert'])"
       ]
      },
      {
       "output_type": "stream",
       "stream": "stdout",
       "text": [
        "\n",
        "set([u'berth'])\n",
        "[u'atmosphere-wise']"
       ]
      },
      {
       "output_type": "stream",
       "stream": "stdout",
       "text": [
        "\n",
        "set([u'sketch'])\n",
        "[u'hole-in-the-wall']"
       ]
      },
      {
       "output_type": "stream",
       "stream": "stdout",
       "text": [
        "\n",
        "set([u'lacks', u'sacks.'])\n",
        "[u'tortillas']"
       ]
      },
      {
       "output_type": "stream",
       "stream": "stdout",
       "text": [
        "\n",
        "set([u'salol', u'solfa', u'salon', u'samoa', u'palsy', u'alba', u'pals', u'sales', u'salve', u'seals', u'talma', u'salem', u'sacs', u'false', u'salts', u'scala', u'malta', u'also', u'slash', u'sails', u'salle', u'says', u'silas', u'sasha', u'sila', u'alas', u'santa', u'salut', u'sally', u'alma', u'balsam', u'sans', u'salad', u'saws', u'saliva', u'sale', u'valse', u'salt', u'sash', u'mala'])"
       ]
      },
      {
       "output_type": "stream",
       "stream": "stdout",
       "text": [
        "\n",
        "set([u\"it's\"])\n",
        "set([u'doing', u'filing', u'irina', u'bwing', u'sting', u'aiding', u'hiring', u'tiding', u'rising', u'licking', u'cong', u'ailing', u'diving', u'ring', u'ing', u'liking', u'ewing', u'facing', u'ici', u'dying', u'icons', u'giving', u'fixing', u'wiring', u'eying', u'being', u'acting', u'going', u'pining', u'cling', u'timing', u'riding', u'hiding', u'racing', u'mining', u'ticking', u'sling', u'fling', u'itching', u'irving', u'witing', u'kicking', u'wiping', u'living', u'lining', u'tying', u'mixing', u'sing', u'picking', u'aiming', u'wring', u'icon', u'dining', u'king', u'aching', u'piping', u'using', u'bring', u'wincing', u'firing', u'pacing', u'piling', u'vying', u'thing', u'owing', u'swing', u'biting', u'wing', u'lying'])"
       ]
      },
      {
       "output_type": "stream",
       "stream": "stdout",
       "text": [
        "\n",
        "set([u'highlight'])\n",
        "[u'botanical']"
       ]
      },
      {
       "output_type": "stream",
       "stream": "stdout",
       "text": [
        "\n",
        "set([u'slipping', u'shipping', u'sipping'])\n",
        "[u'5:00pm']"
       ]
      },
      {
       "output_type": "stream",
       "stream": "stdout",
       "text": [
        "\n",
        "set([u'pavilion'])\n",
        "[u'5:00pm']"
       ]
      },
      {
       "output_type": "stream",
       "stream": "stdout",
       "text": [
        "\n",
        "[u'weddings/receptions']"
       ]
      },
      {
       "output_type": "stream",
       "stream": "stdout",
       "text": [
        "\n",
        "set([u'wildlife'])\n",
        "set([u'wedding'])\n",
        "[u'rat-sqirrels']"
       ]
      },
      {
       "output_type": "stream",
       "stream": "stdout",
       "text": [
        "\n",
        "set([u'burrows'])\n",
        "set([u'oh-ing'])\n",
        "set([u'oh-ing'])\n",
        "set([u'cart', u'carpi', u'carts', u'casts', u'acts', u'tact', u'tacit', u'cat', u'cast', u'catch', u'cats', u'carte', u'tactic', u'act', u'facts', u'haiti', u'cactus', u'cocci', u'carta', u'fact', u'caste'])"
       ]
      },
      {
       "output_type": "stream",
       "stream": "stdout",
       "text": [
        "\n",
        "[u'wildflowers']"
       ]
      },
      {
       "output_type": "stream",
       "stream": "stdout",
       "text": [
        "\n",
        "set([u'me', u'med', u'meg', u'eh', u'men', u'met', u'mesh', u'heh'])"
       ]
      },
      {
       "output_type": "stream",
       "stream": "stdout",
       "text": [
        "\n",
        "set([u'decent'])\n",
        "[u'filibertos']"
       ]
      },
      {
       "output_type": "stream",
       "stream": "stdout",
       "text": [
        "\n",
        "[u'knockoff']"
       ]
      },
      {
       "output_type": "stream",
       "stream": "stdout",
       "text": [
        "\n",
        "[u'filibertos']"
       ]
      },
      {
       "output_type": "stream",
       "stream": "stdout",
       "text": [
        "\n",
        "set([u'sew', u'deah', u'jews', u'hewn', u'evewy', u'yeah', u'vewy', u'eh', u'hew', u'jew', u'pew', u'lech', u'few', u'dews', u'new', u'heh', u'leech', u'mews', u'teeth', u'heah', u'sewn', u'dewy', u'beech', u'news', u'beth', u'pwh', u'dew', u'mesh', u'each'])"
       ]
      },
      {
       "output_type": "stream",
       "stream": "stdout",
       "text": [
        "\n",
        "set([u'buck', u'tuck', u'fuck', u'duck', u'suck', u'luck'])\n",
        "set([u'wig', u'wie', u'ety', u'win', u'it', u'two', u'wit', u'at', u'wife', u'et', u'oft', u'st', u'its', u'if', u'web', u'woof', u'wee', u'wed', u'wid', u'tt', u'tu', u'wen', u'wiz', u'to', u'won', u'th', u'wet', u'woe', u'te', u'was', u'war', u'ta', u'we', u'who', u'ft', u'way', u'wa', u'ftp', u'wo', u'wad', u'ti', u'cf', u'aft', u'wits', u'ate', u'ff', u'watt', u'wan', u'with', u'why', u'wat', u'off', u'f', u'of', u'ty', u'wag', u'etc', u'wolf', u't', u'w', u'ut', u'twy', u'wax', u'wry', u'sty', u'def'])"
       ]
      },
      {
       "output_type": "stream",
       "stream": "stdout",
       "text": [
        "\n",
        "set([u'barges'])\n",
        "set([u'copy', u'cosy', u'cody'])\n",
        "set([u'beating.', u'sweating.', u'seating', u'eating.'])\n",
        "set([u'likes'])\n",
        "set([u'cross.', u'gross', u'ross.', u'grass.', u'grows.'])\n",
        "[u'couch-chairs']"
       ]
      },
      {
       "output_type": "stream",
       "stream": "stdout",
       "text": [
        "\n",
        "set([u'crossness'])"
       ]
      },
      {
       "output_type": "stream",
       "stream": "stdout",
       "text": [
        "\n",
        "set([u'wig', u'wie', u'ety', u'win', u'it', u'two', u'wit', u'at', u'wife', u'et', u'oft', u'st', u'its', u'if', u'web', u'woof', u'wee', u'wed', u'wid', u'tt', u'tu', u'wen', u'wiz', u'to', u'won', u'th', u'wet', u'woe', u'te', u'was', u'war', u'ta', u'we', u'who', u'ft', u'way', u'wa', u'ftp', u'wo', u'wad', u'ti', u'cf', u'aft', u'wits', u'ate', u'ff', u'watt', u'wan', u'with', u'why', u'wat', u'off', u'f', u'of', u'ty', u'wag', u'etc', u'wolf', u't', u'w', u'ut', u'twy', u'wax', u'wry', u'sty', u'def'])"
       ]
      },
      {
       "output_type": "stream",
       "stream": "stdout",
       "text": [
        "\n",
        "set([u'kinds', u'bids', u'kits', u'kiss', u'aids', u'lids', u'kid'])\n",
        "set([u'karp', u'kari', u'art', u'bart', u'wart', u'cart', u'dart', u'part', u'hart', u'karl'])\n",
        "set([u'sew', u'deah', u'jews', u'hewn', u'evewy', u'yeah', u'vewy', u'eh', u'hew', u'jew', u'pew', u'lech', u'few', u'dews', u'new', u'heh', u'leech', u'mews', u'teeth', u'heah', u'sewn', u'dewy', u'beech', u'news', u'beth', u'pwh', u'dew', u'mesh', u'each'])"
       ]
      },
      {
       "output_type": "stream",
       "stream": "stdout",
       "text": [
        "\n",
        "set([u'serves', u'server'])\n",
        "set([u'grands', u'grind'])\n",
        "set([u'eyes', u'geese', u'sees', u'flesh', u'welsh', u'bees', u'fees', u'yeah', u'leash', u'mesh', u'yeas', u'teeth', u'beech', u'fresh', u'yes', u'leech'])"
       ]
      },
      {
       "output_type": "stream",
       "stream": "stdout",
       "text": [
        "\n",
        "set([u'upon.', u'hood.', u'mood.', u'wood.', u'food.', u'pad.', u'spot.', u'god.', u'icon.', u'ind.', u'pond.', u'iron.', u'good.', u'iodi'])"
       ]
      },
      {
       "output_type": "stream",
       "stream": "stdout",
       "text": [
        "\n",
        "set([u'wife'])\n",
        "[u'high-tailed']"
       ]
      },
      {
       "output_type": "stream",
       "stream": "stdout",
       "text": [
        "\n",
        "[u'arrowhead']"
       ]
      },
      {
       "output_type": "stream",
       "stream": "stdout",
       "text": [
        "\n",
        "set([u'pp', u'pas', u'is', u'as', u'us', u'pes', u'p', u's', u'pa', u'pg', u'ms', u'pe', u'pm', u'os', u'po', u'pus'])\n",
        "set([u'fax', u'far', u'fas', u'fat', u'fan', u'fad'])\n",
        "set([u'cramps', u'crazy', u'croupy', u'rapp', u'cramp', u'sappy', u'craggy', u'crafty', u'happy'])"
       ]
      },
      {
       "output_type": "stream",
       "stream": "stdout",
       "text": [
        "\n",
        "set([u'summer'])\n",
        "set([u'spoils', u'spoil', u'spilt'])\n",
        "set([u'recaptured'])\n",
        "set([u'carry', u'furry', u'hurry', u'curly'])\n",
        "set([u'ruts', u'puts', u'gust', u'cuts', u'nuts', u'huts', u'gums', u'gut', u'gets', u'guns'])\n",
        "set([u'spoken.', u'showed.', u'stood.', u'stored', u'stroke.', u'stoned', u'styled.', u'stake.', u'stole.', u'smoker.', u'smoke.', u'stones.', u'stopped.', u'stocked', u'stove.', u'stolen.', u'spoke.', u'looked.', u'stayed.', u'stoke', u'stone.', u'stroked', u'stoper.', u'staked', u'snored.', u'stated.', u'stowe.', u'smoked', u'stoner.'])"
       ]
      },
      {
       "output_type": "stream",
       "stream": "stdout",
       "text": [
        "\n",
        "set([u'gables', u'galere', u'galled', u'gales', u'glee', u'galley', u'gale'])"
       ]
      },
      {
       "output_type": "stream",
       "stream": "stdout",
       "text": [
        "\n",
        "set([u'fills', u'hills.', u'frill', u'drills', u'stills.', u'refills.', u'bills.', u'mills.', u'trills'])"
       ]
      },
      {
       "output_type": "stream",
       "stream": "stdout",
       "text": [
        "\n",
        "set([u'bursitis'])"
       ]
      },
      {
       "output_type": "stream",
       "stream": "stdout",
       "text": [
        "\n",
        "set([u'tapes.', u'tales.', u'acts.', u'traces.', u'taxes.', u'races.', u'paces.', u'tack.', u'bacon.', u'sacks.', u'tact.', u'tracks.', u'facts.', u'talks.', u'faces.', u'tabes.'])"
       ]
      },
      {
       "output_type": "stream",
       "stream": "stdout",
       "text": [
        "\n",
        "set([u'tack', u'tact'])\n",
        "set([u'satisfy'])\n",
        "set([u'burdino', u'burri'])"
       ]
      },
      {
       "output_type": "stream",
       "stream": "stdout",
       "text": [
        "\n",
        "[u'sonoran']"
       ]
      },
      {
       "output_type": "stream",
       "stream": "stdout",
       "text": [
        "\n",
        "[u'tex-mex']"
       ]
      },
      {
       "output_type": "stream",
       "stream": "stdout",
       "text": [
        "\n",
        "set([u'filbert'])"
       ]
      },
      {
       "output_type": "stream",
       "stream": "stdout",
       "text": [
        "\n",
        "set([u'burrow', u'burri', u'burr'])\n",
        "set([u'combs', u'comb'])\n",
        "[u'enchilada']"
       ]
      },
      {
       "output_type": "stream",
       "stream": "stdout",
       "text": [
        "\n",
        "set([u'spice'])\n",
        "set([u'mottled', u'battled', u'bottles', u'bottle'])\n",
        "set([u'birdie.', u'bigger'])"
       ]
      },
      {
       "output_type": "stream",
       "stream": "stdout",
       "text": [
        "\n",
        "set([u'baffled', u'wattle', u'ruffle', u'snaffle'])"
       ]
      },
      {
       "output_type": "stream",
       "stream": "stdout",
       "text": [
        "\n",
        "set([u'case', u'cases'])\n",
        "set([u'alliance', u'ambulance'])"
       ]
      },
      {
       "output_type": "stream",
       "stream": "stdout",
       "text": [
        "\n",
        "set([u'ratio'])\n",
        "set([u'masters.'])\n",
        "set([u'nipple', u'happier'])"
       ]
      },
      {
       "output_type": "stream",
       "stream": "stdout",
       "text": [
        "\n",
        "set([u'case', u'cases'])\n",
        "set([u'moore'])\n",
        "set([u'photographic'])"
       ]
      },
      {
       "output_type": "stream",
       "stream": "stdout",
       "text": [
        "\n",
        "set([u'pm'])\n",
        "set([u'pet.', u'pens.', u'petit.', u'petya.', u'pets', u'jets.'])"
       ]
      },
      {
       "output_type": "stream",
       "stream": "stdout",
       "text": [
        "\n",
        "set([u'mystery', u'masters', u'ulsters', u'ostlers', u'jesters', u'sisters', u'posters', u'monsters', u'systems'])"
       ]
      },
      {
       "output_type": "stream",
       "stream": "stdout",
       "text": [
        "\n",
        "set([u'ratio'])\n",
        "set([u'mystery', u'masters', u'ulsters', u'ostlers', u'jesters', u'sisters', u'posters', u'monsters', u'systems'])"
       ]
      },
      {
       "output_type": "stream",
       "stream": "stdout",
       "text": [
        "\n",
        "set([u'case', u'cases'])\n",
        "set([u'pasty', u'taste', u'nasty', u'hasty'])\n",
        "set([u'mystery', u'fester', u'sister', u'lister', u'outer', u'monster', u'custer', u'ulster', u'muster', u'mister', u'system', u'bolster', u'lobster', u'foster', u'master', u'poster', u'coster', u'luster', u'easter', u'faster'])"
       ]
      },
      {
       "output_type": "stream",
       "stream": "stdout",
       "text": [
        "\n",
        "set([u'balls'])\n",
        "set([u'pie', u'pere', u'pew', u'lee', u'wee', u'pet', u'peu', u'nee', u'pen', u'per', u'pes', u'see', u'fee', u'gee', u'pe', u'peer', u'peep', u'peg', u'pea', u'bee'])\n",
        "set([u'larrey', u'birney', u'kearney', u'blaine', u'barley'])"
       ]
      },
      {
       "output_type": "stream",
       "stream": "stdout",
       "text": [
        "\n",
        "set([u'schedules', u'schedule'])\n",
        "set([u'teach', u'lech'])\n",
        "set([u'west', u'quest'])\n",
        "set([u'upgrade'])\n",
        "set([u'limbs.'])"
       ]
      },
      {
       "output_type": "stream",
       "stream": "stdout",
       "text": [
        "\n",
        "set([u'fades', u'axes', u'fixes', u'foxes', u'taxes', u'faces', u'fares'])\n",
        "set([u'responding'])\n",
        "set([u'ix', u'm', u'is', u'am', u'it', u'iv', u'ii', u'rim', u'il', u'in', u'id', u'if', u'nm', u'tim', u'jim', u'imp', u'pm', u'hm', u'him', u'dim', u'i', u'mi', u'km', u'aim'])\n",
        "set([u'flax.', u'ear.', u'far.', u'fax', u'tax.', u'era.', u'fox.', u'fat.', u'fan.', u'eat.', u'fear.', u'wax.', u'fix.'])"
       ]
      },
      {
       "output_type": "stream",
       "stream": "stdout",
       "text": [
        "\n",
        "[u'fettucine']"
       ]
      },
      {
       "output_type": "stream",
       "stream": "stdout",
       "text": [
        "\n",
        "set([u'alfred'])\n",
        "[u'meatballs']"
       ]
      },
      {
       "output_type": "stream",
       "stream": "stdout",
       "text": [
        "\n",
        "set([u'o.', u'ok', u'oak.', u'oz.', u'of.', u'k.', u'oka', u'on.'])\n",
        "set([u'type.', u'hope.'])\n",
        "set([u'operated', u'overruled', u'serrated'])"
       ]
      },
      {
       "output_type": "stream",
       "stream": "stdout",
       "text": [
        "\n",
        "set([u'alliance', u'ambulance'])"
       ]
      },
      {
       "output_type": "stream",
       "stream": "stdout",
       "text": [
        "\n",
        "set([u'chills'])\n",
        "[u'past-due']"
       ]
      },
      {
       "output_type": "stream",
       "stream": "stdout",
       "text": [
        "\n",
        "set([u'reviews', u'review.'])\n",
        "[u'chipotle']"
       ]
      },
      {
       "output_type": "stream",
       "stream": "stdout",
       "text": [
        "\n",
        "set([u'writers', u'rioters', u'printers'])"
       ]
      },
      {
       "output_type": "stream",
       "stream": "stdout",
       "text": [
        "\n",
        "[u'guacamole']"
       ]
      },
      {
       "output_type": "stream",
       "stream": "stdout",
       "text": [
        "\n",
        "set([u'burdino', u'burri'])"
       ]
      },
      {
       "output_type": "stream",
       "stream": "stdout",
       "text": [
        "\n",
        "[u'add-ins.']"
       ]
      },
      {
       "output_type": "stream",
       "stream": "stdout",
       "text": [
        "\n",
        "[u'gustatory']"
       ]
      },
      {
       "output_type": "stream",
       "stream": "stdout",
       "text": [
        "\n",
        "set([u'exultation', u'excavation', u'exaltation', u'recitation', u'expiration', u'expiation'])"
       ]
      },
      {
       "output_type": "stream",
       "stream": "stdout",
       "text": [
        "\n",
        "[u'non-threatening']"
       ]
      },
      {
       "output_type": "stream",
       "stream": "stdout",
       "text": [
        "\n",
        "[u'gabacho']"
       ]
      },
      {
       "output_type": "stream",
       "stream": "stdout",
       "text": [
        "\n",
        "set([u'ices', u'ice', u'icel'])\n",
        "[u'all-you-can-drink']"
       ]
      },
      {
       "output_type": "stream",
       "stream": "stdout",
       "text": [
        "\n",
        "set([u'girls.'])"
       ]
      },
      {
       "output_type": "stream",
       "stream": "stdout",
       "text": [
        "\n",
        "set([u'd.', u'ed.', u'rd', u'dr.', u'r.', u'red.'])\n",
        "set([u'fils', u'gilt', u'girls', u'oils'])\n",
        "set([u'land', u'yard', u'lad', u'hard', u'laid', u'lark', u'lord', u'ward', u'card'])\n",
        "set([u'flavor', u'favor.'])\n",
        "set([u'confused.', u'induced.', u'injured.', u'refused.'])"
       ]
      },
      {
       "output_type": "stream",
       "stream": "stdout",
       "text": [
        "\n",
        "set([u'bursitis'])"
       ]
      },
      {
       "output_type": "stream",
       "stream": "stdout",
       "text": [
        "\n",
        "set([u'carta', u'anita', u'carnival'])"
       ]
      },
      {
       "output_type": "stream",
       "stream": "stdout",
       "text": [
        "\n",
        "set([u'burdino', u'burri'])"
       ]
      },
      {
       "output_type": "stream",
       "stream": "stdout",
       "text": [
        "\n",
        "set([u'replied', u'refuted', u'wearied', u'reared', u'retired', u'befriend', u'relied', u'refused', u'decried', u'fried', u'refrained', u'serried', u'refined', u'referred', u'reformed', u'defied'])"
       ]
      },
      {
       "output_type": "stream",
       "stream": "stdout",
       "text": [
        "\n",
        "set([u'hook', u'lock', u'rock', u'shock', u'sock', u'dock', u'mock', u'hack', u'cock', u'hoch'])\n",
        "set([u'began.', u'beat.', u'bean', u'beans', u'bear.', u'mean.', u'ban.', u'been.'])\n",
        "set([u'carnival'])"
       ]
      },
      {
       "output_type": "stream",
       "stream": "stdout",
       "text": [
        "\n",
        "set([u'huge', u'hue.'])\n",
        "set([u'sped', u'speck'])\n",
        "set([u'watch', u'batch', u'patch', u'thatch', u'hath', u'catch', u'latch', u'hotch', u'match'])\n",
        "set([u'chile'])\n",
        "set([u'salol', u'solfa', u'salon', u'samoa', u'palsy', u'alba', u'pals', u'sales', u'salve', u'seals', u'talma', u'salem', u'sacs', u'false', u'salts', u'scala', u'malta', u'also', u'slash', u'sails', u'salle', u'says', u'silas', u'sasha', u'sila', u'alas', u'santa', u'salut', u'sally', u'alma', u'balsam', u'sans', u'salad', u'saws', u'saliva', u'sale', u'valse', u'salt', u'sash', u'mala'])"
       ]
      },
      {
       "output_type": "stream",
       "stream": "stdout",
       "text": [
        "\n",
        "set([u'bucks'])\n",
        "[u'homemade']"
       ]
      },
      {
       "output_type": "stream",
       "stream": "stdout",
       "text": [
        "\n",
        "set([u'salol', u'solfa', u'salon', u'samoa', u'palsy', u'alba', u'pals', u'sales', u'salve', u'seals', u'talma', u'salem', u'sacs', u'false', u'salts', u'scala', u'malta', u'also', u'slash', u'sails', u'salle', u'says', u'silas', u'sasha', u'sila', u'alas', u'santa', u'salut', u'sally', u'alma', u'balsam', u'sans', u'salad', u'saws', u'saliva', u'sale', u'valse', u'salt', u'sash', u'mala'])"
       ]
      },
      {
       "output_type": "stream",
       "stream": "stdout",
       "text": [
        "\n",
        "set([u'spice'])\n",
        "set([u'ratio'])\n",
        "[u'waterfall']"
       ]
      },
      {
       "output_type": "stream",
       "stream": "stdout",
       "text": [
        "\n",
        "[u'pizza.']"
       ]
      },
      {
       "output_type": "stream",
       "stream": "stdout",
       "text": [
        "\n",
        "set([u'be', u'b', u'bc', u'bl', u'j', u'br', u'by'])\n",
        "[u'charismatic']"
       ]
      },
      {
       "output_type": "stream",
       "stream": "stdout",
       "text": [
        "\n",
        "[u'awesome']"
       ]
      },
      {
       "output_type": "stream",
       "stream": "stdout",
       "text": [
        "\n",
        "set([u'cashier'])\n",
        "[u'space-cadet']"
       ]
      },
      {
       "output_type": "stream",
       "stream": "stdout",
       "text": [
        "\n",
        "set([u'aah', u'ana'])\n",
        "set([u'j', u'ty', u'tt', u'tu', u'to', u't', u'th', u'ti', u'te', u'ta'])\n",
        "set([u'sue', u'sub', u'sun', u'sum', u'pua', u'sha', u'sur', u'sea', u'sup', u'sa'])"
       ]
      },
      {
       "output_type": "stream",
       "stream": "stdout",
       "text": [
        "\n",
        "set([u'ices', u'ice', u'icel'])\n",
        "set([u'mess', u'mesh'])\n",
        "set([u'calomel', u'carrel', u'camel'])"
       ]
      },
      {
       "output_type": "stream",
       "stream": "stdout",
       "text": [
        "\n",
        "set([u'favors', u'flavor'])\n",
        "set([u'heavenly'])\n",
        "set([u'mellow', u'fellows'])\n",
        "set([u'sue', u'sub', u'sun', u'sum', u'pua', u'sha', u'sur', u'sea', u'sup', u'sa'])\n",
        "set([u'mess', u'mesh'])\n",
        "set([u'pro', u'oho', u'po', u'who', u'ho'])\n",
        "set([u'oscar', u'scurf', u'obscure', u'occur', u'occurs'])"
       ]
      },
      {
       "output_type": "stream",
       "stream": "stdout",
       "text": [
        "\n",
        "set([u'layer', u'larger', u'laser', u'later', u'eager', u'wager'])\n",
        "set([u'liza', u'dizzy', u'penza'])"
       ]
      },
      {
       "output_type": "stream",
       "stream": "stdout",
       "text": [
        "\n",
        "set([u'va.', u'us.', u'vi.', u'v.', u's.', u'is.'])\n",
        "set([u'screens', u'screen.'])\n",
        "set([u'football'])\n",
        "set([u'happiest', u'happier', u'nipples', u'gipsies'])"
       ]
      },
      {
       "output_type": "stream",
       "stream": "stdout",
       "text": [
        "\n",
        "set([u'canal', u'anal', u'ana'])"
       ]
      },
      {
       "output_type": "stream",
       "stream": "stdout",
       "text": [
        "\n",
        "set([u'online'])\n",
        "[u'pharmacy']"
       ]
      },
      {
       "output_type": "stream",
       "stream": "stdout",
       "text": [
        "\n",
        "set([u'taper'])\n",
        "set([u'hours', u'ours', u'fours', u'yours', u'pour'])\n",
        "[u'patchouli']"
       ]
      },
      {
       "output_type": "stream",
       "stream": "stdout",
       "text": [
        "\n",
        "[u'hippie-land.']"
       ]
      },
      {
       "output_type": "stream",
       "stream": "stdout",
       "text": [
        "\n",
        "set([u'happiest', u'happier', u'nipples', u'gipsies'])"
       ]
      },
      {
       "output_type": "stream",
       "stream": "stdout",
       "text": [
        "\n",
        "set([u'counted.', u'counter', u'counters'])\n",
        "set([u'76'])\n",
        "set([u'anyway'])\n",
        "set([u'burgher'])\n",
        "set([u'swindon'])"
       ]
      },
      {
       "output_type": "stream",
       "stream": "stdout",
       "text": [
        "\n",
        "set([u'dries', u'furies', u'frees', u'flies', u'tries', u'cries', u'fires', u'frise', u'fried'])\n",
        "set([u'dries', u'furies', u'frees', u'flies', u'tries', u'cries', u'fires', u'frise', u'fried'])\n",
        "set([u'crisply', u'crisp'])\n",
        "set([u'gerry', u'ferry', u'jerky', u'perry', u'merry'])\n",
        "set([u'happiest', u'happier', u'nipples', u'gipsies'])"
       ]
      },
      {
       "output_type": "stream",
       "stream": "stdout",
       "text": [
        "\n",
        "set([u'ratio'])\n",
        "set([u'branch', u'bunch'])\n",
        "set([u'mars', u'marya', u'mary', u'marks'])\n",
        "[u'downside']"
       ]
      },
      {
       "output_type": "stream",
       "stream": "stdout",
       "text": [
        "\n",
        "set([u'salivation', u'valuation', u'variation'])"
       ]
      },
      {
       "output_type": "stream",
       "stream": "stdout",
       "text": [
        "\n",
        "[u'freebie.']"
       ]
      },
      {
       "output_type": "stream",
       "stream": "stdout",
       "text": [
        "\n",
        "set([u'ratio'])\n",
        "set([u'frill', u'drill'])\n",
        "set([u'sector', u'defer', u'deck', u'tenor', u'deer', u'fedor', u'rector', u'dear', u'recur', u'decay', u'decorum', u'donor', u'depot', u'decks', u'door', u'demon', u'detour', u'deter', u'devour', u'senor', u'debtor', u'cor', u'defoe', u'der', u'doctor', u'deacon', u'record', u'vector', u'dec'])"
       ]
      },
      {
       "output_type": "stream",
       "stream": "stdout",
       "text": [
        "\n",
        "set([u'simpler'])"
       ]
      },
      {
       "output_type": "stream",
       "stream": "stdout",
       "text": [
        "\n",
        "set([u'salad'])\n",
        "set([u'italian'])\n",
        "[u'homemade']"
       ]
      },
      {
       "output_type": "stream",
       "stream": "stdout",
       "text": [
        "\n",
        "[u'minestrone']"
       ]
      },
      {
       "output_type": "stream",
       "stream": "stdout",
       "text": [
        "\n",
        "set([u'ingredient'])\n",
        "set([u'dessert', u'deserts'])\n",
        "[u'cupcake']"
       ]
      },
      {
       "output_type": "stream",
       "stream": "stdout",
       "text": [
        "\n",
        "set([u'cow', u'wo', u'vow', u'tow', u'bow', u'how', u'won', u'low', u'sow', u'woe', u'now', u'row'])\n",
        "[u'restrooms']"
       ]
      },
      {
       "output_type": "stream",
       "stream": "stdout",
       "text": [
        "\n",
        "set([u'pent-up'])"
       ]
      },
      {
       "output_type": "stream",
       "stream": "stdout",
       "text": [
        "\n",
        "set([u'no.', u'new.', u'eye.', u'any.', u'now.', u'nick', u'nice', u'net.', u'dec.', u'c.', u'neck.', u'sac.', u'rye.', u'nun.', u'nag.', u'nice.', u'neck', u'n.', u'by.', u'nap.', u'not.', u'etc.'])"
       ]
      },
      {
       "output_type": "stream",
       "stream": "stdout",
       "text": [
        "\n",
        "[u'toilet/water-closet']"
       ]
      },
      {
       "output_type": "stream",
       "stream": "stdout",
       "text": [
        "\n",
        "[u'restroom']"
       ]
      },
      {
       "output_type": "stream",
       "stream": "stdout",
       "text": [
        "\n",
        "set([u'unison', u'united', u'unite', u'unused', u'unites', u'unwise'])"
       ]
      },
      {
       "output_type": "stream",
       "stream": "stdout",
       "text": [
        "\n",
        "set([u'esq.', u'b.', u'boy.', u'bay.', u'ban.', u'bee.', u'be.', u'bed.', u'bad.', u'q.', u'box.', u'bog.', u'bar.', u'bit.', u'buy.', u'bow.', u'by.', u'big.', u'abbe.', u'baby.', u'bag.', u'bud.'])"
       ]
      },
      {
       "output_type": "stream",
       "stream": "stdout",
       "text": [
        "\n",
        "set([u'yuma', u'rum', u'hum', u'sum', u'gum', u'cum', u'zum'])\n",
        "[u'foccacia']"
       ]
      },
      {
       "output_type": "stream",
       "stream": "stdout",
       "text": [
        "\n",
        "[u'awesome.']"
       ]
      },
      {
       "output_type": "stream",
       "stream": "stdout",
       "text": [
        "\n",
        "set([u'grands', u'granddad', u'grandly', u'grande', u'grand', u'grandee'])"
       ]
      },
      {
       "output_type": "stream",
       "stream": "stdout",
       "text": [
        "\n",
        "set([u'burgher'])\n",
        "set([u'pest'])\n",
        "set([u'pence', u'penn', u'penny', u'penned', u'penns'])\n",
        "[u'primavera.']"
       ]
      },
      {
       "output_type": "stream",
       "stream": "stdout",
       "text": [
        "\n",
        "set([u'pasty', u'past', u'paste'])\n",
        "set([u'squaw', u'smash', u'squat', u'sash', u'splash', u'square', u'slash', u'swash', u'squad'])"
       ]
      },
      {
       "output_type": "stream",
       "stream": "stdout",
       "text": [
        "\n",
        "set([u'vegetables'])\n",
        "set([u'pest'])\n",
        "set([u'pasty', u'past', u'paste'])\n",
        "set([u'delirious.', u'delicious'])\n",
        "set([u'burgher'])\n",
        "set([u'huge', u'hue.'])\n",
        "set([u'money', u'monkeys'])\n",
        "set([u'sleep.', u'seek.', u'sleek'])\n",
        "set([u'complaints', u'complaint.'])\n",
        "set([u'restaurant'])\n",
        "set([u'customers'])\n",
        "[u'awesome']"
       ]
      },
      {
       "output_type": "stream",
       "stream": "stdout",
       "text": [
        "\n",
        "set([u'tuscans'])\n",
        "[u'awesome.']"
       ]
      },
      {
       "output_type": "stream",
       "stream": "stdout",
       "text": [
        "\n",
        "set([u'games'])\n",
        "set([u'prices'])\n",
        "set([u'descent.', u'decent', u'recent.'])\n",
        "set([u'food', u'foods'])\n",
        "set([u'legible', u'enable', u'pedicle', u'bible', u'exile', u'audible', u'diable'])"
       ]
      },
      {
       "output_type": "stream",
       "stream": "stdout",
       "text": [
        "\n",
        "set([u'prices'])\n",
        "set([u'bars', u'bar', u'bart', u'bare', u'bark', u'barn'])\n",
        "set([u'weird'])\n",
        "set([u'vive', u've', u'vie', u'dive', u'give', u'eve', u'hive', u'iv', u'live', u'five', u'ice', u'ivy', u'ire'])\n",
        "set([u'does', u'dont', u'dost'])"
       ]
      },
      {
       "output_type": "stream",
       "stream": "stdout",
       "text": [
        "\n",
        "set([u'bailey'])\n",
        "set([u'liquefy.'])"
       ]
      },
      {
       "output_type": "stream",
       "stream": "stdout",
       "text": [
        "\n",
        "set([u'drinks'])\n",
        "set([u'me', u'med', u'meg', u'eh', u'men', u'met', u'mesh', u'heh'])\n",
        "set([u'wo', u'w', u'we', u'wa', u'/'])\n",
        "set([u'services', u'service'])\n",
        "set([u'weird'])\n",
        "set([u'vive', u've', u'vie', u'dive', u'give', u'eve', u'hive', u'iv', u'live', u'five', u'ice', u'ivy', u'ire'])\n",
        "set([u'yore', u'your', u'yours'])\n",
        "set([u'alliance', u'ambulance'])"
       ]
      },
      {
       "output_type": "stream",
       "stream": "stdout",
       "text": [
        "\n",
        "set([u'shrill.', u'mill.', u'girls.', u'grief.', u'sill.', u'grin.', u'bill.', u'girl.', u'frill', u'skill.', u'grimly.', u'ill.', u'crile.', u'trills', u'grip.', u'gaily.', u'drills', u'gorilla', u'still.', u'trial.', u'drill', u'will.', u'hill.'])"
       ]
      },
      {
       "output_type": "stream",
       "stream": "stdout",
       "text": [
        "\n",
        "set([u'costa', u'cos', u'bosom', u'costs', u'comme', u'cost', u'comma', u'common', u'coma', u'comb', u'come', u'cosy'])"
       ]
      },
      {
       "output_type": "stream",
       "stream": "stdout",
       "text": [
        "\n",
        "[u'gourmet']"
       ]
      },
      {
       "output_type": "stream",
       "stream": "stdout",
       "text": [
        "\n",
        "set([u'burghers', u'burgess'])\n",
        "set([u'montana', u'footing'])"
       ]
      },
      {
       "output_type": "stream",
       "stream": "stdout",
       "text": [
        "\n",
        "set([u'yuma', u'rum', u'hum', u'sum', u'gum', u'cum', u'zum'])\n",
        "set([u'liza', u'dizzy', u'penza'])"
       ]
      },
      {
       "output_type": "stream",
       "stream": "stdout",
       "text": [
        "\n",
        "set([u'ribs', u'rib.'])\n",
        "[u'out-of-state']"
       ]
      },
      {
       "output_type": "stream",
       "stream": "stdout",
       "text": [
        "\n",
        "set([u'climate.'])\n",
        "set([u'pinched', u'pouched', u'psychic', u'punched', u'perched', u'parched', u'pitched'])"
       ]
      },
      {
       "output_type": "stream",
       "stream": "stdout",
       "text": [
        "\n",
        "set([u'profane'])\n",
        "set([u'header', u'hearer', u'heather', u'theater', u'heated'])\n",
        "set([u'calorie'])"
       ]
      },
      {
       "output_type": "stream",
       "stream": "stdout",
       "text": [
        "\n",
        "[u'disneyland-']"
       ]
      },
      {
       "output_type": "stream",
       "stream": "stdout",
       "text": [
        "\n",
        "[u'sephora']"
       ]
      },
      {
       "output_type": "stream",
       "stream": "stdout",
       "text": [
        "\n",
        "set([u'girl', u'girls'])\n",
        "set([u'girl', u'girls'])\n",
        "set([u'bands', u'brandy', u'grands', u'brand'])\n",
        "set([u'cosmetic'])\n",
        "[u'sephora']"
       ]
      },
      {
       "output_type": "stream",
       "stream": "stdout",
       "text": [
        "\n",
        "set([u'sparkle'])\n",
        "set([u'bumping', u'dumping', u'plucking', u'plugging', u'plunging', u'jumping', u'limping', u'thumping', u'clamping'])"
       ]
      },
      {
       "output_type": "stream",
       "stream": "stdout",
       "text": [
        "\n",
        "set([u'losses', u'glasses'])\n",
        "[u'lash-extending']"
       ]
      },
      {
       "output_type": "stream",
       "stream": "stdout",
       "text": [
        "\n",
        "[u'mascaras']"
       ]
      },
      {
       "output_type": "stream",
       "stream": "stdout",
       "text": [
        "\n",
        "[u'anti-aging']"
       ]
      },
      {
       "output_type": "stream",
       "stream": "stdout",
       "text": [
        "\n",
        "set([u'creaks', u'screams', u'crease', u'creamy', u'reams', u'dreams', u'cream'])"
       ]
      },
      {
       "output_type": "stream",
       "stream": "stdout",
       "text": [
        "\n",
        "[u'sephora-']"
       ]
      },
      {
       "output_type": "stream",
       "stream": "stdout",
       "text": [
        "\n",
        "set([u'gums', u'guy', u'guns'])\n",
        "set([u'tool', u'too', u'took'])\n",
        "[u'scottsdale']"
       ]
      },
      {
       "output_type": "stream",
       "stream": "stdout",
       "text": [
        "\n",
        "[u'sephora']"
       ]
      },
      {
       "output_type": "stream",
       "stream": "stdout",
       "text": [
        "\n",
        "[u'scottsdale']"
       ]
      },
      {
       "output_type": "stream",
       "stream": "stdout",
       "text": [
        "\n",
        "set([u'vagus.', u'began.', u'verbs.', u'vera.', u'seas.', u'versa.', u'legs.', u'vestas.', u'texas.', u'venal.', u'veins.'])"
       ]
      },
      {
       "output_type": "stream",
       "stream": "stdout",
       "text": [
        "\n",
        "set([u'hand', u'handy', u'hands'])\n",
        "set([u'pallor', u'hallo', u'pails', u'pail', u'cable', u'pale', u'pals', u'pago', u'able', u'ably', u'parlor', u'palm', u'paula', u'sable', u'fable', u'table', u'paul', u'pal', u'carlo', u'halo', u'pall'])"
       ]
      },
      {
       "output_type": "stream",
       "stream": "stdout",
       "text": [
        "\n",
        "set([u'trap.', u'chap.', u'cap.', u'crop.', u'crab.'])\n",
        "[u'one-star']"
       ]
      },
      {
       "output_type": "stream",
       "stream": "stdout",
       "text": [
        "\n",
        "set([u'vespers', u'helper', u'elders', u'yelped', u'keepers', u'sellers'])"
       ]
      },
      {
       "output_type": "stream",
       "stream": "stdout",
       "text": [
        "\n",
        "[u'copypaste']"
       ]
      },
      {
       "output_type": "stream",
       "stream": "stdout",
       "text": [
        "\n",
        "[u'enchiladas']"
       ]
      },
      {
       "output_type": "stream",
       "stream": "stdout",
       "text": [
        "\n",
        "set([u'shreddy', u'shrouded'])"
       ]
      },
      {
       "output_type": "stream",
       "stream": "stdout",
       "text": [
        "\n",
        "set([u'mimi', u'mint', u'mind', u'mine', u'min'])\n",
        "[u'chimichangas']"
       ]
      },
      {
       "output_type": "stream",
       "stream": "stdout",
       "text": [
        "\n",
        "set([u'salol', u'solfa', u'salon', u'samoa', u'palsy', u'alba', u'pals', u'sales', u'salve', u'seals', u'talma', u'salem', u'sacs', u'false', u'salts', u'scala', u'malta', u'also', u'slash', u'sails', u'salle', u'says', u'silas', u'sasha', u'sila', u'alas', u'santa', u'salut', u'sally', u'alma', u'balsam', u'sans', u'salad', u'saws', u'saliva', u'sale', u'valse', u'salt', u'sash', u'mala'])"
       ]
      },
      {
       "output_type": "stream",
       "stream": "stdout",
       "text": [
        "\n",
        "set([u'taste.'])\n",
        "set([u'punch.', u'lunch'])"
       ]
      },
      {
       "output_type": "stream",
       "stream": "stdout",
       "text": [
        "\n",
        "set([u'ab', u'ebb', u'bow', u'bee', u'abc', u'lb', u'abe', u'esq', u'bug', u'bus', u'bubo', u'bye', u'bin', u'be', u'abbe', u'buy', u'babe', u'bc', u'bl', u'big', u'bid', u'but', u'br', u'baby', u'ben', u'bit', u'by', u'bud', u'box', u'boy', u'bat', u'b', u'bar', u'mb', u'sq', u'beg', u'bed', u'bay', u'q', u'bag', u'bad', u'bet', u'ban', u'boa', u'bob', u'obs', u'bah'])"
       ]
      },
      {
       "output_type": "stream",
       "stream": "stdout",
       "text": [
        "\n",
        "set([u'pickled'])\n",
        "set([u'impressed', u'unexpressed'])"
       ]
      },
      {
       "output_type": "stream",
       "stream": "stdout",
       "text": [
        "\n",
        "[u'attentiveness']"
       ]
      },
      {
       "output_type": "stream",
       "stream": "stdout",
       "text": [
        "\n",
        "[u'az-88']"
       ]
      },
      {
       "output_type": "stream",
       "stream": "stdout",
       "text": [
        "\n",
        "set([u'chi', u'chip', u'chin', u'chit'])\n",
        "[u'scottsdale']"
       ]
      },
      {
       "output_type": "stream",
       "stream": "stdout",
       "text": [
        "\n",
        "[u't-shirt-and-jeans-wearing']"
       ]
      },
      {
       "output_type": "stream",
       "stream": "stdout",
       "text": [
        "\n",
        "set([u'oversight', u'overnight'])"
       ]
      },
      {
       "output_type": "stream",
       "stream": "stdout",
       "text": [
        "\n",
        "set([u'gun.', u'buy.', u'guy', u'gay.'])\n",
        "[u'mind-numbingly']"
       ]
      },
      {
       "output_type": "stream",
       "stream": "stdout",
       "text": [
        "\n",
        "set([u'bearing', u'flaring', u'blazing', u'blaming', u'glaring', u'baring'])\n",
        "set([u'do', u'j', u'd', u'adj', u'de', u'da', u'du', u'dr'])\n",
        "[u'wednesday-saturday']"
       ]
      },
      {
       "output_type": "stream",
       "stream": "stdout",
       "text": [
        "\n",
        "[u'az-88']"
       ]
      },
      {
       "output_type": "stream",
       "stream": "stdout",
       "text": [
        "\n",
        "set([u'reconstructed'])\n",
        "set([u'ni', u'nl', u'nm', u'ty', u'any', u'na', u'no', u'nd', u'ne', u'n', u'y', u'cy', u'ney', u'ay', u'vy', u'nay', u'my', u'by', u'ly'])\n",
        "[u'taxicab']"
       ]
      },
      {
       "output_type": "stream",
       "stream": "stdout",
       "text": [
        "\n",
        "set([u'fantastic', u'fanatical'])"
       ]
      },
      {
       "output_type": "stream",
       "stream": "stdout",
       "text": [
        "\n",
        "set([u'cabins', u'rabies', u'carries', u'caries', u'babies', u'hobbies', u'rabbits'])"
       ]
      },
      {
       "output_type": "stream",
       "stream": "stdout",
       "text": [
        "\n",
        "set([u'cocktail'])\n",
        "[u'rock-steady']"
       ]
      },
      {
       "output_type": "stream",
       "stream": "stdout",
       "text": [
        "\n",
        "set([u'costa', u'cos', u'bosom', u'costs', u'comme', u'cost', u'comma', u'common', u'coma', u'comb', u'come', u'cosy'])"
       ]
      },
      {
       "output_type": "stream",
       "stream": "stdout",
       "text": [
        "\n",
        "set([u'chagrin'])\n",
        "[u'cheesecake']"
       ]
      },
      {
       "output_type": "stream",
       "stream": "stdout",
       "text": [
        "\n",
        "[u'classy-but-casual']"
       ]
      },
      {
       "output_type": "stream",
       "stream": "stdout",
       "text": [
        "\n",
        "set([u'enjoy', u'enjoys', u'envoy.'])\n",
        "set([u'ratio'])\n",
        "set([u'burgher'])\n",
        "set([u'baffled', u'wattle', u'ruffle', u'snaffle'])"
       ]
      },
      {
       "output_type": "stream",
       "stream": "stdout",
       "text": [
        "\n",
        "set([u'dries', u'furies', u'frees', u'flies', u'tries', u'cries', u'fires', u'frise', u'fried'])\n",
        "set([u'salad'])\n",
        "set([u'sandwiched'])\n",
        "[u'cheesecake']"
       ]
      },
      {
       "output_type": "stream",
       "stream": "stdout",
       "text": [
        "\n",
        "set([u'delhi', u'del'])\n",
        "[u'cheesecake']"
       ]
      },
      {
       "output_type": "stream",
       "stream": "stdout",
       "text": [
        "\n",
        "[u'cheesecake']"
       ]
      },
      {
       "output_type": "stream",
       "stream": "stdout",
       "text": [
        "\n",
        "[u'cheesecake']"
       ]
      },
      {
       "output_type": "stream",
       "stream": "stdout",
       "text": [
        "\n",
        "set([u'ransom'])\n",
        "set([u'foul'])\n",
        "set([u'mummy', u'dummy'])\n",
        "set([u'their'])"
       ]
      },
      {
       "output_type": "stream",
       "stream": "stdout",
       "text": [
        "\n",
        "set([u'cubs.', u'tube.', u'tubs'])\n",
        "set([u'stuffy.', u'stuff.'])\n",
        "[u'breyers/']"
       ]
      },
      {
       "output_type": "stream",
       "stream": "stdout",
       "text": [
        "\n",
        "set([u'dryness.', u'dress.', u'layers.', u'orders.', u'prayers.'])"
       ]
      },
      {
       "output_type": "stream",
       "stream": "stdout",
       "text": [
        "\n",
        "set([u'digit', u'divide', u'did', u'timid', u'dived', u'david', u'dined', u'rigid', u'dried', u'xiii', u'vivid', u'livid', u'iii', u'died', u'viii'])"
       ]
      },
      {
       "output_type": "stream",
       "stream": "stdout",
       "text": [
        "\n",
        "set([u'frill', u'drill'])\n",
        "set([u'ingredient'])\n",
        "set([u'burghers', u'burgess'])\n",
        "set([u'asia'])\n",
        "set([u'carry', u'furry', u'hurry', u'curly'])\n",
        "set([u'wired'])\n",
        "set([u'carry', u'furry', u'hurry', u'curly'])\n",
        "set([u'pasty', u'taste', u'nasty', u'hasty'])\n",
        "set([u'carry', u'furry', u'hurry', u'curly'])\n",
        "set([u'bland', u'gland.', u'band.', u'land.', u'blind.'])\n",
        "set([u'carry', u'furry', u'hurry', u'curly'])\n",
        "set([u'scurry.', u'hurry.'])\n",
        "set([u'carry', u'furry', u'hurry', u'curly'])\n",
        "set([u'maggie', u'verge'])"
       ]
      },
      {
       "output_type": "stream",
       "stream": "stdout",
       "text": [
        "\n",
        "set([u'carry', u'furry', u'hurry', u'curly'])\n",
        "set([u'actress', u'witness', u'mattress'])"
       ]
      },
      {
       "output_type": "stream",
       "stream": "stdout",
       "text": [
        "\n",
        "set([u'mike', u'jockey', u'nickel', u'monkey', u'picket', u'sickly', u'macked', u'lackey', u'licked', u'kicked', u'meckel', u'mackes', u'mocked', u'picked', u'milky', u'ticket', u'wicket', u'rickety', u'mice', u'michel', u'wicked'])"
       ]
      },
      {
       "output_type": "stream",
       "stream": "stdout",
       "text": [
        "\n",
        "set([u'med.', u'men.', u'me.', u'met.'])\n",
        "set([u'salol', u'solfa', u'salon', u'samoa', u'palsy', u'alba', u'pals', u'sales', u'salve', u'seals', u'talma', u'salem', u'sacs', u'false', u'salts', u'scala', u'malta', u'also', u'slash', u'sails', u'salle', u'says', u'silas', u'sasha', u'sila', u'alas', u'santa', u'salut', u'sally', u'alma', u'balsam', u'sans', u'salad', u'saws', u'saliva', u'sale', u'valse', u'salt', u'sash', u'mala'])"
       ]
      },
      {
       "output_type": "stream",
       "stream": "stdout",
       "text": [
        "\n",
        "set([u'salol', u'solfa', u'salon', u'samoa', u'palsy', u'alba', u'pals', u'sales', u'salve', u'seals', u'talma', u'salem', u'sacs', u'false', u'salts', u'scala', u'malta', u'also', u'slash', u'sails', u'salle', u'says', u'silas', u'sasha', u'sila', u'alas', u'santa', u'salut', u'sally', u'alma', u'balsam', u'sans', u'salad', u'saws', u'saliva', u'sale', u'valse', u'salt', u'sash', u'mala'])"
       ]
      },
      {
       "output_type": "stream",
       "stream": "stdout",
       "text": [
        "\n",
        "set([u'faites'])"
       ]
      },
      {
       "output_type": "stream",
       "stream": "stdout",
       "text": [
        "\n",
        "set([u'relish'])\n",
        "set([u'cringe'])\n",
        "set([u'unions', u'onion'])\n",
        "set([u'chimes', u'lilies', u'cities', u'holies', u'chilled', u'chile', u'achilles', u'chills'])"
       ]
      },
      {
       "output_type": "stream",
       "stream": "stdout",
       "text": [
        "\n",
        "[u'guacamole']"
       ]
      },
      {
       "output_type": "stream",
       "stream": "stdout",
       "text": [
        "\n",
        "set([u'mummy', u'dummy'])\n",
        "set([u'prices', u'price'])\n",
        "set([u'overlay'])\n",
        "set([u'plating', u'dating'])"
       ]
      },
      {
       "output_type": "stream",
       "stream": "stdout",
       "text": [
        "\n",
        "set([u'serves', u'server'])\n",
        "[u'scottsdale']"
       ]
      },
      {
       "output_type": "stream",
       "stream": "stdout",
       "text": [
        "\n",
        "set([u'landmarks'])\n",
        "set([u'gums', u'guy', u'guns'])\n",
        "set([u'duplicate', u'implicate', u'delicate'])"
       ]
      },
      {
       "output_type": "stream",
       "stream": "stdout",
       "text": [
        "\n",
        "set([u'wring', u'fringe', u'rings', u'grind', u'bring', u'going', u'grin', u'goings', u'ring', u'cringe', u'brings'])"
       ]
      },
      {
       "output_type": "stream",
       "stream": "stdout",
       "text": [
        "\n",
        "set([u'failed.'])\n",
        "set([u'outdoor'])\n",
        "[u'beanbag']"
       ]
      },
      {
       "output_type": "stream",
       "stream": "stdout",
       "text": [
        "\n",
        "[u'televised']"
       ]
      },
      {
       "output_type": "stream",
       "stream": "stdout",
       "text": [
        "\n",
        "set([u'bearing', u'flaring', u'blazing', u'blaming', u'glaring', u'baring'])\n",
        "set([u'pelvis', u'ellis'])\n",
        "set([u'morris'])\n",
        "set([u'levy'])\n",
        "set([u'specialise', u'specialist', u'specially', u'special', u'species.'])"
       ]
      },
      {
       "output_type": "stream",
       "stream": "stdout",
       "text": [
        "\n",
        "set([u'ate', u'am', u'aim', u'at', u'atom', u'arm'])\n",
        "set([u'surging'])\n",
        "set([u'fera', u'vera', u'zero', u'era', u'membra', u'sera', u'zere'])"
       ]
      },
      {
       "output_type": "stream",
       "stream": "stdout",
       "text": [
        "\n",
        "set([u'dots', u'do', u'cos', u'vos', u'doe', u'des', u'dog', u'dose', u'los', u'does', u'dot', u'das', u'don', u'dis', u'os', u'dogs', u'dost', u'nos'])\n",
        "set([u'brings', u'fringes', u'rings', u'granges', u'goings'])"
       ]
      },
      {
       "output_type": "stream",
       "stream": "stdout",
       "text": [
        "\n",
        "set([u'branch', u'bunch'])\n",
        "set([u'buffets'])\n",
        "set([u'1030'])\n",
        "set([u'branch', u'bunch'])\n",
        "[u'all-you-can-eat']"
       ]
      },
      {
       "output_type": "stream",
       "stream": "stdout",
       "text": [
        "\n",
        "set([u'verse', u'vere', u'verge'])\n",
        "set([u'hanover'])\n",
        "[u'resuscitating']"
       ]
      },
      {
       "output_type": "stream",
       "stream": "stdout",
       "text": [
        "\n",
        "set([u'leashes'])"
       ]
      },
      {
       "output_type": "stream",
       "stream": "stdout",
       "text": [
        "\n",
        "set([u'dots', u'do', u'cos', u'vos', u'doe', u'des', u'dog', u'dose', u'los', u'does', u'dot', u'das', u'don', u'dis', u'os', u'dogs', u'dost', u'nos'])\n",
        "set([u'brings', u'fringes', u'rings', u'granges', u'goings'])"
       ]
      },
      {
       "output_type": "stream",
       "stream": "stdout",
       "text": [
        "\n",
        "set([u'specific'])\n",
        "set([u'actress', u'witness', u'mattress'])"
       ]
      },
      {
       "output_type": "stream",
       "stream": "stdout",
       "text": [
        "\n",
        "set([u'perfectly'])\n",
        "set([u'decorum.', u'dec.', u'deacon.', u'decorum', u'door.', u'record.', u'decay.', u'record', u'depot.', u'sector.', u'doctor.', u'dear.'])"
       ]
      },
      {
       "output_type": "stream",
       "stream": "stdout",
       "text": [
        "\n",
        "set([u'costa', u'cos', u'coach', u'moscou', u'cock', u'moscow', u'costs', u'disco', u'cost', u'couch', u'cocci', u'cosy'])"
       ]
      },
      {
       "output_type": "stream",
       "stream": "stdout",
       "text": [
        "\n",
        "set([u'liza', u'dizzy', u'penza'])"
       ]
      },
      {
       "output_type": "stream",
       "stream": "stdout",
       "text": [
        "\n",
        "set([u'ivan'])\n",
        "[u'zinburger']"
       ]
      },
      {
       "output_type": "stream",
       "stream": "stdout",
       "text": [
        "\n",
        "[u'glorified']"
       ]
      },
      {
       "output_type": "stream",
       "stream": "stdout",
       "text": [
        "\n",
        "set([u'brusque', u'mosque', u'casque', u'barque', u'tissue', u'issue'])"
       ]
      },
      {
       "output_type": "stream",
       "stream": "stdout",
       "text": [
        "\n",
        "set([u'drooping'])\n",
        "set([u'entrez'])\n",
        "set([u'brief', u'bride', u'brim', u'bribe', u'erie', u'brig'])\n",
        "[u'unbelievably']"
       ]
      },
      {
       "output_type": "stream",
       "stream": "stdout",
       "text": [
        "\n",
        "set([u'swallowed', u'galloped'])"
       ]
      },
      {
       "output_type": "stream",
       "stream": "stdout",
       "text": [
        "\n",
        "set([u'cheese', u'cheery'])\n",
        "set([u'annoying'])\n",
        "set([u'oo-oo', u'solo', u'lowly'])"
       ]
      },
      {
       "output_type": "stream",
       "stream": "stdout",
       "text": [
        "\n",
        "set([u'mala', u'mamma', u'maman'])\n",
        "set([u'gray', u'grady', u'grave'])\n",
        "set([u'reading.', u'breaking.'])\n",
        "set([u'alliance', u'ambulance'])"
       ]
      },
      {
       "output_type": "stream",
       "stream": "stdout",
       "text": [
        "\n",
        "set([u'60'])\n",
        "[u'open/close']"
       ]
      },
      {
       "output_type": "stream",
       "stream": "stdout",
       "text": [
        "\n",
        "set([u'log.', u'vol.'])\n",
        "[u'churchgoers']"
       ]
      },
      {
       "output_type": "stream",
       "stream": "stdout",
       "text": [
        "\n",
        "set([u'regular.', u'regulars'])\n",
        "set([u'calorie'])\n",
        "set([u'entries'])\n",
        "set([u'inexplicable'])\n",
        "set([u'whites', u'whiter', u'white', u'whiten', u'whitney'])\n",
        "set([u'comfortably.', u'comfortable'])\n",
        "[u'clientele']"
       ]
      },
      {
       "output_type": "stream",
       "stream": "stdout",
       "text": [
        "\n",
        "[u'checkout']"
       ]
      },
      {
       "output_type": "stream",
       "stream": "stdout",
       "text": [
        "\n",
        "set([u'cramp', u'carp', u'cap', u'crop', u'chap', u'trap', u'crab', u'wrap', u'scrap'])\n",
        "set([u'customers'])\n",
        "set([u'vista'])\n",
        "set([u'knots', u'knotty', u'knot'])\n",
        "set([u'gerry', u'barry', u'perry', u'merry', u'ferry'])\n",
        "set([u'dummy', u'dump'])\n",
        "[u'downtown..but']"
       ]
      },
      {
       "output_type": "stream",
       "stream": "stdout",
       "text": [
        "\n",
        "set([u'average', u'averaged', u'averages'])\n",
        "set([u'adore', u'afore', u'more'])\n",
        "set([u'liza', u'dizzy', u'penza'])"
       ]
      },
      {
       "output_type": "stream",
       "stream": "stdout",
       "text": [
        "\n",
        "set([u'aesthetic'])\n",
        "[u'pizzas']"
       ]
      },
      {
       "output_type": "stream",
       "stream": "stdout",
       "text": [
        "\n",
        "set([u'hopping', u'tapping', u'mopping', u'stopping', u'trappings', u'popping'])"
       ]
      },
      {
       "output_type": "stream",
       "stream": "stdout",
       "text": [
        "\n",
        "set([u'arena', u'ardent', u'agent', u'parent', u'rent'])\n",
        "set([u'you', u'loud', u'your'])\n",
        "set([u'liza', u'dizzy', u'penza'])"
       ]
      },
      {
       "output_type": "stream",
       "stream": "stdout",
       "text": [
        "\n",
        "[u'mozzarella']"
       ]
      },
      {
       "output_type": "stream",
       "stream": "stdout",
       "text": [
        "\n",
        "[u'pepperoni']"
       ]
      },
      {
       "output_type": "stream",
       "stream": "stdout",
       "text": [
        "\n",
        "set([u'salary', u'alamo', u'salem', u'slam', u'salad'])"
       ]
      },
      {
       "output_type": "stream",
       "stream": "stdout",
       "text": [
        "\n",
        "[u'arugula']"
       ]
      },
      {
       "output_type": "stream",
       "stream": "stdout",
       "text": [
        "\n",
        "set([u'tomato', u'potatoes'])"
       ]
      },
      {
       "output_type": "stream",
       "stream": "stdout",
       "text": [
        "\n",
        "set([u'ix', u'm', u'is', u'am', u'it', u'iv', u'ii', u'rim', u'il', u'in', u'id', u'if', u'nm', u'tim', u'jim', u'imp', u'pm', u'hm', u'him', u'dim', u'i', u'mi', u'km', u'aim'])\n",
        "set([u'lest', u'lewis', u'digit', u'merit', u'least', u'git', u'lenity', u'legion', u'legal', u'lit', u'exit', u'debit', u'legs', u'beget', u'begin', u'leg', u'petit', u'levi', u'leapt', u'let', u'lent', u'edit', u'light', u'relit', u'limit', u'logic', u'login', u'emit', u'left'])"
       ]
      },
      {
       "output_type": "stream",
       "stream": "stdout",
       "text": [
        "\n",
        "[u'pizza.']"
       ]
      },
      {
       "output_type": "stream",
       "stream": "stdout",
       "text": [
        "\n",
        "set([u'leaves', u'loves'])\n",
        "[u'focaccia']"
       ]
      },
      {
       "output_type": "stream",
       "stream": "stdout",
       "text": [
        "\n",
        "set([u'sealed.', u'stated.', u'seated'])\n",
        "set([u'incredibly'])"
       ]
      },
      {
       "output_type": "stream",
       "stream": "stdout",
       "text": [
        "\n",
        "set([u'reminiscence'])"
       ]
      },
      {
       "output_type": "stream",
       "stream": "stdout",
       "text": [
        "\n",
        "set([u'grandmother'])\n",
        "set([u'pp', u'pas', u'is', u'as', u'us', u'pes', u'p', u's', u'pa', u'pg', u'ms', u'pe', u'pm', u'os', u'po', u'pus'])\n",
        "set([u'liza', u'dizzy', u'penza'])"
       ]
      },
      {
       "output_type": "stream",
       "stream": "stdout",
       "text": [
        "\n",
        "set([u'pasty', u'taste', u'nasty', u'hasty'])\n",
        "set([u'liners'])\n",
        "set([u'ingredient'])\n",
        "set([u'delirious.', u'delicious'])\n",
        "set([u'thus'])\n",
        "set([u'kite', u'bite', u'site', u'nile', u'note', u'nine', u'unite', u'rite', u'cite', u'nice'])\n",
        "set([u'519'])\n",
        "set([u'mr'])\n",
        "set([u'node', u'note', u'none', u'pope', u'cope', u'lope', u'rope', u'nape', u'nose', u'hope'])\n",
        "set([u'orel', u'ore', u'ores'])\n",
        "[u'cheesecake']"
       ]
      },
      {
       "output_type": "stream",
       "stream": "stdout",
       "text": [
        "\n",
        "set([u'liza', u'dizzy', u'penza'])"
       ]
      },
      {
       "output_type": "stream",
       "stream": "stdout",
       "text": [
        "\n",
        "set([u'prices', u'price'])\n",
        "set([u'hopping', u'tapping', u'mopping', u'stopping', u'trappings', u'popping'])"
       ]
      },
      {
       "output_type": "stream",
       "stream": "stdout",
       "text": [
        "\n",
        "[u'riccotta']"
       ]
      },
      {
       "output_type": "stream",
       "stream": "stdout",
       "text": [
        "\n",
        "set([u'liza', u'dizzy', u'penza'])"
       ]
      },
      {
       "output_type": "stream",
       "stream": "stdout",
       "text": [
        "\n",
        "set([u'definitely', u'defiantly'])"
       ]
      },
      {
       "output_type": "stream",
       "stream": "stdout",
       "text": [
        "\n",
        "set([u'grm.', u'am.', u'dim.', u'sum.', u'mm.', u'pmb', u'rim.', u'up.', u'cm.', u'm.', u'spy.', u'him.', u'aim.', u'dam.', u'7th.', u'pm', u'dem.', u'7.', u'apt.', u'pp.', u'rum.', u'7ff.', u'7s.', u'arm.', u'hum.', u'wm.', u'ulm.', u'p.', u'gem.', u'pa.'])"
       ]
      },
      {
       "output_type": "stream",
       "stream": "stdout",
       "text": [
        "\n",
        "set([u'prized', u'pricked', u'price', u'prices', u'prided', u'pried'])\n",
        "set([u'brave', u'rare', u'rage', u'grave', u'rake', u'dave', u'cave', u'wave', u'rate', u'race', u'raved', u'have', u'save', u'rape', u'gave'])\n",
        "[u'service=slow.']"
       ]
      },
      {
       "output_type": "stream",
       "stream": "stdout",
       "text": [
        "\n",
        "[u'food=just']"
       ]
      },
      {
       "output_type": "stream",
       "stream": "stdout",
       "text": [
        "\n",
        "[u'noise=loud']"
       ]
      },
      {
       "output_type": "stream",
       "stream": "stdout",
       "text": [
        "\n",
        "set([u'got.', u'lots', u'lost.', u'lots.', u'log.', u'lot', u'clot.', u'cot.', u'hot.', u'not.'])\n",
        "set([u'ship', u'sip', u'ski', u'slip', u'skin'])\n",
        "set([u'cabs', u'arabs', u'grabs', u'crab', u'crass'])\n",
        "set([u'pity.', u'pit.'])"
       ]
      },
      {
       "output_type": "stream",
       "stream": "stdout",
       "text": [
        "\n",
        "set([u'faro', u'girt', u'hero', u'zero', u'garb', u'pro', u'gare', u'fro', u'byron', u'byrom', u'germ', u'gird', u'lyre', u'tyre', u'gory', u'go', u'gros', u'girl', u'grm', u'grow'])"
       ]
      },
      {
       "output_type": "stream",
       "stream": "stdout",
       "text": [
        "\n",
        "set([u'faro', u'girt', u'hero', u'zero', u'garb', u'pro', u'gare', u'fro', u'byron', u'byrom', u'germ', u'gird', u'lyre', u'tyre', u'gory', u'go', u'gros', u'girl', u'grm', u'grow'])"
       ]
      },
      {
       "output_type": "stream",
       "stream": "stdout",
       "text": [
        "\n",
        "[u'toppings.']"
       ]
      },
      {
       "output_type": "stream",
       "stream": "stdout",
       "text": [
        "\n",
        "set([u'pity', u'pits', u'pit', u'pitt'])\n",
        "[u'tzatziki']"
       ]
      },
      {
       "output_type": "stream",
       "stream": "stdout",
       "text": [
        "\n",
        "set([u'rang', u'tank', u'hang', u'sang', u'bang', u'tag', u'pang', u'gang'])\n",
        "set([u'creamy', u'cream.'])\n",
        "set([u'574'])\n",
        "set([u'plus', u'plush', u'pus.'])\n",
        "set([u'trilled', u'drilled'])\n",
        "set([u'delicious'])\n",
        "[u'homemade.']"
       ]
      },
      {
       "output_type": "stream",
       "stream": "stdout",
       "text": [
        "\n",
        "set([u'melted'])\n",
        "set([u'gdp', u'golf', u'gee', u'cf', u'go', u'if', u'git', u'gulf', u'god', u'/', u'gig', u'got', u'grm', u'gay', u'get', u'gas', u'gap', u'gal', u'ff', u'gin', u'gag', u'gen', u'gem', u'off', u'gift', u'g', u'f', u'of', u'gun', u'gum', u'x/y', u'graf', u'gut', u'guy', u'def'])"
       ]
      },
      {
       "output_type": "stream",
       "stream": "stdout",
       "text": [
        "\n",
        "set([u'okay'])\n",
        "[u'mind-blowing.']"
       ]
      },
      {
       "output_type": "stream",
       "stream": "stdout",
       "text": [
        "\n",
        "set([u'harms', u'hares', u'harp'])\n",
        "set([u'ami', u'ali', u'ai', u'chi', u'hi', u'ah'])\n",
        "set([u'tune.'])\n",
        "set([u'grow.', u'brow.', u'crowd', u'crowd.', u'crow', u'crew.', u'crown', u'crows', u'crown.', u'crop.', u'row.'])\n",
        "set([u'booming', u'oozing', u'booking'])\n",
        "set([u'organs', u'organ', u'oregon'])"
       ]
      },
      {
       "output_type": "stream",
       "stream": "stdout",
       "text": [
        "\n",
        "set([u'a', u'ac', u'ab', u'ad', u'ai', u'ah', u'ak', u'am', u'al', u'an', u'as', u'ar', u'au', u'at', u'ay', u'ax', u'z'])\n",
        "set([u'muddy', u'ruddy'])\n",
        "[u'pizzas']"
       ]
      },
      {
       "output_type": "stream",
       "stream": "stdout",
       "text": [
        "\n",
        "set([u'calkers', u'cracks', u'crockery', u'brackets', u'wreckers', u'crickets', u'cracked'])"
       ]
      },
      {
       "output_type": "stream",
       "stream": "stdout",
       "text": [
        "\n",
        "[u'toppings.']"
       ]
      },
      {
       "output_type": "stream",
       "stream": "stdout",
       "text": [
        "\n",
        "set([u'liza', u'dizzy', u'penza'])"
       ]
      },
      {
       "output_type": "stream",
       "stream": "stdout",
       "text": [
        "\n",
        "[u'fast-food']"
       ]
      },
      {
       "output_type": "stream",
       "stream": "stdout",
       "text": [
        "\n",
        "set([u'liza', u'dizzy', u'penza'])"
       ]
      },
      {
       "output_type": "stream",
       "stream": "stdout",
       "text": [
        "\n",
        "[u'pizza.']"
       ]
      },
      {
       "output_type": "stream",
       "stream": "stdout",
       "text": [
        "\n",
        "set([u'liza', u'dizzy', u'penza'])"
       ]
      },
      {
       "output_type": "stream",
       "stream": "stdout",
       "text": [
        "\n",
        "[u'sub-par']"
       ]
      },
      {
       "output_type": "stream",
       "stream": "stdout",
       "text": [
        "\n",
        "[u'overpriced']"
       ]
      },
      {
       "output_type": "stream",
       "stream": "stdout",
       "text": [
        "\n",
        "[u'gourmet']"
       ]
      },
      {
       "output_type": "stream",
       "stream": "stdout",
       "text": [
        "\n",
        "set([u'liza', u'dizzy', u'penza'])"
       ]
      },
      {
       "output_type": "stream",
       "stream": "stdout",
       "text": [
        "\n",
        "set([u'liza', u'dizzy', u'penza'])"
       ]
      },
      {
       "output_type": "stream",
       "stream": "stdout",
       "text": [
        "\n",
        "[u'pizzeria']"
       ]
      },
      {
       "output_type": "stream",
       "stream": "stdout",
       "text": [
        "\n",
        "set([u'fiance', u'piano', u'branch'])"
       ]
      },
      {
       "output_type": "stream",
       "stream": "stdout",
       "text": [
        "\n",
        "[u'grimaldi']"
       ]
      },
      {
       "output_type": "stream",
       "stream": "stdout",
       "text": [
        "\n",
        "set([u'via', u'ma', u'mio', u'min', u'mi', u'mid', u'mix'])\n",
        "[u'wrigleyville/chicago.']"
       ]
      },
      {
       "output_type": "stream",
       "stream": "stdout",
       "text": [
        "\n",
        "[u'founder/chef']"
       ]
      },
      {
       "output_type": "stream",
       "stream": "stdout",
       "text": [
        "\n",
        "set([u'via', u'ma', u'mio', u'min', u'mi', u'mid', u'mix'])\n",
        "set([u'francisco', u'frances'])"
       ]
      },
      {
       "output_type": "stream",
       "stream": "stdout",
       "text": [
        "\n",
        "[u'scottsdale']"
       ]
      },
      {
       "output_type": "stream",
       "stream": "stdout",
       "text": [
        "\n",
        "set([u'gibe', u'vive', u'vile', u'vie', u'vice', u'vine', u'vise'])\n",
        "set([u'via', u'vie', u'vi', u'vii', u'sic', u'vis', u'vice', u'viz', u'tic'])\n",
        "set([u'thaw', u'than', u'that'])\n",
        "[u'good-tasting']"
       ]
      },
      {
       "output_type": "stream",
       "stream": "stdout",
       "text": [
        "\n",
        "set([u'thaw', u'than', u'that'])\n",
        "set([u'spun', u'run', u'pin', u'sun', u'gun', u'pub', u'pua', u'nun', u'fun', u'pen', u'punt', u'pan', u'put', u'un', u'puny', u'pus'])\n",
        "set([u'pro', u'oho', u'po', u'who', u'ho'])\n",
        "set([u'tensile'])"
       ]
      },
      {
       "output_type": "stream",
       "stream": "stdout",
       "text": [
        "\n",
        "set([u'anyway'])\n",
        "set([u'sew', u'hew', u'jew', u'yea', u'pew', u'ye', u'dew', u'few', u'new', u'yep', u'yes', u'yer', u'yet'])\n",
        "set([u'pat', u'what', u'hat', u'chat', u'that'])\n",
        "set([u'sew', u'hew', u'jew', u'pew', u'dew', u'few', u'new', u'fiew', u'view'])\n",
        "set([u'case', u'chew', u'lashed', u'washed', u'rashes', u'lashes', u'clashed', u'ashen', u'cashier', u'cash', u'clashes', u'ashes', u'crashed', u'casket', u'dashed', u'shew', u'cases', u'sashes', u'caste'])"
       ]
      },
      {
       "output_type": "stream",
       "stream": "stdout",
       "text": [
        "\n",
        "set([u'spice'])\n",
        "set([u'sew', u'hew', u'jew', u'yea', u'pew', u'ye', u'dew', u'few', u'new', u'yep', u'yes', u'yer', u'yet'])\n",
        "set([u'taste.'])\n",
        "set([u'push', u'bushy'])\n",
        "set([u'invasion', u'incisive', u'evasive'])"
       ]
      },
      {
       "output_type": "stream",
       "stream": "stdout",
       "text": [
        "\n",
        "set([u'floppy', u'slowly.', u'sleepy.', u'slopes.', u'slope.'])"
       ]
      },
      {
       "output_type": "stream",
       "stream": "stdout",
       "text": [
        "\n",
        "set([u'repelled', u'refill', u'recalled', u'defiled', u'refined', u'refolded', u'filled'])"
       ]
      },
      {
       "output_type": "stream",
       "stream": "stdout",
       "text": [
        "\n",
        "set([u'dad', u'lad.', u'had.', u'mad.', u'did.', u'sad.', u'pad.', u'day.', u'dam.', u'dead.', u'bad.'])\n",
        "set([u'serves', u'server'])\n",
        "set([u'peanuts'])\n",
        "set([u'sauce', u'fauces', u'saucer'])\n",
        "[u'super-tasty.']"
       ]
      },
      {
       "output_type": "stream",
       "stream": "stdout",
       "text": [
        "\n",
        "set([u'booth', u'boots'])\n",
        "set([u'coley', u'comedy', u'comte', u'copy', u'combs', u'condy', u'tommy', u'comme', u'comes', u'comely', u'comma', u'cosy', u'coman', u'coma', u'comet', u'comic', u'comb', u'come', u'comply', u'cody'])"
       ]
      },
      {
       "output_type": "stream",
       "stream": "stdout",
       "text": [
        "\n",
        "set([u'cross.', u'gross', u'ross.', u'grass.', u'grows.'])\n",
        "set([u'chi', u'chip', u'chin', u'chit'])\n",
        "set([u'trend'])\n",
        "set([u'rents'])\n",
        "set([u'drissa', u'cristal', u'vista', u'grist', u'wrists', u'krishna', u'wrist'])"
       ]
      },
      {
       "output_type": "stream",
       "stream": "stdout",
       "text": [
        "\n",
        "set([u'suis', u'rush', u'tushin', u'susan', u'lush', u'aussi', u'sasha', u'hush', u'bush', u'gush', u'push', u'such', u'sash', u'bushy'])"
       ]
      },
      {
       "output_type": "stream",
       "stream": "stdout",
       "text": [
        "\n",
        "set([u'suis', u'rush', u'tushin', u'susan', u'lush', u'aussi', u'sasha', u'hush', u'bush', u'gush', u'push', u'such', u'sash', u'bushy'])"
       ]
      },
      {
       "output_type": "stream",
       "stream": "stdout",
       "text": [
        "\n",
        "set([u'appetite'])"
       ]
      },
      {
       "output_type": "stream",
       "stream": "stdout",
       "text": [
        "\n",
        "set([u'comprise'])\n",
        "set([u'temporal', u'temper'])"
       ]
      },
      {
       "output_type": "stream",
       "stream": "stdout",
       "text": [
        "\n",
        "set([u'quid', u'squad'])\n",
        "set([u'stopping', u'tapping', u'hopping', u'popping', u'mopping'])\n",
        "set([u'ac', u'ab', u'co', u'ad', u'ai', u'ah', u'ak', u'am', u'al', u'an', u'ay', u'as', u'ar', u'au', u'at', u'a', u'go', u'ax', u'no', u'lo', u'to', u'ado', u'po', u'do', u'wo', u'ho', u'vo', u'fo', u'oo', u'o', u'so', u'ago'])\n",
        "set([u'basal', u'nasi', u'nasal', u'asia'])"
       ]
      },
      {
       "output_type": "stream",
       "stream": "stdout",
       "text": [
        "\n",
        "[u'gourmet']"
       ]
      },
      {
       "output_type": "stream",
       "stream": "stdout",
       "text": [
        "\n",
        "set([u'greene', u'greeks', u'green'])\n",
        "set([u'suis', u'rush', u'tushin', u'susan', u'lush', u'aussi', u'sasha', u'hush', u'bush', u'gush', u'push', u'such', u'sash', u'bushy'])"
       ]
      },
      {
       "output_type": "stream",
       "stream": "stdout",
       "text": [
        "\n",
        "set([u'wo', u'w', u'we', u'wa', u'/'])\n",
        "set([u'prices', u'price', u'princely'])"
       ]
      },
      {
       "output_type": "stream",
       "stream": "stdout",
       "text": [
        "\n",
        "set([u'impressed', u'unexpressed'])"
       ]
      },
      {
       "output_type": "stream",
       "stream": "stdout",
       "text": [
        "\n",
        "set([u'exciting'])"
       ]
      },
      {
       "output_type": "stream",
       "stream": "stdout",
       "text": [
        "\n",
        "set([u'favors', u'flavor'])\n",
        "set([u'ana', u'hanna', u'hang', u'hand', u'hans', u'hata'])\n",
        "set([u'indoor', u'ardor', u'candor', u'anchor', u'andros'])"
       ]
      },
      {
       "output_type": "stream",
       "stream": "stdout",
       "text": [
        "\n",
        "set([u'alps', u'apes'])\n",
        "[u'wine/sake']"
       ]
      },
      {
       "output_type": "stream",
       "stream": "stdout",
       "text": [
        "\n",
        "[u'irish-pub']"
       ]
      },
      {
       "output_type": "stream",
       "stream": "stdout",
       "text": [
        "\n",
        "set([u'gibe', u'vive', u'vile', u'vie', u'vice', u'vine', u'vise'])\n",
        "set([u'mystery', u'masters', u'ulsters', u'ostlers', u'jesters', u'sisters', u'posters', u'monsters', u'systems'])"
       ]
      },
      {
       "output_type": "stream",
       "stream": "stdout",
       "text": [
        "\n",
        "[u'half-shell']"
       ]
      },
      {
       "output_type": "stream",
       "stream": "stdout",
       "text": [
        "\n",
        "set([u'salad'])\n",
        "set([u'sandwiched'])\n",
        "[u'zucchini/mushroom']"
       ]
      },
      {
       "output_type": "stream",
       "stream": "stdout",
       "text": [
        "\n",
        "set([u'cambon', u'tomboy', u'come.', u'combat', u'cowboy', u'combed', u'combs', u'common.', u'common', u'comes.', u'comb'])"
       ]
      },
      {
       "output_type": "stream",
       "stream": "stdout",
       "text": [
        "\n",
        "set([u'case', u'cases'])\n",
        "set([u'expansile', u'expensive'])\n",
        "set([u'ratio'])\n",
        "[u'hang-out']"
       ]
      },
      {
       "output_type": "stream",
       "stream": "stdout",
       "text": [
        "\n",
        "[u'clientele']"
       ]
      },
      {
       "output_type": "stream",
       "stream": "stdout",
       "text": [
        "\n",
        "set([u'regular.', u'regulars'])\n",
        "set([u'background'])\n",
        "set([u'ass', u'asp', u'as', u'au', u'ask', u'ash'])\n",
        "set([u'faculty'])\n",
        "[u'downside']"
       ]
      },
      {
       "output_type": "stream",
       "stream": "stdout",
       "text": [
        "\n",
        "[u'starbucks.']"
       ]
      },
      {
       "output_type": "stream",
       "stream": "stdout",
       "text": [
        "\n",
        "set([u'thought', u'thought.', u'though', u'trough.', u'thwough.', u'through.'])\n",
        "[u'starbucks']"
       ]
      },
      {
       "output_type": "stream",
       "stream": "stdout",
       "text": [
        "\n",
        "set([u'11', u'ram', u'ham', u'sam', u'swam', u'dam', u'guam', u'adam', u'am', u'roam', u'beam', u'jam', u'gram', u'team', u'dram', u'siam', u'sham', u'slam', u'11th', u'foam', u'exam'])"
       ]
      },
      {
       "output_type": "stream",
       "stream": "stdout",
       "text": [
        "\n",
        "set([u'pm'])\n",
        "[u'screenwriting']"
       ]
      },
      {
       "output_type": "stream",
       "stream": "stdout",
       "text": [
        "\n",
        "[u'starbucks.']"
       ]
      },
      {
       "output_type": "stream",
       "stream": "stdout",
       "text": [
        "\n",
        "[u'people-watching']"
       ]
      },
      {
       "output_type": "stream",
       "stream": "stdout",
       "text": [
        "\n",
        "set([u'burgher'])\n",
        "set([u'nice.'])\n",
        "set([u'pokers', u'coppers', u'calkers', u'cooper', u'hooker', u'corners', u'workers', u'cooks', u'covers', u'cooked', u'smokers', u'yorkers', u'coiners', u'combers', u'confers'])"
       ]
      },
      {
       "output_type": "stream",
       "stream": "stdout",
       "text": [
        "\n",
        "set([u'discount'])\n",
        "set([u'coach', u'torch', u'booth', u'touch', u'couch', u'hoch', u'bunch', u'bough', u'bosom', u'bench', u'bush', u'beach', u'bosse', u'potch', u'porch', u'brooch', u'boss', u'asch', u'birch', u'beech', u'pouch', u'both', u'blotch', u'batch', u'bloch', u'foch', u'notch', u'hotch', u'bitch'])"
       ]
      },
      {
       "output_type": "stream",
       "stream": "stdout",
       "text": [
        "\n",
        "set([u'mixed', u'miner'])\n",
        "set([u'rider.', u'hinder.', u'grandeur.', u'kinder.', u'grande.', u'binder.', u'drinker.'])"
       ]
      },
      {
       "output_type": "stream",
       "stream": "stdout",
       "text": [
        "\n",
        "[u'everytime']"
       ]
      },
      {
       "output_type": "stream",
       "stream": "stdout",
       "text": [
        "\n",
        "set([u'soar', u'star', u'shaw', u'share', u'saar', u'sha', u'shag', u'shak', u'sharp', u'shah', u'scar', u'sham'])\n",
        "[u'glendale']"
       ]
      },
      {
       "output_type": "stream",
       "stream": "stdout",
       "text": [
        "\n",
        "set([u'soar', u'star', u'shaw', u'share', u'saar', u'sha', u'shag', u'shak', u'sharp', u'shah', u'scar', u'sham'])\n",
        "[u'homemade']"
       ]
      },
      {
       "output_type": "stream",
       "stream": "stdout",
       "text": [
        "\n",
        "[u'pizzas']"
       ]
      },
      {
       "output_type": "stream",
       "stream": "stdout",
       "text": [
        "\n",
        "set([u'mummy', u'dummy'])\n",
        "set([u'thought', u'thought.', u'though', u'trough.', u'thwough.', u'through.'])\n",
        "set([u'speakers'])"
       ]
      },
      {
       "output_type": "stream",
       "stream": "stdout",
       "text": [
        "\n",
        "set([u'entertainment'])\n",
        "set([u'planter', u'patter', u'flatter', u'plaster', u'clatter', u'latter'])\n",
        "set([u'bread.'])\n",
        "set([u'bounce'])\n",
        "[u'bartender']"
       ]
      },
      {
       "output_type": "stream",
       "stream": "stdout",
       "text": [
        "\n",
        "set([u'confusing'])\n",
        "set([u'ix.', u'mix', u'fix.', u'six.', u'aix.', u'xix.'])\n",
        "set([u'ix.', u'mix', u'fix.', u'six.', u'aix.', u'xix.'])\n",
        "set([u'cabs', u'cabot', u'cab'])\n",
        "set([u'50'])\n",
        "set([u'nom', u'mop', u'mot', u'mmm', u'mon', u'tom', u'mob'])\n",
        "set([u'palms.', u'pale.', u'pas.', u'palsy.', u'pass.', u'palsy', u'palm.', u'pals'])\n",
        "set([u'make.', u'maker', u'baker.', u'makers', u'mater.'])\n",
        "set([u'shoes.', u'cheese.', u'sheet.', u'sheath.', u'speech.'])"
       ]
      },
      {
       "output_type": "stream",
       "stream": "stdout",
       "text": [
        "\n",
        "set([u'ronde', u'fond', u'conduce', u'conde', u'fundus', u'fonder', u'undue', u'tongue', u'fondly'])"
       ]
      },
      {
       "output_type": "stream",
       "stream": "stdout",
       "text": [
        "\n",
        "set([u'bailey'])\n",
        "set([u'alliance', u'ambulance'])"
       ]
      },
      {
       "output_type": "stream",
       "stream": "stdout",
       "text": [
        "\n",
        "[u'macalpine']"
       ]
      },
      {
       "output_type": "stream",
       "stream": "stdout",
       "text": [
        "\n",
        "set([u'thrifty'])\n",
        "set([u'brows'])\n",
        "set([u'looks.', u'cooks', u'books.', u'cook.'])\n",
        "set([u'sofas', u'soda'])\n",
        "[u'downside']"
       ]
      },
      {
       "output_type": "stream",
       "stream": "stdout",
       "text": [
        "\n",
        "set([u'too.'])"
       ]
      },
      {
       "output_type": "stream",
       "stream": "stdout",
       "text": [
        "\n",
        "set([u'beans', u'means.'])\n",
        "set([u'baseless', u'tactless'])"
       ]
      },
      {
       "output_type": "stream",
       "stream": "stdout",
       "text": [
        "\n",
        "set([u'overlay'])\n",
        "set([u'seasoned'])\n",
        "set([u'pepper'])\n",
        "set([u'b', u'lb', u'mb', u'h', u'hi', u'ho', u'hm', u'ha', u'ab', u'he'])\n",
        "set([u'workers'])"
       ]
      },
      {
       "output_type": "stream",
       "stream": "stdout",
       "text": [
        "\n",
        "set([u'hip', u'map', u'ha', u'tap', u'ham', u'sap', u'hop', u'hasp', u'cap', u'had', u'nap', u'gap', u'hay', u'chap', u'lap', u'heap', u'has', u'hat', u'harp'])\n",
        "set([u'ab', u'ebb', u'bow', u'bee', u'abc', u'lb', u'abe', u'esq', u'bug', u'bus', u'bubo', u'bye', u'bin', u'be', u'abbe', u'buy', u'babe', u'bc', u'bl', u'big', u'bid', u'but', u'br', u'baby', u'ben', u'bit', u'by', u'bud', u'box', u'boy', u'bat', u'b', u'bar', u'mb', u'sq', u'beg', u'bed', u'bay', u'q', u'bag', u'bad', u'bet', u'ban', u'boa', u'bob', u'obs', u'bah'])"
       ]
      },
      {
       "output_type": "stream",
       "stream": "stdout",
       "text": [
        "\n",
        "set([u'fence', u'tunnel', u'fences', u'fenced', u'fanned', u'feel', u'penned', u'venner', u'fencer', u'flannel'])"
       ]
      },
      {
       "output_type": "stream",
       "stream": "stdout",
       "text": [
        "\n",
        "set([u'baseless', u'boundless', u'hopeless', u'homeless'])"
       ]
      },
      {
       "output_type": "stream",
       "stream": "stdout",
       "text": [
        "\n",
        "set([u'join', u'loan', u'lion', u'olin', u'lain', u'loins', u'login', u'coin'])\n",
        "set([u'week', u'peck', u'meek', u'peak', u'peer', u'peep', u'reek', u'seek'])\n",
        "set([u'freeze'])"
       ]
      },
      {
       "output_type": "stream",
       "stream": "stdout",
       "text": [
        "\n",
        "set([u'a', u'ac', u'ab', u'ad', u'ai', u'ah', u'ak', u'j', u'am', u'al', u'an', u'as', u'ar', u'au', u'at', u'ay', u'ax', u'adj', u'ja'])\n",
        "set([u'funnel.'])\n",
        "set([u'items', u'item.'])\n",
        "set([u'grover'])\n",
        "set([u'a', u'ac', u'ab', u'ad', u'ai', u'ah', u'ak', u'j', u'am', u'al', u'an', u'as', u'ar', u'au', u'at', u'ay', u'ax', u'adj', u'ja'])\n",
        "set([u'urinary', u'ciliary'])"
       ]
      },
      {
       "output_type": "stream",
       "stream": "stdout",
       "text": [
        "\n",
        "set([u'grover', u'grace.', u'proper.', u'growers'])"
       ]
      },
      {
       "output_type": "stream",
       "stream": "stdout",
       "text": [
        "\n",
        "set([u'tireless'])\n",
        "[u'laptop']"
       ]
      },
      {
       "output_type": "stream",
       "stream": "stdout",
       "text": [
        "\n",
        "set([u'freely'])"
       ]
      },
      {
       "output_type": "stream",
       "stream": "stdout",
       "text": [
        "\n",
        "set([u'fence', u'tunnel', u'fences', u'fenced', u'fanned', u'feel', u'penned', u'venner', u'fencer', u'flannel'])"
       ]
      },
      {
       "output_type": "stream",
       "stream": "stdout",
       "text": [
        "\n",
        "set([u'aims.', u'acts.', u\"r's.\", u'jaws.', u'asks.', u'arms.', u'ages.', u'ants.', u\"man's.\", u'arts.', u'axis.', u'ajar.', u'apes.', u\"'s.\"])"
       ]
      },
      {
       "output_type": "stream",
       "stream": "stdout",
       "text": [
        "\n",
        "set([u'pork', u'corn', u'torn', u'worn', u'horn', u'born', u'port'])\n",
        "set([u'grover'])\n",
        "set([u'eddies', u'eddied'])\n",
        "set([u'bushes', u'rashes', u'masha', u'lashes', u'basis', u'basins', u'tasha', u'sasha', u'basal', u'ashes', u'bass', u'bases', u'baths', u'sashes'])"
       ]
      },
      {
       "output_type": "stream",
       "stream": "stdout",
       "text": [
        "\n",
        "set([u'stole.', u'stores', u'stove.', u'story.', u'stowe.', u'storm.', u'stored', u'sore.', u'stone.', u'store'])\n",
        "set([u'a', u'ac', u'ab', u'ad', u'ai', u'ah', u'ak', u'j', u'am', u'al', u'an', u'as', u'ar', u'au', u'at', u'ay', u'ax', u'adj', u'ja'])\n",
        "set([u'cloud.', u'lord.', u'aloud.', u'loud', u'load.'])\n",
        "[u'clientele']"
       ]
      },
      {
       "output_type": "stream",
       "stream": "stdout",
       "text": [
        "\n",
        "[u'karaoke']"
       ]
      },
      {
       "output_type": "stream",
       "stream": "stdout",
       "text": [
        "\n",
        "set([u'weekend'])\n",
        "set([u'merci', u'mere', u'mercy'])\n",
        "set([u'cum', u'cut', u'cruz', u'cub', u'cup'])\n",
        "set([u'merci', u'mere', u'mercy'])\n",
        "set([u'faint.', u\"won't.\", u'hint.', u\"don't.\", u'aunt.', u'taint.', u'saint.', u'paint.', u\"can't.\", u'inst.', u'tint.'])"
       ]
      },
      {
       "output_type": "stream",
       "stream": "stdout",
       "text": [
        "\n",
        "set([u'via', u'liar', u'cairo', u'ca', u'rio', u'chap', u'bias', u'chat', u'co', u'city', u'dial', u'mio', u'chaos', u'rico', u'diaz', u'crab', u'siam', u'cite', u'czar', u'fiat', u'cigar', u'claw', u'piano', u'clan', u'coat', u'coax', u'car', u'clad', u'cap', u'cat', u'coal', u'can', u'clay', u'cain', u'cab'])"
       ]
      },
      {
       "output_type": "stream",
       "stream": "stdout",
       "text": [
        "\n",
        "set([u'restaurant'])\n",
        "[u'scottsdale.']"
       ]
      },
      {
       "output_type": "stream",
       "stream": "stdout",
       "text": [
        "\n",
        "[u'kazimierz.']"
       ]
      },
      {
       "output_type": "stream",
       "stream": "stdout",
       "text": [
        "\n",
        "set([u'season', u'station', u'stepsons', u'seton'])"
       ]
      },
      {
       "output_type": "stream",
       "stream": "stdout",
       "text": [
        "\n",
        "set([u'salad'])\n",
        "set([u'favors', u'flavor'])\n",
        "set([u'israel'])\n",
        "set([u'coup', u'cos', u'vous', u'cogs', u'sous', u'cows', u'nous'])\n",
        "set([u'coup', u'cos', u'vous', u'cogs', u'sous', u'cows', u'nous'])\n",
        "set([u'dry.', u'fray.', u'fro.', u'fury.', u'cry.', u'try.', u'fly.'])\n",
        "set([u'peanuts'])\n",
        "set([u'chinks'])\n",
        "set([u'ici.', u'pick.', u'ice.', u'ink.', u'wick.'])\n",
        "[u'chocolate/peanut']"
       ]
      },
      {
       "output_type": "stream",
       "stream": "stdout",
       "text": [
        "\n",
        "set([u'tasks', u'taras', u'bacon', u'tabor', u'facts', u'tracts', u'sacs', u'talks', u'lacks', u'tache', u'acts', u'takes', u'tales', u'packs', u'backs', u'tabes', u'jacks', u'tags', u'tact', u'tacit', u'tracks', u'races', u'tails', u'tanks', u'jacob', u'cos', u'tapes', u'sacks', u'paces', u'taxes', u'stacks', u'tack', u'faces', u'amos', u'traces', u'twos'])"
       ]
      },
      {
       "output_type": "stream",
       "stream": "stdout",
       "text": [
        "\n",
        "set([u'pasty', u'taste', u'nasty', u'hasty'])\n",
        "[u'halibut']"
       ]
      },
      {
       "output_type": "stream",
       "stream": "stdout",
       "text": [
        "\n",
        "set([u'tasks', u'taras', u'bacon', u'tabor', u'facts', u'tracts', u'sacs', u'talks', u'lacks', u'tache', u'acts', u'takes', u'tales', u'packs', u'backs', u'tabes', u'jacks', u'tags', u'tact', u'tacit', u'tracks', u'races', u'tails', u'tanks', u'jacob', u'cos', u'tapes', u'sacks', u'paces', u'taxes', u'stacks', u'tack', u'faces', u'amos', u'traces', u'twos'])"
       ]
      },
      {
       "output_type": "stream",
       "stream": "stdout",
       "text": [
        "\n",
        "[u'ensenada']"
       ]
      },
      {
       "output_type": "stream",
       "stream": "stdout",
       "text": [
        "\n",
        "[u'michelada']"
       ]
      },
      {
       "output_type": "stream",
       "stream": "stdout",
       "text": [
        "\n",
        "set([u'pacific'])\n",
        "set([u'burn.', u'bush.', u'hut.', u'busy.', u'bite.', u'duty.', u'buds.', u'cut.', u'both.', u'bute', u'ruts.', u'bath.', u'but', u'butts', u'cuts.', u'nuts.', u'butt', u'butte', u'bit.', u'buy.', u'b.t.', u'huts.', u'put.', u'bud.', u'out.'])"
       ]
      },
      {
       "output_type": "stream",
       "stream": "stdout",
       "text": [
        "\n",
        "set([u'well.'])\n",
        "set([u'5:15'])"
       ]
      },
      {
       "output_type": "stream",
       "stream": "stdout",
       "text": [
        "\n",
        "[u'7:30pm.']"
       ]
      },
      {
       "output_type": "stream",
       "stream": "stdout",
       "text": [
        "\n",
        "set([u'dial', u'dull', u'doll', u'ill', u'bill', u'vill', u'will', u'till', u'kill', u'hill', u'drill', u'mill', u'sill', u'pill', u'fill'])\n",
        "set([u'tickle', u'sickle', u'pickled'])\n",
        "[u'yummmmmy.']"
       ]
      },
      {
       "output_type": "stream",
       "stream": "stdout",
       "text": [
        "\n",
        "[u'glendale']"
       ]
      },
      {
       "output_type": "stream",
       "stream": "stdout",
       "text": [
        "\n",
        "set([u'latin', u'catlike', u'calvin', u'calling', u'hamlin', u'cain', u'captain', u'satin', u'cabin'])"
       ]
      },
      {
       "output_type": "stream",
       "stream": "stdout",
       "text": [
        "\n",
        "set([u'alliance.'])"
       ]
      },
      {
       "output_type": "stream",
       "stream": "stdout",
       "text": [
        "\n",
        "set([u'polish'])\n",
        "set([u'ingredient'])\n",
        "set([u'dry', u'fly', u'fr', u'fury', u'cry', u'fro', u'try', u'fray', u'wry'])\n",
        "set([u'nom', u'mop', u'mot', u'mmm', u'mon', u'tom', u'mob'])\n",
        "[u'kielbasa']"
       ]
      },
      {
       "output_type": "stream",
       "stream": "stdout",
       "text": [
        "\n",
        "set([u'pasty', u'taste', u'nasty', u'hasty'])\n",
        "set([u'overlooked'])\n",
        "set([u'thanked', u'chafed', u'haled', u'thaw', u'chewed', u'tamed', u'hated', u'awed', u'chased', u'shaved', u'hewed', u'shared', u'pawed', u'teased', u'hawked', u'thwee', u'showed', u'shaped', u'thaler', u'traced', u'thames', u'taxed', u'shaded', u'traded'])"
       ]
      },
      {
       "output_type": "stream",
       "stream": "stdout",
       "text": [
        "\n",
        "set([u'daytime'])"
       ]
      },
      {
       "output_type": "stream",
       "stream": "stdout",
       "text": [
        "\n",
        "[u'scottsdale']"
       ]
      },
      {
       "output_type": "stream",
       "stream": "stdout",
       "text": [
        "\n",
        "[u'standouts']"
       ]
      },
      {
       "output_type": "stream",
       "stream": "stdout",
       "text": [
        "\n",
        "set([u'device', u'catiche'])"
       ]
      },
      {
       "output_type": "stream",
       "stream": "stdout",
       "text": [
        "\n",
        "set([u'quest'])\n",
        "set([u'ado', u'adopt', u'adore', u'adorn'])"
       ]
      },
      {
       "output_type": "stream",
       "stream": "stdout",
       "text": [
        "\n",
        "[u'cadillac']"
       ]
      },
      {
       "output_type": "stream",
       "stream": "stdout",
       "text": [
        "\n",
        "set([u'mary.', u'mark.'])\n",
        "[u'tablemates']"
       ]
      },
      {
       "output_type": "stream",
       "stream": "stdout",
       "text": [
        "\n",
        "set([u'ratio'])\n",
        "[u'awesome.']"
       ]
      },
      {
       "output_type": "stream",
       "stream": "stdout",
       "text": [
        "\n",
        "[u'margaritas']"
       ]
      },
      {
       "output_type": "stream",
       "stream": "stdout",
       "text": [
        "\n",
        "[u'carburetor']"
       ]
      },
      {
       "output_type": "stream",
       "stream": "stdout",
       "text": [
        "\n",
        "[u'jazzed-up']"
       ]
      },
      {
       "output_type": "stream",
       "stream": "stdout",
       "text": [
        "\n",
        "[u'super-acidic-1.0']"
       ]
      },
      {
       "output_type": "stream",
       "stream": "stdout",
       "text": [
        "\n",
        "set([u'pp', u'ch', u'eh', u'oh', u'h', u'ah', u'p', u'pa', u'pg', u'th', u'pe', u'po', u'pwh', u'pm'])\n",
        "set([u'le', u'lb', u'la', u'lo', u'll', u'l', u'us', u'li', u'los', u's', u'les', u'ms', u'las', u'os', u'is', u'as', u'ly'])\n",
        "[u'scottsdale']"
       ]
      },
      {
       "output_type": "stream",
       "stream": "stdout",
       "text": [
        "\n",
        "set([u'gums', u'guy', u'guns'])\n",
        "set([u'a', u'ac', u'ab', u'ad', u'ai', u'ah', u'ak', u'am', u'al', u'an', u'as', u'ar', u'au', u'at', u'ay', u'ax', u'z'])\n",
        "set([u'a', u'ac', u'ab', u'ad', u'ai', u'ah', u'ak', u'am', u'al', u'an', u'as', u'ar', u'au', u'at', u'ay', u'ax', u'z'])\n",
        "[u'intercontinental']"
       ]
      },
      {
       "output_type": "stream",
       "stream": "stdout",
       "text": [
        "\n",
        "set([u'gong', u'song', u'hon', u'hang', u'long', u'cong', u'hung'])\n",
        "set([u'song.', u'king.', u'long.'])\n",
        "[u'two-piece']"
       ]
      },
      {
       "output_type": "stream",
       "stream": "stdout",
       "text": [
        "\n",
        "[u'surcharge']"
       ]
      },
      {
       "output_type": "stream",
       "stream": "stdout",
       "text": [
        "\n",
        "set([u'bidding'])\n",
        "[u'silica-based']"
       ]
      },
      {
       "output_type": "stream",
       "stream": "stdout",
       "text": [
        "\n",
        "set([u'anymore'])"
       ]
      },
      {
       "output_type": "stream",
       "stream": "stdout",
       "text": [
        "\n",
        "set([u'bears', u'beer', u'bees', u'peers'])\n",
        "[u'everytime']"
       ]
      },
      {
       "output_type": "stream",
       "stream": "stdout",
       "text": [
        "\n",
        "[u'douchebags']"
       ]
      },
      {
       "output_type": "stream",
       "stream": "stdout",
       "text": [
        "\n",
        "set([u'sulky', u'sky.', u'sucks', u'lucky', u'sacks.', u'sunny.', u'sack.', u'suck', u'such.', u'luck.', u'sucked'])"
       ]
      },
      {
       "output_type": "stream",
       "stream": "stdout",
       "text": [
        "\n",
        "set([u'kicked'])\n",
        "set([u'serves', u'server'])\n",
        "set([u'kinds', u'bids', u'kits', u'kiss', u'aids', u'lids', u'kid'])\n",
        "[u'convienence.']"
       ]
      },
      {
       "output_type": "stream",
       "stream": "stdout",
       "text": [
        "\n",
        "set([u'coated', u'coaled'])\n",
        "set([u'buy', u'rum', u'bump', u'bus', u'sum', u'gum', u'but', u'hum', u'cum', u'bug', u'bud', u'zum'])\n",
        "set([u'greenhouse'])"
       ]
      },
      {
       "output_type": "stream",
       "stream": "stdout",
       "text": [
        "\n",
        "set([u'dupe', u'duke', u'due', u'rude'])\n",
        "[u'imaginable']"
       ]
      },
      {
       "output_type": "stream",
       "stream": "stdout",
       "text": [
        "\n",
        "set([u'gone', u'gown', u'non', u'gong', u'don', u'on', u'hon', u'god', u'von', u'gun', u'son', u'yon', u'ion', u'won', u'ton', u'mon', u'gin', u'go', u'got', u'gen', u'con'])\n",
        "[u'awesome']"
       ]
      },
      {
       "output_type": "stream",
       "stream": "stdout",
       "text": [
        "\n",
        "set([u'gums', u'guy', u'guns'])\n",
        "set([u'sector', u'defer', u'deck', u'tenor', u'deer', u'fedor', u'rector', u'dear', u'recur', u'decay', u'decorum', u'donor', u'depot', u'decks', u'door', u'demon', u'detour', u'deter', u'devour', u'senor', u'debtor', u'cor', u'defoe', u'der', u'doctor', u'deacon', u'record', u'vector', u'dec'])"
       ]
      },
      {
       "output_type": "stream",
       "stream": "stdout",
       "text": [
        "\n",
        "set([u'sector', u'defer', u'deck', u'tenor', u'deer', u'fedor', u'rector', u'dear', u'recur', u'decay', u'decorum', u'donor', u'depot', u'decks', u'door', u'demon', u'detour', u'deter', u'devour', u'senor', u'debtor', u'cor', u'defoe', u'der', u'doctor', u'deacon', u'record', u'vector', u'dec'])"
       ]
      },
      {
       "output_type": "stream",
       "stream": "stdout",
       "text": [
        "\n",
        "set([u'trampling', u'stamping', u'rambling', u'sailing', u'sapping', u'ambling', u'gambling', u'smiling', u'dimpling', u'camping'])"
       ]
      },
      {
       "output_type": "stream",
       "stream": "stdout",
       "text": [
        "\n",
        "set([u'menu', u'men.'])\n",
        "set([u'choicest', u'choice'])\n",
        "set([u'port.', u'pork', u'work.', u'cork.', u'park.', u'york.'])\n",
        "set([u'salad'])\n",
        "[u'flavorful']"
       ]
      },
      {
       "output_type": "stream",
       "stream": "stdout",
       "text": [
        "\n",
        "set([u'ni', u'nl', u'nm', u'ty', u'any', u'na', u'no', u'nd', u'ne', u'n', u'y', u'cy', u'ney', u'ay', u'vy', u'nay', u'my', u'by', u'ly'])\n",
        "[u'ribeye']"
       ]
      },
      {
       "output_type": "stream",
       "stream": "stdout",
       "text": [
        "\n",
        "set([u'salmon'])\n",
        "set([u'chill', u'chile', u'child'])\n",
        "set([u'spice', u'space.', u'spine.'])\n",
        "set([u'alright', u'alight.'])\n",
        "set([u'texture'])\n",
        "set([u'restaurant'])\n",
        "set([u'tat', u'ab', u'tap', u'tar', u'tax', u'lab', u'tag', u'stab', u'cab', u'tub', u'ta'])\n",
        "[u'mojitos.']"
       ]
      },
      {
       "output_type": "stream",
       "stream": "stdout",
       "text": [
        "\n",
        "set([u'average', u'averaged', u'averages'])\n",
        "set([u'motions'])"
       ]
      },
      {
       "output_type": "stream",
       "stream": "stdout",
       "text": [
        "\n",
        "set([u'now.', u'row.', u'blow.', u'law.', u'bow.', u'flow.', u'low', u'log.', u'plow.', u'glow.', u'how.', u'slow.', u'lows'])\n",
        "[u'bartender']"
       ]
      },
      {
       "output_type": "stream",
       "stream": "stdout",
       "text": [
        "\n",
        "set([u'annoying'])\n",
        "set([u'liza', u'dizzy', u'penza'])"
       ]
      },
      {
       "output_type": "stream",
       "stream": "stdout",
       "text": [
        "\n",
        "set([u'punch.', u'lunch'])\n",
        "set([u\"'h.\", u\"'his\"])\n",
        "set([u'shone.', u'prone.', u'phone'])\n",
        "set([u'saturdays'])\n",
        "set([u'booths.', u'both.', u'boots.', u'boot.', u'booth', u'tooth.'])\n",
        "set([u'sector', u'defer', u'deck', u'tenor', u'deer', u'fedor', u'rector', u'dear', u'recur', u'decay', u'decorum', u'donor', u'depot', u'decks', u'door', u'demon', u'detour', u'deter', u'devour', u'senor', u'debtor', u'cor', u'defoe', u'der', u'doctor', u'deacon', u'record', u'vector', u'dec'])"
       ]
      },
      {
       "output_type": "stream",
       "stream": "stdout",
       "text": [
        "\n",
        "set([u'spotless'])\n",
        "set([u'month'])\n",
        "set([u'cristal', u'crusty', u'christ', u'wrists', u'crust', u'crusts', u'wrist', u'grist', u'bristol', u'crisp', u'crest', u'crisis'])"
       ]
      },
      {
       "output_type": "stream",
       "stream": "stdout",
       "text": [
        "\n",
        "set([u'gray', u'grady', u'grave'])\n",
        "set([u'items', u'item.'])\n",
        "set([u'month'])\n",
        "set([u'cristal', u'crusty', u'christ', u'wrists', u'crust', u'crusts', u'wrist', u'grist', u'bristol', u'crisp', u'crest', u'crisis'])"
       ]
      },
      {
       "output_type": "stream",
       "stream": "stdout",
       "text": [
        "\n",
        "set([u'bluebeard'])"
       ]
      },
      {
       "output_type": "stream",
       "stream": "stdout",
       "text": [
        "\n",
        "set([u'perfectly'])\n",
        "[u'breakfast/brunch']"
       ]
      },
      {
       "output_type": "stream",
       "stream": "stdout",
       "text": [
        "\n",
        "set([u'185', u'81', u'15', u'85'])"
       ]
      },
      {
       "output_type": "stream",
       "stream": "stdout",
       "text": [
        "\n",
        "set([u'temporal', u'temper'])"
       ]
      },
      {
       "output_type": "stream",
       "stream": "stdout",
       "text": [
        "\n",
        "set([u'inaudible', u'incredible'])"
       ]
      },
      {
       "output_type": "stream",
       "stream": "stdout",
       "text": [
        "\n",
        "set([u'actress', u'witness', u'mattress'])"
       ]
      },
      {
       "output_type": "stream",
       "stream": "stdout",
       "text": [
        "\n",
        "set([u'coup', u'pomp', u'cop', u'camp', u'coma', u'comb', u'come'])\n",
        "set([u'actress', u'witness', u'mattress'])"
       ]
      },
      {
       "output_type": "stream",
       "stream": "stdout",
       "text": [
        "\n",
        "set([u'suis', u'rush', u'tushin', u'susan', u'lush', u'aussi', u'sasha', u'hush', u'bush', u'gush', u'push', u'such', u'sash', u'bushy'])"
       ]
      },
      {
       "output_type": "stream",
       "stream": "stdout",
       "text": [
        "\n",
        "set([u'menu', u'men.'])\n",
        "set([u'prized', u'pricked', u'price', u'prices', u'prided', u'pried'])\n",
        "set([u'cloud.', u'lord.', u'aloud.', u'loud', u'load.'])\n",
        "set([u'kinds', u'bids', u'kits', u'kiss', u'aids', u'lids', u'kid'])\n",
        "set([u'pancake'])\n",
        "set([u'lair', u'la', u'ai', u'ali', u'lab', u'li', u'lad', u'laid', u'lax', u'lay', u'lain', u'lui', u'law', u'lap', u'las'])\n",
        "set([u'lair', u'la', u'ai', u'ali', u'lab', u'li', u'lad', u'laid', u'lax', u'lay', u'lain', u'lui', u'law', u'lap', u'las'])\n",
        "[u'mongolian']"
       ]
      },
      {
       "output_type": "stream",
       "stream": "stdout",
       "text": [
        "\n",
        "set([u'box', u'boy', u'boor', u'boot', u'bow', u'book', u'too', u'boon', u'boa', u'bob', u'foo', u'oo', u'boom'])\n",
        "set([u'nom', u'mop', u'mot', u'mmm', u'mon', u'tom', u'mob'])\n",
        "set([u'menu', u'men.'])\n",
        "set([u'nom', u'mop', u'mot', u'mmm', u'mon', u'tom', u'mob'])\n",
        "[u'allergic']"
       ]
      },
      {
       "output_type": "stream",
       "stream": "stdout",
       "text": [
        "\n",
        "set([u'mug', u'sg', u'meg', u'ms'])\n",
        "set([u'oo', u'woot', u'foo', u'won', u'wo', u'who', u'woof', u'wood', u'too', u'woe', u'wool'])\n",
        "set([u'hood.'])\n",
        "set([u'appetite'])"
       ]
      },
      {
       "output_type": "stream",
       "stream": "stdout",
       "text": [
        "\n",
        "set([u'be', u'b', u'ff', u'bc', u'bl', u'of', u'f', u'cf', u'br', u'by', u'if'])\n",
        "set([u'still'])\n",
        "set([u'mmm', u'mm.'])\n",
        "set([u'berks', u'jerks', u'peaks'])\n",
        "set([u'stones', u'scenes', u'scores'])\n",
        "[u'ravioli']"
       ]
      },
      {
       "output_type": "stream",
       "stream": "stdout",
       "text": [
        "\n",
        "set([u'mummy', u'dummy'])"
       ]
      },
      {
       "output_type": "stream",
       "stream": "stdout",
       "text": [
        "\n",
        "set([u'wallflower'])"
       ]
      },
      {
       "output_type": "stream",
       "stream": "stdout",
       "text": [
        "\n",
        "set([u'homer', u'home', u'honey', u'homely', u'homes'])\n",
        "set([u'baffled', u'wattle', u'ruffle', u'snaffle'])"
       ]
      },
      {
       "output_type": "stream",
       "stream": "stdout",
       "text": [
        "\n",
        "set([u'creek.', u'creep'])\n",
        "set([u'baffled', u'wales'])"
       ]
      },
      {
       "output_type": "stream",
       "stream": "stdout",
       "text": [
        "\n",
        "set([u'impressed'])\n",
        "set([u'backwater'])"
       ]
      },
      {
       "output_type": "stream",
       "stream": "stdout",
       "text": [
        "\n",
        "set([u'costa', u'color', u'cock', u'coma', u'cochon', u'comma', u'cook', u'colon', u'coxa', u'cocci', u'cocks', u'cool'])"
       ]
      },
      {
       "output_type": "stream",
       "stream": "stdout",
       "text": [
        "\n",
        "set([u'acute', u'cut', u'bute', u'mute', u'cure', u'cuts', u'cite'])\n",
        "set([u'attentive'])\n",
        "set([u'heated', u'created'])\n",
        "set([u'random'])"
       ]
      },
      {
       "output_type": "stream",
       "stream": "stdout",
       "text": [
        "\n",
        "set([u'pro', u'oho', u'po', u'who', u'ho'])\n",
        "set([u'maggie', u'verge'])"
       ]
      },
      {
       "output_type": "stream",
       "stream": "stdout",
       "text": [
        "\n",
        "set([u'who.'])\n",
        "set([u'who.'])\n",
        "set([u'delirious.', u'delicious'])\n",
        "set([u'clamp', u'claws', u'calms', u'claims', u'clamps', u'class'])\n",
        "[u'oreganato']"
       ]
      },
      {
       "output_type": "stream",
       "stream": "stdout",
       "text": [
        "\n",
        "set([u'appetite.'])"
       ]
      },
      {
       "output_type": "stream",
       "stream": "stdout",
       "text": [
        "\n",
        "[u'eggplant']"
       ]
      },
      {
       "output_type": "stream",
       "stream": "stdout",
       "text": [
        "\n",
        "set([u'harm', u'farm', u'marm', u'park', u'par', u'parma', u'warm', u'palm', u'parr', u'part', u'arm'])\n",
        "set([u'pasty', u'past', u'paste'])\n",
        "set([u'salad'])\n",
        "set([u'relate', u'plato', u'gelatin'])"
       ]
      },
      {
       "output_type": "stream",
       "stream": "stdout",
       "text": [
        "\n",
        "set([u'mess', u'mesh'])\n",
        "set([u'overview'])"
       ]
      },
      {
       "output_type": "stream",
       "stream": "stdout",
       "text": [
        "\n",
        "set([u'login', u'slogan', u'loan'])\n",
        "set([u'favors', u'flavor'])\n",
        "[u'dairy-free']"
       ]
      },
      {
       "output_type": "stream",
       "stream": "stdout",
       "text": [
        "\n",
        "set([u'favors', u'flavor'])\n",
        "set([u'decent', u'decades', u'decade', u'demandent', u'decadence'])"
       ]
      },
      {
       "output_type": "stream",
       "stream": "stdout",
       "text": [
        "\n",
        "set([u'relates', u'gelatin'])"
       ]
      },
      {
       "output_type": "stream",
       "stream": "stdout",
       "text": [
        "\n",
        "set([u'gerry', u'barry', u'perry', u'merry', u'ferry'])\n",
        "set([u'favors', u'flavor'])\n",
        "set([u'delirious.', u'delicious'])\n",
        "[u'styrofoam']"
       ]
      },
      {
       "output_type": "stream",
       "stream": "stdout",
       "text": [
        "\n",
        "set([u'oo-oo', u'tough', u'tokyo', u't-wo', u'tongs', u'forgo', u'too'])"
       ]
      },
      {
       "output_type": "stream",
       "stream": "stdout",
       "text": [
        "\n",
        "set([u'chary', u'cher', u'car', u'chart', u'chap', u'charm', u'chat', u'chair', u'czar'])\n",
        "set([u'burgher'])\n",
        "[u'w/avocado.']"
       ]
      },
      {
       "output_type": "stream",
       "stream": "stdout",
       "text": [
        "\n",
        "set([u'burgher'])\n",
        "set([u'yuma', u'rum', u'hum', u'sum', u'gum', u'cum', u'zum'])\n",
        "set([u'crisply', u'crisp'])\n",
        "set([u'dries', u'furies', u'frees', u'flies', u'tries', u'cries', u'fires', u'frise', u'fried'])\n",
        "set([u'burgher'])\n",
        "set([u'calibre.'])\n",
        "[u'drive-thru']"
       ]
      },
      {
       "output_type": "stream",
       "stream": "stdout",
       "text": [
        "\n",
        "set([u'waiter', u'waters', u'writers', u'gaiters'])\n",
        "set([u'asia'])\n",
        "set([u'superbe', u'super.', u'superb'])\n",
        "set([u'mummy', u'dummy'])"
       ]
      },
      {
       "output_type": "stream",
       "stream": "stdout",
       "text": [
        "\n",
        "set([u'wanton'])\n",
        "set([u'maggie', u'verge'])"
       ]
      },
      {
       "output_type": "stream",
       "stream": "stdout",
       "text": [
        "\n",
        "[u'broccoli']"
       ]
      },
      {
       "output_type": "stream",
       "stream": "stdout",
       "text": [
        "\n",
        "set([u'sect.', u'ext.', u'eat.', u'etc.', u'act.'])\n",
        "set([u'wostovs', u'wanton', u'cottons'])"
       ]
      },
      {
       "output_type": "stream",
       "stream": "stdout",
       "text": [
        "\n",
        "set([u'mummy', u'dummy'])"
       ]
      },
      {
       "output_type": "stream",
       "stream": "stdout",
       "text": [
        "\n",
        "set([u'entries'])\n",
        "set([u'operated', u'overruled', u'serrated'])"
       ]
      },
      {
       "output_type": "stream",
       "stream": "stdout",
       "text": [
        "\n",
        "set([u'liza', u'dizzy', u'penza'])"
       ]
      },
      {
       "output_type": "stream",
       "stream": "stdout",
       "text": [
        "\n",
        "set([u'sealed.', u'stated.', u'seated'])\n",
        "set([u'o.', u'ok', u'oak.', u'oz.', u'of.', u'k.', u'oka', u'on.'])\n",
        "[u'cal-zones']"
       ]
      },
      {
       "output_type": "stream",
       "stream": "stdout",
       "text": [
        "\n",
        "set([u'serves', u'server'])\n",
        "set([u'liza', u'dizzy', u'penza'])"
       ]
      },
      {
       "output_type": "stream",
       "stream": "stdout",
       "text": [
        "\n",
        "set([u'supinator', u'supinators', u'spinati'])"
       ]
      },
      {
       "output_type": "stream",
       "stream": "stdout",
       "text": [
        "\n",
        "[u'pizzeria']"
       ]
      },
      {
       "output_type": "stream",
       "stream": "stdout",
       "text": [
        "\n",
        "set([u'diana', u'fiance', u'branch'])"
       ]
      },
      {
       "output_type": "stream",
       "stream": "stdout",
       "text": [
        "\n",
        "set([u'hats.', u'has.'])\n",
        "set([u'boats', u'beats', u'rats', u'brass', u'brat'])\n",
        "set([u'spice'])\n",
        "set([u'thaw', u'than', u'that'])\n",
        "set([u'bland', u'gland.', u'band.', u'land.', u'blind.'])\n",
        "[u'pretzels']"
       ]
      },
      {
       "output_type": "stream",
       "stream": "stdout",
       "text": [
        "\n",
        "set([u'fabulous'])\n",
        "set([u'juice'])\n",
        "set([u'pasty', u'taste', u'nasty', u'hasty'])\n",
        "[u'meatballs.']"
       ]
      },
      {
       "output_type": "stream",
       "stream": "stdout",
       "text": [
        "\n",
        "set([u'ratio'])\n",
        "set([u'el', u'old', u'ole', u'owl', u'vol', u'sol', u'il', u'nl', u'lo', u'll', u'oil', u'bl', u'al', u'oo', u'on', u'ok', u'oh', u'of', u'oe', u'l', u'o', u'col', u'ox', u'ou', u'os', u'or'])\n",
        "set([u'funny', u'funke'])\n",
        "set([u'80', u'50', u'580', u'85'])"
       ]
      },
      {
       "output_type": "stream",
       "stream": "stdout",
       "text": [
        "\n",
        "set([u'ix', u'm', u'is', u'am', u'it', u'iv', u'ii', u'rim', u'il', u'in', u'id', u'if', u'nm', u'tim', u'jim', u'imp', u'pm', u'hm', u'him', u'dim', u'i', u'mi', u'km', u'aim'])\n",
        "set([u'jam', u'foam', u'exam', u'sam', u'10', u'swam', u'dam', u'guam', u'ram', u'am', u'ham', u'gram', u'roam', u'beam', u'slam', u'adam', u'team', u'dram', u'siam', u'sham'])"
       ]
      },
      {
       "output_type": "stream",
       "stream": "stdout",
       "text": [
        "\n",
        "set([u'baffled', u'wales'])"
       ]
      },
      {
       "output_type": "stream",
       "stream": "stdout",
       "text": [
        "\n",
        "set([u'baffled', u'wattle', u'ruffle', u'snaffle'])"
       ]
      },
      {
       "output_type": "stream",
       "stream": "stdout",
       "text": [
        "\n",
        "set([u'dint', u'didst'])\n",
        "set([u'baffled', u'wattle', u'ruffle', u'snaffle'])"
       ]
      },
      {
       "output_type": "stream",
       "stream": "stdout",
       "text": [
        "\n",
        "set([u'syrupy'])\n",
        "set([u'wast', u'want'])\n",
        "set([u'grands', u'granddad', u'grandly', u'grande', u'grand', u'grandee'])"
       ]
      },
      {
       "output_type": "stream",
       "stream": "stdout",
       "text": [
        "\n",
        "set([u'omelet'])"
       ]
      },
      {
       "output_type": "stream",
       "stream": "stdout",
       "text": [
        "\n",
        "set([u'couldst', u'would'])"
       ]
      },
      {
       "output_type": "stream",
       "stream": "stdout",
       "text": [
        "\n",
        "[u'omelletes']"
       ]
      },
      {
       "output_type": "stream",
       "stream": "stdout",
       "text": [
        "\n",
        "set([u'wife', u'wiles', u'wines', u'wires', u'wives'])\n",
        "set([u'slightly', u'slight'])\n",
        "set([u'cheaper'])\n",
        "set([u'gums', u'guy', u'guns'])\n",
        "set([u'challenge.'])\n",
        "set([u'dash', u'ash', u'harsh', u'wash', u'sash', u'cash', u'rash', u'mash', u'hush', u'hath', u'gash', u'hast', u'has', u'hasp', u'lash'])\n",
        "set([u'brown', u'brows', u'crowns', u'drowns'])\n",
        "set([u'thou'])\n",
        "set([u'definitely', u'definite'])"
       ]
      },
      {
       "output_type": "stream",
       "stream": "stdout",
       "text": [
        "\n",
        "set([u'dint', u'didst'])\n",
        "set([u'geese'])\n",
        "set([u'pancake'])"
       ]
      },
      {
       "output_type": "stream",
       "stream": "stdout",
       "text": [
        "\n",
        "set([u'streak', u'steal', u'stead', u'steam', u'speak'])\n",
        "set([u'wo', u'w', u'we', u'wa', u'/'])\n",
        "set([u'gray', u'grady', u'grave'])\n",
        "set([u'streak', u'steal', u'stead', u'steam', u'speak'])\n",
        "set([u'wo', u'w', u'we', u'wa', u'/'])\n",
        "[u'hashbrowns']"
       ]
      },
      {
       "output_type": "stream",
       "stream": "stdout",
       "text": [
        "\n",
        "set([u'banana'])\n",
        "set([u'dean', u'scan', u'petal', u'melan', u'texan', u'decay', u'began', u'peace', u'lean', u'peak', u'pen', u'penn', u'pea', u'pan', u'pear', u'peas', u'bean', u'plan', u'sedan', u'pedal', u'peck', u'pagan', u'peal', u'ocean', u'peche', u'can', u'jean', u'penal', u'mean'])"
       ]
      },
      {
       "output_type": "stream",
       "stream": "stdout",
       "text": [
        "\n",
        "set([u'calomel', u'carrel', u'camel'])"
       ]
      },
      {
       "output_type": "stream",
       "stream": "stdout",
       "text": [
        "\n",
        "set([u'manger', u'render', u'mended', u'gender', u'meager', u'leader', u'lender', u'header', u'slander', u'meade', u'manner', u'reader', u'tender', u'wander'])"
       ]
      },
      {
       "output_type": "stream",
       "stream": "stdout",
       "text": [
        "\n",
        "set([u'audit'])\n",
        "set([u'pipe', u'piled', u'pipes', u'wiped'])\n",
        "set([u'witing', u'biting', u'sifting', u'sting', u'sitting'])\n",
        "set([u'dunning', u'winning', u'pinning', u'dining', u'donning', u'sinning'])\n",
        "set([u'patrons'])\n",
        "set([u'rendered'])\n",
        "set([u'restaurant'])\n",
        "set([u'camera'])\n",
        "set([u'men', u'pens', u'means', u'mess', u'menu', u'mews', u'lens', u'tens', u'omens', u'mend', u'sens', u'wens'])\n",
        "set([u'gained', u'gainer'])\n",
        "set([u'gray', u'gay', u'wary', u'garb', u'gare', u'vary', u'gory', u'mary'])\n",
        "[u'awesome.']"
       ]
      },
      {
       "output_type": "stream",
       "stream": "stdout",
       "text": [
        "\n",
        "[u'pupusas']"
       ]
      },
      {
       "output_type": "stream",
       "stream": "stdout",
       "text": [
        "\n",
        "set([u'hardware'])"
       ]
      },
      {
       "output_type": "stream",
       "stream": "stdout",
       "text": [
        "\n",
        "set([u'intriguer', u'intrigue', u'intrigues'])\n",
        "[u'pupusas']"
       ]
      },
      {
       "output_type": "stream",
       "stream": "stdout",
       "text": [
        "\n",
        "[u'salvadoreno']"
       ]
      },
      {
       "output_type": "stream",
       "stream": "stdout",
       "text": [
        "\n",
        "[u'low-key']"
       ]
      },
      {
       "output_type": "stream",
       "stream": "stdout",
       "text": [
        "\n",
        "set([u'meal.', u'isa.', u'mesial', u'esq.', u'med.', u'me.', u'meek.', u'seas.', u'pea.', u'desk.', u'mask.', u'most.', u'mrs.', u'melan', u'mean.', u'meet.', u'jest.', u'test.', u'yes.', u'medal', u'media.', u'mess', u'tea.', u'rest.', u'mist.', u'nest.', u'meat.', u'metal', u'mesh', u'sea.', u'vera.', u'met.', u'meat', u'less.', u'miss.', u'era.', u'best.', u'west.', u'means.', u'versa.', u'men.', u'metal.', u'mead', u'must.', u'mass.', u'meal', u'mean'])"
       ]
      },
      {
       "output_type": "stream",
       "stream": "stdout",
       "text": [
        "\n",
        "set([u'restaurant'])\n",
        "[u'interestingly-named']"
       ]
      },
      {
       "output_type": "stream",
       "stream": "stdout",
       "text": [
        "\n",
        "set([u'actress', u'witness', u'mattress'])"
       ]
      },
      {
       "output_type": "stream",
       "stream": "stdout",
       "text": [
        "\n",
        "set([u'purpura', u'lupus'])"
       ]
      },
      {
       "output_type": "stream",
       "stream": "stdout",
       "text": [
        "\n",
        "set([u'combs', u'comb'])\n",
        "set([u'planter', u'patter', u'flatter', u'plaster', u'clatter', u'latter'])\n",
        "set([u'polly', u'apollo', u'poll', u'polls'])\n",
        "[u'revuelta']"
       ]
      },
      {
       "output_type": "stream",
       "stream": "stdout",
       "text": [
        "\n",
        "set([u'beans', u'means.'])\n",
        "set([u'cane', u'marne', u'carve', u'crane', u'warne', u'carte', u'care'])\n",
        "set([u'aside.', u'soda.', u'canada.', u'sad.'])"
       ]
      },
      {
       "output_type": "stream",
       "stream": "stdout",
       "text": [
        "\n",
        "[u'pupusas']"
       ]
      },
      {
       "output_type": "stream",
       "stream": "stdout",
       "text": [
        "\n",
        "set([u'v', u'ty', u'tt', u'tu', u'iv', u'to', u't', u'th', u'ti', u'te', u'xv', u'ta'])\n",
        "[u'voice-over']"
       ]
      },
      {
       "output_type": "stream",
       "stream": "stdout",
       "text": [
        "\n",
        "set([u'bunting', u'bursting', u'dusting', u'busying', u'ousting', u'bustling'])\n",
        "[u'bienvenidos']"
       ]
      },
      {
       "output_type": "stream",
       "stream": "stdout",
       "text": [
        "\n",
        "set([u'tier', u'tiers', u'pierre', u'tierce'])"
       ]
      },
      {
       "output_type": "stream",
       "stream": "stdout",
       "text": [
        "\n",
        "set([u'***'])\n",
        "set([u'device', u'catiche'])"
       ]
      },
      {
       "output_type": "stream",
       "stream": "stdout",
       "text": [
        "\n",
        "set([u'15'])\n",
        "set([u'dig', u'dog', u'dug'])\n",
        "set([u'tiers', u'timbers', u'times'])\n",
        "[u'wed-sat']"
       ]
      },
      {
       "output_type": "stream",
       "stream": "stdout",
       "text": [
        "\n",
        "[u'bartender']"
       ]
      },
      {
       "output_type": "stream",
       "stream": "stdout",
       "text": [
        "\n",
        "[u'late-afternoon']"
       ]
      },
      {
       "output_type": "stream",
       "stream": "stdout",
       "text": [
        "\n",
        "set([u'appetite.'])"
       ]
      },
      {
       "output_type": "stream",
       "stream": "stdout",
       "text": [
        "\n",
        "set([u'humerus', u'humbug', u'humour', u'humans', u'humours', u'hummed', u'hommes'])"
       ]
      },
      {
       "output_type": "stream",
       "stream": "stdout",
       "text": [
        "\n",
        "set([u'appetite'])"
       ]
      },
      {
       "output_type": "stream",
       "stream": "stdout",
       "text": [
        "\n",
        "set([u'olive', u'oliver', u'lives'])\n",
        "set([u'crisply', u'crisp'])\n",
        "set([u'planting', u'plantaris', u'plantations'])"
       ]
      },
      {
       "output_type": "stream",
       "stream": "stdout",
       "text": [
        "\n",
        "set([u'pasty', u'taste', u'nasty', u'hasty'])\n",
        "set([u'tula', u'tune'])\n",
        "[u'arugula']"
       ]
      },
      {
       "output_type": "stream",
       "stream": "stdout",
       "text": [
        "\n",
        "[u'ciabatta']"
       ]
      },
      {
       "output_type": "stream",
       "stream": "stdout",
       "text": [
        "\n",
        "set([u'willed', u'tilted'])\n",
        "set([u'nasty'])\n",
        "set([u'tomato', u'potatoes'])"
       ]
      },
      {
       "output_type": "stream",
       "stream": "stdout",
       "text": [
        "\n",
        "set([u'deeper.', u'keeper', u'keener.', u'keepers'])\n",
        "[u'sapphire']"
       ]
      },
      {
       "output_type": "stream",
       "stream": "stdout",
       "text": [
        "\n",
        "set([u'martin'])\n",
        "set([u'stills.', u'skill.'])\n",
        "[u'machine-made']"
       ]
      },
      {
       "output_type": "stream",
       "stream": "stdout",
       "text": [
        "\n",
        "set([u'fleck'])\n",
        "set([u'shares'])\n",
        "set([u'martin'])\n",
        "set([u'prided', u'prime', u'prized', u'pried'])\n",
        "set([u'propped'])\n",
        "set([u'vermont'])"
       ]
      },
      {
       "output_type": "stream",
       "stream": "stdout",
       "text": [
        "\n",
        "[u'sapphire']"
       ]
      },
      {
       "output_type": "stream",
       "stream": "stdout",
       "text": [
        "\n",
        "set([u'contracts', u'contrasts', u'contrat', u'contrast', u'congress'])"
       ]
      },
      {
       "output_type": "stream",
       "stream": "stdout",
       "text": [
        "\n",
        "[u'chick-chosen']"
       ]
      },
      {
       "output_type": "stream",
       "stream": "stdout",
       "text": [
        "\n",
        "[u'wallpaper']"
       ]
      },
      {
       "output_type": "stream",
       "stream": "stdout",
       "text": [
        "\n",
        "[u'perfect-sphere']"
       ]
      },
      {
       "output_type": "stream",
       "stream": "stdout",
       "text": [
        "\n",
        "set([u'fare', u'jake', u'fate', u'sake', u'make', u'rake', u'lake', u'face', u'wake', u'take', u'fade', u'cake', u'bake', u'fame'])\n",
        "set([u'tablets', u'tablet'])"
       ]
      },
      {
       "output_type": "stream",
       "stream": "stdout",
       "text": [
        "\n",
        "[u'different-height']"
       ]
      },
      {
       "output_type": "stream",
       "stream": "stdout",
       "text": [
        "\n",
        "set([u'chi', u'chip', u'chin', u'chit'])\n",
        "set([u'pasty', u'taste', u'nasty', u'hasty'])\n",
        "[u'fresh-squeezed.']"
       ]
      },
      {
       "output_type": "stream",
       "stream": "stdout",
       "text": [
        "\n",
        "set([u'early', u'dearly.'])\n",
        "set([u'piercing'])\n",
        "set([u'revelry', u'jewel', u'jewels', u'jewellery'])"
       ]
      },
      {
       "output_type": "stream",
       "stream": "stdout",
       "text": [
        "\n",
        "set([u'information.'])"
       ]
      },
      {
       "output_type": "stream",
       "stream": "stdout",
       "text": [
        "\n",
        "set([u'piercing'])\n",
        "set([u'gums', u'guy', u'guns'])\n",
        "set([u'revelry', u'jewel', u'jewels', u'jewellery'])"
       ]
      },
      {
       "output_type": "stream",
       "stream": "stdout",
       "text": [
        "\n",
        "set([u'easy.'])\n",
        "[u'awesome']"
       ]
      },
      {
       "output_type": "stream",
       "stream": "stdout",
       "text": [
        "\n",
        "set([u'actress', u'witness', u'mattress'])"
       ]
      },
      {
       "output_type": "stream",
       "stream": "stdout",
       "text": [
        "\n",
        "set([u'somberly'])"
       ]
      },
      {
       "output_type": "stream",
       "stream": "stdout",
       "text": [
        "\n",
        "set([u'thomas'])\n",
        "set([u'temps', u'tempt', u'temple', u'temper'])\n",
        "set([u'temper.', u'temple.', u'temper'])\n",
        "set([u'case', u'cases'])\n",
        "set([u'temper.', u'temple.', u'temper'])\n",
        "set([u'weekend'])"
       ]
      },
      {
       "output_type": "stream",
       "stream": "stdout",
       "text": [
        "\n",
        "set([u'100'])\n",
        "set([u'130'])\n",
        "set([u'weekend'])\n",
        "set([u'still.', u'sill.', u'skill.', u'will.'])\n",
        "[u'dazbog']"
       ]
      },
      {
       "output_type": "stream",
       "stream": "stdout",
       "text": [
        "\n",
        "set([u'distressed', u'undressed', u'stressed'])"
       ]
      },
      {
       "output_type": "stream",
       "stream": "stdout",
       "text": [
        "\n",
        "[u'cappuccino']"
       ]
      },
      {
       "output_type": "stream",
       "stream": "stdout",
       "text": [
        "\n",
        "set([u'berks', u'jerks', u'peaks'])\n",
        "[u'mushiest']"
       ]
      },
      {
       "output_type": "stream",
       "stream": "stdout",
       "text": [
        "\n",
        "set([u'overlay'])\n",
        "set([u'blissful'])\n",
        "[u\"i've-just-been-bitch-slapped-by-caffeine\"]"
       ]
      },
      {
       "output_type": "stream",
       "stream": "stdout",
       "text": [
        "\n",
        "set([u'sandwiched'])\n",
        "set([u'delhi', u'del'])\n",
        "[u'clam-shells.']"
       ]
      },
      {
       "output_type": "stream",
       "stream": "stdout",
       "text": [
        "\n",
        "set([u'appetizing'])\n",
        "[u'cupcake']"
       ]
      },
      {
       "output_type": "stream",
       "stream": "stdout",
       "text": [
        "\n",
        "[u'voodoo']"
       ]
      },
      {
       "output_type": "stream",
       "stream": "stdout",
       "text": [
        "\n",
        "[u'dazbog.']"
       ]
      },
      {
       "output_type": "stream",
       "stream": "stdout",
       "text": [
        "\n",
        "set([u'60', u'00'])"
       ]
      },
      {
       "output_type": "stream",
       "stream": "stdout",
       "text": [
        "\n",
        "set([u'bars', u'bias', u'buds', u'bags', u'cuffs', u'bees', u'bus', u'bits', u'buff', u'bets', u'puffs', u'uffa', u'bass', u'fas', u'boss', u'boys', u'ff', u'off', u'bons', u'bids', u'bows', u'beds', u'liffs'])"
       ]
      },
      {
       "output_type": "stream",
       "stream": "stdout",
       "text": [
        "\n",
        "[u'awesome']"
       ]
      },
      {
       "output_type": "stream",
       "stream": "stdout",
       "text": [
        "\n",
        "set([u'favors', u'flavor'])\n",
        "set([u'ingredient'])\n",
        "set([u'began'])\n",
        "[u'gluten-free']"
       ]
      },
      {
       "output_type": "stream",
       "stream": "stdout",
       "text": [
        "\n",
        "set([u'began'])\n",
        "set([u'spinae', u'spinal', u'spinati', u'spina', u'pinch'])"
       ]
      },
      {
       "output_type": "stream",
       "stream": "stdout",
       "text": [
        "\n",
        "[u'artichoke']"
       ]
      },
      {
       "output_type": "stream",
       "stream": "stdout",
       "text": [
        "\n",
        "[u'lou/autoplex']"
       ]
      },
      {
       "output_type": "stream",
       "stream": "stdout",
       "text": [
        "\n",
        "set([u'log', u'lo', u'lout', u'los', u'low', u'lot', u'ou', u'loud', u'you'])\n",
        "[u'runaround']"
       ]
      },
      {
       "output_type": "stream",
       "stream": "stdout",
       "text": [
        "\n",
        "set([u'duty', u'hugo', u'art', u'mute', u'saute', u'haute', u'butt', u'apt', u'ant', u'santo', u'ants', u'au', u'at', u'cuts', u'into', u'anton', u'astor', u'unto', u'out', u'ruts', u'arts', u'cut', u'aug', u'also', u'soto', u'acts', u'nuts', u'actor', u'tutor', u'aux', u'otto', u'aft', u'ado', u'bubo', u'ruth', u'nut', u'ante', u'to', u'bute', u'alton', u'veto', u'act', u'tut', u'but', u'hut', u'huts', u'eut', u'put', u'rut', u'ago', u'acute', u'ate', u'puts', u'ut', u'alte', u'author', u'gusto', u'atom', u'aunt', u'taut', u'gut', u'faut', u'outdo', u'onto'])"
       ]
      },
      {
       "output_type": "stream",
       "stream": "stdout",
       "text": [
        "\n",
        "[u'muffler/tailpipe']"
       ]
      },
      {
       "output_type": "stream",
       "stream": "stdout",
       "text": [
        "\n",
        "set([u'paralytic'])"
       ]
      },
      {
       "output_type": "stream",
       "stream": "stdout",
       "text": [
        "\n",
        "set([u'converted'])\n",
        "set([u'additional'])"
       ]
      },
      {
       "output_type": "stream",
       "stream": "stdout",
       "text": [
        "\n",
        "set([u'mechanics'])\n",
        "[u'fix/finish.']"
       ]
      },
      {
       "output_type": "stream",
       "stream": "stdout",
       "text": [
        "\n",
        "set([u'watch', u'batch', u'patch', u'thatch', u'hath', u'catch', u'latch', u'hotch', u'match'])\n",
        "set([u'fists', u'vista', u'finest', u'fist', u'first'])"
       ]
      },
      {
       "output_type": "stream",
       "stream": "stdout",
       "text": [
        "\n",
        "[u'overpriced']"
       ]
      },
      {
       "output_type": "stream",
       "stream": "stdout",
       "text": [
        "\n",
        "set([u'nl'])\n",
        "set([u'na'])\n",
        "set([u'mob', u'lb', u'mb'])\n",
        "[u'margaritas']"
       ]
      },
      {
       "output_type": "stream",
       "stream": "stdout",
       "text": [
        "\n",
        "[u'guacamole']"
       ]
      },
      {
       "output_type": "stream",
       "stream": "stdout",
       "text": [
        "\n",
        "set([u'salt.', u'salad', u'malta.', u'says.', u'balsam', u'palsy.', u'also.', u'false.'])"
       ]
      },
      {
       "output_type": "stream",
       "stream": "stdout",
       "text": [
        "\n",
        "set([u'gorilla'])"
       ]
      },
      {
       "output_type": "stream",
       "stream": "stdout",
       "text": [
        "\n",
        "set([u'cum', u'cut', u'cruz', u'cub', u'cup'])\n",
        "[u'enchilada']"
       ]
      },
      {
       "output_type": "stream",
       "stream": "stdout",
       "text": [
        "\n",
        "set([u'files', u'filez', u'file', u'filed'])\n",
        "[u'enchilada']"
       ]
      },
      {
       "output_type": "stream",
       "stream": "stdout",
       "text": [
        "\n",
        "set([u'cooked', u'looked.'])\n",
        "set([u'wig.', u'fig.', u'vi.', u'pig.', u'vii.', u'gig.', u'big.'])\n",
        "set([u'ratio'])\n",
        "[u'awesome.']"
       ]
      },
      {
       "output_type": "stream",
       "stream": "stdout",
       "text": [
        "\n",
        "set([u'limit.', u'lenity', u'leg.', u'least.', u'legion', u'petit.', u'light.', u'digit.', u'legs.', u'merit.', u'levity.', u'left.', u'exit.', u'begin.', u'logic.'])"
       ]
      },
      {
       "output_type": "stream",
       "stream": "stdout",
       "text": [
        "\n",
        "set([u'el', u'old', u'ole', u'owl', u'vol', u'sol', u'il', u'nl', u'lo', u'll', u'oil', u'bl', u'al', u'oo', u'on', u'ok', u'oh', u'of', u'oe', u'l', u'o', u'col', u'ox', u'ou', u'os', u'or'])\n",
        "set([u'streak', u'steal', u'stead', u'steam', u'speak'])\n",
        "[u'crabmeat']"
       ]
      },
      {
       "output_type": "stream",
       "stream": "stdout",
       "text": [
        "\n",
        "[u'artichoke']"
       ]
      },
      {
       "output_type": "stream",
       "stream": "stdout",
       "text": [
        "\n",
        "set([u'bow'])\n",
        "set([u'ti-ti', u'wife'])"
       ]
      },
      {
       "output_type": "stream",
       "stream": "stdout",
       "text": [
        "\n",
        "set([u'everyday'])\n",
        "set([u'co-workers'])\n",
        "set([u'tack', u'tact'])\n",
        "set([u'punch.', u'lunch'])\n",
        "set([u'ni', u'xi', u'ai', u'vi', u'i.', u'mi', u'.f', u'.', u'ii', u'i', u'si', u'hi', u'ti', u'li'])\n",
        "set([u'wealthier'])\n",
        "set([u'gown', u'ugh', u'golf', u'logs', u'nigh', u'gout', u'sigh', u'agog', u'high', u'hogs', u'gong', u'dough', u'go', u'tough', u'rough', u'pooh', u'hoch', u'gone', u'gage', u'gouge', u'doth', u'gold', u'keogh', u'god', u'noah', u'hugh', u'gig', u'goeth', u'fog', u'ouh', u'goes', u'gods', u'got', u'foh', u'goat', u'gash', u'good', u'hough', u'gory', u'ooh', u'goot', u'log', u'gag', u'gorge', u'ogg', u'cough', u'gott', u'goal', u'both', u'fogs', u'cogs', u'oh', u'dog', u'dogs', u'foch', u'roth', u'gush', u'oooh', u'gosp', u'bough'])"
       ]
      },
      {
       "output_type": "stream",
       "stream": "stdout",
       "text": [
        "\n",
        "set([u'dial', u'dull', u'doll', u'ill', u'bill', u'vill', u'will', u'till', u'kill', u'hill', u'drill', u'mill', u'sill', u'pill', u'fill'])\n",
        "set([u'sprout'])\n",
        "set([u'substituted'])\n",
        "set([u'sandwich'])\n",
        "set([u'cooks', u'cooking', u'choke', u'cooked', u'cooee', u'cook'])"
       ]
      },
      {
       "output_type": "stream",
       "stream": "stdout",
       "text": [
        "\n",
        "set([u'stuck', u'suck', u'snack'])\n",
        "set([u'bonus', u'bonds.', u'bones.'])\n",
        "[u'awesome.']"
       ]
      },
      {
       "output_type": "stream",
       "stream": "stdout",
       "text": [
        "\n",
        "[u'pretzels']"
       ]
      },
      {
       "output_type": "stream",
       "stream": "stdout",
       "text": [
        "\n",
        "set([u'battery', u'butter'])\n",
        "[u'awesome']"
       ]
      },
      {
       "output_type": "stream",
       "stream": "stdout",
       "text": [
        "\n",
        "set([u'bitterness'])"
       ]
      },
      {
       "output_type": "stream",
       "stream": "stdout",
       "text": [
        "\n",
        "set([u'ratio'])\n",
        "[u'awesome']"
       ]
      },
      {
       "output_type": "stream",
       "stream": "stdout",
       "text": [
        "\n",
        "set([u'first'])\n",
        "set([u'phil', u'sex.', u'pea.', u'fix.', u'shy.', u'aix.', u'xx.', u'why.', u'wax.', u'pit.', u'pus.', u'box.', u'x.', u'tax.', u'she.', u'pas.', u'pp.', u'pad.', u'six.', u'pay.', u'pig.', u'h.', u'xix.', u'pan.', u'ix.', u'fox.', u'pet.', u'pew.', u'who.', u'pen.', u'he.', u'put.', u'p.', u'pa.'])"
       ]
      },
      {
       "output_type": "stream",
       "stream": "stdout",
       "text": [
        "\n",
        "set([u'bargees', u'manes', u'makeev', u'makes', u'masses', u'males', u'ages', u'sages', u'makers', u'magnet', u'mackes', u'mates', u'images', u'eagles', u'wages', u'rages', u'agrees', u'pages', u'agnes'])"
       ]
      },
      {
       "output_type": "stream",
       "stream": "stdout",
       "text": [
        "\n",
        "set([u'bobby'])\n",
        "set([u'fell'])\n",
        "set([u'cheese', u'cheery'])\n",
        "[u'mcgaees']"
       ]
      },
      {
       "output_type": "stream",
       "stream": "stdout",
       "text": [
        "\n",
        "[u'bathtub']"
       ]
      },
      {
       "output_type": "stream",
       "stream": "stdout",
       "text": [
        "\n",
        "set([u'scale'])"
       ]
      },
      {
       "output_type": "stream",
       "stream": "stdout",
       "text": [
        "\n",
        "set([u'ratio'])\n",
        "set([u'burgher'])\n",
        "set([u'brisker'])\n",
        "[u'standout']"
       ]
      },
      {
       "output_type": "stream",
       "stream": "stdout",
       "text": [
        "\n",
        "set([u'ribs', u'rib.'])\n",
        "set([u'overlooked'])\n",
        "[u'one.everything']"
       ]
      },
      {
       "output_type": "stream",
       "stream": "stdout",
       "text": [
        "\n",
        "set([u'o.', u'ok', u'oak.', u'oz.', u'of.', u'k.', u'oka', u'on.'])\n",
        "set([u'chill', u'chile', u'child'])\n",
        "set([u'taste.'])\n",
        "set([u'smashed', u'lashed', u'washed', u'masked', u'dashed'])\n",
        "[u'cornbread']"
       ]
      },
      {
       "output_type": "stream",
       "stream": "stdout",
       "text": [
        "\n",
        "set([u'kinds', u'bids', u'kits', u'kiss', u'aids', u'lids', u'kid'])\n",
        "set([u'ooze', u'boone'])\n",
        "set([u'restaurant'])\n",
        "set([u'dundas', u'duncan'])"
       ]
      },
      {
       "output_type": "stream",
       "stream": "stdout",
       "text": [
        "\n",
        "set([u'i-', u'17'])"
       ]
      },
      {
       "output_type": "stream",
       "stream": "stdout",
       "text": [
        "\n",
        "set([u'fitch', u'witch', u'bitch', u'pitch', u'ditch', u'match'])\n",
        "set([u'phil', u'sex.', u'pea.', u'fix.', u'shy.', u'aix.', u'xx.', u'why.', u'wax.', u'pit.', u'pus.', u'box.', u'x.', u'tax.', u'she.', u'pas.', u'pp.', u'pad.', u'six.', u'pay.', u'pig.', u'h.', u'xix.', u'pan.', u'ix.', u'fox.', u'pet.', u'pew.', u'who.', u'pen.', u'he.', u'put.', u'p.', u'pa.'])"
       ]
      },
      {
       "output_type": "stream",
       "stream": "stdout",
       "text": [
        "\n",
        "[u'hilarious']"
       ]
      },
      {
       "output_type": "stream",
       "stream": "stdout",
       "text": [
        "\n",
        "set([u'clusters', u'plumbers', u'rubbers'])"
       ]
      },
      {
       "output_type": "stream",
       "stream": "stdout",
       "text": [
        "\n",
        "set([u'clusters', u'plumbers', u'rubbers'])"
       ]
      },
      {
       "output_type": "stream",
       "stream": "stdout",
       "text": [
        "\n",
        "set([u'vara'])\n",
        "set([u'month'])"
       ]
      },
      {
       "output_type": "stream",
       "stream": "stdout",
       "text": [
        "\n",
        "set([u'apprehensive'])\n",
        "[u'top-notch']"
       ]
      },
      {
       "output_type": "stream",
       "stream": "stdout",
       "text": [
        "\n",
        "set([u'superbe', u'super.', u'superb'])\n",
        "set([u'joel', u'joke.', u'joy.', u'joe', u'foe.', u'toe.'])\n",
        "[u'microwave']"
       ]
      },
      {
       "output_type": "stream",
       "stream": "stdout",
       "text": [
        "\n",
        "set([u'spy', u'span', u'sha', u'pa', u'sea', u'spas', u'sa', u'sap', u'spat'])\n",
        "set([u'spy', u'span', u'sha', u'pa', u'sea', u'spas', u'sa', u'sap', u'spat'])\n",
        "[u'check-out']"
       ]
      },
      {
       "output_type": "stream",
       "stream": "stdout",
       "text": [
        "\n",
        "[u'check-out']"
       ]
      },
      {
       "output_type": "stream",
       "stream": "stdout",
       "text": [
        "\n",
        "[u'check-out']"
       ]
      },
      {
       "output_type": "stream",
       "stream": "stdout",
       "text": [
        "\n",
        "[u'top-notch']"
       ]
      },
      {
       "output_type": "stream",
       "stream": "stdout",
       "text": [
        "\n",
        "set([u'pp', u'asp', u'rapp', u'apt', u'amp', u'ape'])\n",
        "set([u'thaw', u'than', u'that'])\n",
        "set([u'temps', u'tempt', u'temple', u'temper'])\n",
        "set([u'thaw', u'than', u'that'])\n",
        "set([u'drama', u'ram', u'rams'])\n",
        "set([u'115', u'111'])"
       ]
      },
      {
       "output_type": "stream",
       "stream": "stdout",
       "text": [
        "\n",
        "set([u'actress', u'witness', u'mattress'])"
       ]
      },
      {
       "output_type": "stream",
       "stream": "stdout",
       "text": [
        "\n",
        "set([u'unseat', u'seat'])"
       ]
      },
      {
       "output_type": "stream",
       "stream": "stdout",
       "text": [
        "\n",
        "set([u'unseat', u'seat'])"
       ]
      },
      {
       "output_type": "stream",
       "stream": "stdout",
       "text": [
        "\n",
        "set([u'top', u'stop'])"
       ]
      },
      {
       "output_type": "stream",
       "stream": "stdout",
       "text": [
        "\n",
        "set([u'actress', u'witness', u'mattress'])"
       ]
      },
      {
       "output_type": "stream",
       "stream": "stdout",
       "text": [
        "\n",
        "set([u'special'])\n",
        "set([u'special'])\n",
        "set([u'option'])\n",
        "set([u'nom', u'sob', u'sam', u'sum', u'some', u'sol', u'son', u'so', u'sot', u'sow', u'tom'])\n",
        "set([u'too.', u'ton.', u'top.', u'atom.', u'to.', u'tom', u'tomb', u'toe.'])\n",
        "set([u'actress', u'witness', u'mattress'])"
       ]
      },
      {
       "output_type": "stream",
       "stream": "stdout",
       "text": [
        "\n",
        "set([u'nom', u'sob', u'sam', u'sum', u'some', u'sol', u'son', u'so', u'sot', u'sow', u'tom'])\n",
        "set([u'nom', u'sob', u'sam', u'sum', u'some', u'sol', u'son', u'so', u'sot', u'sow', u'tom'])\n",
        "set([u'nom', u'sob', u'sam', u'sum', u'some', u'sol', u'son', u'so', u'sot', u'sow', u'tom'])\n",
        "set([u'papal', u'panama', u'papa', u'zapata'])"
       ]
      },
      {
       "output_type": "stream",
       "stream": "stdout",
       "text": [
        "\n",
        "set([u'salad'])\n",
        "set([u'salary.', u'salons.', u'sands.', u'salad'])"
       ]
      },
      {
       "output_type": "stream",
       "stream": "stdout",
       "text": [
        "\n",
        "set([u'nom', u'sob', u'sam', u'sum', u'some', u'sol', u'son', u'so', u'sot', u'sow', u'tom'])\n",
        "set([u'too.', u'ton.', u'top.', u'atom.', u'to.', u'tom', u'tomb', u'toe.'])\n",
        "set([u'nom', u'sob', u'sam', u'sum', u'some', u'sol', u'son', u'so', u'sot', u'sow', u'tom'])\n",
        "[u'yardstick']"
       ]
      },
      {
       "output_type": "stream",
       "stream": "stdout",
       "text": [
        "\n",
        "set([u'thaw', u'than', u'that'])\n",
        "set([u'spice'])\n",
        "set([u'famine'])"
       ]
      },
      {
       "output_type": "stream",
       "stream": "stdout",
       "text": [
        "\n",
        "set([u'actress', u'witness', u'mattress'])"
       ]
      },
      {
       "output_type": "stream",
       "stream": "stdout",
       "text": [
        "\n",
        "set([u'audience', u'absence'])"
       ]
      },
      {
       "output_type": "stream",
       "stream": "stdout",
       "text": [
        "\n",
        "set([u'sector', u'defer', u'deck', u'tenor', u'deer', u'fedor', u'rector', u'dear', u'recur', u'decay', u'decorum', u'donor', u'depot', u'decks', u'door', u'demon', u'detour', u'deter', u'devour', u'senor', u'debtor', u'cor', u'defoe', u'der', u'doctor', u'deacon', u'record', u'vector', u'dec'])"
       ]
      },
      {
       "output_type": "stream",
       "stream": "stdout",
       "text": [
        "\n",
        "[u'formula-type']"
       ]
      },
      {
       "output_type": "stream",
       "stream": "stdout",
       "text": [
        "\n",
        "[u'applebees']"
       ]
      },
      {
       "output_type": "stream",
       "stream": "stdout",
       "text": [
        "\n",
        "set([u'chill', u'chile', u'child'])\n",
        "[u'hispanic']"
       ]
      },
      {
       "output_type": "stream",
       "stream": "stdout",
       "text": [
        "\n",
        "set([u'clair.', u'flail.', u'fair.', u'flair'])\n",
        "set([u'thaw', u'than', u'that'])\n",
        "set([u'papal', u'panama', u'papa', u'zapata'])"
       ]
      },
      {
       "output_type": "stream",
       "stream": "stdout",
       "text": [
        "\n",
        "set([u'cusp.', u'cup.', u'caps.', u'cuts.', u'cubs.', u'cups'])\n",
        "set([u'evaluate', u'evacuated'])\n",
        "set([u'shiny.', u'pity.', u'spy.', u'space.', u'spine.', u'pick.', u'spies.', u'stick.', u'spice'])"
       ]
      },
      {
       "output_type": "stream",
       "stream": "stdout",
       "text": [
        "\n",
        "set([u'actress', u'witness', u'mattress'])"
       ]
      },
      {
       "output_type": "stream",
       "stream": "stdout",
       "text": [
        "\n",
        "set([u'chill', u'chile', u'child'])\n",
        "set([u'lise.', u'limp.', u'lame.', u'limes', u'like.', u'live.', u'lie.', u'line.', u'time.', u'life.', u'limb.', u'lime'])\n",
        "set([u'chill', u'chile', u'child'])\n",
        "set([u'slice', u'slices'])\n",
        "set([u'lise.', u'limp.', u'lame.', u'limes', u'like.', u'live.', u'lie.', u'line.', u'time.', u'life.', u'limb.', u'lime'])\n",
        "set([u'doctor', u'doctors'])"
       ]
      },
      {
       "output_type": "stream",
       "stream": "stdout",
       "text": [
        "\n",
        "set([u'gusto'])\n",
        "set([u'adequate'])\n",
        "set([u'famine'])"
       ]
      },
      {
       "output_type": "stream",
       "stream": "stdout",
       "text": [
        "\n",
        "set([u'sticks.', u'stick.', u'sticky'])\n",
        "set([u'actress', u'witness', u'mattress'])"
       ]
      },
      {
       "output_type": "stream",
       "stream": "stdout",
       "text": [
        "\n",
        "set([u'actress', u'witness', u'mattress'])"
       ]
      },
      {
       "output_type": "stream",
       "stream": "stdout",
       "text": [
        "\n",
        "set([u'salad'])\n",
        "set([u'thaw', u'than', u'that'])\n",
        "set([u'spice'])\n",
        "set([u'chill', u'chile', u'child'])\n",
        "set([u'thaw', u'than', u'that'])\n",
        "set([u'child.'])\n",
        "set([u'thaw', u'than', u'that'])\n",
        "set([u'chill', u'chile', u'child'])\n",
        "set([u'actress', u'witness', u'mattress'])"
       ]
      },
      {
       "output_type": "stream",
       "stream": "stdout",
       "text": [
        "\n",
        "[u'awesome']"
       ]
      },
      {
       "output_type": "stream",
       "stream": "stdout",
       "text": [
        "\n",
        "set([u'refolded', u'removed', u'recoiled', u'remedied'])"
       ]
      },
      {
       "output_type": "stream",
       "stream": "stdout",
       "text": [
        "\n",
        "set([u'grm', u'gum', u'gem'])\n",
        "[u'olympic']"
       ]
      },
      {
       "output_type": "stream",
       "stream": "stdout",
       "text": [
        "\n",
        "[u'events/pool']"
       ]
      },
      {
       "output_type": "stream",
       "stream": "stdout",
       "text": [
        "\n",
        "set([u'monthly', u'months', u'month'])\n",
        "set([u'across'])\n",
        "[u'pizzas']"
       ]
      },
      {
       "output_type": "stream",
       "stream": "stdout",
       "text": [
        "\n",
        "set([u'cries.', u'fires.'])\n",
        "[u'veggies.']"
       ]
      },
      {
       "output_type": "stream",
       "stream": "stdout",
       "text": [
        "\n",
        "set([u'seasonal', u'reasonably', u'seasonable', u'personally'])"
       ]
      },
      {
       "output_type": "stream",
       "stream": "stdout",
       "text": [
        "\n",
        "[u'farmstand']"
       ]
      },
      {
       "output_type": "stream",
       "stream": "stdout",
       "text": [
        "\n",
        "set([u'birthdays', u'birthday'])\n",
        "set([u'weekend'])\n",
        "set([u'brave', u'cave', u'crate', u'carve', u'crane', u'grave'])\n",
        "set([u'halted', u'saluted', u'salter'])\n",
        "set([u'calomel', u'carrel', u'camel'])"
       ]
      },
      {
       "output_type": "stream",
       "stream": "stdout",
       "text": [
        "\n",
        "[u'yummmm']"
       ]
      },
      {
       "output_type": "stream",
       "stream": "stdout",
       "text": [
        "\n",
        "set([u'canst', u'cane', u'chant', u'cent', u'cat', u'ant', u'cast', u'cart', u'want', u'scant', u'can'])\n",
        "[u'scottsdale']"
       ]
      },
      {
       "output_type": "stream",
       "stream": "stdout",
       "text": [
        "\n",
        "set([u'handle', u'handled', u'candles', u'chandelier', u'chanter', u'handley', u'candle'])"
       ]
      },
      {
       "output_type": "stream",
       "stream": "stdout",
       "text": [
        "\n",
        "set([u'freeze'])\n",
        "[u'nutcracker']"
       ]
      },
      {
       "output_type": "stream",
       "stream": "stdout",
       "text": [
        "\n",
        "[u'nutcracker']"
       ]
      },
      {
       "output_type": "stream",
       "stream": "stdout",
       "text": [
        "\n",
        "[u'lindsey']"
       ]
      },
      {
       "output_type": "stream",
       "stream": "stdout",
       "text": [
        "\n",
        "set([u'stunning'])\n",
        "set([u'losing', u'poking', u'posting', u'poring'])\n",
        "[u'bartenders']"
       ]
      },
      {
       "output_type": "stream",
       "stream": "stdout",
       "text": [
        "\n",
        "[u'accomodating.']"
       ]
      },
      {
       "output_type": "stream",
       "stream": "stdout",
       "text": [
        "\n",
        "set([u'core', u'code', u'cope', u'joke', u'choke', u'yoke', u'cone', u'cake', u'come', u'woke'])\n",
        "set([u'la.', u'flap.', u'lamp.', u'lad.', u'map.', u'law.', u'gap.', u'lip.', u'lay.', u'cap.', u'nap.', u'lap', u'tap.'])\n",
        "set([u'movie', u'move.'])\n",
        "set([u'oo-oo', u'solo', u'sows', u'soto', u'-so', u'sous', u'sons', u'sots', u'sobs'])"
       ]
      },
      {
       "output_type": "stream",
       "stream": "stdout",
       "text": [
        "\n",
        "[u'sichuan']"
       ]
      },
      {
       "output_type": "stream",
       "stream": "stdout",
       "text": [
        "\n",
        "set([u'bat', u'bar', u'bay', u'bag', u'bad', u'ban', u'boa', u'bah'])\n",
        "set([u'ni', u'xi', u'ai', u'vi', u'jim', u'mi', u'jr', u'li', u'ii', u'i', u'si', u'hi', u'ti', u'je', u'j', u'ja'])\n",
        "set([u'king', u'din', u'dying', u'doing', u'dig', u'dung', u'dine', u'dingy', u'dint', u'sing', u'ring', u'ing', u'wing'])\n",
        "[u'mandarin/cantonese.']"
       ]
      },
      {
       "output_type": "stream",
       "stream": "stdout",
       "text": [
        "\n",
        "set([u'scattering'])\n",
        "set([u'intonation', u'intonations'])\n",
        "[u'zichini']"
       ]
      },
      {
       "output_type": "stream",
       "stream": "stdout",
       "text": [
        "\n",
        "set([u'pepper'])\n",
        "set([u'pepper'])\n",
        "set([u'scullions', u'stallion', u'stallions'])"
       ]
      },
      {
       "output_type": "stream",
       "stream": "stdout",
       "text": [
        "\n",
        "set([u'peanuts'])"
       ]
      },
      {
       "output_type": "stream",
       "stream": "stdout",
       "text": [
        "\n",
        "set([u'chicken', u'chickens.', u'chickens'])\n",
        "set([u'atheist', u'ablest', u'abreast', u'least'])"
       ]
      },
      {
       "output_type": "stream",
       "stream": "stdout",
       "text": [
        "\n",
        "set([u'friendliest'])"
       ]
      },
      {
       "output_type": "stream",
       "stream": "stdout",
       "text": [
        "\n",
        "set([u'cordon', u'console', u'conduce', u'condyle', u'conde', u'undone', u'london', u'convene', u'confine'])"
       ]
      },
      {
       "output_type": "stream",
       "stream": "stdout",
       "text": [
        "\n",
        "set([u'wandering', u'hindering', u'hampering', u'bantering', u'hammering'])"
       ]
      },
      {
       "output_type": "stream",
       "stream": "stdout",
       "text": [
        "\n",
        "set([u'soto', u'mot', u'mots', u'mott', u'motor', u'motto'])\n",
        "set([u'asia'])\n",
        "[u'sashimi']"
       ]
      },
      {
       "output_type": "stream",
       "stream": "stdout",
       "text": [
        "\n",
        "set([u'combs', u'comb'])\n",
        "set([u'miss.', u'mist.'])\n",
        "set([u'odds', u'odd', u'old.'])\n",
        "set([u'mist', u'miss', u'mio'])\n",
        "set([u'shreddy', u'shrouded'])"
       ]
      },
      {
       "output_type": "stream",
       "stream": "stdout",
       "text": [
        "\n",
        "[u'sashimi']"
       ]
      },
      {
       "output_type": "stream",
       "stream": "stdout",
       "text": [
        "\n",
        "[u'pinwheel']"
       ]
      },
      {
       "output_type": "stream",
       "stream": "stdout",
       "text": [
        "\n",
        "set([u'fish'])\n",
        "[u'yellowtail']"
       ]
      },
      {
       "output_type": "stream",
       "stream": "stdout",
       "text": [
        "\n",
        "set([u'tune.'])\n",
        "set([u'suis', u'rush', u'tushin', u'susan', u'lush', u'aussi', u'sasha', u'hush', u'bush', u'gush', u'push', u'such', u'sash', u'bushy'])"
       ]
      },
      {
       "output_type": "stream",
       "stream": "stdout",
       "text": [
        "\n",
        "set([u'soto', u'mot', u'mots', u'mott', u'motor', u'motto'])\n",
        "set([u'pinched', u'pouched', u'psychic', u'punched', u'perched', u'parched', u'pitched'])"
       ]
      },
      {
       "output_type": "stream",
       "stream": "stdout",
       "text": [
        "\n",
        "set([u'chill', u'chile', u'child'])\n",
        "set([u'burghers', u'burgess'])\n",
        "set([u'chill', u'chile', u'child'])\n",
        "set([u'burgher'])\n",
        "set([u'feature', u'features'])\n",
        "set([u'ici', u'clinch', u'civic', u'pinch', u'since', u'clinic', u'zinc', u'wince', u'inch', u'cocci'])"
       ]
      },
      {
       "output_type": "stream",
       "stream": "stdout",
       "text": [
        "\n",
        "set([u'chill', u'chile', u'child'])\n",
        "set([u'bah'])\n",
        "set([u'whim', u'whig', u'whizz', u'whit', u'wiz', u'whip'])\n",
        "set([u'kind', u'kinds'])\n",
        "set([u'trap.', u'chap.', u'cap.', u'crop.', u'crab.'])\n",
        "set([u'box.', u'boot.', u'too.', u'boot', u'boor', u'boy.', u'book.', u'book', u'boom', u'boon', u'bow.', u'bog.'])\n",
        "set([u'dries', u'furies', u'frees', u'flies', u'tries', u'cries', u'fires', u'frise', u'fried'])\n",
        "set([u'dog.', u'dogs.'])\n",
        "[u'overpriced']"
       ]
      },
      {
       "output_type": "stream",
       "stream": "stdout",
       "text": [
        "\n",
        "[u'forgettable']"
       ]
      },
      {
       "output_type": "stream",
       "stream": "stdout",
       "text": [
        "\n",
        "set([u'wrinkle', u'crinkled'])\n",
        "set([u'dries', u'furies', u'frees', u'flies', u'tries', u'cries', u'fires', u'frise', u'fried'])\n",
        "set([u'reminiscence'])"
       ]
      },
      {
       "output_type": "stream",
       "stream": "stdout",
       "text": [
        "\n",
        "[u\"taco's..\"]"
       ]
      },
      {
       "output_type": "stream",
       "stream": "stdout",
       "text": [
        "\n",
        "set([u'pasty', u'taste', u'nasty', u'hasty'])\n",
        "set([u'burgher'])\n",
        "set([u'wrinkle', u'crinkled'])\n",
        "set([u'dries', u'furies', u'frees', u'flies', u'tries', u'cries', u'fires', u'frise', u'fried'])\n",
        "set([u'assez', u'asked', u'passed', u'asset'])\n",
        "set([u'approach.'])\n",
        "set([u'dries', u'furies', u'frees', u'flies', u'tries', u'cries', u'fires', u'frise', u'fried'])\n",
        "set([u'dupe', u'duke', u'due', u'rude'])\n",
        "set([u'gipsy', u'bipp', u'tipsy', u'sappy', u'poppy', u'puppy', u'happy'])"
       ]
      },
      {
       "output_type": "stream",
       "stream": "stdout",
       "text": [
        "\n",
        "set([u'oo', u'do', u'foo', u'door', u'dog', u'doe', u'too', u'don', u'doom', u'dot'])\n",
        "set([u'dry', u'fly', u'fr', u'fury', u'cry', u'fro', u'try', u'fray', u'wry'])\n",
        "set([u'sauce.'])\n",
        "set([u'cries.', u'fresh.', u'fires.', u'priest.', u'friend.'])"
       ]
      },
      {
       "output_type": "stream",
       "stream": "stdout",
       "text": [
        "\n",
        "set([u'sauce.'])\n",
        "set([u'sauce.'])\n",
        "set([u'boots.', u'boot.'])\n",
        "set([u'brow', u'fro', u'pro', u'br'])\n",
        "[u'starbucks']"
       ]
      },
      {
       "output_type": "stream",
       "stream": "stdout",
       "text": [
        "\n",
        "set([u'meal.', u'isa.', u'mesial', u'esq.', u'med.', u'me.', u'meek.', u'seas.', u'pea.', u'desk.', u'mask.', u'most.', u'mrs.', u'melan', u'mean.', u'meet.', u'jest.', u'test.', u'yes.', u'medal', u'media.', u'mess', u'tea.', u'rest.', u'mist.', u'nest.', u'meat.', u'metal', u'mesh', u'sea.', u'vera.', u'met.', u'meat', u'less.', u'miss.', u'era.', u'best.', u'west.', u'means.', u'versa.', u'men.', u'metal.', u'mead', u'must.', u'mass.', u'meal', u'mean'])"
       ]
      },
      {
       "output_type": "stream",
       "stream": "stdout",
       "text": [
        "\n",
        "set([u'favors', u'flavor'])\n",
        "set([u'mummy', u'dummy', u'gumma'])\n",
        "[u'toppings.']"
       ]
      },
      {
       "output_type": "stream",
       "stream": "stdout",
       "text": [
        "\n",
        "set([u'70.', u'30.', u'73.'])"
       ]
      },
      {
       "output_type": "stream",
       "stream": "stdout",
       "text": [
        "\n",
        "set([u'yours', u'court', u'bogart', u'your'])"
       ]
      },
      {
       "output_type": "stream",
       "stream": "stdout",
       "text": [
        "\n",
        "set([u'patronage'])"
       ]
      },
      {
       "output_type": "stream",
       "stream": "stdout",
       "text": [
        "\n",
        "set([u'wood', u'woods', u'wordy', u'moody'])\n",
        "set([u'frustration'])"
       ]
      },
      {
       "output_type": "stream",
       "stream": "stdout",
       "text": [
        "\n",
        "set([u'yours', u'court', u'bogart', u'your'])"
       ]
      },
      {
       "output_type": "stream",
       "stream": "stdout",
       "text": [
        "\n",
        "set([u'oo-oo', u'solo', u'sows', u'soto', u'-so', u'sous', u'sons', u'sots', u'sobs'])"
       ]
      },
      {
       "output_type": "stream",
       "stream": "stdout",
       "text": [
        "\n",
        "set([u'fond'])\n",
        "set([u'restaurant'])\n",
        "set([u'hobby', u'chubby'])\n",
        "set([u'le', u'lb', u'la', u'lo', u'll', u'f', u'l', u'li', u'cf', u'ff', u'of', u'if', u'ly'])\n",
        "set([u'actress', u'witness', u'mattress'])"
       ]
      },
      {
       "output_type": "stream",
       "stream": "stdout",
       "text": [
        "\n",
        "set([u'salol', u'solfa', u'salon', u'samoa', u'palsy', u'alba', u'pals', u'sales', u'salve', u'seals', u'talma', u'salem', u'sacs', u'false', u'salts', u'scala', u'malta', u'also', u'slash', u'sails', u'salle', u'says', u'silas', u'sasha', u'sila', u'alas', u'santa', u'salut', u'sally', u'alma', u'balsam', u'sans', u'salad', u'saws', u'saliva', u'sale', u'valse', u'salt', u'sash', u'mala'])"
       ]
      },
      {
       "output_type": "stream",
       "stream": "stdout",
       "text": [
        "\n",
        "set([u'temps', u'tempt', u'temple', u'temper'])\n",
        "set([u'weird'])\n",
        "[u'aftertaste']"
       ]
      },
      {
       "output_type": "stream",
       "stream": "stdout",
       "text": [
        "\n",
        "set([u'hobby', u'chubby'])\n",
        "[u'enchiladas']"
       ]
      },
      {
       "output_type": "stream",
       "stream": "stdout",
       "text": [
        "\n",
        "set([u'oooh', u'pomp', u'ooh', u'lymph'])"
       ]
      },
      {
       "output_type": "stream",
       "stream": "stdout",
       "text": [
        "\n",
        "set([u'disappointing', u'dismounting'])"
       ]
      },
      {
       "output_type": "stream",
       "stream": "stdout",
       "text": [
        "\n",
        "[u'ricotta.']"
       ]
      },
      {
       "output_type": "stream",
       "stream": "stdout",
       "text": [
        "\n",
        "set([u'ferries'])\n",
        "set([u'funny', u'sunny'])\n",
        "[u'black-bottom']"
       ]
      },
      {
       "output_type": "stream",
       "stream": "stdout",
       "text": [
        "\n",
        "set([u'flay'])\n",
        "[u'refrigerated.']"
       ]
      },
      {
       "output_type": "stream",
       "stream": "stdout",
       "text": [
        "\n",
        "set([u'grip', u'grape', u'grice', u'ripe', u'grime', u'grippe'])\n",
        "set([u'airport'])\n",
        "set([u'breed', u'brewer'])\n",
        "set([u'empress', u'express'])"
       ]
      },
      {
       "output_type": "stream",
       "stream": "stdout",
       "text": [
        "\n",
        "set([u'visible'])\n",
        "set([u'counted.', u'counter', u'counters'])\n",
        "[u'clubhouse']"
       ]
      },
      {
       "output_type": "stream",
       "stream": "stdout",
       "text": [
        "\n",
        "[u'knowledgeable']"
       ]
      },
      {
       "output_type": "stream",
       "stream": "stdout",
       "text": [
        "\n",
        "set([u'genus', u'georges', u'centres', u'gender', u'genera', u'rentes', u'genet', u'sevres', u'fences', u'genius', u'senses', u'genlis', u'ganges', u'germs', u'gene', u'teres', u'lenses'])"
       ]
      },
      {
       "output_type": "stream",
       "stream": "stdout",
       "text": [
        "\n",
        "set([u'venus', u'venules', u'venue', u'avenues'])\n",
        "set([u'monitor'])\n",
        "set([u'motivate'])\n",
        "set([u'hardware'])"
       ]
      },
      {
       "output_type": "stream",
       "stream": "stdout",
       "text": [
        "\n",
        "set([u'thrashed'])\n",
        "[u'hip-hop']"
       ]
      },
      {
       "output_type": "stream",
       "stream": "stdout",
       "text": [
        "\n",
        "set([u'sewed'])\n",
        "set([u'pans', u'panes', u'pangs', u'pints', u'ants', u'wants', u'plants', u'parts'])\n",
        "set([u'hip.', u'tie.', u'top.', u'tit.', u'tip', u'lip.', u'tips.', u'dip.', u'tin.', u'tips', u'tap.'])\n",
        "set([u'cooper', u'cooled'])\n",
        "set([u'ac', u'arc', u'abc'])\n",
        "[u'understaffed']"
       ]
      },
      {
       "output_type": "stream",
       "stream": "stdout",
       "text": [
        "\n",
        "set([u'3', u'+', u'3d'])\n",
        "[u'bartenders']"
       ]
      },
      {
       "output_type": "stream",
       "stream": "stdout",
       "text": [
        "\n",
        "set([u'concept', u'concepts'])\n",
        "[u'constructively.']"
       ]
      },
      {
       "output_type": "stream",
       "stream": "stdout",
       "text": [
        "\n",
        "[u'low-fi']"
       ]
      },
      {
       "output_type": "stream",
       "stream": "stdout",
       "text": [
        "\n",
        "[u'pantaloons']"
       ]
      },
      {
       "output_type": "stream",
       "stream": "stdout",
       "text": [
        "\n",
        "[u'tortillas']"
       ]
      },
      {
       "output_type": "stream",
       "stream": "stdout",
       "text": [
        "\n",
        "[u'handmade']"
       ]
      },
      {
       "output_type": "stream",
       "stream": "stdout",
       "text": [
        "\n",
        "set([u'salt.'])\n",
        "set([u'descent.', u'decent', u'recent.'])\n",
        "set([u'okay'])\n",
        "[u'cilantro']"
       ]
      },
      {
       "output_type": "stream",
       "stream": "stdout",
       "text": [
        "\n",
        "[u'tomatillo']"
       ]
      },
      {
       "output_type": "stream",
       "stream": "stdout",
       "text": [
        "\n",
        "set([u'salol', u'solfa', u'salon', u'samoa', u'palsy', u'alba', u'pals', u'sales', u'salve', u'seals', u'talma', u'salem', u'sacs', u'false', u'salts', u'scala', u'malta', u'also', u'slash', u'sails', u'salle', u'says', u'silas', u'sasha', u'sila', u'alas', u'santa', u'salut', u'sally', u'alma', u'balsam', u'sans', u'salad', u'saws', u'saliva', u'sale', u'valse', u'salt', u'sash', u'mala'])"
       ]
      },
      {
       "output_type": "stream",
       "stream": "stdout",
       "text": [
        "\n",
        "set([u'scattering'])\n",
        "set([u'quest'])\n",
        "set([u'french.', u'fresh.'])"
       ]
      },
      {
       "output_type": "stream",
       "stream": "stdout",
       "text": [
        "\n",
        "set([u'box.', u'boot.', u'too.', u'boot', u'boor', u'boy.', u'book.', u'book', u'boom', u'boon', u'bow.', u'bog.'])\n",
        "[u'mango-pineapple']"
       ]
      },
      {
       "output_type": "stream",
       "stream": "stdout",
       "text": [
        "\n",
        "set([u'ana', u'alba', u'azur', u'au', u'agra', u'squaw', u'alum', u'squat', u'aug', u'area', u'asia', u'squad', u'aux', u'anna', u'anus', u'quay', u'pua', u'que', u'qui', u'qu', u'alma', u'equal'])"
       ]
      },
      {
       "output_type": "stream",
       "stream": "stdout",
       "text": [
        "\n",
        "set([u'flavor', u'favor.'])\n",
        "set([u'backing.', u'lacking', u'locking.'])\n",
        "set([u'prominent', u'opponent'])"
       ]
      },
      {
       "output_type": "stream",
       "stream": "stdout",
       "text": [
        "\n",
        "set([u'organic'])\n",
        "set([u'smudge'])\n",
        "set([u'unbearable', u'readable', u'unbreakable'])"
       ]
      },
      {
       "output_type": "stream",
       "stream": "stdout",
       "text": [
        "\n",
        "set([u'sealed.', u'stated.', u'seated'])\n",
        "set([u'smoothly', u'smoother', u'smooth', u'smoothing', u'soothe', u'smoothed'])"
       ]
      },
      {
       "output_type": "stream",
       "stream": "stdout",
       "text": [
        "\n",
        "set([u'bland', u'gland.', u'band.', u'land.', u'blind.'])\n",
        "[u'frittata']"
       ]
      },
      {
       "output_type": "stream",
       "stream": "stdout",
       "text": [
        "\n",
        "[u'microwave']"
       ]
      },
      {
       "output_type": "stream",
       "stream": "stdout",
       "text": [
        "\n",
        "set([u'dale', u'kalb', u'ale', u'sale', u'vale', u'tale', u'gale', u'hale', u'yale', u'male', u'pale', u'kate'])\n",
        "set([u'connection', u'conception', u'conviction'])"
       ]
      },
      {
       "output_type": "stream",
       "stream": "stdout",
       "text": [
        "\n",
        "set([u'dine', u'dined', u'miner', u'dinner', u'finer'])\n",
        "set([u'dimension', u'dimensions'])"
       ]
      },
      {
       "output_type": "stream",
       "stream": "stdout",
       "text": [
        "\n",
        "[u'boutique']"
       ]
      },
      {
       "output_type": "stream",
       "stream": "stdout",
       "text": [
        "\n",
        "set([u'urinary', u'ciliary'])"
       ]
      },
      {
       "output_type": "stream",
       "stream": "stdout",
       "text": [
        "\n",
        "set([u'creation'])\n",
        "set([u'verbal'])\n",
        "set([u'lacks', u'sacks.'])\n",
        "set([u'peep', u'prey', u'prop'])\n",
        "[u'chalkboard']"
       ]
      },
      {
       "output_type": "stream",
       "stream": "stdout",
       "text": [
        "\n",
        "set([u'sex', u'snug', u'snub', u'veux', u'sue', u'sub', u'roux', u'sun', u'sum', u'six', u'sur', u'stud', u'sup', u'aux', u'spun', u'shut', u'buy', u'slur', u'bus', u'slut', u'but', u'shun', u'spur', u'bug', u'bud', u'box', u'scut', u'sioux', u'soul', u'soup', u'sous', u'sour', u'klux', u'saul'])"
       ]
      },
      {
       "output_type": "stream",
       "stream": "stdout",
       "text": [
        "\n",
        "set([u'slipping.', u'shipping.'])\n",
        "set([u'rang', u'dans', u'dan', u'dung', u'sang', u'bang', u'pang', u'gang', u'dank', u'dane', u'hang'])\n",
        "[u'flavorful']"
       ]
      },
      {
       "output_type": "stream",
       "stream": "stdout",
       "text": [
        "\n",
        "set([u'mamma', u'comma'])\n",
        "set([u'pencils', u'gentile', u'entails'])"
       ]
      },
      {
       "output_type": "stream",
       "stream": "stdout",
       "text": [
        "\n",
        "[u'cabage/carrots.']"
       ]
      },
      {
       "output_type": "stream",
       "stream": "stdout",
       "text": [
        "\n",
        "[u'sweetish/bitterish/spicy']"
       ]
      },
      {
       "output_type": "stream",
       "stream": "stdout",
       "text": [
        "\n",
        "set([u'flavor', u'favor.'])\n",
        "[u'jalape\\xf1o']"
       ]
      },
      {
       "output_type": "stream",
       "stream": "stdout",
       "text": [
        "\n",
        "set([u'greasy'])\n",
        "set([u'varnish', u'largish', u'parish', u'artist', u'tallish', u'turkish'])"
       ]
      },
      {
       "output_type": "stream",
       "stream": "stdout",
       "text": [
        "\n",
        "set([u'crept', u'creep'])\n",
        "[u'pizzas']"
       ]
      },
      {
       "output_type": "stream",
       "stream": "stdout",
       "text": [
        "\n",
        "set([u'burgher'])\n",
        "set([u'damage.'])"
       ]
      },
      {
       "output_type": "stream",
       "stream": "stdout",
       "text": [
        "\n",
        "set([u'always', u'railways'])"
       ]
      },
      {
       "output_type": "stream",
       "stream": "stdout",
       "text": [
        "\n",
        "set([u'nexus', u'plexus'])\n",
        "set([u'outside', u'curtsied'])"
       ]
      },
      {
       "output_type": "stream",
       "stream": "stdout",
       "text": [
        "\n",
        "set([u'narrowed'])\n",
        "set([u'mammae', u'garage', u'damage'])"
       ]
      },
      {
       "output_type": "stream",
       "stream": "stdout",
       "text": [
        "\n",
        "set([u'auditoriums'])\n",
        "[u'restroom.']"
       ]
      },
      {
       "output_type": "stream",
       "stream": "stdout",
       "text": [
        "\n",
        "[u'crowd-fearing']"
       ]
      },
      {
       "output_type": "stream",
       "stream": "stdout",
       "text": [
        "\n",
        "[u'clostrophobic']"
       ]
      },
      {
       "output_type": "stream",
       "stream": "stdout",
       "text": [
        "\n",
        "set([u'ruts', u'puts', u'oats', u'nuts', u'bouts', u'huts', u'cuts', u'ours', u'out'])\n",
        "[u'entertainment/performances']"
       ]
      },
      {
       "output_type": "stream",
       "stream": "stdout",
       "text": [
        "\n",
        "set([u'posting'])\n",
        "set([u'option'])\n",
        "set([u'panins'])\n",
        "[u'bruschetta.']"
       ]
      },
      {
       "output_type": "stream",
       "stream": "stdout",
       "text": [
        "\n",
        "[u'bruschetta.']"
       ]
      },
      {
       "output_type": "stream",
       "stream": "stdout",
       "text": [
        "\n",
        "[u'ricotta']"
       ]
      },
      {
       "output_type": "stream",
       "stream": "stdout",
       "text": [
        "\n",
        "[u'pistachio']"
       ]
      },
      {
       "output_type": "stream",
       "stream": "stdout",
       "text": [
        "\n",
        "set([u'salary', u'alamo', u'salem', u'slam', u'salad'])"
       ]
      },
      {
       "output_type": "stream",
       "stream": "stdout",
       "text": [
        "\n",
        "set([u'preston', u'past.', u'jest.', u'test.', u'nests.', u'rests.', u'post.', u'rest.', u'piston', u'pistol', u'nest.', u'pastor', u'veto.', u'bestow', u'posts.', u'bestow.', u'pistol.', u'paste.', u'best.', u'pet.', u'west.', u'pest'])"
       ]
      },
      {
       "output_type": "stream",
       "stream": "stdout",
       "text": [
        "\n",
        "set([u'ix', u'3', u'ax', u'xx', u'ex', u'ox', u'x', u'3d'])\n",
        "set([u'extra'])\n",
        "[u'bruschetta']"
       ]
      },
      {
       "output_type": "stream",
       "stream": "stdout",
       "text": [
        "\n",
        "set([u'takes', u'taper', u'baker', u'take', u'taken', u'maker', u'talker'])\n",
        "set([u'webster'])"
       ]
      },
      {
       "output_type": "stream",
       "stream": "stdout",
       "text": [
        "\n",
        "set([u'lawful.'])\n",
        "set([u'help.', u'yelp'])\n",
        "set([u'food', u'foods'])\n",
        "set([u'pancake'])\n",
        "set([u'burghers', u'murder.', u'forger.', u'border.', u'barter.', u'hunger.', u'burgled.', u'larger.', u'turner.', u'surgery.', u'burgher', u'burgess', u'budge.', u'burden.', u'surgery', u'burned.', u'barber.'])"
       ]
      },
      {
       "output_type": "stream",
       "stream": "stdout",
       "text": [
        "\n",
        "set([u'mummy', u'dummy'])"
       ]
      },
      {
       "output_type": "stream",
       "stream": "stdout",
       "text": [
        "\n",
        "[u'overindulge']"
       ]
      },
      {
       "output_type": "stream",
       "stream": "stdout",
       "text": [
        "\n",
        "set([u'refill'])\n",
        "[u'shortcomings']"
       ]
      },
      {
       "output_type": "stream",
       "stream": "stdout",
       "text": [
        "\n",
        "set([u'raw', u'row'])\n",
        "set([u'cow', u'wo', u'vow', u'tow', u'bow', u'how', u'won', u'low', u'sow', u'woe', u'now', u'row'])\n",
        "set([u'looking', u'losing', u'looting', u'looming'])\n",
        "set([u'shopping', u'hoping', u'shoving', u'showing', u'shaping', u'sloping'])\n",
        "set([u'overland', u'ireland'])"
       ]
      },
      {
       "output_type": "stream",
       "stream": "stdout",
       "text": [
        "\n",
        "set([u'oo', u'oho', u'ooh', u'too', u'oooh', u'foo'])\n",
        "set([u'a', u'ka', u'ma', u'wa', u'la', u'yea', u'na', u'ca', u'ye', u'da', u'y', u'pa', u'ay', u'sa', u'ha', u'ja', u'ta'])\n",
        "set([u'tier', u'their', u'thief', u'thiers'])\n",
        "set([u'furnishing'])\n",
        "set([u'lottery'])"
       ]
      },
      {
       "output_type": "stream",
       "stream": "stdout",
       "text": [
        "\n",
        "set([u'nag', u'noah', u'ah', u'nan', u'aah', u'nap', u'na', u'nay', u'bah'])\n",
        "set([u'anyhow', u'anyway'])"
       ]
      },
      {
       "output_type": "stream",
       "stream": "stdout",
       "text": [
        "\n",
        "set([u'grm'])\n",
        "set([u'says', u'gangs', u'stabs', u'seas', u'sage', u'seals', u'fangs', u'sears', u'snug', u'sands', u'sacs', u'seats', u'scabs', u'stage', u'snakes', u'bags', u'snack', u'nag', u'sang', u'hangs', u'shag', u'wags', u'snap', u'spas', u'swabs', u'slabs', u'seams', u'sings', u'gnaws', u'stars', u'pangs', u'tags', u'snows', u'stag', u'snarl', u'knaggs', u'snake', u'stays', u'snare', u'sways', u'nays', u'shays', u'sans', u'saws', u'scars', u'sages', u'rags', u'drags', u'flags', u'stages', u'songs'])"
       ]
      },
      {
       "output_type": "stream",
       "stream": "stdout",
       "text": [
        "\n",
        "set([u'martin'])\n",
        "[u'hand-in-hand']"
       ]
      },
      {
       "output_type": "stream",
       "stream": "stdout",
       "text": [
        "\n",
        "set([u'glasses'])\n",
        "set([u'fury', u'tarry', u'troy', u'surly', u'turkey', u'burly', u'turks', u'furry', u'turk', u'tory', u'tardy', u'jury', u'truly', u'hurry', u'bury', u'scurvy', u'curly', u'sturdy', u'turns', u'curve', u'try', u'turn', u'survey', u'murky', u'turf', u'tray'])"
       ]
      },
      {
       "output_type": "stream",
       "stream": "stdout",
       "text": [
        "\n",
        "set([u'granting', u'rubbing', u'swabbing', u'grasping', u'stabbing', u'grating', u'robbing', u'grazing', u'grafting'])"
       ]
      },
      {
       "output_type": "stream",
       "stream": "stdout",
       "text": [
        "\n",
        "set([u'a', u'ka', u'ma', u'wa', u'la', u'yea', u'na', u'ca', u'ye', u'da', u'y', u'pa', u'ay', u'sa', u'ha', u'ja', u'ta'])\n",
        "[u'naaaaaaah']"
       ]
      },
      {
       "output_type": "stream",
       "stream": "stdout",
       "text": [
        "\n",
        "[u'awesome']"
       ]
      },
      {
       "output_type": "stream",
       "stream": "stdout",
       "text": [
        "\n",
        "set([u'definitely'])\n",
        "set([u'and', u'land', u'wand', u'hand', u'band', u'sand'])\n",
        "[u'shit..then']"
       ]
      },
      {
       "output_type": "stream",
       "stream": "stdout",
       "text": [
        "\n",
        "set([u'kicking', u'kikin'])\n",
        "[u'tables..big']"
       ]
      },
      {
       "output_type": "stream",
       "stream": "stdout",
       "text": [
        "\n",
        "set([u'smoking'])\n",
        "set([u'brozin'])\n",
        "set([u'throwing'])"
       ]
      },
      {
       "output_type": "stream",
       "stream": "stdout",
       "text": [
        "\n",
        "set([u'tony', u'toy', u'tory'])\n",
        "set([u'rating'])\n",
        "[u'sub-par.']"
       ]
      },
      {
       "output_type": "stream",
       "stream": "stdout",
       "text": [
        "\n",
        "set([u\"wasn't\"])\n",
        "[u'cafeteria']"
       ]
      },
      {
       "output_type": "stream",
       "stream": "stdout",
       "text": [
        "\n",
        "set([u'greasy'])\n",
        "set([u'bland', u'gland.', u'band.', u'land.', u'blind.'])\n",
        "set([u'choicest', u'choice'])"
       ]
      },
      {
       "output_type": "stream",
       "stream": "stdout",
       "text": [
        "\n",
        "set([u'relate', u'plato', u'gelatin'])"
       ]
      },
      {
       "output_type": "stream",
       "stream": "stdout",
       "text": [
        "\n",
        "set([u'favors', u'flavor'])\n",
        "set([u'relate', u'plato', u'gelatin'])"
       ]
      },
      {
       "output_type": "stream",
       "stream": "stdout",
       "text": [
        "\n",
        "set([u'relate', u'plato', u'gelatin'])"
       ]
      },
      {
       "output_type": "stream",
       "stream": "stdout",
       "text": [
        "\n",
        "set([u'relate', u'plato', u'gelatin'])"
       ]
      },
      {
       "output_type": "stream",
       "stream": "stdout",
       "text": [
        "\n",
        "set([u'favored'])\n",
        "set([u'texture'])\n",
        "set([u'delhi', u'del'])\n",
        "set([u'cooks', u'cooking', u'choke', u'cooked', u'cooee', u'cook'])"
       ]
      },
      {
       "output_type": "stream",
       "stream": "stdout",
       "text": [
        "\n",
        "set([u'mails', u'balls', u'calls', u'males', u'mills', u'walls', u'falls', u'mall', u'halls'])\n",
        "set([u'webster'])"
       ]
      },
      {
       "output_type": "stream",
       "stream": "stdout",
       "text": [
        "\n",
        "set([u'wallerian', u'galleries', u'gallery'])"
       ]
      },
      {
       "output_type": "stream",
       "stream": "stdout",
       "text": [
        "\n",
        "set([u'baby', u'babe'])\n",
        "set([u'salad'])\n",
        "set([u'baby', u'babe'])\n",
        "set([u'pity', u'pits', u'pit', u'pitt'])\n",
        "set([u'burns.', u'burnt', u'burst.', u'burn.'])\n",
        "set([u'gums', u'guy', u'guns'])\n",
        "set([u'cooling.', u'cooking', u'looking.'])\n",
        "set([u'kind', u'kinds'])\n",
        "[u'takeout']"
       ]
      },
      {
       "output_type": "stream",
       "stream": "stdout",
       "text": [
        "\n",
        "set([u'shopping', u'shipping.'])\n",
        "set([u'faro', u'girt', u'hero', u'zero', u'garb', u'pro', u'gare', u'fro', u'byron', u'byrom', u'germ', u'gird', u'lyre', u'tyre', u'gory', u'go', u'gros', u'girl', u'grm', u'grow'])"
       ]
      },
      {
       "output_type": "stream",
       "stream": "stdout",
       "text": [
        "\n",
        "set([u'restaurant'])"
       ]
      },
      {
       "output_type": "stream",
       "stream": "stdout",
       "text": [
        "\n",
        "set([u'alliance', u'ambulance'])"
       ]
      },
      {
       "output_type": "stream",
       "stream": "stdout",
       "text": [
        "\n",
        "set([u'goodby'])"
       ]
      },
      {
       "output_type": "stream",
       "stream": "stdout",
       "text": [
        "\n",
        "set([u'pp', u'asp', u'rapp', u'apt', u'amp', u'ape'])\n",
        "set([u'richardson'])"
       ]
      },
      {
       "output_type": "stream",
       "stream": "stdout",
       "text": [
        "\n",
        "set([u'liza', u'dizzy', u'penza'])"
       ]
      },
      {
       "output_type": "stream",
       "stream": "stdout",
       "text": [
        "\n",
        "[u'bartender']"
       ]
      },
      {
       "output_type": "stream",
       "stream": "stdout",
       "text": [
        "\n",
        "set([u'takeover'])\n",
        "set([u'copy', u'cosy', u'cody'])\n",
        "set([u'noon.', u'look.', u'book.', u'nook', u'took.', u'cook.'])\n",
        "set([u'establishment.', u'establishments'])\n",
        "set([u'yuma', u'rum', u'hum', u'sum', u'gum', u'cum', u'zum'])\n",
        "set([u'speaks', u'steals', u'streaks'])\n",
        "set([u'burghers', u'burgess'])\n",
        "[u'awesome']"
       ]
      },
      {
       "output_type": "stream",
       "stream": "stdout",
       "text": [
        "\n",
        "set([u'fare', u'hare.', u'far.', u'fate.', u'are.', u'face.', u'rare.', u'fame.', u'fared', u'farm.', u'ware.', u'fares', u'fire.', u'bare.', u'care.'])\n",
        "set([u'salad'])\n",
        "set([u'navigable'])"
       ]
      },
      {
       "output_type": "stream",
       "stream": "stdout",
       "text": [
        "\n",
        "[u'downtown']"
       ]
      },
      {
       "output_type": "stream",
       "stream": "stdout",
       "text": [
        "\n",
        "set([u'handled.', u'candle.', u'candles.', u'handle.'])"
       ]
      },
      {
       "output_type": "stream",
       "stream": "stdout",
       "text": [
        "\n",
        "set([u'dine', u'dined', u'miner', u'dinner', u'finer'])\n",
        "set([u'doctor.', u'door.'])"
       ]
      },
      {
       "output_type": "stream",
       "stream": "stdout",
       "text": [
        "\n",
        "set([u'month'])\n",
        "[u'havarti']"
       ]
      },
      {
       "output_type": "stream",
       "stream": "stdout",
       "text": [
        "\n",
        "set([u'ingredient'])"
       ]
      },
      {
       "output_type": "stream",
       "stream": "stdout",
       "text": [
        "\n",
        "set([u'chekmar', u'cedar'])"
       ]
      },
      {
       "output_type": "stream",
       "stream": "stdout",
       "text": [
        "\n",
        "[u'havarti']"
       ]
      },
      {
       "output_type": "stream",
       "stream": "stdout",
       "text": [
        "\n",
        "set([u'having'])\n",
        "[u'havarti']"
       ]
      },
      {
       "output_type": "stream",
       "stream": "stdout",
       "text": [
        "\n",
        "set([u'meal.', u'medals.', u'metal.', u'medal', u'medals'])\n",
        "set([u'ca', u\"'can\", u\"'a\"])\n",
        "set([u'anymore'])\n",
        "set([u'25', u'2.', u'25.'])\n",
        "set([u'ab', u'ebb', u'bow', u'bee', u'abc', u'lb', u'abe', u'esq', u'bug', u'bus', u'bubo', u'bye', u'bin', u'be', u'abbe', u'buy', u'babe', u'bc', u'bl', u'big', u'bid', u'but', u'br', u'baby', u'ben', u'bit', u'by', u'bud', u'box', u'boy', u'bat', u'b', u'bar', u'mb', u'sq', u'beg', u'bed', u'bay', u'q', u'bag', u'bad', u'bet', u'ban', u'boa', u'bob', u'obs', u'bah'])"
       ]
      },
      {
       "output_type": "stream",
       "stream": "stdout",
       "text": [
        "\n",
        "set([u'ab', u'ebb', u'bow', u'bee', u'abc', u'lb', u'abe', u'esq', u'bug', u'bus', u'bubo', u'bye', u'bin', u'be', u'abbe', u'buy', u'babe', u'bc', u'bl', u'big', u'bid', u'but', u'br', u'baby', u'ben', u'bit', u'by', u'bud', u'box', u'boy', u'bat', u'b', u'bar', u'mb', u'sq', u'beg', u'bed', u'bay', u'q', u'bag', u'bad', u'bet', u'ban', u'boa', u'bob', u'obs', u'bah'])"
       ]
      },
      {
       "output_type": "stream",
       "stream": "stdout",
       "text": [
        "\n",
        "set([u'handle', u'handled', u'candles', u'chandelier', u'chanter', u'handley', u'candle'])"
       ]
      },
      {
       "output_type": "stream",
       "stream": "stdout",
       "text": [
        "\n",
        "set([u'punch.', u'lunch'])\n",
        "set([u'menu', u'men.'])\n",
        "set([u'brisker'])\n",
        "set([u'sandwich'])\n",
        "set([u'kilburn', u'wilful'])"
       ]
      },
      {
       "output_type": "stream",
       "stream": "stdout",
       "text": [
        "\n",
        "set([u'cries.', u'fires.'])\n",
        "set([u'o.', u'ok', u'oak.', u'oz.', u'of.', u'k.', u'oka', u'on.'])\n",
        "set([u'brisker'])\n",
        "set([u'smoker.', u'smoke.', u'smoked'])\n",
        "set([u'sort', u'sorts', u'aorta'])\n",
        "set([u'trilled', u'drilled'])\n",
        "set([u'smoker.', u'smoke.', u'smoked'])\n",
        "set([u'salt.'])\n",
        "set([u'flavor', u'favor.'])\n",
        "[u'self-respecting']"
       ]
      },
      {
       "output_type": "stream",
       "stream": "stdout",
       "text": [
        "\n",
        "set([u'ab', u'ebb', u'bow', u'bee', u'abc', u'lb', u'abe', u'esq', u'bug', u'bus', u'bubo', u'bye', u'bin', u'be', u'abbe', u'buy', u'babe', u'bc', u'bl', u'big', u'bid', u'but', u'br', u'baby', u'ben', u'bit', u'by', u'bud', u'box', u'boy', u'bat', u'b', u'bar', u'mb', u'sq', u'beg', u'bed', u'bay', u'q', u'bag', u'bad', u'bet', u'ban', u'boa', u'bob', u'obs', u'bah'])"
       ]
      },
      {
       "output_type": "stream",
       "stream": "stdout",
       "text": [
        "\n",
        "set([u'chef', u'chiefs', u'chess'])\n",
        "[u'fructose']"
       ]
      },
      {
       "output_type": "stream",
       "stream": "stdout",
       "text": [
        "\n",
        "set([u'syrupy'])\n",
        "set([u'luck.'])\n",
        "set([u'ab', u'ebb', u'bow', u'bee', u'abc', u'lb', u'abe', u'esq', u'bug', u'bus', u'bubo', u'bye', u'bin', u'be', u'abbe', u'buy', u'babe', u'bc', u'bl', u'big', u'bid', u'but', u'br', u'baby', u'ben', u'bit', u'by', u'bud', u'box', u'boy', u'bat', u'b', u'bar', u'mb', u'sq', u'beg', u'bed', u'bay', u'q', u'bag', u'bad', u'bet', u'ban', u'boa', u'bob', u'obs', u'bah'])\n",
        "set([u'special'])\n",
        "set([u'ab', u'ebb', u'bow', u'bee', u'abc', u'lb', u'abe', u'esq', u'bug', u'bus', u'bubo', u'bye', u'bin', u'be', u'abbe', u'buy', u'babe', u'bc', u'bl', u'big', u'bid', u'but', u'br', u'baby', u'ben', u'bit', u'by', u'bud', u'box', u'boy', u'bat', u'b', u'bar', u'mb', u'sq', u'beg', u'bed', u'bay', u'q', u'bag', u'bad', u'bet', u'ban', u'boa', u'bob', u'obs', u'bah'])"
       ]
      },
      {
       "output_type": "stream",
       "stream": "stdout",
       "text": [
        "\n",
        "set([u'authentic'])\n",
        "[u'hands-down.']"
       ]
      },
      {
       "output_type": "stream",
       "stream": "stdout",
       "text": [
        "\n",
        "set([u'ab', u'ebb', u'bow', u'bee', u'abc', u'lb', u'abe', u'esq', u'bug', u'bus', u'bubo', u'bye', u'bin', u'be', u'abbe', u'buy', u'babe', u'bc', u'bl', u'big', u'bid', u'but', u'br', u'baby', u'ben', u'bit', u'by', u'bud', u'box', u'boy', u'bat', u'b', u'bar', u'mb', u'sq', u'beg', u'bed', u'bay', u'q', u'bag', u'bad', u'bet', u'ban', u'boa', u'bob', u'obs', u'bah'])\n",
        "set([u'neck', u'deck', u'beck', u'hack', u'peck', u'check'])\n",
        "set([u'ab', u'ebb', u'bow', u'bee', u'abc', u'lb', u'abe', u'esq', u'bug', u'bus', u'bubo', u'bye', u'bin', u'be', u'abbe', u'buy', u'babe', u'bc', u'bl', u'big', u'bid', u'but', u'br', u'baby', u'ben', u'bit', u'by', u'bud', u'box', u'boy', u'bat', u'b', u'bar', u'mb', u'sq', u'beg', u'bed', u'bay', u'q', u'bag', u'bad', u'bet', u'ban', u'boa', u'bob', u'obs', u'bah'])"
       ]
      },
      {
       "output_type": "stream",
       "stream": "stdout",
       "text": [
        "\n",
        "set([u'dries', u'furies', u'frees', u'flies', u'tries', u'cries', u'fires', u'frise', u'fried'])\n",
        "set([u'buffets'])\n",
        "set([u'food', u'brodie', u'foods', u'foie', u'goodge'])"
       ]
      },
      {
       "output_type": "stream",
       "stream": "stdout",
       "text": [
        "\n",
        "set([u'pips', u'dies', u'digs', u'lips', u'tips', u'dip', u'hips', u'dis'])\n",
        "set([u'buffets'])\n",
        "set([u'salad'])\n",
        "set([u'entries'])\n",
        "set([u'spikes', u'slices', u'spies', u'spines', u'spaces', u'spice'])\n",
        "set([u'pasty', u'taste', u'nasty', u'hasty'])\n",
        "set([u'alliance', u'ambulance'])"
       ]
      },
      {
       "output_type": "stream",
       "stream": "stdout",
       "text": [
        "\n",
        "set([u'favors', u'flavor'])\n",
        "set([u'mails', u'balls', u'calls', u'males', u'mills', u'walls', u'falls', u'mall', u'halls'])\n",
        "[u'boutiques']"
       ]
      },
      {
       "output_type": "stream",
       "stream": "stdout",
       "text": [
        "\n",
        "set([u'what'])\n",
        "set([u'texas'])\n",
        "set([u'erased', u'perusal', u'wefused', u'versed', u'perished', u'pursued', u'refused', u'paused', u'percussed', u'perfumed', u'pressed', u'perched', u'phrased'])"
       ]
      },
      {
       "output_type": "stream",
       "stream": "stdout",
       "text": [
        "\n",
        "set([u'stiles', u'style', u'styled', u'stylet'])\n",
        "set([u'ana', u'alba', u'azur', u'au', u'agra', u'squaw', u'alum', u'squat', u'aug', u'area', u'asia', u'squad', u'aux', u'anna', u'anus', u'quay', u'pua', u'que', u'qui', u'qu', u'alma', u'equal'])"
       ]
      },
      {
       "output_type": "stream",
       "stream": "stdout",
       "text": [
        "\n",
        "[u'solstice']"
       ]
      },
      {
       "output_type": "stream",
       "stream": "stdout",
       "text": [
        "\n",
        "set([u'shipper'])\n",
        "[u'1/27/12']"
       ]
      },
      {
       "output_type": "stream",
       "stream": "stdout",
       "text": [
        "\n",
        "set([u'spice'])\n",
        "set([u'dots', u'do', u'cos', u'vos', u'doe', u'des', u'dog', u'dose', u'los', u'does', u'dot', u'das', u'don', u'dis', u'os', u'dogs', u'dost', u'nos'])\n",
        "set([u'alliance', u'ambulance'])"
       ]
      },
      {
       "output_type": "stream",
       "stream": "stdout",
       "text": [
        "\n",
        "set([u'sector', u'defer', u'deck', u'tenor', u'deer', u'fedor', u'rector', u'dear', u'recur', u'decay', u'decorum', u'donor', u'depot', u'decks', u'door', u'demon', u'detour', u'deter', u'devour', u'senor', u'debtor', u'cor', u'defoe', u'der', u'doctor', u'deacon', u'record', u'vector', u'dec'])"
       ]
      },
      {
       "output_type": "stream",
       "stream": "stdout",
       "text": [
        "\n",
        "set([u'buzzing', u'gazing', u'dazzling', u'jarring'])"
       ]
      },
      {
       "output_type": "stream",
       "stream": "stdout",
       "text": [
        "\n",
        "set([u'dora', u'quota'])"
       ]
      },
      {
       "output_type": "stream",
       "stream": "stdout",
       "text": [
        "\n",
        "[u'chipotle/kokopellis.']"
       ]
      },
      {
       "output_type": "stream",
       "stream": "stdout",
       "text": [
        "\n",
        "set([u'burdino', u'burri'])"
       ]
      },
      {
       "output_type": "stream",
       "stream": "stdout",
       "text": [
        "\n",
        "set([u'niches', u'aches', u'anchors', u'anchor', u'pathos', u'fachons'])"
       ]
      },
      {
       "output_type": "stream",
       "stream": "stdout",
       "text": [
        "\n",
        "set([u'burdino', u'burri'])"
       ]
      },
      {
       "output_type": "stream",
       "stream": "stdout",
       "text": [
        "\n",
        "set([u'streak', u'steal', u'stead', u'steam', u'speak'])\n",
        "set([u'hopping', u'tapping', u'mopping', u'stopping', u'trappings', u'popping'])"
       ]
      },
      {
       "output_type": "stream",
       "stream": "stdout",
       "text": [
        "\n",
        "set([u'salons', u'valses', u'salad', u'dallas', u'silas', u'kansas', u'sales', u'balsam', u'alas', u'salts'])"
       ]
      },
      {
       "output_type": "stream",
       "stream": "stdout",
       "text": [
        "\n",
        "set([u'lecture'])"
       ]
      },
      {
       "output_type": "stream",
       "stream": "stdout",
       "text": [
        "\n",
        "set([u'drills', u'drill'])\n",
        "set([u'dora', u'quota'])"
       ]
      },
      {
       "output_type": "stream",
       "stream": "stdout",
       "text": [
        "\n",
        "[u'kokopellis']"
       ]
      },
      {
       "output_type": "stream",
       "stream": "stdout",
       "text": [
        "\n",
        "[u'chipotle']"
       ]
      },
      {
       "output_type": "stream",
       "stream": "stdout",
       "text": [
        "\n",
        "set([u'growling', u'growing.'])\n",
        "set([u'navvy'])\n",
        "set([u'shipper'])\n",
        "set([u'frill', u'drill'])\n",
        "set([u'ok', u'wo', u'work', u'won', u'woe', u'woke'])\n",
        "set([u'six', u'stir'])\n",
        "set([u'aside.', u'again.', u'sign.', u'span.', u'asia', u'sin.', u'alias.', u'basin.', u'alien.'])"
       ]
      },
      {
       "output_type": "stream",
       "stream": "stdout",
       "text": [
        "\n",
        "[u'hamburgers']"
       ]
      },
      {
       "output_type": "stream",
       "stream": "stdout",
       "text": [
        "\n",
        "set([u'7.', u'75', u'79.', u'95', u'75.', u'79'])"
       ]
      },
      {
       "output_type": "stream",
       "stream": "stdout",
       "text": [
        "\n",
        "set([u'pans', u'and', u'lands', u'ana', u'wand', u'manna', u'parma', u'pads', u'pang', u'pane', u'pond', u'sandy', u'canada', u'panama', u'pad', u'paula', u'andy', u'panel', u'panic', u'pan', u'panes', u'dandy', u'bandy', u'pangs', u'bands', u'papa', u'paid', u'hand', u'band', u'mania', u'santa', u'hands', u'vanya', u'landau', u'handy', u'penza', u'ponds', u'land', u'hanna', u'candy', u'sand', u'anna', u'sands', u'vanka'])"
       ]
      },
      {
       "output_type": "stream",
       "stream": "stdout",
       "text": [
        "\n",
        "set([u'king', u'min', u'mind', u'mine', u'sing', u'ring', u'ing', u'mint', u'wing'])\n",
        "set([u'fee.', u'bee.', u'gee', u'lee.', u'see.', u'gem.'])\n",
        "set([u'unions', u'onion'])\n",
        "set([u'pepper'])\n",
        "set([u'scenery', u'coley', u'celerity', u'belfry', u'clerk', u'cutlery', u'every', u'clergy', u'eley', u'cheery'])"
       ]
      },
      {
       "output_type": "stream",
       "stream": "stdout",
       "text": [
        "\n",
        "set([u'sprout'])\n",
        "[u'styrofoam']"
       ]
      },
      {
       "output_type": "stream",
       "stream": "stdout",
       "text": [
        "\n",
        "set([u'utensils'])\n",
        "set([u'sort', u'sorts', u'aorta'])\n",
        "set([u'weird'])"
       ]
      },
      {
       "output_type": "stream",
       "stream": "stdout",
       "text": [
        "\n",
        "[u'upholstered']"
       ]
      },
      {
       "output_type": "stream",
       "stream": "stdout",
       "text": [
        "\n",
        "set([u'frill', u'drill'])\n",
        "[u'pizzas.']"
       ]
      },
      {
       "output_type": "stream",
       "stream": "stdout",
       "text": [
        "\n",
        "[u'prosciutto']"
       ]
      },
      {
       "output_type": "stream",
       "stream": "stdout",
       "text": [
        "\n",
        "set([u'liza', u'dizzy', u'penza'])"
       ]
      },
      {
       "output_type": "stream",
       "stream": "stdout",
       "text": [
        "\n",
        "[u'unbelievable']"
       ]
      },
      {
       "output_type": "stream",
       "stream": "stdout",
       "text": [
        "\n",
        "set([u'masters', u'castor', u'matron', u'mastery', u'pastor', u'maistre', u'masts', u'maitre', u'master', u'madero', u'astor', u'mast'])"
       ]
      },
      {
       "output_type": "stream",
       "stream": "stdout",
       "text": [
        "\n",
        "[u'steakhouse.']"
       ]
      },
      {
       "output_type": "stream",
       "stream": "stdout",
       "text": [
        "\n",
        "set([u'spectacular'])\n",
        "[u'steakhouses']"
       ]
      },
      {
       "output_type": "stream",
       "stream": "stdout",
       "text": [
        "\n",
        "set([u'force', u'trove', u'croix', u'froze', u'crowd', u'crow', u'probe', u'crate', u'crop', u'crows', u'code', u'cone', u'cooee', u'prose', u'close', u'drove', u'grice', u'prove', u'rose', u'cross', u'croup', u'rome', u'drone', u'role', u'rowe', u'crack', u'urope', u'robe', u'rice', u'brace', u'croly', u'prone', u'crony', u'core', u'erode', u'chose', u'trace', u'cope', u'bruce', u'crown', u'price', u'bryce', u'choice', u'crude', u'feroce', u'arose', u'broke', u'crowed', u'crane', u'come', u'grace', u'rode', u'frock', u'coerce', u'crops', u'crime', u'clock', u'crile', u'choke', u'crouch', u'rope', u'grove', u'race', u'rock', u'truce', u'cock', u'wrote'])"
       ]
      },
      {
       "output_type": "stream",
       "stream": "stdout",
       "text": [
        "\n",
        "set([u'beetles'])\n",
        "set([u'sexe', u'sex'])\n",
        "[u'steakhouse']"
       ]
      },
      {
       "output_type": "stream",
       "stream": "stdout",
       "text": [
        "\n",
        "[u'seafood']"
       ]
      },
      {
       "output_type": "stream",
       "stream": "stdout",
       "text": [
        "\n",
        "set([u'feature', u'features'])\n",
        "set([u'mystery', u'masters', u'ulsters', u'ostlers', u'jesters', u'sisters', u'posters', u'monsters', u'systems'])"
       ]
      },
      {
       "output_type": "stream",
       "stream": "stdout",
       "text": [
        "\n",
        "set([u'shrimp'])\n",
        "[u'gorgonzola']"
       ]
      },
      {
       "output_type": "stream",
       "stream": "stdout",
       "text": [
        "\n",
        "set([u'steed', u'saute', u'saluted'])"
       ]
      },
      {
       "output_type": "stream",
       "stream": "stdout",
       "text": [
        "\n",
        "set([u'dinners', u'winner', u'winters', u'sinners'])\n",
        "[u'hiccup']"
       ]
      },
      {
       "output_type": "stream",
       "stream": "stdout",
       "text": [
        "\n",
        "[u'seafood']"
       ]
      },
      {
       "output_type": "stream",
       "stream": "stdout",
       "text": [
        "\n",
        "set([u'coupon', u'grouped', u'group', u'groups', u'grouping'])"
       ]
      },
      {
       "output_type": "stream",
       "stream": "stdout",
       "text": [
        "\n",
        "set([u'el', u'get', u'gal', u'del', u'gee', u'gen', u'gem'])\n",
        "set([u'manure'])"
       ]
      },
      {
       "output_type": "stream",
       "stream": "stdout",
       "text": [
        "\n",
        "set([u'spy', u'span', u'sha', u'pa', u'sea', u'spas', u'sa', u'sap', u'spat'])\n",
        "[u'pedicure.']"
       ]
      },
      {
       "output_type": "stream",
       "stream": "stdout",
       "text": [
        "\n",
        "set([u'professional.'])"
       ]
      },
      {
       "output_type": "stream",
       "stream": "stdout",
       "text": [
        "\n",
        "set([u'setting', u'sitting.', u'settings'])\n",
        "set([u'dole'])\n",
        "set([u'el', u'get', u'gal', u'del', u'gee', u'gen', u'gem'])\n",
        "set([u'manure'])"
       ]
      },
      {
       "output_type": "stream",
       "stream": "stdout",
       "text": [
        "\n",
        "set([u'willed', u'billet', u'tilled', u'killed', u'filled'])\n",
        "[u\"'unchippable\"]"
       ]
      },
      {
       "output_type": "stream",
       "stream": "stdout",
       "text": [
        "\n",
        "set([u'peer', u'feel', u'peep', u'peal', u'heel'])\n",
        "set([u'manure'])"
       ]
      },
      {
       "output_type": "stream",
       "stream": "stdout",
       "text": [
        "\n",
        "set([u'chopped', u'chirped', u'shipped', u'clipped', u'whipped'])\n",
        "[u'pedicures']"
       ]
      },
      {
       "output_type": "stream",
       "stream": "stdout",
       "text": [
        "\n",
        "[u\"'pedicurist\"]"
       ]
      },
      {
       "output_type": "stream",
       "stream": "stdout",
       "text": [
        "\n",
        "set([u'odds', u'odd', u'old.'])\n",
        "set([u'brows', u'crews'])\n",
        "set([u'med.', u'men.', u'me.', u'met.'])\n",
        "set([u'wast', u'want'])\n",
        "set([u'med.', u'men.', u'me.', u'met.'])\n",
        "set([u'actress', u'witness', u'mattress'])"
       ]
      },
      {
       "output_type": "stream",
       "stream": "stdout",
       "text": [
        "\n",
        "[u'awesome']"
       ]
      },
      {
       "output_type": "stream",
       "stream": "stdout",
       "text": [
        "\n",
        "[u'kabuki']"
       ]
      },
      {
       "output_type": "stream",
       "stream": "stdout",
       "text": [
        "\n",
        "set([u'a', u'a.', u'ha', u'ma', u'wa', u'la', u'na', u'ca', u'ka', u'.f', u'da', u'pa', u'sa', u'.', u'ja', u'ta'])\n",
        "[u'middle-of-the-afternoon']"
       ]
      },
      {
       "output_type": "stream",
       "stream": "stdout",
       "text": [
        "\n",
        "set([u'temps', u'tempt', u'temple', u'temper'])\n",
        "[u'marketplace']"
       ]
      },
      {
       "output_type": "stream",
       "stream": "stdout",
       "text": [
        "\n",
        "set([u'scored', u'scope'])\n",
        "set([u'suis', u'rush', u'tushin', u'susan', u'lush', u'aussi', u'sasha', u'hush', u'bush', u'gush', u'push', u'such', u'sash', u'bushy'])"
       ]
      },
      {
       "output_type": "stream",
       "stream": "stdout",
       "text": [
        "\n",
        "[u'sashimi']"
       ]
      },
      {
       "output_type": "stream",
       "stream": "stdout",
       "text": [
        "\n",
        "set([u'damage.'])"
       ]
      },
      {
       "output_type": "stream",
       "stream": "stdout",
       "text": [
        "\n",
        "set([u'copy', u'cosy', u'cody'])\n",
        "set([u'entailing', u'entitling', u'enriching', u'noticing', u'enticingly', u'untiring', u'entering'])"
       ]
      },
      {
       "output_type": "stream",
       "stream": "stdout",
       "text": [
        "\n",
        "set([u'alliance', u'ambulance'])"
       ]
      },
      {
       "output_type": "stream",
       "stream": "stdout",
       "text": [
        "\n",
        "[u'kabuki']"
       ]
      },
      {
       "output_type": "stream",
       "stream": "stdout",
       "text": [
        "\n",
        "set([u'items', u'item.'])\n",
        "set([u'really'])"
       ]
      },
      {
       "output_type": "stream",
       "stream": "stdout",
       "text": [
        "\n",
        "set([u'maggie', u'verge'])"
       ]
      },
      {
       "output_type": "stream",
       "stream": "stdout",
       "text": [
        "\n",
        "set([u'cry', u'pro', u'groom', u'rio', u'troy', u'guy', u'go', u'bryn', u'rye', u'fro', u'grim', u'grm', u'wry', u'grip', u'grit', u'gay', u'gory', u'mayo', u'grid', u'gros', u'grow', u'grin', u'dry', u'gray', u'grew', u'roy', u'gras', u'grey', u'try', u'gram', u'grab', u'graf'])"
       ]
      },
      {
       "output_type": "stream",
       "stream": "stdout",
       "text": [
        "\n",
        "[u'felafel']"
       ]
      },
      {
       "output_type": "stream",
       "stream": "stdout",
       "text": [
        "\n",
        "[u'mongolian']"
       ]
      },
      {
       "output_type": "stream",
       "stream": "stdout",
       "text": [
        "\n",
        "set([u'king', u'dung', u'lung', u'rung', u'hung', u'sung'])\n",
        "set([u'thaw', u'than', u'that'])\n",
        "set([u'needles.', u'nobles.', u'nodules.'])"
       ]
      },
      {
       "output_type": "stream",
       "stream": "stdout",
       "text": [
        "\n",
        "[u'mongolian']"
       ]
      },
      {
       "output_type": "stream",
       "stream": "stdout",
       "text": [
        "\n",
        "set([u'unions', u'onion'])\n",
        "set([u'scullions', u'stallions'])\n",
        "set([u'bland', u'gland.', u'band.', u'land.', u'blind.'])\n",
        "set([u'king', u'dung', u'lung', u'rung', u'hung', u'sung'])\n",
        "set([u'peanuts'])\n",
        "set([u'extent.', u'existed.', u'existence.', u'existence'])"
       ]
      },
      {
       "output_type": "stream",
       "stream": "stdout",
       "text": [
        "\n",
        "set([u'bah'])\n",
        "set([u'thaw', u'than', u'that'])\n",
        "set([u'nobles', u'needles', u'nodules', u'nodes', u'nobodies'])"
       ]
      },
      {
       "output_type": "stream",
       "stream": "stdout",
       "text": [
        "\n",
        "set([u'clump', u'clumps'])\n",
        "set([u'nobles', u'needles', u'nodules', u'nodes', u'nobodies'])"
       ]
      },
      {
       "output_type": "stream",
       "stream": "stdout",
       "text": [
        "\n",
        "set([u'peanuts'])\n",
        "set([u'legible', u'enable', u'pedicle', u'bible', u'exile', u'audible', u'diable'])"
       ]
      },
      {
       "output_type": "stream",
       "stream": "stdout",
       "text": [
        "\n",
        "set([u'..', u's.j.', u's.s.', u'st.', u'so.', u's.', u's.b.'])\n",
        "set([u'jake', u'jaded', u'bade', u'made', u'fade', u'jane', u'wade'])\n",
        "set([u'and', u'wand', u'fond', u'mind', u'cond', u'bend', u'pond', u'find', u'end', u'nd', u'send', u'tend', u'hind', u'mend', u'lend', u'hand', u'band', u'92', u'kind', u'land', u'fund', u'bind', u'2d', u'sand', u'und', u'wind', u'bond'])"
       ]
      },
      {
       "output_type": "stream",
       "stream": "stdout",
       "text": [
        "\n",
        "set([u'asia'])\n",
        "[u'later..like']"
       ]
      },
      {
       "output_type": "stream",
       "stream": "stdout",
       "text": [
        "\n",
        "[u'macaroni']"
       ]
      },
      {
       "output_type": "stream",
       "stream": "stdout",
       "text": [
        "\n",
        "set([u'spice'])\n",
        "set([u'impossible'])\n",
        "set([u'filled.', u'refills.'])"
       ]
      },
      {
       "output_type": "stream",
       "stream": "stdout",
       "text": [
        "\n",
        "set([u'burn.', u'bent.', u'buena', u'burnol', u'burns.', u'been.'])"
       ]
      },
      {
       "output_type": "stream",
       "stream": "stdout",
       "text": [
        "\n",
        "set([u'bathroom'])\n",
        "set([u'speak'])\n",
        "[u'mediocre']"
       ]
      },
      {
       "output_type": "stream",
       "stream": "stdout",
       "text": [
        "\n",
        "set([u'bland', u'gland.', u'band.', u'land.', u'blind.'])\n",
        "set([u'mine.', u'miss.', u'minds.', u'sins.', u'mind.', u'mines.'])\n",
        "[u'scottsdale']"
       ]
      },
      {
       "output_type": "stream",
       "stream": "stdout",
       "text": [
        "\n",
        "set([u'cor', u'for', u'nor', u'or'])\n",
        "[u'scottsdale']"
       ]
      },
      {
       "output_type": "stream",
       "stream": "stdout",
       "text": [
        "\n",
        "set([u'your'])\n",
        "set([u'felt.', u'felix', u'debit', u'desk.', u'well.', u'denis', u'doll.', u'delve', u'duel.', u'dwell.', u'self.', u'devil', u'deed.', u'deal.', u'delay', u'den.', u'cell.', u'belt.', u'deep.', u'tell.', u'dec.', u'relic', u'fell.', u'sell.', u'dem.', u'delhi', u'dead.', u'relit', u'held.', u'rely.', u'devil.', u'dewy.', u'dull.', u'bell.', u'dale.', u'help.', u'dew.', u'fili.', u'del', u'debt.', u'delay.', u'die.', u'vell.', u'dear.'])"
       ]
      },
      {
       "output_type": "stream",
       "stream": "stdout",
       "text": [
        "\n",
        "set([u'locate', u'local'])\n",
        "set([u'and', u'land', u'wand', u'hand', u'band', u'sand'])\n",
        "set([u'smoked', u'smokes', u'smoke'])\n",
        "set([u'panins'])\n",
        "[u'.guacamole']"
       ]
      },
      {
       "output_type": "stream",
       "stream": "stdout",
       "text": [
        "\n",
        "[u'.provolone']"
       ]
      },
      {
       "output_type": "stream",
       "stream": "stdout",
       "text": [
        "\n",
        "[u'.lettuce']"
       ]
      },
      {
       "output_type": "stream",
       "stream": "stdout",
       "text": [
        "\n",
        "set([u'bacon'])\n",
        "set([u'salol', u'all', u'doll', u'vol', u'sol', u'clot', u'poll', u'slot', u'plot', u'plow', u'slow', u'log', u'lo', u'll', u'los', u'bloc', u'low', u'lot', u'toll', u'cool', u'roll', u'idol', u'fool', u'blow', u'soll', u'tool', u'gaol', u'blot', u'pool', u'glow', u'wool', u'aloe', u'ill', u'flop', u'flow', u'flog', u'col'])"
       ]
      },
      {
       "output_type": "stream",
       "stream": "stdout",
       "text": [
        "\n",
        "set([u'and', u'land', u'wand', u'hand', u'band', u'sand'])\n",
        "set([u'frill', u'drill'])\n",
        "set([u'and', u'land', u'wand', u'hand', u'band', u'sand'])\n",
        "set([u'tickle', u'sickle', u'pickled'])\n",
        "[u'homemade']"
       ]
      },
      {
       "output_type": "stream",
       "stream": "stdout",
       "text": [
        "\n",
        "set([u'and', u'land', u'wand', u'hand', u'band', u'sand'])\n",
        "set([u'but'])\n",
        "set([u'jones', u'codes', u'ones', u'cone', u'tones', u'bones', u'comes'])\n",
        "set([u'mine'])\n",
        "set([u'sird', u'sire', u'soil', u'girl', u'still', u'skirt', u'skill', u'whirl', u'wire', u'shirt', u'swift', u'sail', u'spire', u'spiral', u'swarm', u'wirt', u'sword', u'swore', u'swims', u'stir', u'wiry', u'swim', u'sir', u'swell', u'snarl', u'sill', u'stirs', u'swish', u'spill', u'sworn', u'will', u'swine', u'swing', u'swiss'])"
       ]
      },
      {
       "output_type": "stream",
       "stream": "stdout",
       "text": [
        "\n",
        "set([u'..'])\n",
        "[u'petsmart']"
       ]
      },
      {
       "output_type": "stream",
       "stream": "stdout",
       "text": [
        "\n",
        "set([u'cage.', u'ave.', u'came.', u'case.', u'cava.', u'cave', u'caved', u'care.', u'have.', u'cake.'])\n",
        "set([u'sandbag'])"
       ]
      },
      {
       "output_type": "stream",
       "stream": "stdout",
       "text": [
        "\n",
        "[u'scottsdalers']"
       ]
      },
      {
       "output_type": "stream",
       "stream": "stdout",
       "text": [
        "\n",
        "[u'scottsdale']"
       ]
      },
      {
       "output_type": "stream",
       "stream": "stdout",
       "text": [
        "\n",
        "set([u'shed', u'shew', u'sheaf', u'sha', u'she', u'sea'])\n",
        "set([u'sandbag'])\n",
        "set([u'do', u'j', u'd', u'adj', u'de', u'da', u'du', u'dr'])\n",
        "[u'awesome']"
       ]
      },
      {
       "output_type": "stream",
       "stream": "stdout",
       "text": [
        "\n",
        "set([u'sandbag'])\n",
        "set([u'token', u'waken', u'woven', u'woke', u'women'])\n",
        "set([u'sandbag'])\n",
        "set([u'sandbag'])\n",
        "set([u'winner'])\n",
        "set([u'drink.', u'risk.', u'ring.', u'wink.', u'rank.', u'ink.', u'sink.'])\n",
        "[u'plexiglass']"
       ]
      },
      {
       "output_type": "stream",
       "stream": "stdout",
       "text": [
        "\n",
        "set([u'drink.', u'risk.', u'ring.', u'wink.', u'rank.', u'ink.', u'sink.'])\n",
        "set([u'buck', u'tuck', u'pick', u'fuck', u'pluck', u'pack', u'duck', u'suck', u'peck', u'luck'])\n",
        "set([u'creaked'])\n",
        "[u'you-know-what']"
       ]
      },
      {
       "output_type": "stream",
       "stream": "stdout",
       "text": [
        "\n",
        "set([u\"can't.\"])"
       ]
      },
      {
       "output_type": "stream",
       "stream": "stdout",
       "text": [
        "\n",
        "set([u'special'])\n",
        "set([u'bah'])\n",
        "set([u'bah'])\n",
        "set([u'la.', u'bush.', u'lad.', u'plan.', u'blame.', u'bland', u'ban.', u'law.', u'glad.', u'flap.', u'flag.', u'blow.', u'flax.', u'clay.', u'black', u'blaze', u'blaze.', u'bad.', u'lash.', u'ball.', u'klan.', u'both.', u'blue.', u'bath.', u'beat.', u'blank', u'blush.', u'blast', u'bar.', u'blame', u'slab.', u'boat.', u'blade', u'bay.', u'lay.', u'bear.', u'play.', u'black.', u'bag.', u'bah'])"
       ]
      },
      {
       "output_type": "stream",
       "stream": "stdout",
       "text": [
        "\n",
        "set([u'acute', u'cut', u'bute', u'mute', u'cure', u'cuts', u'cite'])\n",
        "set([u'bathroom'])\n",
        "set([u'hacked'])\n",
        "[u\"'cantina\"]"
       ]
      },
      {
       "output_type": "stream",
       "stream": "stdout",
       "text": [
        "\n",
        "set([u'glared', u'laced', u'flared', u'fared', u'dared', u'cared', u'bared', u'lured', u'pared'])"
       ]
      },
      {
       "output_type": "stream",
       "stream": "stdout",
       "text": [
        "\n",
        "set([u'cum', u'cut', u'cruz', u'cub', u'cup'])\n",
        "set([u'cardinal'])\n",
        "set([u'90', u'00'])"
       ]
      },
      {
       "output_type": "stream",
       "stream": "stdout",
       "text": [
        "\n",
        "set([u'ich', u'iss', u'wish', u'fish', u'ist', u'vish', u'dish', u'isa', u'ash', u'is'])\n",
        "set([u'80'])\n",
        "[u'scottsdale']"
       ]
      },
      {
       "output_type": "stream",
       "stream": "stdout",
       "text": [
        "\n",
        "set([u'stepped'])\n",
        "set([u'ratio'])"
       ]
      },
      {
       "output_type": "stream",
       "stream": "stdout",
       "text": [
        "\n",
        "set([u'carting', u'casting', u'cantigny', u'panting', u'canton', u'cantata', u'chanting', u'angina', u'wanting', u'canning'])"
       ]
      },
      {
       "output_type": "stream",
       "stream": "stdout",
       "text": [
        "\n",
        "set([u'60'])"
       ]
      },
      {
       "output_type": "stream",
       "stream": "stdout",
       "text": [
        "\n",
        "set([u\"'all\"])\n",
        "set([u'immigration'])"
       ]
      },
      {
       "output_type": "stream",
       "stream": "stdout",
       "text": [
        "\n",
        "set([u'vizard', u'wizard', u'hazards'])"
       ]
      },
      {
       "output_type": "stream",
       "stream": "stdout",
       "text": [
        "\n",
        "set([u'they'])\n",
        "set([u'chimes', u'crimes', u'limes'])\n",
        "set([u'dilute'])"
       ]
      },
      {
       "output_type": "stream",
       "stream": "stdout",
       "text": [
        "\n",
        "set([u'dilute'])"
       ]
      },
      {
       "output_type": "stream",
       "stream": "stdout",
       "text": [
        "\n",
        "set([u'ratio'])\n",
        "[u'reevaluatethe']"
       ]
      },
      {
       "output_type": "stream",
       "stream": "stdout",
       "text": [
        "\n",
        "set([u'ratio'])\n",
        "set([u'ratio'])\n",
        "set([u'not', u'knot'])\n",
        "set([u'ratio'])\n",
        "set([u'competent'])"
       ]
      },
      {
       "output_type": "stream",
       "stream": "stdout",
       "text": [
        "\n",
        "set([u'salol', u'solfa', u'salon', u'samoa', u'palsy', u'alba', u'pals', u'sales', u'salve', u'seals', u'talma', u'salem', u'sacs', u'false', u'salts', u'scala', u'malta', u'also', u'slash', u'sails', u'salle', u'says', u'silas', u'sasha', u'sila', u'alas', u'santa', u'salut', u'sally', u'alma', u'balsam', u'sans', u'salad', u'saws', u'saliva', u'sale', u'valse', u'salt', u'sash', u'mala'])"
       ]
      },
      {
       "output_type": "stream",
       "stream": "stdout",
       "text": [
        "\n",
        "set([u'ships.', u'chips', u'whips.', u'chaps.'])\n",
        "set([u'salol', u'solfa', u'salon', u'samoa', u'palsy', u'alba', u'pals', u'sales', u'salve', u'seals', u'talma', u'salem', u'sacs', u'false', u'salts', u'scala', u'malta', u'also', u'slash', u'sails', u'salle', u'says', u'silas', u'sasha', u'sila', u'alas', u'santa', u'salut', u'sally', u'alma', u'balsam', u'sans', u'salad', u'saws', u'saliva', u'sale', u'valse', u'salt', u'sash', u'mala'])"
       ]
      },
      {
       "output_type": "stream",
       "stream": "stdout",
       "text": [
        "\n",
        "set([u'but'])\n",
        "set([u'separated'])\n",
        "set([u'thermal'])"
       ]
      },
      {
       "output_type": "stream",
       "stream": "stdout",
       "text": [
        "\n",
        "set([u'salol', u'solfa', u'salon', u'samoa', u'palsy', u'alba', u'pals', u'sales', u'salve', u'seals', u'talma', u'salem', u'sacs', u'false', u'salts', u'scala', u'malta', u'also', u'slash', u'sails', u'salle', u'says', u'silas', u'sasha', u'sila', u'alas', u'santa', u'salut', u'sally', u'alma', u'balsam', u'sans', u'salad', u'saws', u'saliva', u'sale', u'valse', u'salt', u'sash', u'mala'])"
       ]
      },
      {
       "output_type": "stream",
       "stream": "stdout",
       "text": [
        "\n",
        "set([u'spice'])\n",
        "set([u'dupe', u'duke', u'due', u'rude'])\n",
        "set([u'fare', u'jake', u'fate', u'sake', u'make', u'rake', u'lake', u'face', u'wake', u'take', u'fade', u'cake', u'bake', u'fame'])\n",
        "set([u'restaurant'])\n",
        "[u'saskatchewan']"
       ]
      },
      {
       "output_type": "stream",
       "stream": "stdout",
       "text": [
        "\n",
        "set([u'savages', u'ravaged', u'savage'])"
       ]
      },
      {
       "output_type": "stream",
       "stream": "stdout",
       "text": [
        "\n",
        "set([u'compatriots'])\n",
        "[u'durango-']"
       ]
      },
      {
       "output_type": "stream",
       "stream": "stdout",
       "text": [
        "\n",
        "[u'knowledgeably']"
       ]
      },
      {
       "output_type": "stream",
       "stream": "stdout",
       "text": [
        "\n",
        "set([u'margaret'])"
       ]
      },
      {
       "output_type": "stream",
       "stream": "stdout",
       "text": [
        "\n",
        "set([u'truly'])\n",
        "set([u'inspired'])"
       ]
      },
      {
       "output_type": "stream",
       "stream": "stdout",
       "text": [
        "\n",
        "set([u'bars', u'bait', u'ana', u'bare', u'back', u'bath', u'vara', u'tafa', u'hata', u'balk', u'bark', u'bake', u'bail', u'bart', u'bags', u'bade', u'lava', u'cava', u'lata', u'bask', u'barn', u'bast', u'ball', u'babe', u'bass', u'bald', u'papa', u'bane', u'band', u'bang', u'base', u'baby', u'data', u'ja', u'bank', u'basal', u'bat', u'bar', u'bay', u'bag', u'bad', u'ban', u'boa', u'bah', u'mala'])"
       ]
      },
      {
       "output_type": "stream",
       "stream": "stdout",
       "text": [
        "\n",
        "set([u'frill', u'drill'])\n",
        "set([u'sombre'])\n",
        "set([u'mexico'])\n",
        "set([u'case', u'cast', u'cash', u'cava'])\n",
        "set([u'freakish'])"
       ]
      },
      {
       "output_type": "stream",
       "stream": "stdout",
       "text": [
        "\n",
        "set([u'booted', u'boasted'])\n",
        "set([u'ago', u'ami', u'mio', u'amie', u'amid', u'align', u'amity', u'amiss'])"
       ]
      },
      {
       "output_type": "stream",
       "stream": "stdout",
       "text": [
        "\n",
        "set([u'like.', u'hive.'])\n",
        "set([u'treacherous'])\n",
        "set([u'370', u'30', u'73', u'70'])\n",
        "[u'firetrucks']"
       ]
      },
      {
       "output_type": "stream",
       "stream": "stdout",
       "text": [
        "\n",
        "[u'rescue/aid']"
       ]
      },
      {
       "output_type": "stream",
       "stream": "stdout",
       "text": [
        "\n",
        "set([u'seams', u'terms', u'beams', u'tears', u'team', u'reams'])\n",
        "[u'doofuses']"
       ]
      },
      {
       "output_type": "stream",
       "stream": "stdout",
       "text": [
        "\n",
        "[u'waterwise']"
       ]
      },
      {
       "output_type": "stream",
       "stream": "stdout",
       "text": [
        "\n",
        "[u'overestimate']"
       ]
      },
      {
       "output_type": "stream",
       "stream": "stdout",
       "text": [
        "\n",
        "set([u'climb', u'limb.'])\n",
        "set([u'flick', u'slice', u'slack', u'slink', u'lick', u'stick', u'sick', u'click'])\n",
        "[u'uhhhh']"
       ]
      },
      {
       "output_type": "stream",
       "stream": "stdout",
       "text": [
        "\n",
        "set([u'dry', u'fly', u'fr', u'fury', u'cry', u'fro', u'try', u'fray', u'wry'])\n",
        "set([u'yea', u'sunk', u'yep', u'yes', u'yer', u'yet', u'cut', u'aug', u'cup', u'tu', u'qui', u'cub', u'aux', u'cum', u'luke', u'ye', u'du', u'qu', u'gun', u'gum', u'gut', u'guy', u'luck', u'oui', u'ouh', u'nut', u'nur', u'nun', u'zu', u'ark', u'out', u'sue', u'sub', u'sun', u'sum', u'mud', u'mug', u'sur', u'sup', u'lui', u'yuma', u'run', u'rum', u'rub', u'tut', u'rug', u'pub', u'rue', u'que', u'yuri', u'ask', u'tub', u'rut', u'pus', u'buck', u'vue', u'ok', u'tuck', u'k', u'turk', u'yoke', u'ou', u'york', u'duke', u'put', u'duck', u'your', u'duc', u'due', u'dug', u'tug', u'hue', u'buy', u'jug', u'bus', u'but', u'bulk', u'eut', u'bug', u'bud', u'fur', u'ut', u'up', u'us', u'un', u'fun', u'ak', u'fuck', u'hug', u'au', u'ink', u'yon', u'pua', u'oak', u'hum', u'you', u'dusk', u'our', u'suck', u'hut', u'u', u'ku', u'y', u'zum'])\n",
        "set([u'aunt.', u'jaunty'])\n",
        "[u'sun/heat']"
       ]
      },
      {
       "output_type": "stream",
       "stream": "stdout",
       "text": [
        "\n",
        "set([u'slumbering', u'lumbering', u'clattering'])"
       ]
      },
      {
       "output_type": "stream",
       "stream": "stdout",
       "text": [
        "\n",
        "set([u'shoulders', u'blunders', u'bolder', u'molders', u'boilers', u'founders', u'holders', u'builders', u'borders'])"
       ]
      },
      {
       "output_type": "stream",
       "stream": "stdout",
       "text": [
        "\n",
        "set([u'saturday', u'saturdays'])\n",
        "set([u'burghers', u'burgess'])\n",
        "set([u'dries', u'furies', u'frees', u'flies', u'tries', u'cries', u'fires', u'frise', u'fried'])\n",
        "[u'scottsdale.']"
       ]
      },
      {
       "output_type": "stream",
       "stream": "stdout",
       "text": [
        "\n",
        "set([u'burghers', u'burgess'])\n",
        "set([u'lasting', u'fasting', u'casting', u'wasting', u'feasting.', u'testing', u'taking.', u'eating.', u'passing.', u'carting.', u'asking.', u'waiting.', u'talking.', u'starting.', u'wanting.', u'hastings'])"
       ]
      },
      {
       "output_type": "stream",
       "stream": "stdout",
       "text": [
        "\n",
        "set([u'nothing'])\n",
        "set([u'daytime'])"
       ]
      },
      {
       "output_type": "stream",
       "stream": "stdout",
       "text": [
        "\n",
        "[u'cheesecake']"
       ]
      },
      {
       "output_type": "stream",
       "stream": "stdout",
       "text": [
        "\n",
        "[u'underwhelmed/cheated.']"
       ]
      },
      {
       "output_type": "stream",
       "stream": "stdout",
       "text": [
        "\n",
        "set([u'burgher'])\n",
        "set([u'girlfriend'])\n",
        "set([u'copy.'])\n",
        "set([u'overlay'])\n",
        "set([u'pretensions', u'unpretentious', u'pretentiously'])"
       ]
      },
      {
       "output_type": "stream",
       "stream": "stdout",
       "text": [
        "\n",
        "[u'scottsdale']"
       ]
      },
      {
       "output_type": "stream",
       "stream": "stdout",
       "text": [
        "\n",
        "[u'hotspots.']"
       ]
      },
      {
       "output_type": "stream",
       "stream": "stdout",
       "text": [
        "\n",
        "set([u'brave', u'cave', u'crate', u'carve', u'crane', u'grave'])\n",
        "set([u'sideboard'])"
       ]
      },
      {
       "output_type": "stream",
       "stream": "stdout",
       "text": [
        "\n",
        "set([u'sideboard'])"
       ]
      },
      {
       "output_type": "stream",
       "stream": "stdout",
       "text": [
        "\n",
        "set([u'winter', u'bitter', u'trotter', u'twisted', u'thither', u'litter', u'glitter', u'swifter'])"
       ]
      },
      {
       "output_type": "stream",
       "stream": "stdout",
       "text": [
        "\n",
        "[u'buzzcation.']"
       ]
      },
      {
       "output_type": "stream",
       "stream": "stdout",
       "text": [
        "\n",
        "[u'sidebarphx']"
       ]
      },
      {
       "output_type": "stream",
       "stream": "stdout",
       "text": [
        "\n",
        "[u'buzzcation']"
       ]
      },
      {
       "output_type": "stream",
       "stream": "stdout",
       "text": [
        "\n",
        "[u'networking']"
       ]
      },
      {
       "output_type": "stream",
       "stream": "stdout",
       "text": [
        "\n",
        "set([u'join', u'joking', u'doing', u'joint', u'going', u'joins'])\n",
        "set([u'sideboard'])"
       ]
      },
      {
       "output_type": "stream",
       "stream": "stdout",
       "text": [
        "\n",
        "[u'accomodating']"
       ]
      },
      {
       "output_type": "stream",
       "stream": "stdout",
       "text": [
        "\n",
        "set([u'temples.'])"
       ]
      },
      {
       "output_type": "stream",
       "stream": "stdout",
       "text": [
        "\n",
        "set([u'ogg'])\n",
        "set([u'fish'])\n",
        "set([u'waiter', u'waters', u'writers', u'gaiters'])\n",
        "set([u'h.k.', u'j.k.', u'oak.', u'o.h.'])\n",
        "set([u'tables', u'amalek', u'females', u'temples', u'tales', u'males', u'damages', u'samples'])"
       ]
      },
      {
       "output_type": "stream",
       "stream": "stdout",
       "text": [
        "\n",
        "set([u'streak', u'steal', u'stead', u'steam', u'speak'])\n",
        "set([u'sobs.'])"
       ]
      },
      {
       "output_type": "stream",
       "stream": "stdout",
       "text": [
        "\n",
        "[u'takeout']"
       ]
      },
      {
       "output_type": "stream",
       "stream": "stdout",
       "text": [
        "\n",
        "set([u'pick'])\n",
        "set([u'food', u'brodie', u'foods', u'foie', u'goodge'])"
       ]
      },
      {
       "output_type": "stream",
       "stream": "stdout",
       "text": [
        "\n",
        "set([u'weekend'])\n",
        "[u'margherita']"
       ]
      },
      {
       "output_type": "stream",
       "stream": "stdout",
       "text": [
        "\n",
        "set([u'liza', u'dizzy', u'penza'])"
       ]
      },
      {
       "output_type": "stream",
       "stream": "stdout",
       "text": [
        "\n",
        "[u'eggplant']"
       ]
      },
      {
       "output_type": "stream",
       "stream": "stdout",
       "text": [
        "\n",
        "set([u'harm', u'farm', u'marm', u'park', u'par', u'parma', u'warm', u'palm', u'parr', u'part', u'arm'])\n",
        "[u'calamari.']"
       ]
      },
      {
       "output_type": "stream",
       "stream": "stdout",
       "text": [
        "\n",
        "set([u'coup', u'pomp', u'cop', u'camp', u'coma', u'comb', u'come'])\n",
        "[u'tapenade']"
       ]
      },
      {
       "output_type": "stream",
       "stream": "stdout",
       "text": [
        "\n",
        "[u'carpacchio']"
       ]
      },
      {
       "output_type": "stream",
       "stream": "stdout",
       "text": [
        "\n",
        "[u'lasagna']"
       ]
      },
      {
       "output_type": "stream",
       "stream": "stdout",
       "text": [
        "\n",
        "[u'pizzas']"
       ]
      },
      {
       "output_type": "stream",
       "stream": "stdout",
       "text": [
        "\n",
        "set([u'olive', u'oliver', u'lives'])\n",
        "set([u'delirious.', u'delicious'])\n",
        "[u'lasagna']"
       ]
      },
      {
       "output_type": "stream",
       "stream": "stdout",
       "text": [
        "\n",
        "set([u'mended', u'melted', u'welded', u'molded'])\n",
        "set([u'pick'])\n",
        "set([u'gets', u'jets.', u'gems.'])\n",
        "set([u'booths.', u'both.', u'boots.', u'boot.', u'booth', u'tooth.'])\n",
        "[u'appetizers']"
       ]
      },
      {
       "output_type": "stream",
       "stream": "stdout",
       "text": [
        "\n",
        "set([u'mystery', u'masters', u'ulsters', u'ostlers', u'jesters', u'sisters', u'posters', u'monsters', u'systems'])"
       ]
      },
      {
       "output_type": "stream",
       "stream": "stdout",
       "text": [
        "\n",
        "set([u'speaks', u'steals', u'streaks'])\n",
        "[u'seafood']"
       ]
      },
      {
       "output_type": "stream",
       "stream": "stdout",
       "text": [
        "\n",
        "set([u'haired', u'pared', u'pained'])\n",
        "set([u'cabinet'])"
       ]
      },
      {
       "output_type": "stream",
       "stream": "stdout",
       "text": [
        "\n",
        "set([u'eddies', u'eddied'])\n",
        "set([u'austin'])\n",
        "set([u'nom', u'mop', u'mot', u'mmm', u'mon', u'tom', u'mob'])\n",
        "set([u'sweated', u'sweeter'])\n",
        "[u'follow-up']"
       ]
      },
      {
       "output_type": "stream",
       "stream": "stdout",
       "text": [
        "\n",
        "set([u'eddies', u'eddied'])\n",
        "set([u'grm', u'gum', u'gem'])\n",
        "set([u'relish'])\n",
        "set([u'lupus', u'pas', u'dupes', u'spas', u'cups', u'judas'])"
       ]
      },
      {
       "output_type": "stream",
       "stream": "stdout",
       "text": [
        "\n",
        "set([u'hip', u'via', u'vie', u'vi', u'vii', u'tip', u'rip', u'vis', u'sip', u'lip', u'viz', u'nip', u'dip'])\n",
        "set([u'watering'])\n",
        "set([u'speak'])\n",
        "set([u'seek.', u'meek.', u'week.'])\n",
        "set([u'flavor', u'favor.'])\n",
        "set([u'gumboil', u'gusto', u'gum', u'gums', u'dumb', u'numb', u'bubo', u'gumma', u'limbo'])"
       ]
      },
      {
       "output_type": "stream",
       "stream": "stdout",
       "text": [
        "\n",
        "set([u'mummy', u'dummy'])\n",
        "set([u'pest'])\n",
        "[u'artichoke']"
       ]
      },
      {
       "output_type": "stream",
       "stream": "stdout",
       "text": [
        "\n",
        "set([u'panins'])\n",
        "set([u'99', u'79.', u'79', u'7.'])"
       ]
      },
      {
       "output_type": "stream",
       "stream": "stdout",
       "text": [
        "\n",
        "set([u'combs', u'comb'])\n",
        "set([u'sandwich'])\n",
        "set([u'combs', u'comb'])\n",
        "set([u'panins'])\n",
        "set([u'ingredient'])\n",
        "set([u'feeling'])\n",
        "[u'dog-friendly']"
       ]
      },
      {
       "output_type": "stream",
       "stream": "stdout",
       "text": [
        "\n",
        "[u'vegan-friendly']"
       ]
      },
      {
       "output_type": "stream",
       "stream": "stdout",
       "text": [
        "\n",
        "set([u'ami', u'tim', u'toi', u'mi', u'ti'])\n",
        "set([u'mummy', u'dummy'])\n",
        "[u'manageably-sized']"
       ]
      },
      {
       "output_type": "stream",
       "stream": "stdout",
       "text": [
        "\n",
        "set([u'meg', u've', u'leg', u'keg', u'beg', u'vex', u'peg'])\n",
        "set([u'sandwich'])\n",
        "set([u'suffers', u'success', u'suppers', u'sucks', u'seekers', u'pucker', u'sockets', u'smokers', u'sutlers', u'quakers', u'sucked'])"
       ]
      },
      {
       "output_type": "stream",
       "stream": "stdout",
       "text": [
        "\n",
        "[u'mozzarella.']"
       ]
      },
      {
       "output_type": "stream",
       "stream": "stdout",
       "text": [
        "\n",
        "set([u'mmm'])\n",
        "set([u'mmm'])\n",
        "[u'arthichoke.']"
       ]
      },
      {
       "output_type": "stream",
       "stream": "stdout",
       "text": [
        "\n",
        "set([u'amie', u'mammae', u'sample', u'summit', u'same'])"
       ]
      },
      {
       "output_type": "stream",
       "stream": "stdout",
       "text": [
        "\n",
        "set([u'case', u'chew', u'lashed', u'washed', u'rashes', u'lashes', u'clashed', u'ashen', u'cashier', u'cash', u'clashes', u'ashes', u'crashed', u'casket', u'dashed', u'shew', u'cases', u'sashes', u'caste'])"
       ]
      },
      {
       "output_type": "stream",
       "stream": "stdout",
       "text": [
        "\n",
        "set([u'what', u'wa', u'who', u'why', u'sha', u'ha', u'whoa'])\n",
        "set([u'cabinet'])"
       ]
      },
      {
       "output_type": "stream",
       "stream": "stdout",
       "text": [
        "\n",
        "set([u'banana'])"
       ]
      },
      {
       "output_type": "stream",
       "stream": "stdout",
       "text": [
        "\n",
        "set([u'pelvis', u'ellis'])\n",
        "set([u'laurel'])\n",
        "set([u'checked'])\n",
        "[u'alternator.']"
       ]
      },
      {
       "output_type": "stream",
       "stream": "stdout",
       "text": [
        "\n",
        "set([u'pm'])\n",
        "set([u'11', u'ram', u'ham', u'sam', u'swam', u'dam', u'guam', u'adam', u'am', u'roam', u'beam', u'jam', u'gram', u'team', u'dram', u'siam', u'sham', u'slam', u'11th', u'foam', u'exam'])"
       ]
      },
      {
       "output_type": "stream",
       "stream": "stdout",
       "text": [
        "\n",
        "[u'owner/manager']"
       ]
      },
      {
       "output_type": "stream",
       "stream": "stdout",
       "text": [
        "\n",
        "set([u'gerry', u'ferry', u'tarry', u'perry', u'merry'])\n",
        "set([u'gun.', u'buy.', u'guy', u'gay.'])\n",
        "set([u'priding', u'prizing', u'pricking'])\n",
        "set([u'bushes', u'busts', u'fuses', u'bases', u'uses', u'abuses'])\n",
        "[u'topkick-sized']"
       ]
      },
      {
       "output_type": "stream",
       "stream": "stdout",
       "text": [
        "\n",
        "set([u'tracks', u'trunks', u'truck', u'tricks'])\n",
        "set([u'tracks', u'trunks', u'truck', u'tricks'])\n",
        "[u'lawnmowers']"
       ]
      },
      {
       "output_type": "stream",
       "stream": "stdout",
       "text": [
        "\n",
        "set([u'aisle', u'isles'])\n",
        "[u'claustrophobic']"
       ]
      },
      {
       "output_type": "stream",
       "stream": "stdout",
       "text": [
        "\n",
        "set([u'cramp', u'carp', u'cap', u'crop', u'chap', u'trap', u'crab', u'wrap', u'scrap'])\n",
        "set([u'smart'])"
       ]
      },
      {
       "output_type": "stream",
       "stream": "stdout",
       "text": [
        "\n",
        "set([u'spice'])\n",
        "set([u'nobles', u'needles', u'nodules', u'nodes', u'nobodies'])"
       ]
      },
      {
       "output_type": "stream",
       "stream": "stdout",
       "text": [
        "\n",
        "set([u'mange'])\n",
        "set([u'thaw', u'than', u'that'])\n",
        "set([u'bargain'])\n",
        "set([u'spy', u'span', u'sha', u'pa', u'sea', u'spas', u'sa', u'sap', u'spat'])\n",
        "[u'camelback']"
       ]
      },
      {
       "output_type": "stream",
       "stream": "stdout",
       "text": [
        "\n",
        "set([u'renown'])"
       ]
      },
      {
       "output_type": "stream",
       "stream": "stdout",
       "text": [
        "\n",
        "[u'camelback']"
       ]
      },
      {
       "output_type": "stream",
       "stream": "stdout",
       "text": [
        "\n",
        "[u'landscaping']"
       ]
      },
      {
       "output_type": "stream",
       "stream": "stdout",
       "text": [
        "\n",
        "set([u'pasty', u'taste', u'nasty', u'hasty'])\n",
        "set([u'shower'])\n",
        "set([u'schedule'])"
       ]
      },
      {
       "output_type": "stream",
       "stream": "stdout",
       "text": [
        "\n",
        "set([u'keg', u'keys', u'legs', u'pegs'])\n",
        "set([u'pm'])\n",
        "set([u'serves', u'server'])\n",
        "set([u'pasty', u'taste', u'nasty', u'hasty'])\n",
        "set([u'temps', u'tempt', u'temple', u'temper'])\n",
        "set([u'temps', u'tempt', u'temple', u'temper'])\n",
        "set([u'portions.', u'option', u'onions.', u'optional', u'rations.', u'opinions.', u'actions.', u'nations.'])"
       ]
      },
      {
       "output_type": "stream",
       "stream": "stdout",
       "text": [
        "\n",
        "set([u'quicker.', u'quicker', u'juice.', u'quick.'])"
       ]
      },
      {
       "output_type": "stream",
       "stream": "stdout",
       "text": [
        "\n",
        "set([u'suis', u'rush', u'tushin', u'susan', u'lush', u'aussi', u'sasha', u'hush', u'bush', u'gush', u'push', u'such', u'sash', u'bushy'])"
       ]
      },
      {
       "output_type": "stream",
       "stream": "stdout",
       "text": [
        "\n",
        "set([u'damage'])"
       ]
      },
      {
       "output_type": "stream",
       "stream": "stdout",
       "text": [
        "\n",
        "set([u'feel', u'el', u'del', u'heel'])\n",
        "set([u'grizzled'])\n",
        "set([u'fish'])\n",
        "set([u'whitish'])"
       ]
      },
      {
       "output_type": "stream",
       "stream": "stdout",
       "text": [
        "\n",
        "[u'macadamia']"
       ]
      },
      {
       "output_type": "stream",
       "stream": "stdout",
       "text": [
        "\n",
        "set([u'varnish.'])\n",
        "set([u'damage'])"
       ]
      },
      {
       "output_type": "stream",
       "stream": "stdout",
       "text": [
        "\n",
        "set([u'pasty', u'taste', u'nasty', u'hasty'])\n",
        "set([u'walnut', u'walnuts'])"
       ]
      },
      {
       "output_type": "stream",
       "stream": "stdout",
       "text": [
        "\n",
        "[u'aftertaste']"
       ]
      },
      {
       "output_type": "stream",
       "stream": "stdout",
       "text": [
        "\n",
        "set([u'diffused', u'diffuse'])\n",
        "set([u'teach'])"
       ]
      },
      {
       "output_type": "stream",
       "stream": "stdout",
       "text": [
        "\n",
        "set([u'restaurant'])"
       ]
      },
      {
       "output_type": "stream",
       "stream": "stdout",
       "text": [
        "\n",
        "set([u'kits', u'rats', u'mats', u'oats', u'hats', u'eats', u'fats', u'cats', u'kate', u'katie'])"
       ]
      },
      {
       "output_type": "stream",
       "stream": "stdout",
       "text": [
        "\n",
        "set([u'grizzled'])\n",
        "set([u'vinegar'])\n",
        "set([u'overwhelming'])\n",
        "set([u'gaining', u'wagging', u'waging', u'grudging', u'raging', u'gazing', u'daubing', u'galling', u'banging', u'hauling', u'pausing', u'causing', u'laughing', u'lagging', u'hanging', u'gaping', u'gasping', u'ranging'])"
       ]
      },
      {
       "output_type": "stream",
       "stream": "stdout",
       "text": [
        "\n",
        "[u'iceberg']"
       ]
      },
      {
       "output_type": "stream",
       "stream": "stdout",
       "text": [
        "\n",
        "set([u'lecture'])"
       ]
      },
      {
       "output_type": "stream",
       "stream": "stdout",
       "text": [
        "\n",
        "set([u'mist', u'miss', u'mio'])\n",
        "set([u'salt', u'sally', u'salts'])\n",
        "set([u'taft', u'tone', u'toss', u'tu', u'tons', u'tafa', u'toys', u'tony', u'tore', u'toy', u'tuft', u'top', u'torn', u'tow', u'to', u'toi', u'ton', u'too', u'tom', u'you', u'tory', u'toe', u'toes', u'tool', u'toll', u'tops', u'took', u'ou', u'town', u'off', u'thou', u'sofa', u'tour', u'tout', u'oft', u'of', u'toil', u'tomb', u'told', u'soft'])"
       ]
      },
      {
       "output_type": "stream",
       "stream": "stdout",
       "text": [
        "\n",
        "[u'waitstaff']"
       ]
      },
      {
       "output_type": "stream",
       "stream": "stdout",
       "text": [
        "\n",
        "set([u'grm.', u'am.', u'dim.', u'sum.', u'mm.', u'pmb', u'rim.', u'up.', u'cm.', u'm.', u'spy.', u'him.', u'aim.', u'dam.', u'pm', u'dem.', u'apt.', u'pp.', u'rum.', u'arm.', u'5.', u'hum.', u'wm.', u'ulm.', u'p.', u'gem.', u'pa.'])"
       ]
      },
      {
       "output_type": "stream",
       "stream": "stdout",
       "text": [
        "\n",
        "set([u'thankful'])"
       ]
      },
      {
       "output_type": "stream",
       "stream": "stdout",
       "text": [
        "\n",
        "set([u'rag', u'ran', u'ca', u'ram', u'raw', u'rat', u'ar', u'ras', u'ray', u'la', u'na', u'rd', u're', u'pa', u'ta', u'wa', u'da', u'ha', u'ja', u'a', u'ka', u'ma', u'r', u'era', u'sa'])\n",
        "set([u'bearing.'])\n",
        "set([u'definitely'])\n",
        "set([u'suis', u'rush', u'tushin', u'susan', u'lush', u'aussi', u'sasha', u'hush', u'bush', u'gush', u'push', u'such', u'sash', u'bushy'])"
       ]
      },
      {
       "output_type": "stream",
       "stream": "stdout",
       "text": [
        "\n",
        "set([u'o.', u'ok', u'oak.', u'oz.', u'of.', u'k.', u'oka', u'on.'])\n",
        "set([u'robe'])\n",
        "set([u'med.', u'men.', u'me.', u'met.'])\n",
        "set([u'decorum.', u'dec.', u'deacon.', u'decorum', u'door.', u'record.', u'decay.', u'record', u'depot.', u'sector.', u'doctor.', u'dear.'])"
       ]
      },
      {
       "output_type": "stream",
       "stream": "stdout",
       "text": [
        "\n",
        "[u'cinnamon']"
       ]
      },
      {
       "output_type": "stream",
       "stream": "stdout",
       "text": [
        "\n",
        "[u'awesome']"
       ]
      },
      {
       "output_type": "stream",
       "stream": "stdout",
       "text": [
        "\n",
        "set([u'wing.', u'dying.', u'ici.', u'going.', u'pacing.', u'lying.', u'living.', u'rising.', u'firing.', u'tiling.', u'king.', u'itching.', u'icons.', u'doing.', u'riding.', u'wiping.', u'wincing.', u'being.', u'hiding.', u'lining.', u'mining.', u'ring.', u'thing.', u'aiming.', u'icon.', u'sing.', u'liking.', u'swing.'])"
       ]
      },
      {
       "output_type": "stream",
       "stream": "stdout",
       "text": [
        "\n",
        "set([u'touch'])"
       ]
      },
      {
       "output_type": "stream",
       "stream": "stdout",
       "text": [
        "\n",
        "[u'brizza']"
       ]
      },
      {
       "output_type": "stream",
       "stream": "stdout",
       "text": [
        "\n",
        "set([u'spectacular'])\n",
        "set([u'began'])\n",
        "set([u'branch', u'bunch'])\n",
        "set([u'amazing'])"
       ]
      },
      {
       "output_type": "stream",
       "stream": "stdout",
       "text": [
        "\n",
        "[u'baguettes']"
       ]
      },
      {
       "output_type": "stream",
       "stream": "stdout",
       "text": [
        "\n",
        "set([u'1.5', u'150'])\n",
        "set([u'professional.'])"
       ]
      },
      {
       "output_type": "stream",
       "stream": "stdout",
       "text": [
        "\n",
        "[u'hamburgers']"
       ]
      },
      {
       "output_type": "stream",
       "stream": "stdout",
       "text": [
        "\n",
        "set([u'burgher'])\n",
        "set([u'burghers', u'murder.', u'forger.', u'border.', u'barter.', u'hunger.', u'burgled.', u'larger.', u'turner.', u'surgery.', u'burgher', u'burgess', u'budge.', u'burden.', u'surgery', u'burned.', u'barber.'])"
       ]
      },
      {
       "output_type": "stream",
       "stream": "stdout",
       "text": [
        "\n",
        "set([u'beating.', u'sweating.', u'seating', u'eating.'])\n",
        "set([u'anyway'])\n",
        "set([u'burgher'])\n",
        "set([u'panic.', u'pains.', u'panins', u'pain.', u'pacing.', u'paint.'])"
       ]
      },
      {
       "output_type": "stream",
       "stream": "stdout",
       "text": [
        "\n",
        "set([u'dries', u'furies', u'frees', u'flies', u'tries', u'cries', u'fires', u'frise', u'fried'])\n",
        "set([u'dries', u'furies', u'frees', u'flies', u'tries', u'cries', u'fires', u'frise', u'fried'])"
       ]
      },
      {
       "output_type": "stream",
       "stream": "stdout",
       "text": [
        "\n",
        "set([u'anyway'])\n",
        "set([u'special'])\n",
        "set([u'ix', u'six', u'eh', u'pin', u'p', u'ah', u'pot', u'tax', u'pie', u'pop', u'sex', u'xx', u'ch', u'ex', u'pmb', u'ax', u'pit', u'chi', u'per', u'pp', u'pas', u'pat', u'sha', u'apex', u'peu', u'fix', u'pew', u'fox', u'oh', u'vex', u'pes', u'mix', u'pen', u'pa', u'pad', u'pg', u'th', u'pe', u'xix', u'aux', u'peg', u'pal', u'pea', u'pan', u'pm', u'pay', u'fax', u'who', u'pig', u'pro', u'paw', u'par', u'max', u'xxx', u'pua', u'ply', u'hi', u'lax', u'pub', u'hm', u'put', u'he', u'ha', u'oho', u'why', u'pwh', u'pus', u'box', u'aix', u'thy', u'po', u'shy', u'the', u'phil', u'ox', u'pet', u'dix', u'she', u'cox', u'x', u'wax', u'h', u'ho'])"
       ]
      },
      {
       "output_type": "stream",
       "stream": "stdout",
       "text": [
        "\n",
        "set([u'ac', u'duc', u'sac', u'nan', u'nut', u'nur', u'nun', u'cy', u'arc', u'nee', u'vy', u'ay', u'nag', u'any', u'nap', u'ni', u'abc', u'nl', u'nm', u'no', u'aye', u'na', u'ned', u'rye', u'nd', u'ne', u'sic', u'nick', u'icy', u'tic', u'ney', u'eye', u'rec', u'net', u'bye', u'nice', u'nip', u'nom', u'non', u'bc', u'nod', u'ye', u'nays', u'ly', u'new', u'not', u'dye', u'nov', u'now', u'by', u'nor', u'nos', u'c', u'nay', u'neck', u'ty', u'mac', u'n', u'etc', u'y', u'dec', u'my'])\n",
        "set([u'ram', u'nm', u'rum', u'm', u'mr', u'am', u'km', u'rd', u're', u'r', u'hm', u'rim', u'grm', u'arm', u'pm'])\n",
        "set([u'agree.', u'agrees'])\n",
        "set([u'reviews', u'review.'])"
       ]
      },
      {
       "output_type": "stream",
       "stream": "stdout",
       "text": [
        "\n",
        "set([u'reviews', u'revelers', u'reviewed'])"
       ]
      },
      {
       "output_type": "stream",
       "stream": "stdout",
       "text": [
        "\n",
        "[u'steakhouse']"
       ]
      },
      {
       "output_type": "stream",
       "stream": "stdout",
       "text": [
        "\n",
        "[u'scottsdale.']"
       ]
      },
      {
       "output_type": "stream",
       "stream": "stdout",
       "text": [
        "\n",
        "set([u'streak', u'steal', u'stead', u'steam', u'speak'])\n",
        "set([u'stick'])"
       ]
      },
      {
       "output_type": "stream",
       "stream": "stdout",
       "text": [
        "\n",
        "[u'oak-filled']"
       ]
      },
      {
       "output_type": "stream",
       "stream": "stdout",
       "text": [
        "\n",
        "[u'overstuffed']"
       ]
      },
      {
       "output_type": "stream",
       "stream": "stdout",
       "text": [
        "\n",
        "set([u'hall.', u'all.', u'fall.', u'wall.', u'mill.', u'mall', u'call.', u'ball.', u'small.'])\n",
        "set([u'wo', u'w', u'we', u'wa', u'/'])\n",
        "set([u'male', u'ample'])\n",
        "set([u'blaze.', u'glazed', u'glare.', u'gaze.'])\n",
        "set([u'combs', u'comb'])\n",
        "set([u'glare', u'glade', u'graze', u'gaze', u'blaze', u'glazed'])\n",
        "set([u'daytime'])"
       ]
      },
      {
       "output_type": "stream",
       "stream": "stdout",
       "text": [
        "\n",
        "set([u'faro', u'girt', u'hero', u'zero', u'garb', u'pro', u'gare', u'fro', u'byron', u'byrom', u'germ', u'gird', u'lyre', u'tyre', u'gory', u'go', u'gros', u'girl', u'grm', u'grow'])"
       ]
      },
      {
       "output_type": "stream",
       "stream": "stdout",
       "text": [
        "\n",
        "set([u'pity', u'pits', u'pit', u'pitt'])\n",
        "set([u'oho', u'pro', u'oris', u'morio', u'rio', u'fro', u'forgo', u'otto', u'oo', u'ord', u'ore', u'orb', u'orel', u'porto', u'erza', u'orlov', u'oral', u'borzoi', u'ooze', u'ohio', u'onto', u'or', u'ores'])"
       ]
      },
      {
       "output_type": "stream",
       "stream": "stdout",
       "text": [
        "\n",
        "set([u'relate', u'plato', u'gelatin'])"
       ]
      },
      {
       "output_type": "stream",
       "stream": "stdout",
       "text": [
        "\n",
        "set([u'rite'])\n",
        "[u'camelback']"
       ]
      },
      {
       "output_type": "stream",
       "stream": "stdout",
       "text": [
        "\n",
        "[u'hot-spot']"
       ]
      },
      {
       "output_type": "stream",
       "stream": "stdout",
       "text": [
        "\n",
        "set([u'local'])\n",
        "[u'camelback']"
       ]
      },
      {
       "output_type": "stream",
       "stream": "stdout",
       "text": [
        "\n",
        "set([u'rite'])\n",
        "[u'camelback']"
       ]
      },
      {
       "output_type": "stream",
       "stream": "stdout",
       "text": [
        "\n",
        "set([u'ratio'])\n",
        "set([u'rite'])\n",
        "set([u'prices.', u'price.'])\n",
        "set([u'buffets'])\n",
        "set([u'omelet'])\n",
        "set([u'pancake'])\n",
        "set([u'baffled', u'wales'])"
       ]
      },
      {
       "output_type": "stream",
       "stream": "stdout",
       "text": [
        "\n",
        "set([u'vestries', u'pastures', u'castres', u'patties', u'parties'])"
       ]
      },
      {
       "output_type": "stream",
       "stream": "stdout",
       "text": [
        "\n",
        "[u'hashbrowns.']"
       ]
      },
      {
       "output_type": "stream",
       "stream": "stdout",
       "text": [
        "\n",
        "set([u'buffets'])\n",
        "set([u'branch', u'bunch'])\n",
        "set([u'mold', u'mole', u'holy'])\n",
        "set([u'cow', u'wo', u'vow', u'tow', u'bow', u'how', u'won', u'low', u'sow', u'woe', u'now', u'row'])\n",
        "set([u'ratio'])\n",
        "set([u'roar', u'bar', u'rear'])"
       ]
      },
      {
       "output_type": "stream",
       "stream": "stdout",
       "text": [
        "\n",
        "[u'build-your-own']"
       ]
      },
      {
       "output_type": "stream",
       "stream": "stdout",
       "text": [
        "\n",
        "set([u'sundays'])\n",
        "set([u'mountain.', u'fountain'])\n",
        "set([u'tasks', u'taras', u'bacon', u'tabor', u'facts', u'tracts', u'sacs', u'talks', u'lacks', u'tache', u'acts', u'takes', u'tales', u'packs', u'backs', u'tabes', u'jacks', u'tags', u'tact', u'tacit', u'tracks', u'races', u'tails', u'tanks', u'jacob', u'cos', u'tapes', u'sacks', u'paces', u'taxes', u'stacks', u'tack', u'faces', u'amos', u'traces', u'twos'])"
       ]
      },
      {
       "output_type": "stream",
       "stream": "stdout",
       "text": [
        "\n",
        "set([u'sandwich'])\n",
        "set([u'dries', u'furies', u'frees', u'flies', u'tries', u'cries', u'fires', u'frise', u'fried'])\n",
        "set([u'pasty', u'taste', u'nasty', u'hasty'])\n",
        "set([u'ratio'])\n",
        "set([u'mountains', u'fountain'])\n",
        "[u'tropical/desert']"
       ]
      },
      {
       "output_type": "stream",
       "stream": "stdout",
       "text": [
        "\n",
        "[u'15-20min']"
       ]
      },
      {
       "output_type": "stream",
       "stream": "stdout",
       "text": [
        "\n",
        "set([u'min'])"
       ]
      },
      {
       "output_type": "stream",
       "stream": "stdout",
       "text": [
        "\n",
        "set([u'booths.', u'both.', u'boots.', u'boot.', u'booth', u'tooth.'])\n",
        "set([u'min'])"
       ]
      },
      {
       "output_type": "stream",
       "stream": "stdout",
       "text": [
        "\n",
        "set([u'cow', u'wo', u'vow', u'tow', u'bow', u'how', u'won', u'low', u'sow', u'woe', u'now', u'row'])\n",
        "set([u'appetite'])"
       ]
      },
      {
       "output_type": "stream",
       "stream": "stdout",
       "text": [
        "\n",
        "set([u'delirious.', u'delicious'])\n",
        "set([u'node', u'noble', u'needle', u'nodule', u'goodly', u'goodge', u'noose'])"
       ]
      },
      {
       "output_type": "stream",
       "stream": "stdout",
       "text": [
        "\n",
        "set([u'thought', u'thought.', u'though', u'trough.', u'thwough.', u'through.'])\n",
        "[u'awesome']"
       ]
      },
      {
       "output_type": "stream",
       "stream": "stdout",
       "text": [
        "\n",
        "set([u'heart', u'matt', u'halt', u'hatty', u'hat', u'hats', u'heath', u'platt', u'hath', u'heat', u'watt', u'hast', u'hata', u'hart', u'hate'])"
       ]
      },
      {
       "output_type": "stream",
       "stream": "stdout",
       "text": [
        "\n",
        "set([u'gained', u'gainer'])\n",
        "set([u'sob', u'sub', u'swab'])\n",
        "set([u'kinds.', u'lids.', u'kiss.'])\n",
        "set([u'calomel', u'carrel', u'camel'])"
       ]
      },
      {
       "output_type": "stream",
       "stream": "stdout",
       "text": [
        "\n",
        "set([u'tat', u'taft', u'art', u'bart', u'tar', u'wart', u'tact', u'cart', u'dart', u'start', u'part', u'taut', u'hart'])\n",
        "set([u'dessert', u'deserts'])\n",
        "set([u'restaurant'])\n",
        "[u'80/10/10']"
       ]
      },
      {
       "output_type": "stream",
       "stream": "stdout",
       "text": [
        "\n",
        "[u'veggies']"
       ]
      },
      {
       "output_type": "stream",
       "stream": "stdout",
       "text": [
        "\n",
        "set([u'nobles', u'needles', u'nodules', u'nodes', u'nobodies'])"
       ]
      },
      {
       "output_type": "stream",
       "stream": "stdout",
       "text": [
        "\n",
        "[u'chicken-turkey']"
       ]
      },
      {
       "output_type": "stream",
       "stream": "stdout",
       "text": [
        "\n",
        "[u'veggies']"
       ]
      },
      {
       "output_type": "stream",
       "stream": "stdout",
       "text": [
        "\n",
        "set([u'nobles', u'needles', u'nodules', u'nodes', u'nobodies'])"
       ]
      },
      {
       "output_type": "stream",
       "stream": "stdout",
       "text": [
        "\n",
        "set([u'brims', u'rim.', u'brim'])\n",
        "set([u'filled.', u'trilled', u'grieved.', u'tilled.', u'drilled', u'killed.'])"
       ]
      },
      {
       "output_type": "stream",
       "stream": "stdout",
       "text": [
        "\n",
        "set([u'pineapples', u'pineapples.', u'pineapple'])\n",
        "set([u'val', u'car', u'ca', u'cap', u'al', u'cat', u'coal', u'gal', u'call', u'calm', u'carl', u'cab', u'mal', u'pal', u'col', u'calf', u'can'])\n",
        "set([u'lemonade'])\n",
        "set([u'chew', u'cow', u'show', u'crow', u'chop', u'how'])\n",
        "set([u'c', u'bc', u'ye', u'ac', u'cy', u'y'])\n",
        "set([u'indoor', u'ardor', u'candor', u'anchor', u'andros'])"
       ]
      },
      {
       "output_type": "stream",
       "stream": "stdout",
       "text": [
        "\n",
        "set([u'erie', u'eric'])\n",
        "set([u'choicest', u'choice'])\n",
        "set([u'erie', u'eric'])\n",
        "set([u'cord', u'cop', u'cos', u'code', u'co', u'cot', u'cow', u'cob', u'nod', u'god', u'rod', u'cor', u'cond', u'cox', u'cold', u'con', u'col', u'cody'])\n",
        "set([u'sauce', u'fauces', u'saucer'])\n",
        "set([u'gums', u'guy', u'guns'])\n",
        "set([u'eva'])\n",
        "set([u'cooper', u'cooled'])\n",
        "set([u'pans', u'panes', u'pangs', u'pints', u'ants', u'wants', u'plants', u'parts'])\n",
        "set([u'assess', u'obsessed', u'possessed', u'assessor', u'assented', u'accessed', u'asserted', u'assisted'])"
       ]
      },
      {
       "output_type": "stream",
       "stream": "stdout",
       "text": [
        "\n",
        "set([u'personate', u'personal', u'personage', u'seasonable', u'reasonable', u'personally'])"
       ]
      },
      {
       "output_type": "stream",
       "stream": "stdout",
       "text": [
        "\n",
        "set([u'intensive', u'intrusion'])"
       ]
      },
      {
       "output_type": "stream",
       "stream": "stdout",
       "text": [
        "\n",
        "set([u'gums', u'guy', u'guns'])\n",
        "[u'623-977-4458']"
       ]
      },
      {
       "output_type": "stream",
       "stream": "stdout",
       "text": [
        "\n",
        "set([u'plunging', u'climbing', u'clubbing', u'plugging', u'plucking'])"
       ]
      },
      {
       "output_type": "stream",
       "stream": "stdout",
       "text": [
        "\n",
        "[u'pastrami']"
       ]
      },
      {
       "output_type": "stream",
       "stream": "stdout",
       "text": [
        "\n",
        "set([u'crisply', u'crisp'])\n",
        "set([u'dries', u'furies', u'frees', u'flies', u'tries', u'cries', u'fires', u'frise', u'fried'])\n",
        "set([u'ices', u'ice', u'icel'])\n",
        "set([u'35.', u'3.', u'35'])\n",
        "set([u'bounding', u'sounding', u'founding', u'wounding'])\n",
        "set([u'carree', u'cares', u'caprice', u'caress', u'capers', u'capless'])"
       ]
      },
      {
       "output_type": "stream",
       "stream": "stdout",
       "text": [
        "\n",
        "set([u'pasty', u'taste', u'nasty', u'hasty'])\n",
        "set([u'burgher'])\n",
        "set([u'nom', u'mop', u'mot', u'mmm', u'mon', u'tom', u'mob'])\n",
        "set([u'burghers', u'murder.', u'forger.', u'border.', u'barter.', u'hunger.', u'burgled.', u'larger.', u'turner.', u'surgery.', u'burgher', u'burgess', u'budge.', u'burden.', u'surgery', u'burned.', u'barber.'])"
       ]
      },
      {
       "output_type": "stream",
       "stream": "stdout",
       "text": [
        "\n",
        "set([u'juice'])\n",
        "set([u'dupe', u'dupes', u'super'])\n",
        "set([u'dupe', u'dupes', u'super'])\n",
        "set([u'less.', u'miss.', u'mercy.', u'mess', u'merry.', u'missy', u'messrs.', u'mass.', u'easy.'])"
       ]
      },
      {
       "output_type": "stream",
       "stream": "stdout",
       "text": [
        "\n",
        "set([u'burghers', u'murder.', u'forger.', u'border.', u'barter.', u'hunger.', u'burgled.', u'larger.', u'turner.', u'surgery.', u'burgher', u'burgess', u'budge.', u'burden.', u'surgery', u'burned.', u'barber.'])"
       ]
      },
      {
       "output_type": "stream",
       "stream": "stdout",
       "text": [
        "\n",
        "set([u'tomato'])"
       ]
      },
      {
       "output_type": "stream",
       "stream": "stdout",
       "text": [
        "\n",
        "set([u'reasoning.'])\n",
        "set([u'nom', u'mop', u'mot', u'mmm', u'mon', u'tom', u'mob'])\n",
        "set([u'duly', u'dale', u'day', u'davy', u'daily'])\n",
        "set([u'perch', u'peace', u'reach', u'each', u'teach', u'beach', u'preach'])\n",
        "set([u'refreshing'])\n",
        "set([u'wolf.', u'golf', u'gold.', u'gulf.'])\n",
        "set([u'water', u'mater', u'later', u'cater', u'taper'])\n",
        "set([u'dots', u'toes', u'lots', u'toss', u'pots', u'tons', u'mots', u'sots', u'toys', u'tops'])\n",
        "set([u'sandwiched'])\n",
        "set([u'special'])\n",
        "set([u'frenchy', u'crutch'])"
       ]
      },
      {
       "output_type": "stream",
       "stream": "stdout",
       "text": [
        "\n",
        "set([u'expected'])\n",
        "set([u'ruffle'])\n",
        "set([u'dots', u'toes', u'lots', u'toss', u'pots', u'tons', u'mots', u'sots', u'toys', u'tops'])\n",
        "set([u'pelisses', u'perishes', u'relish', u'relieves'])"
       ]
      },
      {
       "output_type": "stream",
       "stream": "stdout",
       "text": [
        "\n",
        "set([u\"'on\", u'ok', u\"'oh\", u\"'or\"])\n",
        "set([u'impressed'])\n",
        "set([u'unfordable'])"
       ]
      },
      {
       "output_type": "stream",
       "stream": "stdout",
       "text": [
        "\n",
        "set([u'therapy'])\n",
        "[u'professionalism']"
       ]
      },
      {
       "output_type": "stream",
       "stream": "stdout",
       "text": [
        "\n",
        "set([u'danube', u'dance', u'donne', u'daniel', u'dandin', u'dane', u'dandies', u'anne', u'danzig'])"
       ]
      },
      {
       "output_type": "stream",
       "stream": "stdout",
       "text": [
        "\n",
        "set([u'apex', u'flex', u'ale'])\n",
        "[u'knowledgeable']"
       ]
      },
      {
       "output_type": "stream",
       "stream": "stdout",
       "text": [
        "\n",
        "set([u'stole.', u'stores', u'stove.', u'story.', u'stowe.', u'storm.', u'stored', u'sore.', u'stone.', u'store'])\n",
        "set([u'apex', u'flex', u'ale'])\n",
        "set([u'branch', u'bunch'])\n",
        "[u'nachos.']"
       ]
      },
      {
       "output_type": "stream",
       "stream": "stdout",
       "text": [
        "\n",
        "set([u'omit', u'am.', u'fig.', u'rag.', u'one.', u'me.', u'pig.', u'nag.', u'mm.', u'rome.', u'cms.', u'cm.', u'song.', u'come.', u'mob.', u'own.', u'm.', u'of.', u'dug.', u'ovo.', u'oz.', u'mr.', u'some.', u'mt.', u'home.', u'tug.', u'rug.', u'on.', u'o.', u'go.', u'egg.', u'long.', u'log.', u'g.', u'ogg', u'bog.', u'off.', u'dog.', u'wig.', u'omen', u'leg.', u'oak.', u'olga', u'oil.', u'wag.', u'gig.', u'big.', u'wm.', u'bag.', u'out.', u'old.'])"
       ]
      },
      {
       "output_type": "stream",
       "stream": "stdout",
       "text": [
        "\n",
        "set([u'cheese'])\n",
        "set([u'horizon'])"
       ]
      },
      {
       "output_type": "stream",
       "stream": "stdout",
       "text": [
        "\n",
        "set([u'eggs', u'egg.'])\n",
        "set([u'pick.', u'rico.'])\n",
        "set([u'gray', u'grady', u'grave'])\n",
        "set([u'flogging', u'login', u'logging'])"
       ]
      },
      {
       "output_type": "stream",
       "stream": "stdout",
       "text": [
        "\n",
        "set([u'mummy', u'dummy'])"
       ]
      },
      {
       "output_type": "stream",
       "stream": "stdout",
       "text": [
        "\n",
        "set([u'now.', u'row.', u'blow.', u'law.', u'bow.', u'flow.', u'low', u'log.', u'plow.', u'glow.', u'how.', u'slow.', u'lows'])\n",
        "set([u'absence.', u'audience.'])"
       ]
      },
      {
       "output_type": "stream",
       "stream": "stdout",
       "text": [
        "\n",
        "set([u'kinds', u'bids', u'kits', u'kiss', u'aids', u'lids', u'kid'])\n",
        "set([u'kinds', u'bids', u'kits', u'kiss', u'aids', u'lids', u'kid'])\n",
        "set([u'gone', u'gown', u'non', u'gong', u'don', u'on', u'hon', u'god', u'von', u'gun', u'son', u'yon', u'ion', u'won', u'ton', u'mon', u'gin', u'go', u'got', u'gen', u'con'])\n",
        "set([u'impressed'])\n",
        "set([u'floppy'])\n",
        "set([u'looking.'])\n",
        "set([u'sandwiched'])\n",
        "set([u'liza', u'dizzy', u'penza'])"
       ]
      },
      {
       "output_type": "stream",
       "stream": "stdout",
       "text": [
        "\n",
        "set([u'quincy', u'quarry', u'quire', u'quickly', u'quires', u'quinsy', u'murky', u'quick', u'query'])"
       ]
      },
      {
       "output_type": "stream",
       "stream": "stdout",
       "text": [
        "\n",
        "set([u'actress', u'witness', u'mattress'])"
       ]
      },
      {
       "output_type": "stream",
       "stream": "stdout",
       "text": [
        "\n",
        "set([u'preoccupied'])\n",
        "set([u'chef', u'chew', u'cher'])\n",
        "set([u'olive', u'oliver', u'lives'])\n",
        "set([u'come.', u'joke.', u'cake.'])\n",
        "set([u'ate', u'am', u'aim', u'at', u'atom', u'arm'])\n",
        "set([u'a', u'ac', u'ab', u'ad', u'ai', u'ah', u'ak', u'am', u'al', u'an', u'as', u'ar', u'au', u'at', u'ay', u'ax', u'z'])\n",
        "set([u'chef', u'chew', u'cher'])\n",
        "[u'symphony']"
       ]
      },
      {
       "output_type": "stream",
       "stream": "stdout",
       "text": [
        "\n",
        "set([u'a', u'ac', u'ab', u'ad', u'ai', u'ah', u'ak', u'am', u'al', u'an', u'as', u'ar', u'au', u'at', u'ay', u'ax', u'z'])\n",
        "[u'giselle.']"
       ]
      },
      {
       "output_type": "stream",
       "stream": "stdout",
       "text": [
        "\n",
        "set([u'gibe', u'vive', u'vile', u'vie', u'vice', u'vine', u'vise'])\n",
        "set([u'haney', u'hanna', u'handy', u'fanny'])\n",
        "set([u'sexe', u'sex'])\n",
        "set([u'gibe', u'vive', u'vile', u'vie', u'vice', u'vine', u'vise'])"
       ]
      },
      {
       "output_type": "stream",
       "stream": "stdout",
       "text": [
        "\n",
        "set([u'post.', u'pose.'])\n",
        "[u'roommate']"
       ]
      },
      {
       "output_type": "stream",
       "stream": "stdout",
       "text": [
        "\n",
        "[u'bruscetta']"
       ]
      },
      {
       "output_type": "stream",
       "stream": "stdout",
       "text": [
        "\n",
        "set([u'margaret'])"
       ]
      },
      {
       "output_type": "stream",
       "stream": "stdout",
       "text": [
        "\n",
        "[u'pizza.']"
       ]
      },
      {
       "output_type": "stream",
       "stream": "stdout",
       "text": [
        "\n",
        "[u'bruscetta']"
       ]
      },
      {
       "output_type": "stream",
       "stream": "stdout",
       "text": [
        "\n",
        "set([u'salter'])\n",
        "set([u'perish.', u'delight.', u'delight', u'selfish.', u'relish', u'dish.'])"
       ]
      },
      {
       "output_type": "stream",
       "stream": "stdout",
       "text": [
        "\n",
        "set([u'liza', u'dizzy', u'penza'])"
       ]
      },
      {
       "output_type": "stream",
       "stream": "stdout",
       "text": [
        "\n",
        "set([u'corded', u'worded', u'order'])\n",
        "set([u'drink.', u'drinks'])\n",
        "set([u'corded', u'worded', u'order'])\n",
        "set([u'perch', u'peace', u'reach', u'each', u'teach', u'beach', u'preach'])\n",
        "set([u'martin'])\n",
        "[u'giseling.']"
       ]
      },
      {
       "output_type": "stream",
       "stream": "stdout",
       "text": [
        "\n",
        "set([u'martin'])\n",
        "set([u'syrupy'])\n",
        "set([u'martin'])\n",
        "set([u'hays', u'haney', u'hanna', u'hannah', u'hangs', u'handy', u'lannes', u'hands', u'hans', u'fanny'])"
       ]
      },
      {
       "output_type": "stream",
       "stream": "stdout",
       "text": [
        "\n",
        "[u'roommate']"
       ]
      },
      {
       "output_type": "stream",
       "stream": "stdout",
       "text": [
        "\n",
        "[u'manhattan']"
       ]
      },
      {
       "output_type": "stream",
       "stream": "stdout",
       "text": [
        "\n",
        "set([u'hays', u'haney', u'hanna', u'hannah', u'hangs', u'handy', u'lannes', u'hands', u'hans', u'fanny'])"
       ]
      },
      {
       "output_type": "stream",
       "stream": "stdout",
       "text": [
        "\n",
        "set([u'cow', u'wo', u'vow', u'tow', u'bow', u'how', u'won', u'low', u'sow', u'woe', u'now', u'row'])\n",
        "set([u'recycle'])\n",
        "set([u'cabinet'])\n",
        "[u'biglots.']"
       ]
      },
      {
       "output_type": "stream",
       "stream": "stdout",
       "text": [
        "\n",
        "[u'high-end']"
       ]
      },
      {
       "output_type": "stream",
       "stream": "stdout",
       "text": [
        "\n",
        "set([u'raced', u'fated', u'raged', u'hated', u'grated', u'rate', u'bated', u'rates', u'raved', u'razed', u'dated'])\n",
        "set([u'device', u'catiche'])"
       ]
      },
      {
       "output_type": "stream",
       "stream": "stdout",
       "text": [
        "\n",
        "set([u'purpura', u'lupus'])"
       ]
      },
      {
       "ename": "KeyboardInterrupt",
       "evalue": "",
       "output_type": "pyerr",
       "traceback": [
        "\u001b[1;31m---------------------------------------------------------------------------\u001b[0m\n\u001b[1;31mKeyboardInterrupt\u001b[0m                         Traceback (most recent call last)",
        "\u001b[1;32m<ipython-input-230-b7448c0ae792>\u001b[0m in \u001b[0;36m<module>\u001b[1;34m()\u001b[0m\n\u001b[0;32m     35\u001b[0m \u001b[1;33m\u001b[0m\u001b[0m\n\u001b[0;32m     36\u001b[0m \u001b[0mcount_vect\u001b[0m \u001b[1;33m=\u001b[0m \u001b[0mCountVectorizer\u001b[0m\u001b[1;33m(\u001b[0m\u001b[0mtokenizer\u001b[0m \u001b[1;33m=\u001b[0m \u001b[0mtokenize\u001b[0m\u001b[1;33m)\u001b[0m\u001b[1;33m\u001b[0m\u001b[0m\n\u001b[1;32m---> 37\u001b[1;33m \u001b[0mtrnginp\u001b[0m \u001b[1;33m=\u001b[0m \u001b[0mcount_vect\u001b[0m\u001b[1;33m.\u001b[0m\u001b[0mfit_transform\u001b[0m\u001b[1;33m(\u001b[0m\u001b[0mreview_df\u001b[0m\u001b[1;33m[\u001b[0m\u001b[1;34m'text'\u001b[0m\u001b[1;33m]\u001b[0m\u001b[1;33m[\u001b[0m\u001b[1;33m:\u001b[0m\u001b[1;36m1000\u001b[0m\u001b[1;33m]\u001b[0m\u001b[1;33m)\u001b[0m\u001b[1;33m\u001b[0m\u001b[0m\n\u001b[0m\u001b[0;32m     38\u001b[0m \u001b[1;33m\u001b[0m\u001b[0m\n\u001b[0;32m     39\u001b[0m \u001b[1;33m\u001b[0m\u001b[0m\n",
        "\u001b[1;32mC:\\Python27\\lib\\site-packages\\scikit_learn-0.13.1-py2.7-win32.egg\\sklearn\\feature_extraction\\text.pyc\u001b[0m in \u001b[0;36mfit_transform\u001b[1;34m(self, raw_documents, y)\u001b[0m\n\u001b[0;32m    689\u001b[0m         \u001b[1;31m# (see XXX up ahead)\u001b[0m\u001b[1;33m\u001b[0m\u001b[1;33m\u001b[0m\u001b[0m\n\u001b[0;32m    690\u001b[0m         \u001b[1;32mfor\u001b[0m \u001b[0mdoc\u001b[0m \u001b[1;32min\u001b[0m \u001b[0mraw_documents\u001b[0m\u001b[1;33m:\u001b[0m\u001b[1;33m\u001b[0m\u001b[0m\n\u001b[1;32m--> 691\u001b[1;33m             \u001b[0mterm_count_current\u001b[0m \u001b[1;33m=\u001b[0m \u001b[0mCounter\u001b[0m\u001b[1;33m(\u001b[0m\u001b[0manalyze\u001b[0m\u001b[1;33m(\u001b[0m\u001b[0mdoc\u001b[0m\u001b[1;33m)\u001b[0m\u001b[1;33m)\u001b[0m\u001b[1;33m\u001b[0m\u001b[0m\n\u001b[0m\u001b[0;32m    692\u001b[0m             \u001b[0mterm_counts\u001b[0m\u001b[1;33m.\u001b[0m\u001b[0mupdate\u001b[0m\u001b[1;33m(\u001b[0m\u001b[0mterm_count_current\u001b[0m\u001b[1;33m)\u001b[0m\u001b[1;33m\u001b[0m\u001b[0m\n\u001b[0;32m    693\u001b[0m \u001b[1;33m\u001b[0m\u001b[0m\n",
        "\u001b[1;32mC:\\Python27\\lib\\site-packages\\scikit_learn-0.13.1-py2.7-win32.egg\\sklearn\\feature_extraction\\text.pyc\u001b[0m in \u001b[0;36m<lambda>\u001b[1;34m(doc)\u001b[0m\n\u001b[0;32m    222\u001b[0m \u001b[1;33m\u001b[0m\u001b[0m\n\u001b[0;32m    223\u001b[0m             return lambda doc: self._word_ngrams(\n\u001b[1;32m--> 224\u001b[1;33m                 tokenize(preprocess(self.decode(doc))), stop_words)\n\u001b[0m\u001b[0;32m    225\u001b[0m \u001b[1;33m\u001b[0m\u001b[0m\n\u001b[0;32m    226\u001b[0m         \u001b[1;32melse\u001b[0m\u001b[1;33m:\u001b[0m\u001b[1;33m\u001b[0m\u001b[0m\n",
        "\u001b[1;32m<ipython-input-230-b7448c0ae792>\u001b[0m in \u001b[0;36mtokenize\u001b[1;34m(text)\u001b[0m\n\u001b[0;32m     21\u001b[0m     \u001b[0mresult\u001b[0m \u001b[1;33m=\u001b[0m \u001b[0mlist\u001b[0m\u001b[1;33m(\u001b[0m\u001b[1;33m)\u001b[0m\u001b[1;33m\u001b[0m\u001b[0m\n\u001b[0;32m     22\u001b[0m     \u001b[1;31m# wordcorrect for tokens\u001b[0m\u001b[1;33m\u001b[0m\u001b[1;33m\u001b[0m\u001b[0m\n\u001b[1;32m---> 23\u001b[1;33m     \u001b[0mfinallist\u001b[0m \u001b[1;33m=\u001b[0m \u001b[0mwordcorrect\u001b[0m\u001b[1;33m(\u001b[0m\u001b[0minplist\u001b[0m\u001b[1;33m)\u001b[0m\u001b[1;33m\u001b[0m\u001b[0m\n\u001b[0m\u001b[0;32m     24\u001b[0m \u001b[1;33m\u001b[0m\u001b[0m\n\u001b[0;32m     25\u001b[0m \u001b[1;33m\u001b[0m\u001b[0m\n",
        "\u001b[1;32m<ipython-input-225-e52dff4f51fe>\u001b[0m in \u001b[0;36mwordcorrect\u001b[1;34m(inplist)\u001b[0m\n\u001b[0;32m      3\u001b[0m \u001b[1;33m\u001b[0m\u001b[0m\n\u001b[0;32m      4\u001b[0m         \u001b[1;32mif\u001b[0m \u001b[0minplist\u001b[0m\u001b[1;33m[\u001b[0m\u001b[0mi\u001b[0m\u001b[1;33m]\u001b[0m \u001b[1;32mnot\u001b[0m \u001b[1;32min\u001b[0m \u001b[0mNWORDS\u001b[0m\u001b[1;33m:\u001b[0m\u001b[1;33m\u001b[0m\u001b[0m\n\u001b[1;32m----> 5\u001b[1;33m             \u001b[0minplist\u001b[0m\u001b[1;33m[\u001b[0m\u001b[0mi\u001b[0m\u001b[1;33m]\u001b[0m \u001b[1;33m=\u001b[0m \u001b[0mcorrect\u001b[0m\u001b[1;33m(\u001b[0m\u001b[0minplist\u001b[0m\u001b[1;33m[\u001b[0m\u001b[0mi\u001b[0m\u001b[1;33m]\u001b[0m\u001b[1;33m.\u001b[0m\u001b[0mlower\u001b[0m\u001b[1;33m(\u001b[0m\u001b[1;33m)\u001b[0m\u001b[1;33m)\u001b[0m\u001b[1;33m\u001b[0m\u001b[0m\n\u001b[0m\u001b[0;32m      6\u001b[0m         \u001b[1;32melse\u001b[0m\u001b[1;33m:\u001b[0m\u001b[1;33m\u001b[0m\u001b[0m\n\u001b[0;32m      7\u001b[0m             \u001b[0minplist\u001b[0m\u001b[1;33m[\u001b[0m\u001b[0mi\u001b[0m\u001b[1;33m]\u001b[0m \u001b[1;33m=\u001b[0m \u001b[0minplist\u001b[0m\u001b[1;33m[\u001b[0m\u001b[0mi\u001b[0m\u001b[1;33m]\u001b[0m\u001b[1;33m.\u001b[0m\u001b[0mlower\u001b[0m\u001b[1;33m(\u001b[0m\u001b[1;33m)\u001b[0m\u001b[1;33m\u001b[0m\u001b[0m\n",
        "\u001b[1;32m<ipython-input-223-e6a1cd13fd3f>\u001b[0m in \u001b[0;36mcorrect\u001b[1;34m(word)\u001b[0m\n\u001b[0;32m     14\u001b[0m \u001b[1;33m\u001b[0m\u001b[0m\n\u001b[0;32m     15\u001b[0m \u001b[1;32mdef\u001b[0m \u001b[0mcorrect\u001b[0m\u001b[1;33m(\u001b[0m\u001b[0mword\u001b[0m\u001b[1;33m)\u001b[0m\u001b[1;33m:\u001b[0m\u001b[1;33m\u001b[0m\u001b[0m\n\u001b[1;32m---> 16\u001b[1;33m     \u001b[0mcandidates\u001b[0m \u001b[1;33m=\u001b[0m \u001b[0mknown\u001b[0m\u001b[1;33m(\u001b[0m\u001b[1;33m[\u001b[0m\u001b[0mword\u001b[0m\u001b[1;33m]\u001b[0m\u001b[1;33m)\u001b[0m \u001b[1;32mor\u001b[0m \u001b[0mknown\u001b[0m\u001b[1;33m(\u001b[0m\u001b[0medits1\u001b[0m\u001b[1;33m(\u001b[0m\u001b[0mword\u001b[0m\u001b[1;33m)\u001b[0m\u001b[1;33m)\u001b[0m \u001b[1;32mor\u001b[0m \u001b[0mknown_edits2\u001b[0m\u001b[1;33m(\u001b[0m\u001b[0mword\u001b[0m\u001b[1;33m)\u001b[0m \u001b[1;32mor\u001b[0m \u001b[1;33m[\u001b[0m\u001b[0mword\u001b[0m\u001b[1;33m]\u001b[0m\u001b[1;33m\u001b[0m\u001b[0m\n\u001b[0m\u001b[0;32m     17\u001b[0m     \u001b[1;32mprint\u001b[0m \u001b[0mcandidates\u001b[0m\u001b[1;33m\u001b[0m\u001b[0m\n\u001b[0;32m     18\u001b[0m     \u001b[1;32mreturn\u001b[0m \u001b[0mmax\u001b[0m\u001b[1;33m(\u001b[0m\u001b[0mcandidates\u001b[0m\u001b[1;33m,\u001b[0m \u001b[0mkey\u001b[0m\u001b[1;33m=\u001b[0m\u001b[0mNWORDS\u001b[0m\u001b[1;33m.\u001b[0m\u001b[0mget\u001b[0m\u001b[1;33m)\u001b[0m\u001b[1;33m\u001b[0m\u001b[0m\n",
        "\u001b[1;32m<ipython-input-223-e6a1cd13fd3f>\u001b[0m in \u001b[0;36mknown_edits2\u001b[1;34m(word)\u001b[0m\n\u001b[0;32m      9\u001b[0m \u001b[1;33m\u001b[0m\u001b[0m\n\u001b[0;32m     10\u001b[0m \u001b[1;32mdef\u001b[0m \u001b[0mknown_edits2\u001b[0m\u001b[1;33m(\u001b[0m\u001b[0mword\u001b[0m\u001b[1;33m)\u001b[0m\u001b[1;33m:\u001b[0m\u001b[1;33m\u001b[0m\u001b[0m\n\u001b[1;32m---> 11\u001b[1;33m     \u001b[1;32mreturn\u001b[0m \u001b[0mset\u001b[0m\u001b[1;33m(\u001b[0m\u001b[0me2\u001b[0m \u001b[1;32mfor\u001b[0m \u001b[0me1\u001b[0m \u001b[1;32min\u001b[0m \u001b[0medits1\u001b[0m\u001b[1;33m(\u001b[0m\u001b[0mword\u001b[0m\u001b[1;33m)\u001b[0m \u001b[1;32mfor\u001b[0m \u001b[0me2\u001b[0m \u001b[1;32min\u001b[0m \u001b[0medits1\u001b[0m\u001b[1;33m(\u001b[0m\u001b[0me1\u001b[0m\u001b[1;33m)\u001b[0m \u001b[1;32mif\u001b[0m \u001b[0me2\u001b[0m \u001b[1;32min\u001b[0m \u001b[0mNWORDS\u001b[0m\u001b[1;33m)\u001b[0m\u001b[1;33m\u001b[0m\u001b[0m\n\u001b[0m\u001b[0;32m     12\u001b[0m \u001b[1;33m\u001b[0m\u001b[0m\n\u001b[0;32m     13\u001b[0m \u001b[1;32mdef\u001b[0m \u001b[0mknown\u001b[0m\u001b[1;33m(\u001b[0m\u001b[0mwords\u001b[0m\u001b[1;33m)\u001b[0m\u001b[1;33m:\u001b[0m \u001b[1;32mreturn\u001b[0m \u001b[0mset\u001b[0m\u001b[1;33m(\u001b[0m\u001b[0mw\u001b[0m \u001b[1;32mfor\u001b[0m \u001b[0mw\u001b[0m \u001b[1;32min\u001b[0m \u001b[0mwords\u001b[0m \u001b[1;32mif\u001b[0m \u001b[0mw\u001b[0m \u001b[1;32min\u001b[0m \u001b[0mNWORDS\u001b[0m\u001b[1;33m)\u001b[0m\u001b[1;33m\u001b[0m\u001b[0m\n",
        "\u001b[1;32m<ipython-input-223-e6a1cd13fd3f>\u001b[0m in \u001b[0;36m<genexpr>\u001b[1;34m((e1,))\u001b[0m\n\u001b[0;32m      9\u001b[0m \u001b[1;33m\u001b[0m\u001b[0m\n\u001b[0;32m     10\u001b[0m \u001b[1;32mdef\u001b[0m \u001b[0mknown_edits2\u001b[0m\u001b[1;33m(\u001b[0m\u001b[0mword\u001b[0m\u001b[1;33m)\u001b[0m\u001b[1;33m:\u001b[0m\u001b[1;33m\u001b[0m\u001b[0m\n\u001b[1;32m---> 11\u001b[1;33m     \u001b[1;32mreturn\u001b[0m \u001b[0mset\u001b[0m\u001b[1;33m(\u001b[0m\u001b[0me2\u001b[0m \u001b[1;32mfor\u001b[0m \u001b[0me1\u001b[0m \u001b[1;32min\u001b[0m \u001b[0medits1\u001b[0m\u001b[1;33m(\u001b[0m\u001b[0mword\u001b[0m\u001b[1;33m)\u001b[0m \u001b[1;32mfor\u001b[0m \u001b[0me2\u001b[0m \u001b[1;32min\u001b[0m \u001b[0medits1\u001b[0m\u001b[1;33m(\u001b[0m\u001b[0me1\u001b[0m\u001b[1;33m)\u001b[0m \u001b[1;32mif\u001b[0m \u001b[0me2\u001b[0m \u001b[1;32min\u001b[0m \u001b[0mNWORDS\u001b[0m\u001b[1;33m)\u001b[0m\u001b[1;33m\u001b[0m\u001b[0m\n\u001b[0m\u001b[0;32m     12\u001b[0m \u001b[1;33m\u001b[0m\u001b[0m\n\u001b[0;32m     13\u001b[0m \u001b[1;32mdef\u001b[0m \u001b[0mknown\u001b[0m\u001b[1;33m(\u001b[0m\u001b[0mwords\u001b[0m\u001b[1;33m)\u001b[0m\u001b[1;33m:\u001b[0m \u001b[1;32mreturn\u001b[0m \u001b[0mset\u001b[0m\u001b[1;33m(\u001b[0m\u001b[0mw\u001b[0m \u001b[1;32mfor\u001b[0m \u001b[0mw\u001b[0m \u001b[1;32min\u001b[0m \u001b[0mwords\u001b[0m \u001b[1;32mif\u001b[0m \u001b[0mw\u001b[0m \u001b[1;32min\u001b[0m \u001b[0mNWORDS\u001b[0m\u001b[1;33m)\u001b[0m\u001b[1;33m\u001b[0m\u001b[0m\n",
        "\u001b[1;32m<ipython-input-223-e6a1cd13fd3f>\u001b[0m in \u001b[0;36medits1\u001b[1;34m(word)\u001b[0m\n\u001b[0;32m      5\u001b[0m    \u001b[0mtransposes\u001b[0m \u001b[1;33m=\u001b[0m \u001b[1;33m[\u001b[0m\u001b[0ma\u001b[0m \u001b[1;33m+\u001b[0m \u001b[0mb\u001b[0m\u001b[1;33m[\u001b[0m\u001b[1;36m1\u001b[0m\u001b[1;33m]\u001b[0m \u001b[1;33m+\u001b[0m \u001b[0mb\u001b[0m\u001b[1;33m[\u001b[0m\u001b[1;36m0\u001b[0m\u001b[1;33m]\u001b[0m \u001b[1;33m+\u001b[0m \u001b[0mb\u001b[0m\u001b[1;33m[\u001b[0m\u001b[1;36m2\u001b[0m\u001b[1;33m:\u001b[0m\u001b[1;33m]\u001b[0m \u001b[1;32mfor\u001b[0m \u001b[0ma\u001b[0m\u001b[1;33m,\u001b[0m \u001b[0mb\u001b[0m \u001b[1;32min\u001b[0m \u001b[0msplits\u001b[0m \u001b[1;32mif\u001b[0m \u001b[0mlen\u001b[0m\u001b[1;33m(\u001b[0m\u001b[0mb\u001b[0m\u001b[1;33m)\u001b[0m\u001b[1;33m>\u001b[0m\u001b[1;36m1\u001b[0m\u001b[1;33m]\u001b[0m\u001b[1;33m\u001b[0m\u001b[0m\n\u001b[0;32m      6\u001b[0m    \u001b[0mreplaces\u001b[0m   \u001b[1;33m=\u001b[0m \u001b[1;33m[\u001b[0m\u001b[0ma\u001b[0m \u001b[1;33m+\u001b[0m \u001b[0mc\u001b[0m \u001b[1;33m+\u001b[0m \u001b[0mb\u001b[0m\u001b[1;33m[\u001b[0m\u001b[1;36m1\u001b[0m\u001b[1;33m:\u001b[0m\u001b[1;33m]\u001b[0m \u001b[1;32mfor\u001b[0m \u001b[0ma\u001b[0m\u001b[1;33m,\u001b[0m \u001b[0mb\u001b[0m \u001b[1;32min\u001b[0m \u001b[0msplits\u001b[0m \u001b[1;32mfor\u001b[0m \u001b[0mc\u001b[0m \u001b[1;32min\u001b[0m \u001b[0malphabet\u001b[0m \u001b[1;32mif\u001b[0m \u001b[0mb\u001b[0m\u001b[1;33m]\u001b[0m\u001b[1;33m\u001b[0m\u001b[0m\n\u001b[1;32m----> 7\u001b[1;33m    \u001b[0minserts\u001b[0m    \u001b[1;33m=\u001b[0m \u001b[1;33m[\u001b[0m\u001b[0ma\u001b[0m \u001b[1;33m+\u001b[0m \u001b[0mc\u001b[0m \u001b[1;33m+\u001b[0m \u001b[0mb\u001b[0m     \u001b[1;32mfor\u001b[0m \u001b[0ma\u001b[0m\u001b[1;33m,\u001b[0m \u001b[0mb\u001b[0m \u001b[1;32min\u001b[0m \u001b[0msplits\u001b[0m \u001b[1;32mfor\u001b[0m \u001b[0mc\u001b[0m \u001b[1;32min\u001b[0m \u001b[0malphabet\u001b[0m\u001b[1;33m]\u001b[0m\u001b[1;33m\u001b[0m\u001b[0m\n\u001b[0m\u001b[0;32m      8\u001b[0m    \u001b[1;32mreturn\u001b[0m \u001b[0mset\u001b[0m\u001b[1;33m(\u001b[0m\u001b[0mdeletes\u001b[0m \u001b[1;33m+\u001b[0m \u001b[0mtransposes\u001b[0m \u001b[1;33m+\u001b[0m \u001b[0mreplaces\u001b[0m \u001b[1;33m+\u001b[0m \u001b[0minserts\u001b[0m\u001b[1;33m)\u001b[0m\u001b[1;33m\u001b[0m\u001b[0m\n\u001b[0;32m      9\u001b[0m \u001b[1;33m\u001b[0m\u001b[0m\n",
        "\u001b[1;31mKeyboardInterrupt\u001b[0m: "
       ]
      },
      {
       "output_type": "stream",
       "stream": "stdout",
       "text": [
        "\n",
        "set([u'tie.', u'pit.', u'lie.', u'pie', u'pig.', u'die.', u'pipe.', u'pile.', u'pier', u'pies'])\n",
        "set([u'pasty', u'paltry', u'pantry'])\n",
        "set([u'filling.'])\n"
       ]
      }
     ],
     "prompt_number": 230
    },
    {
     "cell_type": "code",
     "collapsed": false,
     "input": [
      "testinp = list()\n",
      "newinput = review_df['text'][200:201]\n",
      "for n in newinput[]:\n",
      "    if newinput[] == trnginp[]:\n",
      "        testinp.append(1)\n",
      "    else:\n",
      "        testinp.append(0)\n",
      "if len(testinp)<len(trnginp):\n",
      "    testinp[(len(testinp)):(len(trnginp))]\n"
     ],
     "language": "python",
     "metadata": {},
     "outputs": [
      {
       "ename": "SyntaxError",
       "evalue": "invalid syntax (<ipython-input-199-5fb68175ba3d>, line 1)",
       "output_type": "pyerr",
       "traceback": [
        "\u001b[1;36m  File \u001b[1;32m\"<ipython-input-199-5fb68175ba3d>\"\u001b[1;36m, line \u001b[1;32m1\u001b[0m\n\u001b[1;33m    list newinput = review_df['text'][200:201]\u001b[0m\n\u001b[1;37m                ^\u001b[0m\n\u001b[1;31mSyntaxError\u001b[0m\u001b[1;31m:\u001b[0m invalid syntax\n"
       ]
      }
     ],
     "prompt_number": 199
    },
    {
     "cell_type": "code",
     "collapsed": false,
     "input": [
      "print trnginp.shape\n",
      "\n",
      "\n",
      "from sklearn.linear_model import LinearRegression\n",
      "\n",
      "trnglabels = review_df['useful_votes'][:1000]\n",
      "LRModel = LinearRegression()\n",
      "LRModel.fit(trnginp,trnglabels)\n",
      "modelpar = LRModel.coef_\n",
      "print min(modelpar),max(modelpar)\n",
      "\n",
      "tip = list()\n",
      "testsample = tip.append(random)\n",
      "count_vect.fit_transform(review_df['text'][100:105])\n",
      "print LRModel.predict(random)"
     ],
     "language": "python",
     "metadata": {},
     "outputs": [
      {
       "output_type": "stream",
       "stream": "stdout",
       "text": [
        "(1000, 5418)\n",
        "-1.13294795008"
       ]
      },
      {
       "output_type": "stream",
       "stream": "stdout",
       "text": [
        " 1.82146587996\n",
        "0.374496766444\n"
       ]
      }
     ],
     "prompt_number": 197
    },
    {
     "cell_type": "raw",
     "metadata": {},
     "source": [
      "Ideas:\n",
      "1. Find Best stop word method\n",
      "2. Take into account punctuation\n",
      "3. Take into account prices in reviews (eg $14.95 = $**.** for any number)\n",
      "4. n-gram v. bi-gram"
     ]
    },
    {
     "cell_type": "code",
     "collapsed": false,
     "input": [
      "index = Counter()\n",
      "prices = []\n",
      "\n",
      "#nltk.word_tokenize(raw)\n",
      "\n",
      "for row in islice(review_df.iterrows(),None):\n",
      "    for word in re.sub('\\W',\" \",row[1]['text']).split(' '):\n",
      "        if word != \"\" and word != \" \":\n",
      "            if word.lower() not in stops:\n",
      "                if '$' in word:\n",
      "                    prices.append(word)\n",
      "                else:\n",
      "                    index[word.lower()] += 1\n",
      "            "
     ],
     "language": "python",
     "metadata": {},
     "outputs": [],
     "prompt_number": 6
    },
    {
     "cell_type": "heading",
     "level": 4,
     "metadata": {},
     "source": [
      "tokenize any price using a $ (regex example)"
     ]
    },
    {
     "cell_type": "code",
     "collapsed": false,
     "input": [
      "print prices[0:10]\n",
      "print len(prices)\n",
      "\n",
      "regs = ['$$' for p in prices if re.search('^\\$?', p)]\n",
      "print regs[0:10]\n",
      "print len(regs)\n"
     ],
     "language": "python",
     "metadata": {},
     "outputs": [
      {
       "output_type": "stream",
       "stream": "stdout",
       "text": [
        "[]\n",
        "0\n",
        "[]\n",
        "0\n"
       ]
      }
     ],
     "prompt_number": 7
    },
    {
     "cell_type": "heading",
     "level": 4,
     "metadata": {},
     "source": [
      "regex to find variations of the word 'love'"
     ]
    },
    {
     "cell_type": "code",
     "collapsed": false,
     "input": [
      "loves = [ word for word in index.keys() if re.search('^l+o+v+e+$', word) or re.search('^l+u+v+$',word) or re.search('^l+o+v+$',word) ]\n",
      "print loves[:]\n",
      "print len(loves)"
     ],
     "language": "python",
     "metadata": {},
     "outputs": [
      {
       "ename": "NameError",
       "evalue": "name 'index' is not defined",
       "output_type": "pyerr",
       "traceback": [
        "\u001b[1;31m---------------------------------------------------------------------------\u001b[0m\n\u001b[1;31mNameError\u001b[0m                                 Traceback (most recent call last)",
        "\u001b[1;32m<ipython-input-57-b997dfc55fa3>\u001b[0m in \u001b[0;36m<module>\u001b[1;34m()\u001b[0m\n\u001b[1;32m----> 1\u001b[1;33m \u001b[0mloves\u001b[0m \u001b[1;33m=\u001b[0m \u001b[1;33m[\u001b[0m \u001b[0mword\u001b[0m \u001b[1;32mfor\u001b[0m \u001b[0mword\u001b[0m \u001b[1;32min\u001b[0m \u001b[0mindex\u001b[0m\u001b[1;33m.\u001b[0m\u001b[0mkeys\u001b[0m\u001b[1;33m(\u001b[0m\u001b[1;33m)\u001b[0m \u001b[1;32mif\u001b[0m \u001b[0mre\u001b[0m\u001b[1;33m.\u001b[0m\u001b[0msearch\u001b[0m\u001b[1;33m(\u001b[0m\u001b[1;34m'^l+o+v+e+$'\u001b[0m\u001b[1;33m,\u001b[0m \u001b[0mword\u001b[0m\u001b[1;33m)\u001b[0m \u001b[1;32mor\u001b[0m \u001b[0mre\u001b[0m\u001b[1;33m.\u001b[0m\u001b[0msearch\u001b[0m\u001b[1;33m(\u001b[0m\u001b[1;34m'^l+u+v+$'\u001b[0m\u001b[1;33m,\u001b[0m\u001b[0mword\u001b[0m\u001b[1;33m)\u001b[0m \u001b[1;32mor\u001b[0m \u001b[0mre\u001b[0m\u001b[1;33m.\u001b[0m\u001b[0msearch\u001b[0m\u001b[1;33m(\u001b[0m\u001b[1;34m'^l+o+v+$'\u001b[0m\u001b[1;33m,\u001b[0m\u001b[0mword\u001b[0m\u001b[1;33m)\u001b[0m \u001b[1;33m]\u001b[0m\u001b[1;33m\u001b[0m\u001b[0m\n\u001b[0m\u001b[0;32m      2\u001b[0m \u001b[1;32mprint\u001b[0m \u001b[0mloves\u001b[0m\u001b[1;33m[\u001b[0m\u001b[1;33m:\u001b[0m\u001b[1;33m]\u001b[0m\u001b[1;33m\u001b[0m\u001b[0m\n\u001b[0;32m      3\u001b[0m \u001b[1;32mprint\u001b[0m \u001b[0mlen\u001b[0m\u001b[1;33m(\u001b[0m\u001b[0mloves\u001b[0m\u001b[1;33m)\u001b[0m\u001b[1;33m\u001b[0m\u001b[0m\n",
        "\u001b[1;31mNameError\u001b[0m: name 'index' is not defined"
       ]
      }
     ],
     "prompt_number": 57
    },
    {
     "cell_type": "heading",
     "level": 4,
     "metadata": {},
     "source": [
      "word_var(word) takes any word and makes the regex search pattern"
     ]
    },
    {
     "cell_type": "code",
     "collapsed": false,
     "input": [
      "def word_var(word):\n",
      "    return str('^' + \"\".join([ l + \"+\" for l in word ]) + \"$\")"
     ],
     "language": "python",
     "metadata": {},
     "outputs": [],
     "prompt_number": 9
    },
    {
     "cell_type": "code",
     "collapsed": false,
     "input": [
      "pattern = word_var(\"awesome\")\n",
      "print pattern\n",
      "\n",
      "amazing = [ word for word in index.keys() if re.search(pattern,word) ]\n",
      "print amazing\n",
      "print len(amazing)"
     ],
     "language": "python",
     "metadata": {},
     "outputs": [
      {
       "output_type": "stream",
       "stream": "stdout",
       "text": [
        "[u'awessome', u'aweesome', u'awesommmme', u'aawwwesooomme', u'aweeeeeeeeeeeeeesome', u'awesome', u'awesomee', u'awessomeeeee', u'awesomeeeeee', u'awesooooooome', u'awesooooome', u'aaawesome', u'awesoooommmee', u'aweeeeeesome']\n",
        "14\n"
       ]
      }
     ],
     "prompt_number": 18
    },
    {
     "cell_type": "code",
     "collapsed": false,
     "input": [
      "pattern = word_var(\"slow\")\n",
      "slow = [ word for word in index.keys() if re.search(pattern, word) ]\n",
      "print slow\n",
      "print len(slow)"
     ],
     "language": "python",
     "metadata": {},
     "outputs": [
      {
       "output_type": "stream",
       "stream": "stdout",
       "text": [
        "[u'slooowww', u'slllloooww', u'ssllooww', u'slooooooooooow', u'slllllow', u'slllllllow', u'sssllllooowww', u'sloooowww', u'sllllloooowww', u'slooooowwwwwww', u'sloooow', u'sllloooooww', u'slowwww', u'sloooooooooowwwww', u'slllllooooowwwwww', u'sloowwwww', u'sllloooowwww', u'sllloooooow', u'slooooooww', u'slow', u'sllloooow', u'slooowwww', u'slooooow', u'slllloooooowwww', u'sloooowwww', u'slowwwwwwwwwwwwwwww', u'slowww', u'slllllllllllllllllllllllllloooooooooooooowwwwwww', u'slooow', u'sloooooooooooooooooooow', u'sloowww', u'ssssslllllooooooowwww', u'sloooooooooooowww', u'sloooooow', u'sloooowwwww', u'slowwwww', u'sloooooooooow', u'slooooooooow', u'slowwwwww', u'slllllloooooooooooooowwww', u'slooooooooooooow', u'slooooowwwww', u'slooooooow', u'sloooooooow']\n",
        "44\n"
       ]
      }
     ],
     "prompt_number": 11
    },
    {
     "cell_type": "code",
     "collapsed": false,
     "input": [
      "multiples = []\n",
      "word_corpus = index.keys()\n",
      "word_corpus.sort()\n",
      "word_corpus.sort(key=len, reverse=False) # http://stackoverflow.com/questions/4659524/how-to-sort-by-length-of-string-followed-by-alphabetical-order\n",
      "print word_corpus[:10]\n",
      "\n",
      "for check_word in islice(word_corpus,100):\n",
      "    pattern = word_var(check_word)\n",
      "    #print \"check\",check_word\n",
      "    variations = [ word for word in index.keys() if re.search(pattern, word ) ]\n",
      "    if len(variations) > 2:\n",
      "        print variations\n",
      "        multiples.append(variations)"
     ],
     "language": "python",
     "metadata": {},
     "outputs": [
      {
       "output_type": "stream",
       "stream": "stdout",
       "text": [
        "[u'0', u'1', u'2', u'3', u'4', u'5', u'6', u'7', u'8', u'9']\n",
        "[u'00', u'000', u'0']"
       ]
      },
      {
       "output_type": "stream",
       "stream": "stdout",
       "text": [
        "\n",
        "[u'111', u'11', u'1']"
       ]
      },
      {
       "output_type": "stream",
       "stream": "stdout",
       "text": [
        "\n",
        "[u'2', u'22', u'222']"
       ]
      },
      {
       "output_type": "stream",
       "stream": "stdout",
       "text": [
        "\n",
        "[u'3333', u'333', u'3', u'33']"
       ]
      },
      {
       "output_type": "stream",
       "stream": "stdout",
       "text": [
        "\n",
        "[u'444', u'44', u'4']"
       ]
      },
      {
       "output_type": "stream",
       "stream": "stdout",
       "text": [
        "\n",
        "[u'555', u'55', u'5']"
       ]
      },
      {
       "output_type": "stream",
       "stream": "stdout",
       "text": [
        "\n",
        "[u'66', u'6666', u'666666666666666666666666666666666666', u'6']"
       ]
      },
      {
       "output_type": "stream",
       "stream": "stdout",
       "text": [
        "\n",
        "[u'777', u'7', u'77']"
       ]
      },
      {
       "output_type": "stream",
       "stream": "stdout",
       "text": [
        "\n",
        "[u'88', u'8888', u'8']"
       ]
      },
      {
       "output_type": "stream",
       "stream": "stdout",
       "text": [
        "\n",
        "[u'9', u'9999', u'999999', u'99', u'999']"
       ]
      },
      {
       "output_type": "stream",
       "stream": "stdout",
       "text": [
        "\n",
        "[u'____________________________________________________________________________________________________________________________________________________________________________________________________________________________________________________________________', u'__', u'___', u'__________', u'____________________________________________________', u'_____________', u'__________________', u'_________________________________________________________', u'_________________________________________________', u'______________________', u'_________', u'____________________', u'__________________________', u'_______', u'______________________________________________', u'________________________________________', u'_________________', u'_____', u'___________________________________________', u'______________________________________________________', u'___________________', u'_______________________________________________________', u'________________________________________________________', u'_______________', u'____', u'___________________________________________________', u'_', u'__________________________________________________', u'_____________________________________________________________', u'________', u'______', u'_________________________________', u'_______________________________', u'______________', u'________________________']"
       ]
      },
      {
       "output_type": "stream",
       "stream": "stdout",
       "text": [
        "\n",
        "[u'b', u'bb', u'bbb']"
       ]
      },
      {
       "output_type": "stream",
       "stream": "stdout",
       "text": [
        "\n",
        "[u'cc', u'cccc', u'c', u'ccc']"
       ]
      },
      {
       "output_type": "stream",
       "stream": "stdout",
       "text": [
        "\n",
        "[u'd', u'dd', u'ddd']"
       ]
      },
      {
       "output_type": "stream",
       "stream": "stdout",
       "text": [
        "\n",
        "[u'eeeeeeeee', u'ee', u'eeee', u'eee', u'eeeeee', u'e']"
       ]
      },
      {
       "output_type": "stream",
       "stream": "stdout",
       "text": [
        "\n",
        "[u'ffff', u'fff', u'ff', u'f']"
       ]
      },
      {
       "output_type": "stream",
       "stream": "stdout",
       "text": [
        "\n",
        "[u'gggggg', u'g', u'gg', u'ggggg']"
       ]
      },
      {
       "output_type": "stream",
       "stream": "stdout",
       "text": [
        "\n",
        "[u'h', u'hh', u'hhh']"
       ]
      },
      {
       "output_type": "stream",
       "stream": "stdout",
       "text": [
        "\n",
        "[u'ii', u'iii', u'i', u'iiiii']"
       ]
      },
      {
       "output_type": "stream",
       "stream": "stdout",
       "text": [
        "\n",
        "[u'jjj', u'jj', u'j']"
       ]
      },
      {
       "output_type": "stream",
       "stream": "stdout",
       "text": [
        "\n",
        "[u'kk', u'k', u'kkk']"
       ]
      },
      {
       "output_type": "stream",
       "stream": "stdout",
       "text": [
        "\n",
        "[u'll', u'lll', u'l']"
       ]
      },
      {
       "output_type": "stream",
       "stream": "stdout",
       "text": [
        "\n",
        "[u'mmmmmmmmmmmmmmm', u'mmmmmmmmmmmmmmmmmm', u'mmmmmmmmm', u'mmmmmmmmmmmmm', u'mmmmmmm', u'mm', u'mmmmmmmm', u'mmmmmmmmmmmmmmmmm', u'mmmmmmmmmmmmmmmmmmmm', u'mmmmm', u'mmmmmmmmmmmmmmmmmmmmmmmmmmm', u'mmm', u'mmmmmmmmmmmmmm', u'mmmmmm', u'mmmmmmmmmmmmmmmm', u'mmmmmmmmmmm', u'mmmm', u'mmmmmmmmmmmmmmmmmmmmmmmm', u'm', u'mmmmmmmmmmmm', u'mmmmmmmmmmmmmmmmmmm', u'mmmmmmmmmmmmmmmmmmmmmmmmmmmmmmmmmmmmmmmmmmmmmmmmmmmmmmmmmmmmmmmmmmmmmm', u'mmmmmmmmmm']"
       ]
      },
      {
       "output_type": "stream",
       "stream": "stdout",
       "text": [
        "\n",
        "[u'ooooooo', u'ooooooooo', u'oo', u'ooooo', u'o', u'ooooooooooooo', u'oooooo', u'ooooooooooo', u'oooo', u'ooo', u'oooooooo']"
       ]
      },
      {
       "output_type": "stream",
       "stream": "stdout",
       "text": [
        "\n",
        "[u'ppp', u'pp', u'p']"
       ]
      },
      {
       "output_type": "stream",
       "stream": "stdout",
       "text": [
        "\n",
        "[u'qq', u'qqqqq', u'q']"
       ]
      },
      {
       "output_type": "stream",
       "stream": "stdout",
       "text": [
        "\n",
        "[u'rrrr', u'r', u'rrrrr', u'rrrrrrrrrrrr', u'rr', u'rrrrrrr', u'rrr']"
       ]
      },
      {
       "output_type": "stream",
       "stream": "stdout",
       "text": [
        "\n",
        "[u'ss', u'sss', u's', u'sssssss']"
       ]
      },
      {
       "output_type": "stream",
       "stream": "stdout",
       "text": [
        "\n",
        "[u'tt', u'ttt', u't']"
       ]
      },
      {
       "output_type": "stream",
       "stream": "stdout",
       "text": [
        "\n",
        "[u'u', u'uuuuu', u'uuuuuuu']"
       ]
      },
      {
       "output_type": "stream",
       "stream": "stdout",
       "text": [
        "\n",
        "[u'xxxxxxxx', u'x', u'xxx', u'xxxx', u'xxxxx', u'xx']"
       ]
      },
      {
       "output_type": "stream",
       "stream": "stdout",
       "text": [
        "\n",
        "[u'zzzzzzzzzzz', u'zzzz', u'zzzzzzzzzzzzzz', u'zzzzzzzzzzzzzzzzzzzzzzzzzzzzzzz', u'zzzzzzzzzzzzzzzzz', u'zzzzzzzz', u'zzz', u'z', u'zzzzzz', u'zzzzzzz', u'zz', u'zzzzzzzzz', u'zzzzzzzzzz', u'zzzzz', u'zzzzzzzzzzzzz']"
       ]
      },
      {
       "output_type": "stream",
       "stream": "stdout",
       "text": [
        "\n",
        "[u'00000001', u'01', u'001']"
       ]
      },
      {
       "output_type": "stream",
       "stream": "stdout",
       "text": [
        "\n",
        "[u'05', u'005', u'0005']"
       ]
      },
      {
       "output_type": "stream",
       "stream": "stdout",
       "text": [
        "\n",
        "[u'11000000', u'10000', u'100', u'1100', u'110', u'10000000', u'1000000', u'1000000000000000000000', u'1000', u'10']"
       ]
      },
      {
       "output_type": "stream",
       "stream": "stdout",
       "text": [
        "\n",
        "[u'112', u'122', u'12']"
       ]
      },
      {
       "output_type": "stream",
       "stream": "stdout",
       "text": [
        "\n",
        "[u'1113', u'113', u'13', u'133']"
       ]
      },
      {
       "output_type": "stream",
       "stream": "stdout",
       "text": [
        "\n",
        "[u'144', u'14', u'114']"
       ]
      },
      {
       "output_type": "stream",
       "stream": "stdout",
       "text": [
        "\n",
        "[u'1155', u'1115', u'115', u'155', u'15']"
       ]
      },
      {
       "output_type": "stream",
       "stream": "stdout",
       "text": [
        "\n",
        "[u'1666666', u'1116', u'116', u'16', u'166']"
       ]
      },
      {
       "output_type": "stream",
       "stream": "stdout",
       "text": [
        "\n",
        "[u'177', u'17', u'117']"
       ]
      },
      {
       "output_type": "stream",
       "stream": "stdout",
       "text": [
        "\n",
        "[u'118', u'1888', u'18', u'188']"
       ]
      },
      {
       "output_type": "stream",
       "stream": "stdout",
       "text": [
        "\n",
        "[u'199', u'1999', u'1199', u'119', u'19']"
       ]
      },
      {
       "output_type": "stream",
       "stream": "stdout",
       "text": [
        "\n",
        "[u'1m', u'1mm', u'11m']"
       ]
      },
      {
       "output_type": "stream",
       "stream": "stdout",
       "text": [
        "\n",
        "[u'200', u'2200', u'20', u'220', u'2000', u'2220']"
       ]
      },
      {
       "output_type": "stream",
       "stream": "stdout",
       "text": [
        "\n",
        "[u'21', u'221', u'211']"
       ]
      },
      {
       "output_type": "stream",
       "stream": "stdout",
       "text": [
        "\n",
        "[u'24', u'224', u'244']"
       ]
      },
      {
       "output_type": "stream",
       "stream": "stdout",
       "text": [
        "\n",
        "[u'25', u'225', u'255']"
       ]
      },
      {
       "output_type": "stream",
       "stream": "stdout",
       "text": [
        "\n",
        "[u'266', u'26', u'226']"
       ]
      },
      {
       "output_type": "stream",
       "stream": "stdout",
       "text": [
        "\n",
        "[u'277', u'27', u'227']"
       ]
      },
      {
       "output_type": "stream",
       "stream": "stdout",
       "text": [
        "\n",
        "[u'228', u'288', u'28']"
       ]
      },
      {
       "output_type": "stream",
       "stream": "stdout",
       "text": [
        "\n",
        "[u'29', u'299', u'229', u'2229']"
       ]
      },
      {
       "output_type": "stream",
       "stream": "stdout",
       "text": [
        "\n"
       ]
      }
     ],
     "prompt_number": 12
    },
    {
     "cell_type": "code",
     "collapsed": false,
     "input": [],
     "language": "python",
     "metadata": {},
     "outputs": []
    },
    {
     "cell_type": "code",
     "collapsed": false,
     "input": [],
     "language": "python",
     "metadata": {},
     "outputs": []
    },
    {
     "cell_type": "heading",
     "level": 4,
     "metadata": {},
     "source": [
      "nltk"
     ]
    },
    {
     "cell_type": "code",
     "collapsed": false,
     "input": [
      "#nltk.word_tokenize(raw)\n",
      "porter = nltk.PorterStemmer()\n",
      "\n",
      "\n",
      "tokens = []\n",
      "\n",
      "for row in islice(review_df.iterrows(),1000):\n",
      "    line = re.sub('\\n',\"\",row[1]['text']).split(' ')\n",
      "    tokens.extend(line)\n",
      "    \n",
      "stems = [ porter.stem(t) for t in tokens ]\n",
      "print len(set(tokens))\n",
      "print len(set(stems))\n",
      "\n",
      "print stems[0:100]"
     ],
     "language": "python",
     "metadata": {},
     "outputs": [
      {
       "output_type": "stream",
       "stream": "stdout",
       "text": [
        "19735\n",
        "17551\n",
        "[u'My', u'wife', u'took', u'me', u'here', u'on', u'my', u'birthday', u'for', u'breakfast', u'and', u'it', u'wa', u'excellent.', '', u'The', u'weather', u'wa', u'perfect', u'which', u'made', u'sit', u'outsid', u'overlook', u'their', u'ground', u'an', u'absolut', u'pleasure.', '', u'Our', u'waitress', u'wa', u'excel', u'and', u'our', u'food', u'arriv', u'quickli', u'on', u'the', u'semi-busi', u'Saturday', u'morning.', '', u'It', u'look', u'like', u'the', u'place', u'fill', u'up', u'pretti', u'quickli', u'so', u'the', u'earlier', u'you', u'get', u'here', u'the', u'better.Do', u'yourself', u'a', u'favor', u'and', u'get', u'their', u'Bloodi', u'Mary.', '', u'It', u'wa', u'phenomen', u'and', u'simpli', u'the', u'best', u\"I'v\", u'ever', u'had.', '', u\"I'm\", u'pretti', u'sure', u'they', u'onli', u'use', u'ingredi', u'from', u'their', u'garden', u'and', u'blend', u'them', u'fresh', u'when', u'you', u'order', u'it.']\n"
       ]
      }
     ],
     "prompt_number": 48
    },
    {
     "cell_type": "code",
     "collapsed": false,
     "input": [],
     "language": "python",
     "metadata": {},
     "outputs": []
    },
    {
     "cell_type": "heading",
     "level": 3,
     "metadata": {},
     "source": [
      "Create Business DF"
     ]
    },
    {
     "cell_type": "code",
     "collapsed": false,
     "input": [
      "review_json = open(yelp_dir + \"/\" + data_files[0])\n",
      "business_for_df = [ json.loads(line) for line in islice(review_json,None) ]\n",
      "business_df = pd.DataFrame(business_for_df)"
     ],
     "language": "python",
     "metadata": {},
     "outputs": []
    },
    {
     "cell_type": "code",
     "collapsed": false,
     "input": [],
     "language": "python",
     "metadata": {},
     "outputs": []
    },
    {
     "cell_type": "code",
     "collapsed": false,
     "input": [
      "business_df[:1]"
     ],
     "language": "python",
     "metadata": {},
     "outputs": []
    },
    {
     "cell_type": "heading",
     "level": 4,
     "metadata": {},
     "source": [
      "How many categories are there?"
     ]
    },
    {
     "cell_type": "code",
     "collapsed": false,
     "input": [
      "\n",
      "cats = []\n",
      "for row in islice(business_df.iterrows(),10):\n",
      "    print row[1]['categories']\n",
      "    cats.extend(row[1]['categories'])\n",
      "    \n",
      "print len(set(cats))"
     ],
     "language": "python",
     "metadata": {},
     "outputs": []
    },
    {
     "cell_type": "code",
     "collapsed": false,
     "input": [],
     "language": "python",
     "metadata": {},
     "outputs": []
    },
    {
     "cell_type": "heading",
     "level": 3,
     "metadata": {},
     "source": [
      "Try scikit-learn classifier"
     ]
    },
    {
     "cell_type": "code",
     "collapsed": false,
     "input": [
      "# 229907\n",
      "\n",
      "train = {}\n",
      "\n",
      "train['data'] = []\n",
      "train['target'] = []\n",
      "train['target_names'] = ['useful','not']\n",
      "\n",
      "for row in islice(review_df.iterrows(),0,200000):\n",
      "    #print row[1]['text']\n",
      "    #print row[1]['votes']['useful']\n",
      "    \n",
      "    train['data'].append(row[1]['text'])\n",
      "    if row[1]['votes']['useful'] > 4:\n",
      "        train['target'].append([0])\n",
      "    else:\n",
      "        train['target'].append([1])\n",
      "    \n",
      "test = {}    \n",
      "\n",
      "test['data'] = []\n",
      "test['target'] = []\n",
      "test['target_names'] = ['useful','not']\n",
      "\n",
      "for row in islice(review_df.iterrows(),200001,229907):\n",
      "    #print row[1]['text']\n",
      "    #print row[1]['votes']['useful']\n",
      "    \n",
      "    train['data'].append(row[1]['text'])\n",
      "    if row[1]['votes']['useful'] > 4:\n",
      "        train['target'].append([0])\n",
      "    else:\n",
      "        train['target'].append([1])"
     ],
     "language": "python",
     "metadata": {},
     "outputs": [],
     "prompt_number": 31
    },
    {
     "cell_type": "code",
     "collapsed": false,
     "input": [
      "from sklearn.feature_extraction.text import CountVectorizer\n",
      "count_vect = CountVectorizer()\n",
      "X_train_counts = count_vect.fit_transform(train['data'])"
     ],
     "language": "python",
     "metadata": {},
     "outputs": [
      {
       "ename": "KeyboardInterrupt",
       "evalue": "",
       "output_type": "pyerr",
       "traceback": [
        "\u001b[0;31m---------------------------------------------------------------------------\u001b[0m\n\u001b[0;31mKeyboardInterrupt\u001b[0m                         Traceback (most recent call last)",
        "\u001b[0;32m<ipython-input-32-85ec01f40558>\u001b[0m in \u001b[0;36m<module>\u001b[0;34m()\u001b[0m\n\u001b[1;32m      1\u001b[0m \u001b[0;32mfrom\u001b[0m \u001b[0msklearn\u001b[0m\u001b[0;34m.\u001b[0m\u001b[0mfeature_extraction\u001b[0m\u001b[0;34m.\u001b[0m\u001b[0mtext\u001b[0m \u001b[0;32mimport\u001b[0m \u001b[0mCountVectorizer\u001b[0m\u001b[0;34m\u001b[0m\u001b[0m\n\u001b[1;32m      2\u001b[0m \u001b[0mcount_vect\u001b[0m \u001b[0;34m=\u001b[0m \u001b[0mCountVectorizer\u001b[0m\u001b[0;34m(\u001b[0m\u001b[0;34m)\u001b[0m\u001b[0;34m\u001b[0m\u001b[0m\n\u001b[0;32m----> 3\u001b[0;31m \u001b[0mX_train_counts\u001b[0m \u001b[0;34m=\u001b[0m \u001b[0mcount_vect\u001b[0m\u001b[0;34m.\u001b[0m\u001b[0mfit_transform\u001b[0m\u001b[0;34m(\u001b[0m\u001b[0mtrain\u001b[0m\u001b[0;34m[\u001b[0m\u001b[0;34m'data'\u001b[0m\u001b[0;34m]\u001b[0m\u001b[0;34m)\u001b[0m\u001b[0;34m\u001b[0m\u001b[0m\n\u001b[0m",
        "\u001b[0;32m/Library/Python/2.7/site-packages/sklearn/feature_extraction/text.pyc\u001b[0m in \u001b[0;36mfit_transform\u001b[0;34m(self, raw_documents, y)\u001b[0m\n\u001b[1;32m    746\u001b[0m         \u001b[0;31m# we really sure want we want to drop them? They take some memory but\u001b[0m\u001b[0;34m\u001b[0m\u001b[0;34m\u001b[0m\u001b[0m\n\u001b[1;32m    747\u001b[0m         \u001b[0;31m# can be useful for corpus introspection\u001b[0m\u001b[0;34m\u001b[0m\u001b[0;34m\u001b[0m\u001b[0m\n\u001b[0;32m--> 748\u001b[0;31m         \u001b[0;32mreturn\u001b[0m \u001b[0mself\u001b[0m\u001b[0;34m.\u001b[0m\u001b[0m_term_count_dicts_to_matrix\u001b[0m\u001b[0;34m(\u001b[0m\u001b[0mterm_counts_per_doc\u001b[0m\u001b[0;34m)\u001b[0m\u001b[0;34m\u001b[0m\u001b[0m\n\u001b[0m\u001b[1;32m    749\u001b[0m \u001b[0;34m\u001b[0m\u001b[0m\n\u001b[1;32m    750\u001b[0m     \u001b[0;32mdef\u001b[0m \u001b[0mtransform\u001b[0m\u001b[0;34m(\u001b[0m\u001b[0mself\u001b[0m\u001b[0;34m,\u001b[0m \u001b[0mraw_documents\u001b[0m\u001b[0;34m)\u001b[0m\u001b[0;34m:\u001b[0m\u001b[0;34m\u001b[0m\u001b[0m\n",
        "\u001b[0;32m/Library/Python/2.7/site-packages/sklearn/feature_extraction/text.pyc\u001b[0m in \u001b[0;36m_term_count_dicts_to_matrix\u001b[0;34m(self, term_count_dicts)\u001b[0m\n\u001b[1;32m    621\u001b[0m         \u001b[0;32mfor\u001b[0m \u001b[0mi\u001b[0m\u001b[0;34m,\u001b[0m \u001b[0mterm_count_dict\u001b[0m \u001b[0;32min\u001b[0m \u001b[0menumerate\u001b[0m\u001b[0;34m(\u001b[0m\u001b[0mterm_count_dicts\u001b[0m\u001b[0;34m)\u001b[0m\u001b[0;34m:\u001b[0m\u001b[0;34m\u001b[0m\u001b[0m\n\u001b[1;32m    622\u001b[0m             \u001b[0;32mfor\u001b[0m \u001b[0mterm\u001b[0m\u001b[0;34m,\u001b[0m \u001b[0mcount\u001b[0m \u001b[0;32min\u001b[0m \u001b[0mterm_count_dict\u001b[0m\u001b[0;34m.\u001b[0m\u001b[0miteritems\u001b[0m\u001b[0;34m(\u001b[0m\u001b[0;34m)\u001b[0m\u001b[0;34m:\u001b[0m\u001b[0;34m\u001b[0m\u001b[0m\n\u001b[0;32m--> 623\u001b[0;31m                 \u001b[0mj\u001b[0m \u001b[0;34m=\u001b[0m \u001b[0mvocabulary\u001b[0m\u001b[0;34m.\u001b[0m\u001b[0mget\u001b[0m\u001b[0;34m(\u001b[0m\u001b[0mterm\u001b[0m\u001b[0;34m)\u001b[0m\u001b[0;34m\u001b[0m\u001b[0m\n\u001b[0m\u001b[1;32m    624\u001b[0m                 \u001b[0;32mif\u001b[0m \u001b[0mj\u001b[0m \u001b[0;32mis\u001b[0m \u001b[0;32mnot\u001b[0m \u001b[0mNone\u001b[0m\u001b[0;34m:\u001b[0m\u001b[0;34m\u001b[0m\u001b[0m\n\u001b[1;32m    625\u001b[0m                     \u001b[0mi_indices\u001b[0m\u001b[0;34m.\u001b[0m\u001b[0mappend\u001b[0m\u001b[0;34m(\u001b[0m\u001b[0mi\u001b[0m\u001b[0;34m)\u001b[0m\u001b[0;34m\u001b[0m\u001b[0m\n",
        "\u001b[0;31mKeyboardInterrupt\u001b[0m: "
       ]
      }
     ],
     "prompt_number": 32
    },
    {
     "cell_type": "code",
     "collapsed": false,
     "input": [
      "from sklearn.feature_extraction.text import TfidfTransformer\n",
      "X_train_tfidf = tfidf_transformer.fit_transform(X_train_counts)\n",
      "X_train_tfidf.shape"
     ],
     "language": "python",
     "metadata": {},
     "outputs": []
    }
   ],
   "metadata": {}
  }
 ]
}