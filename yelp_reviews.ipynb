{
 "metadata": {
  "name": "yelp_reviews"
 },
 "nbformat": 3,
 "nbformat_minor": 0,
 "worksheets": [
  {
   "cells": [
    {
     "cell_type": "heading",
     "level": 3,
     "metadata": {},
     "source": [
      "IMPORTS"
     ]
    },
    {
     "cell_type": "code",
     "collapsed": false,
     "input": [
      "import os\n",
      "import json\n",
      "from itertools import islice\n",
      "import re\n",
      "from collections import Counter\n",
      "import pandas as pd\n",
      "import nltk\n",
      "\n",
      "print os.getcwd()"
     ],
     "language": "python",
     "metadata": {},
     "outputs": [
      {
       "output_type": "stream",
       "stream": "stdout",
       "text": [
        "/Users/ajrenold/Dropbox/iSchool/2013Spring/DataMining/yelp_project\n"
       ]
      }
     ],
     "prompt_number": 2
    },
    {
     "cell_type": "heading",
     "level": 2,
     "metadata": {},
     "source": [
      "Get Academic Dataset Files"
     ]
    },
    {
     "cell_type": "code",
     "collapsed": false,
     "input": [
      "yelp_dir = os.getcwd() + \"/yelp_phoenix_academic_dataset_2\"\n",
      "for dirpath, dirname, filenames in os.walk(yelp_dir):\n",
      "    files = filenames\n",
      "data_files = [ f for f in files if f[-5:] == '.json' ]\n",
      "        \n",
      "print data_files\n",
      "    "
     ],
     "language": "python",
     "metadata": {},
     "outputs": [
      {
       "output_type": "stream",
       "stream": "stdout",
       "text": [
        "['yelp_academic_dataset_business.json', 'yelp_academic_dataset_checkin.json', 'yelp_academic_dataset_review.json', 'yelp_academic_dataset_user.json']\n"
       ]
      }
     ],
     "prompt_number": 3
    },
    {
     "cell_type": "heading",
     "level": 3,
     "metadata": {},
     "source": [
      "Load Stop_words file"
     ]
    },
    {
     "cell_type": "code",
     "collapsed": false,
     "input": [
      "stop_words = os.getcwd() + '/stop-words-english3-google.txt'\n",
      "f = open(stop_words,'r')\n",
      "\n",
      "stops = {}\n",
      "\n",
      "for line in islice(f,None):\n",
      "    word = line.lower().strip()\n",
      "    if word not in stops:\n",
      "        stops[word] = True"
     ],
     "language": "python",
     "metadata": {},
     "outputs": [],
     "prompt_number": 4
    },
    {
     "cell_type": "heading",
     "level": 3,
     "metadata": {},
     "source": [
      "Create Review DF"
     ]
    },
    {
     "cell_type": "code",
     "collapsed": false,
     "input": [
      "review_json = open(yelp_dir + \"/\" + data_files[2])\n",
      "reviews_for_df = [ json.loads(line) for line in islice(review_json,None) ]\n",
      "review_df = pd.DataFrame(reviews_for_df)"
     ],
     "language": "python",
     "metadata": {},
     "outputs": [],
     "prompt_number": 5
    },
    {
     "cell_type": "code",
     "collapsed": false,
     "input": [
      "review_df[:1]"
     ],
     "language": "python",
     "metadata": {},
     "outputs": [
      {
       "html": [
        "<div style=\"max-height:1000px;max-width:1500px;overflow:auto;\">\n",
        "<table border=\"1\" class=\"dataframe\">\n",
        "  <thead>\n",
        "    <tr style=\"text-align: right;\">\n",
        "      <th></th>\n",
        "      <th>business_id</th>\n",
        "      <th>date</th>\n",
        "      <th>review_id</th>\n",
        "      <th>stars</th>\n",
        "      <th>text</th>\n",
        "      <th>type</th>\n",
        "      <th>user_id</th>\n",
        "      <th>votes</th>\n",
        "    </tr>\n",
        "  </thead>\n",
        "  <tbody>\n",
        "    <tr>\n",
        "      <th>0</th>\n",
        "      <td> 9yKzy9PApeiPPOUJEtnvkg</td>\n",
        "      <td> 2011-01-26</td>\n",
        "      <td> fWKvX83p0-ka4JS3dc6E5A</td>\n",
        "      <td> 5</td>\n",
        "      <td> My wife took me here on my birthday for breakf...</td>\n",
        "      <td> review</td>\n",
        "      <td> rLtl8ZkDX5vH5nAx9C3q5Q</td>\n",
        "      <td> {u'funny': 0, u'useful': 5, u'cool': 2}</td>\n",
        "    </tr>\n",
        "  </tbody>\n",
        "</table>\n",
        "</div>"
       ],
       "output_type": "pyout",
       "prompt_number": 6,
       "text": [
        "              business_id        date               review_id  stars  \\\n",
        "0  9yKzy9PApeiPPOUJEtnvkg  2011-01-26  fWKvX83p0-ka4JS3dc6E5A      5   \n",
        "\n",
        "                                                text    type  \\\n",
        "0  My wife took me here on my birthday for breakf...  review   \n",
        "\n",
        "                  user_id                                    votes  \n",
        "0  rLtl8ZkDX5vH5nAx9C3q5Q  {u'funny': 0, u'useful': 5, u'cool': 2}  "
       ]
      }
     ],
     "prompt_number": 6
    },
    {
     "cell_type": "code",
     "collapsed": false,
     "input": [
      "index = {}\n",
      "\n",
      "def build_index(text):\n",
      "    words\n",
      "        print line"
     ],
     "language": "python",
     "metadata": {},
     "outputs": [
      {
       "ename": "IndentationError",
       "evalue": "unexpected indent (<ipython-input-7-44ca5d929aea>, line 5)",
       "output_type": "pyerr",
       "traceback": [
        "\u001b[0;31mIndentationError\u001b[0m\u001b[0;31m:\u001b[0m unexpected indent\n"
       ]
      }
     ],
     "prompt_number": 7
    },
    {
     "cell_type": "raw",
     "metadata": {},
     "source": [
      "Ideas:\n",
      "1. Find Best stop word method\n",
      "2. Take into account punctuation\n",
      "3. Take into account prices in reviews (eg $14.95 = $**.** for any number)\n",
      "4. n-gram v. bi-gram"
     ]
    },
    {
     "cell_type": "code",
     "collapsed": false,
     "input": [
      "index = Counter()\n",
      "prices = []\n",
      "\n",
      "#nltk.word_tokenize(raw)\n",
      "\n",
      "for row in islice(review_df.iterrows(),None):\n",
      "    for word in re.sub('\\W',\" \",row[1]['text']).split(' '):\n",
      "        if word != \"\" and word != \" \":\n",
      "            if word.lower() not in stops:\n",
      "                if '$' in word:\n",
      "                    prices.append(word)\n",
      "                else:\n",
      "                    index[word.lower()] += 1\n",
      "            "
     ],
     "language": "python",
     "metadata": {},
     "outputs": [],
     "prompt_number": 7
    },
    {
     "cell_type": "heading",
     "level": 4,
     "metadata": {},
     "source": [
      "tokenize any price using a $ (regex example)"
     ]
    },
    {
     "cell_type": "code",
     "collapsed": false,
     "input": [
      "print prices[0:10]\n",
      "print len(prices)\n",
      "\n",
      "regs = ['$$' for p in prices if re.search('^\\$?', p)]\n",
      "print regs[0:10]\n",
      "print len(regs)\n"
     ],
     "language": "python",
     "metadata": {},
     "outputs": [
      {
       "output_type": "stream",
       "stream": "stdout",
       "text": [
        "[]\n",
        "0\n",
        "[]\n",
        "0\n"
       ]
      }
     ],
     "prompt_number": 8
    },
    {
     "cell_type": "heading",
     "level": 4,
     "metadata": {},
     "source": [
      "regex to find variations of the word 'love'"
     ]
    },
    {
     "cell_type": "code",
     "collapsed": false,
     "input": [
      "loves = [ word for word in index.keys() if re.search('^l+o+v+e+$', word) or re.search('^l+u+v+$',word) or re.search('^l+o+v+$',word) ]\n",
      "print loves[:]\n",
      "print len(loves)"
     ],
     "language": "python",
     "metadata": {},
     "outputs": [
      {
       "output_type": "stream",
       "stream": "stdout",
       "text": [
        "[u'looooooooooooove', u'lovvvve', u'loveeee', u'looooovvvvvveeee', u'looooooove', u'looove', u'loooooovvvveeee', u'loveeeeeeeeee', u'looooooooove', u'looooooooooooooooooooove', u'loooooooooooooooooooooooooooove', u'loooooooooooove', u'loooove', u'loooovvveeeee', u'loooovvveee', u'looooove', u'loveeeeeeeeeeeeee', u'loooooooooove', u'luuuuv', u'lovve', u'looooveee', u'loveeeee', u'loveeeeee', u'looooooooovvvvvvvvveeeeee', u'loooveee', u'looooovvvveeeeee', u'looooooooooove', u'love', u'loooooooooooovvvvvveeeeee', u'looovee', u'luv', u'looooveeeeeeee', u'looooovveeee', u'loove', u'lovvvvve', u'looooovvveee', u'loooooooooooooove', u'lov', u'loooooooove', u'loooooove', u'loooveeee', u'loooooooooooooovvvve', u'lovee', u'loveee']\n",
        "44\n"
       ]
      }
     ],
     "prompt_number": 9
    },
    {
     "cell_type": "heading",
     "level": 4,
     "metadata": {},
     "source": [
      "word_var(word) takes any word and makes the regex search pattern"
     ]
    },
    {
     "cell_type": "code",
     "collapsed": false,
     "input": [
      "def word_var(word):\n",
      "    return str('^' + \"\".join([ l + \"+\" for l in word ]) + \"$\")"
     ],
     "language": "python",
     "metadata": {},
     "outputs": [],
     "prompt_number": 20
    },
    {
     "cell_type": "code",
     "collapsed": false,
     "input": [
      "pattern = word_var(\"amazing\")\n",
      "amazing = [ word for word in index.keys() if re.search(pattern,word) ]\n",
      "print amazing\n",
      "print len(amazing)"
     ],
     "language": "python",
     "metadata": {},
     "outputs": [
      {
       "output_type": "stream",
       "stream": "stdout",
       "text": [
        "[u'ammmaaaazzziiinnngggg', u'amaaazing', u'aaammaziiiing', u'amazzzzzzzzing', u'amazzzing', u'amaaaaaaaazinnggg', u'amazinggggggg', u'ammmazing', u'amaaaaazing', u'amaaaaaaaaaaaaaazing', u'ammaaazzing', u'ammmaazziing', u'amazzzzzzing', u'aaammmazzing', u'amazingggg', u'aaaamazzzzing', u'amaaaazzing', u'amazzinnng', u'aaaammmaaazzzing', u'aammmmazing', u'amazzzzing', u'amazzzzzing', u'amaaaaaaazing', u'amazzzinggg', u'amaazing', u'aaaamazing', u'amazzing', u'amazing', u'amaaaaaaaazing', u'amaaaazing', u'aaammmaaaaazziiiing', u'ammmmaaazzzinnnng', u'amazinggggg', u'amazzzzzzzzzzzing', u'amaaziing', u'amaaaaaazing', u'aaamazing']\n",
        "37\n"
       ]
      }
     ],
     "prompt_number": 10
    },
    {
     "cell_type": "code",
     "collapsed": false,
     "input": [
      "pattern = word_var(\"slow\")\n",
      "slow = [ word for word in index.keys() if re.search(pattern, word) ]\n",
      "print slow\n",
      "print len(slow)"
     ],
     "language": "python",
     "metadata": {},
     "outputs": [
      {
       "output_type": "stream",
       "stream": "stdout",
       "text": [
        "[u'slooowww', u'slllloooww', u'ssllooww', u'slooooooooooow', u'slllllow', u'slllllllow', u'sssllllooowww', u'sloooowww', u'sllllloooowww', u'slooooowwwwwww', u'sloooow', u'sllloooooww', u'slowwww', u'sloooooooooowwwww', u'slllllooooowwwwww', u'sloowwwww', u'sllloooowwww', u'sllloooooow', u'slooooooww', u'slow', u'sllloooow', u'slooowwww', u'slooooow', u'slllloooooowwww', u'sloooowwww', u'slowwwwwwwwwwwwwwww', u'slowww', u'slllllllllllllllllllllllllloooooooooooooowwwwwww', u'slooow', u'sloooooooooooooooooooow', u'sloowww', u'ssssslllllooooooowwww', u'sloooooooooooowww', u'sloooooow', u'sloooowwwww', u'slowwwww', u'sloooooooooow', u'slooooooooow', u'slowwwwww', u'slllllloooooooooooooowwww', u'slooooooooooooow', u'slooooowwwww', u'slooooooow', u'sloooooooow']\n",
        "44\n"
       ]
      }
     ],
     "prompt_number": 19
    },
    {
     "cell_type": "code",
     "collapsed": false,
     "input": [
      "multiples = []\n",
      "word_corpus = index.keys()\n",
      "word_corpus.sort()\n",
      "word_corpus.sort(key=len, reverse=False) # http://stackoverflow.com/questions/4659524/how-to-sort-by-length-of-string-followed-by-alphabetical-order\n",
      "print word_corpus[:10]\n",
      "\n",
      "for check_word in islice(word_corpus,100):\n",
      "    pattern = word_var(check_word)\n",
      "    #print \"check\",check_word\n",
      "    variations = [ word for word in index.keys() if re.search(pattern, word ) ]\n",
      "    if len(variations) > 2:\n",
      "        print variations\n",
      "        multiples.append(variations)"
     ],
     "language": "python",
     "metadata": {},
     "outputs": [
      {
       "output_type": "stream",
       "stream": "stdout",
       "text": [
        "[u'0', u'1', u'2', u'3', u'4', u'5', u'6', u'7', u'8', u'9']\n",
        "[u'00', u'000', u'0']"
       ]
      },
      {
       "output_type": "stream",
       "stream": "stdout",
       "text": [
        "\n",
        "[u'111', u'11', u'1']"
       ]
      },
      {
       "output_type": "stream",
       "stream": "stdout",
       "text": [
        "\n",
        "[u'2', u'22', u'222']"
       ]
      },
      {
       "output_type": "stream",
       "stream": "stdout",
       "text": [
        "\n",
        "[u'3333', u'333', u'3', u'33']"
       ]
      },
      {
       "output_type": "stream",
       "stream": "stdout",
       "text": [
        "\n",
        "[u'444', u'44', u'4']"
       ]
      },
      {
       "output_type": "stream",
       "stream": "stdout",
       "text": [
        "\n",
        "[u'555', u'55', u'5']"
       ]
      },
      {
       "output_type": "stream",
       "stream": "stdout",
       "text": [
        "\n",
        "[u'66', u'6666', u'666666666666666666666666666666666666', u'6']"
       ]
      },
      {
       "output_type": "stream",
       "stream": "stdout",
       "text": [
        "\n",
        "[u'777', u'7', u'77']"
       ]
      },
      {
       "output_type": "stream",
       "stream": "stdout",
       "text": [
        "\n",
        "[u'88', u'8888', u'8']"
       ]
      },
      {
       "output_type": "stream",
       "stream": "stdout",
       "text": [
        "\n",
        "[u'9', u'9999', u'999999', u'99', u'999']"
       ]
      },
      {
       "output_type": "stream",
       "stream": "stdout",
       "text": [
        "\n",
        "[u'____________________________________________________________________________________________________________________________________________________________________________________________________________________________________________________________________', u'__', u'___', u'__________', u'____________________________________________________', u'_____________', u'__________________', u'_________________________________________________________', u'_________________________________________________', u'______________________', u'_________', u'____________________', u'__________________________', u'_______', u'______________________________________________', u'________________________________________', u'_________________', u'_____', u'___________________________________________', u'______________________________________________________', u'___________________', u'_______________________________________________________', u'________________________________________________________', u'_______________', u'____', u'___________________________________________________', u'_', u'__________________________________________________', u'_____________________________________________________________', u'________', u'______', u'_________________________________', u'_______________________________', u'______________', u'________________________']"
       ]
      },
      {
       "output_type": "stream",
       "stream": "stdout",
       "text": [
        "\n",
        "[u'b', u'bb', u'bbb']"
       ]
      },
      {
       "output_type": "stream",
       "stream": "stdout",
       "text": [
        "\n",
        "[u'cc', u'cccc', u'c', u'ccc']"
       ]
      },
      {
       "output_type": "stream",
       "stream": "stdout",
       "text": [
        "\n",
        "[u'd', u'dd', u'ddd']"
       ]
      },
      {
       "output_type": "stream",
       "stream": "stdout",
       "text": [
        "\n",
        "[u'eeeeeeeee', u'ee', u'eeee', u'eee', u'eeeeee', u'e']"
       ]
      },
      {
       "output_type": "stream",
       "stream": "stdout",
       "text": [
        "\n",
        "[u'ffff', u'fff', u'ff', u'f']"
       ]
      },
      {
       "output_type": "stream",
       "stream": "stdout",
       "text": [
        "\n",
        "[u'gggggg', u'g', u'gg', u'ggggg']"
       ]
      },
      {
       "output_type": "stream",
       "stream": "stdout",
       "text": [
        "\n",
        "[u'h', u'hh', u'hhh']"
       ]
      },
      {
       "output_type": "stream",
       "stream": "stdout",
       "text": [
        "\n",
        "[u'ii', u'iii', u'i', u'iiiii']"
       ]
      },
      {
       "output_type": "stream",
       "stream": "stdout",
       "text": [
        "\n",
        "[u'jjj', u'jj', u'j']"
       ]
      },
      {
       "output_type": "stream",
       "stream": "stdout",
       "text": [
        "\n",
        "[u'kk', u'k', u'kkk']"
       ]
      },
      {
       "output_type": "stream",
       "stream": "stdout",
       "text": [
        "\n",
        "[u'll', u'lll', u'l']"
       ]
      },
      {
       "output_type": "stream",
       "stream": "stdout",
       "text": [
        "\n",
        "[u'mmmmmmmmmmmmmmm', u'mmmmmmmmmmmmmmmmmm', u'mmmmmmmmm', u'mmmmmmmmmmmmm', u'mmmmmmm', u'mm', u'mmmmmmmm', u'mmmmmmmmmmmmmmmmm', u'mmmmmmmmmmmmmmmmmmmm', u'mmmmm', u'mmmmmmmmmmmmmmmmmmmmmmmmmmm', u'mmm', u'mmmmmmmmmmmmmm', u'mmmmmm', u'mmmmmmmmmmmmmmmm', u'mmmmmmmmmmm', u'mmmm', u'mmmmmmmmmmmmmmmmmmmmmmmm', u'm', u'mmmmmmmmmmmm', u'mmmmmmmmmmmmmmmmmmm', u'mmmmmmmmmmmmmmmmmmmmmmmmmmmmmmmmmmmmmmmmmmmmmmmmmmmmmmmmmmmmmmmmmmmmmm', u'mmmmmmmmmm']"
       ]
      },
      {
       "output_type": "stream",
       "stream": "stdout",
       "text": [
        "\n",
        "[u'ooooooo', u'ooooooooo', u'oo', u'ooooo', u'o', u'ooooooooooooo', u'oooooo', u'ooooooooooo', u'oooo', u'ooo', u'oooooooo']"
       ]
      },
      {
       "output_type": "stream",
       "stream": "stdout",
       "text": [
        "\n",
        "[u'ppp', u'pp', u'p']"
       ]
      },
      {
       "output_type": "stream",
       "stream": "stdout",
       "text": [
        "\n",
        "[u'qq', u'qqqqq', u'q']"
       ]
      },
      {
       "output_type": "stream",
       "stream": "stdout",
       "text": [
        "\n",
        "[u'rrrr', u'r', u'rrrrr', u'rrrrrrrrrrrr', u'rr', u'rrrrrrr', u'rrr']"
       ]
      },
      {
       "output_type": "stream",
       "stream": "stdout",
       "text": [
        "\n",
        "[u'ss', u'sss', u's', u'sssssss']"
       ]
      },
      {
       "output_type": "stream",
       "stream": "stdout",
       "text": [
        "\n",
        "[u'tt', u'ttt', u't']"
       ]
      },
      {
       "output_type": "stream",
       "stream": "stdout",
       "text": [
        "\n",
        "[u'u', u'uuuuu', u'uuuuuuu']"
       ]
      },
      {
       "output_type": "stream",
       "stream": "stdout",
       "text": [
        "\n",
        "[u'xxxxxxxx', u'x', u'xxx', u'xxxx', u'xxxxx', u'xx']"
       ]
      },
      {
       "output_type": "stream",
       "stream": "stdout",
       "text": [
        "\n",
        "[u'zzzzzzzzzzz', u'zzzz', u'zzzzzzzzzzzzzz', u'zzzzzzzzzzzzzzzzzzzzzzzzzzzzzzz', u'zzzzzzzzzzzzzzzzz', u'zzzzzzzz', u'zzz', u'z', u'zzzzzz', u'zzzzzzz', u'zz', u'zzzzzzzzz', u'zzzzzzzzzz', u'zzzzz', u'zzzzzzzzzzzzz']"
       ]
      },
      {
       "output_type": "stream",
       "stream": "stdout",
       "text": [
        "\n",
        "[u'00000001', u'01', u'001']"
       ]
      },
      {
       "output_type": "stream",
       "stream": "stdout",
       "text": [
        "\n",
        "[u'05', u'005', u'0005']"
       ]
      },
      {
       "output_type": "stream",
       "stream": "stdout",
       "text": [
        "\n",
        "[u'11000000', u'10000', u'100', u'1100', u'110', u'10000000', u'1000000', u'1000000000000000000000', u'1000', u'10']"
       ]
      },
      {
       "output_type": "stream",
       "stream": "stdout",
       "text": [
        "\n",
        "[u'112', u'122', u'12']"
       ]
      },
      {
       "output_type": "stream",
       "stream": "stdout",
       "text": [
        "\n",
        "[u'1113', u'113', u'13', u'133']"
       ]
      },
      {
       "output_type": "stream",
       "stream": "stdout",
       "text": [
        "\n",
        "[u'144', u'14', u'114']"
       ]
      },
      {
       "output_type": "stream",
       "stream": "stdout",
       "text": [
        "\n",
        "[u'1155', u'1115', u'115', u'155', u'15']"
       ]
      },
      {
       "output_type": "stream",
       "stream": "stdout",
       "text": [
        "\n",
        "[u'1666666', u'1116', u'116', u'16', u'166']"
       ]
      },
      {
       "output_type": "stream",
       "stream": "stdout",
       "text": [
        "\n",
        "[u'177', u'17', u'117']"
       ]
      },
      {
       "output_type": "stream",
       "stream": "stdout",
       "text": [
        "\n",
        "[u'118', u'1888', u'18', u'188']"
       ]
      },
      {
       "output_type": "stream",
       "stream": "stdout",
       "text": [
        "\n",
        "[u'199', u'1999', u'1199', u'119', u'19']"
       ]
      },
      {
       "output_type": "stream",
       "stream": "stdout",
       "text": [
        "\n",
        "[u'1m', u'1mm', u'11m']"
       ]
      },
      {
       "output_type": "stream",
       "stream": "stdout",
       "text": [
        "\n",
        "[u'200', u'2200', u'20', u'220', u'2000', u'2220']"
       ]
      },
      {
       "output_type": "stream",
       "stream": "stdout",
       "text": [
        "\n",
        "[u'21', u'221', u'211']"
       ]
      },
      {
       "output_type": "stream",
       "stream": "stdout",
       "text": [
        "\n",
        "[u'24', u'224', u'244']"
       ]
      },
      {
       "output_type": "stream",
       "stream": "stdout",
       "text": [
        "\n",
        "[u'25', u'225', u'255']"
       ]
      },
      {
       "output_type": "stream",
       "stream": "stdout",
       "text": [
        "\n",
        "[u'266', u'26', u'226']"
       ]
      },
      {
       "output_type": "stream",
       "stream": "stdout",
       "text": [
        "\n",
        "[u'277', u'27', u'227']"
       ]
      },
      {
       "output_type": "stream",
       "stream": "stdout",
       "text": [
        "\n",
        "[u'228', u'288', u'28']"
       ]
      },
      {
       "output_type": "stream",
       "stream": "stdout",
       "text": [
        "\n",
        "[u'29', u'299', u'229', u'2229']"
       ]
      },
      {
       "output_type": "stream",
       "stream": "stdout",
       "text": [
        "\n"
       ]
      }
     ],
     "prompt_number": 25
    },
    {
     "cell_type": "code",
     "collapsed": false,
     "input": [],
     "language": "python",
     "metadata": {},
     "outputs": []
    },
    {
     "cell_type": "code",
     "collapsed": false,
     "input": [],
     "language": "python",
     "metadata": {},
     "outputs": []
    },
    {
     "cell_type": "heading",
     "level": 4,
     "metadata": {},
     "source": [
      "nltk"
     ]
    },
    {
     "cell_type": "code",
     "collapsed": false,
     "input": [
      "#nltk.word_tokenize(raw)\n",
      "porter = nltk.PorterStemmer()\n",
      "\n",
      "\n",
      "tokens = []\n",
      "\n",
      "for row in islice(review_df.iterrows(),1000):\n",
      "    line = re.sub('\\n',\"\",row[1]['text']).split(' ')\n",
      "    tokens.extend(line)\n",
      "    \n",
      "stems = [ porter.stem(t) for t in tokens ]\n",
      "print len(set(tokens))\n",
      "print len(set(stems))\n",
      "\n",
      "print stems[0:100]"
     ],
     "language": "python",
     "metadata": {},
     "outputs": [
      {
       "output_type": "stream",
       "stream": "stdout",
       "text": [
        "19735\n",
        "17551\n",
        "[u'My', u'wife', u'took', u'me', u'here', u'on', u'my', u'birthday', u'for', u'breakfast', u'and', u'it', u'wa', u'excellent.', '', u'The', u'weather', u'wa', u'perfect', u'which', u'made', u'sit', u'outsid', u'overlook', u'their', u'ground', u'an', u'absolut', u'pleasure.', '', u'Our', u'waitress', u'wa', u'excel', u'and', u'our', u'food', u'arriv', u'quickli', u'on', u'the', u'semi-busi', u'Saturday', u'morning.', '', u'It', u'look', u'like', u'the', u'place', u'fill', u'up', u'pretti', u'quickli', u'so', u'the', u'earlier', u'you', u'get', u'here', u'the', u'better.Do', u'yourself', u'a', u'favor', u'and', u'get', u'their', u'Bloodi', u'Mary.', '', u'It', u'wa', u'phenomen', u'and', u'simpli', u'the', u'best', u\"I'v\", u'ever', u'had.', '', u\"I'm\", u'pretti', u'sure', u'they', u'onli', u'use', u'ingredi', u'from', u'their', u'garden', u'and', u'blend', u'them', u'fresh', u'when', u'you', u'order', u'it.']\n"
       ]
      }
     ],
     "prompt_number": 48
    },
    {
     "cell_type": "code",
     "collapsed": false,
     "input": [],
     "language": "python",
     "metadata": {},
     "outputs": []
    },
    {
     "cell_type": "heading",
     "level": 3,
     "metadata": {},
     "source": [
      "Create Business DF"
     ]
    },
    {
     "cell_type": "code",
     "collapsed": false,
     "input": [
      "review_json = open(yelp_dir + \"/\" + data_files[0])\n",
      "business_for_df = [ json.loads(line) for line in islice(review_json,None) ]\n",
      "business_df = pd.DataFrame(business_for_df)"
     ],
     "language": "python",
     "metadata": {},
     "outputs": []
    },
    {
     "cell_type": "code",
     "collapsed": false,
     "input": [],
     "language": "python",
     "metadata": {},
     "outputs": []
    },
    {
     "cell_type": "code",
     "collapsed": false,
     "input": [
      "business_df[:1]"
     ],
     "language": "python",
     "metadata": {},
     "outputs": []
    },
    {
     "cell_type": "heading",
     "level": 4,
     "metadata": {},
     "source": [
      "How many categories are there?"
     ]
    },
    {
     "cell_type": "code",
     "collapsed": false,
     "input": [
      "\n",
      "cats = []\n",
      "for row in islice(business_df.iterrows(),10):\n",
      "    print row[1]['categories']\n",
      "    cats.extend(row[1]['categories'])\n",
      "    \n",
      "print len(set(cats))"
     ],
     "language": "python",
     "metadata": {},
     "outputs": []
    },
    {
     "cell_type": "code",
     "collapsed": false,
     "input": [],
     "language": "python",
     "metadata": {},
     "outputs": []
    }
   ],
   "metadata": {}
  }
 ]
}